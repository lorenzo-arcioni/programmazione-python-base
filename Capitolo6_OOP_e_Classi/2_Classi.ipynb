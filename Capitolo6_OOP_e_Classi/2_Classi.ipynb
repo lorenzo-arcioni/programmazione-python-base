{
 "cells": [
  {
   "cell_type": "markdown",
   "id": "c64893d2",
   "metadata": {},
   "source": [
    "# 🧱 Programmazione ad Oggetti (OOP) in Python\n",
    "\n",
    "Python è un linguaggio orientato agli oggetti. Questo significa che tutto in Python è un oggetto, inclusi interi, funzioni e moduli. L’OOP (Object-Oriented Programming) è un paradigma che consente di modellare concetti del mondo reale tramite entità dette \"oggetti\".\n",
    "\n",
    "## 🔹 1. Concetti Fondamentali\n",
    "\n",
    "### 🔸 Classe\n",
    "Una **classe** è un modello (o blueprint) che definisce un tipo di oggetto, specificandone le proprietà (attributi) e i comportamenti (metodi). Le classi non rappresentano dati concreti, ma definizioni astratte.\n",
    "\n",
    "### 🔸 Oggetto (Istanza)\n",
    "Un **oggetto** è un'istanza concreta di una classe. Quando si crea un oggetto, si sta creando un'entità basata sul modello definito nella classe.\n",
    "\n",
    "### 🔸 Attributi\n",
    "Gli **attributi** sono le proprietà (dati) associate a un oggetto. Possono essere impostati al momento della creazione o successivamente.\n",
    "\n",
    "### 🔸 Metodi\n",
    "I **metodi** sono funzioni definite all’interno di una classe e associate agli oggetti. Agiscono sugli attributi o eseguono operazioni relative all’oggetto stesso.\n",
    "\n",
    "### 🔸 Costruttore\n",
    "Il **costruttore** è un metodo speciale che viene invocato automaticamente quando si crea un oggetto. In Python, si usa il metodo chiamato `__init__`.\n",
    "\n",
    "---\n",
    "\n",
    "### class: Definizione di una Classe\n",
    "La keyword `class` in Python serve per definire una nuova **classe**, ovvero uno **stampino** per creare oggetti. Una classe rappresenta un concetto astratto che può contenere **dati (attributi)** e **funzionalità (metodi)**.\n",
    "\n",
    "Una classe è il modello, mentre gli **oggetti** sono istanze concrete create da quel modello.\n",
    "\n",
    "### __init__: Il Costruttore\n",
    "`__init__` è un **metodo speciale** chiamato **costruttore**, che viene **eseguito automaticamente** ogni volta che si crea un nuovo oggetto da una classe.\n",
    "\n",
    "Serve per **inizializzare lo stato dell'oggetto**, ovvero impostare i suoi attributi iniziali.\n",
    "\n",
    "Il costruttore riceve come primo parametro `self`, seguito da eventuali altri parametri che vengono passati durante l'istanziazione dell'oggetto.\n",
    "\n",
    "### self: Riferimento all'Oggetto\n",
    "`self` è il nome convenzionale del **primo parametro** di ogni metodo definito all'interno di una classe. Si riferisce **all'istanza corrente della classe** (cioè all'oggetto su cui è stato chiamato il metodo).\n",
    "\n",
    "`self` permette di accedere e modificare gli **attributi e metodi** dell'oggetto.\n",
    "\n",
    "### self.: Accesso agli Attributi e Metodi\n",
    "L'utilizzo di `self.` serve per accedere o definire **attributi d'istanza**, cioè proprietà specifiche dell'oggetto.\n",
    "\n",
    "Esempio: scrivere `self.nome = nome` significa che stai assegnando un valore all'attributo `nome` dell'oggetto corrente.\n",
    "\n",
    "### Cosa Succede Quando si Istanzia un Oggetto\n",
    "Quando si scrive qualcosa come `x = NomeClasse(parametri)`, Python esegue questi passi:\n",
    "\n",
    "1. **Crea un nuovo oggetto** vuoto dellaclass.\n",
    "2. **Chiama automaticamente** il metodo `__init__`, passando l'oggetto stesso come primo argomento (`self`) e gli altri parametri specificati.\n",
    "3. Il metodo `__init__` **inizializza gli attributi** dell'oggetto usando `self`.\n",
    "4. L'oggetto è **pronto per essere utilizzato**.\n",
    "\n",
    "### Riepilogo\n",
    "\n",
    "- **class**: definisce un modello di oggetti.\n",
    "- **__init__**: metodo speciale per inizializzare un nuovo oggetto.\n",
    "- **self**: riferimento all'istanza corrente dell'oggetto.\n",
    "- **self.**: sintassi per accedere o impostare attributi/metodi di un oggetto.\n",
    "- **Oggetto**: un'istanza concreta creata dalla classe.\n",
    "\n",
    "Questi elementi costituiscono il cuore della **programmazione orientata agli oggetti in Python**."
   ]
  },
  {
   "cell_type": "code",
   "execution_count": 1,
   "id": "1aeec9e5",
   "metadata": {},
   "outputs": [],
   "source": [
    "# 🔹 1. Definizione di una Classe con attributi e metodi\n",
    "\n",
    "class Automobile:\n",
    "    def __init__(self, marca, modello):\n",
    "        self.marca = marca                # Attributo pubblico\n",
    "        self._motore_acceso = False       # Attributo \"protetto\"\n",
    "    \n",
    "    def accendi(self):\n",
    "        self._motore_acceso = True\n",
    "        print(f\"{self.marca} è accesa.\")\n",
    "    \n",
    "    def spegni(self):\n",
    "        self._motore_acceso = False\n",
    "        print(f\"{self.marca} è spenta.\")\n",
    "\n",
    "    def stato_motore(self):\n",
    "        return \"acceso\" if self._motore_acceso else \"spento\""
   ]
  },
  {
   "cell_type": "markdown",
   "id": "5ead979a",
   "metadata": {},
   "source": [
    "Ok, ma ora come possiamo utilizzare la classe `Automobile` per creare (istanziare) automobili?"
   ]
  },
  {
   "cell_type": "code",
   "execution_count": null,
   "id": "6408213f",
   "metadata": {},
   "outputs": [],
   "source": [
    "# 🔹 2. Creazione di Oggetti e uso dei Metodi\n",
    "\n",
    "auto1 = Automobile(\"Toyota\", \"Yaris\")\n",
    "auto2 = Automobile(\"Fiat\", \"500\")"
   ]
  },
  {
   "cell_type": "code",
   "execution_count": 3,
   "id": "09a8cc16",
   "metadata": {},
   "outputs": [
    {
     "name": "stdout",
     "output_type": "stream",
     "text": [
      "spento\n",
      "Toyota è accesa.\n",
      "acceso\n",
      "Toyota è spenta.\n",
      "spento\n"
     ]
    }
   ],
   "source": [
    "print(auto1.stato_motore())  # -> spento\n",
    "auto1.accendi()\n",
    "print(auto1.stato_motore())  # -> acceso\n",
    "auto1.spegni()\n",
    "print(auto2.stato_motore())  # -> spento"
   ]
  },
  {
   "cell_type": "markdown",
   "id": "e8172ac2",
   "metadata": {},
   "source": [
    "### Esempio di Esame\n",
    "\n",
    "```python\n",
    "# Si vuole creare una classe che gestisca un post social.\n",
    "class Post:\n",
    "\n",
    "    # Costruisce un post avente un titolo ed il contenuto\n",
    "    def __init__(self, titolo, contenuto):\n",
    "        self.boh = None\n",
    "\n",
    "    # Un utente può aggiungere un like al post.\n",
    "    # Se un certo utente ha già ha messo il like deve rimuoverlo.\n",
    "    # NB: dopo si vuole tracciare tutti gli utenti che hanno messo il like.\n",
    "    def like(self, utente):\n",
    "        self.boh = None\n",
    "\n",
    "    # Un utente può aggiungere un solo commento al post, se ricommenta sovrascrive il precedente.\n",
    "    # NB Per semplicità puoi non prendere in considerazione l'utente nella struttura dati che sceglierai\n",
    "    def commento(self, utente, commento):\n",
    "        self.boh = None\n",
    "\n",
    "    # Restituisce una stringa composta da due righe, una per i like ed una per i commenti\n",
    "    # *- Se solo un utente ha messo like, la prima riga è \"Piace a Pippo\\n\"\n",
    "    # - se nessuno ha messo like, la prima riga è \"Nessun like\\n\"\n",
    "    # - altrimenti \"Piace a Pippo ed altri\\n\"; dove Pippo è il primo utente che ha messo like\n",
    "    # *- Se nessuno ha ancora commentato, la seconda riga è \"Nessun commento\"\n",
    "    # - Se solo un utente ha commentato, la seconda riga è \"nome_utente: commento\". Ad esempio: Pluto: bellissima foto!\"\n",
    "    # - altrimenti \"Visualizza tutti i commenti\"\n",
    "\n",
    "    # Per esempio, se hanno messo like Pippo ed altre persone\n",
    "    # ed hanno commentato 2 persone, deve restituire:\n",
    "    # \"Piace a Pippo ed altri\\n\n",
    "    #  Visualizza tutti i commenti\"\n",
    "    def info_post(self):\n",
    "        return self.boh\n",
    "```"
   ]
  },
  {
   "cell_type": "code",
   "execution_count": 4,
   "id": "2612bbca",
   "metadata": {},
   "outputs": [],
   "source": [
    "# Soluzione\n",
    "class Post:\n",
    "    # Costruisce un post avente un titolo ed il contenuto\n",
    "    def __init__(self, titolo, contenuto):\n",
    "        self.titolo = titolo\n",
    "        self.contenuto = contenuto\n",
    "        self.likes = []              # lista degli utenti che hanno messo like, in ordine\n",
    "        self.commenti = {}           # dizionario: utente → commento\n",
    "\n",
    "    # Un utente può aggiungere o rimuovere il like\n",
    "    def like(self, utente):\n",
    "        if utente in self.likes:\n",
    "            self.likes.remove(utente)  # Rimuove il like se già presente\n",
    "        else:\n",
    "            self.likes.append(utente)  # Aggiunge il like\n",
    "\n",
    "    # Ogni utente può aggiungere un solo commento, che sovrascrive il precedente\n",
    "    def commento(self, utente, commento):\n",
    "        self.commenti[utente] = commento  # Sovrascrive o aggiunge il commento\n",
    "\n",
    "    # Restituisce una descrizione testuale dello stato del post (like + commenti)\n",
    "    def info_post(self):\n",
    "        # Like\n",
    "        if not self.likes:\n",
    "            riga_like = \"Nessun like\"\n",
    "        elif len(self.likes) == 1:\n",
    "            riga_like = f\"Piace a {self.likes[0]}\"\n",
    "        else:\n",
    "            riga_like = f\"Piace a {self.likes[0]} ed altri\"\n",
    "\n",
    "        # Commenti\n",
    "        if not self.commenti:\n",
    "            riga_commenti = \"Nessun commento\"\n",
    "        elif len(self.commenti) == 1:\n",
    "            _, commento = list(self.commenti.items())[0] #next(iter(self.commenti.items())) # --> (utente, commento)\n",
    "            riga_commenti = commento  # <-- SOLO IL TESTO DEL COMMENTO!\n",
    "        else:\n",
    "            riga_commenti = \"Visualizza tutti i commenti\"\n",
    "\n",
    "        return f\"{riga_like}\\n{riga_commenti}\"\n"
   ]
  },
  {
   "cell_type": "code",
   "execution_count": 5,
   "id": "eccc8dc7",
   "metadata": {},
   "outputs": [],
   "source": [
    "# Creo un post con titolo e contenuto\n",
    "post1 = Post(\"Vacanze 2024\", \"Che estate fantastica al mare!\")"
   ]
  },
  {
   "cell_type": "code",
   "execution_count": 6,
   "id": "811a2f91",
   "metadata": {},
   "outputs": [
    {
     "name": "stdout",
     "output_type": "stream",
     "text": [
      "Nessun like\n",
      "Nessun commento\n"
     ]
    }
   ],
   "source": [
    "# Nessun like e nessun commento all'inizio\n",
    "print(post1.info_post())  \n",
    "# Output atteso:\n",
    "# Nessun like\n",
    "# Nessun commento"
   ]
  },
  {
   "cell_type": "code",
   "execution_count": 7,
   "id": "4fe4813b",
   "metadata": {},
   "outputs": [
    {
     "name": "stdout",
     "output_type": "stream",
     "text": [
      "Piace a Pippo\n",
      "Nessun commento\n"
     ]
    }
   ],
   "source": [
    "# Un utente mette like\n",
    "post1.like(\"Pippo\")\n",
    "print(post1.info_post())  \n",
    "# Output atteso:\n",
    "# Piace a Pippo\n",
    "# Nessun commento"
   ]
  },
  {
   "cell_type": "code",
   "execution_count": 8,
   "id": "b6552a9a",
   "metadata": {},
   "outputs": [
    {
     "name": "stdout",
     "output_type": "stream",
     "text": [
      "Piace a Pippo ed altri\n",
      "Nessun commento\n"
     ]
    }
   ],
   "source": [
    "# Un altro utente mette like\n",
    "post1.like(\"Pluto\")\n",
    "print(post1.info_post())  \n",
    "# Output atteso:\n",
    "# Piace a Pippo ed altri\n",
    "# Nessun commento"
   ]
  },
  {
   "cell_type": "code",
   "execution_count": 9,
   "id": "7038581a",
   "metadata": {},
   "outputs": [
    {
     "name": "stdout",
     "output_type": "stream",
     "text": [
      "Piace a Pluto\n",
      "Nessun commento\n"
     ]
    }
   ],
   "source": [
    "# L'utente Pippo toglie il like\n",
    "post1.like(\"Pippo\")\n",
    "print(post1.info_post())  \n",
    "# Output atteso:\n",
    "# Piace a Pluto\n",
    "# Nessun commento"
   ]
  },
  {
   "cell_type": "code",
   "execution_count": 10,
   "id": "ddd1c930",
   "metadata": {},
   "outputs": [
    {
     "name": "stdout",
     "output_type": "stream",
     "text": [
      "Piace a Pluto\n",
      "Bellissima foto!\n"
     ]
    }
   ],
   "source": [
    "# Un utente aggiunge un commento\n",
    "post1.commento(\"Pippo\", \"Bellissima foto!\")\n",
    "print(post1.info_post())  \n",
    "# Output atteso:\n",
    "# Piace a Pluto\n",
    "# Bellissima foto!"
   ]
  },
  {
   "cell_type": "code",
   "execution_count": 11,
   "id": "6110e8dc",
   "metadata": {},
   "outputs": [
    {
     "name": "stdout",
     "output_type": "stream",
     "text": [
      "Piace a Pluto\n",
      "Visualizza tutti i commenti\n"
     ]
    }
   ],
   "source": [
    "# Un altro utente aggiunge un commento (ora ci sono 2 commenti)\n",
    "post1.commento(\"Pluto\", \"Che bello!\")\n",
    "print(post1.info_post())  \n",
    "# Output atteso:\n",
    "# Piace a Pluto\n",
    "# Visualizza tutti i commenti"
   ]
  },
  {
   "cell_type": "code",
   "execution_count": 12,
   "id": "3a690352",
   "metadata": {},
   "outputs": [
    {
     "name": "stdout",
     "output_type": "stream",
     "text": [
      "Piace a Pluto\n",
      "Visualizza tutti i commenti\n"
     ]
    }
   ],
   "source": [
    "# Pippo cambia commento (sovrascrive il suo precedente)\n",
    "post1.commento(\"Pippo\", \"Invidio quel posto!\")\n",
    "print(post1.info_post())  \n",
    "# Output atteso:\n",
    "# Piace a Pluto\n",
    "# Visualizza tutti i commenti"
   ]
  },
  {
   "cell_type": "markdown",
   "id": "4a61f97d",
   "metadata": {},
   "source": [
    "## 🔹 2. Vantaggi della Programmazione ad Oggetti\n",
    "\n",
    "- **Modularità**: Il codice è organizzato in classi indipendenti.\n",
    "- **Riutilizzo**: Le classi possono essere riutilizzate in più contesti.\n",
    "- **Manutenibilità**: Le modifiche sono localizzate e il codice è più facile da aggiornare.\n",
    "- **Astrazione**: Si nascondono i dettagli complessi dietro interfacce semplici.\n",
    "- **Incapsulamento**: Protezione dello stato interno dell'oggetto da modifiche esterne indesiderate.\n",
    "- **Ereditarietà**: Le classi possono estendere (derivare da) altre classi.\n",
    "- **Polimorfismo**: Oggetti di classi diverse possono essere trattati in modo uniforme se condividono un'interfaccia comune."
   ]
  },
  {
   "cell_type": "markdown",
   "id": "a1bcf1d8",
   "metadata": {},
   "source": [
    "## 🔹 3. Principi Fondamentali dell’OOP\n",
    "\n",
    "### 🔸 Incapsulamento\n",
    "Racchiude attributi e metodi all'interno di una classe, controllando l’accesso tramite modificatori di visibilità (in Python, attraverso convenzioni come `_attributo` o `__attributo`).\n",
    "\n",
    "### 🔸 Astrazione\n",
    "Fornisce solo i dettagli rilevanti all'esterno della classe, nascondendo la complessità interna.\n",
    "\n",
    "### 🔸 Ereditarietà\n",
    "Una classe può derivare da un’altra classe, ereditandone attributi e metodi. Favorisce il riutilizzo del codice e la creazione di gerarchie.\n",
    "\n",
    "### 🔸 Polimorfismo\n",
    "Consente a oggetti di classi diverse di essere trattati allo stesso modo se condividono metodi o comportamenti compatibili.\n",
    "\n",
    "---\n",
    "\n",
    "## 🔹 4. Tipi di Metodi\n",
    "\n",
    "- **Metodi di istanza**: Operano su istanze della classe e accedono/modificano gli attributi tramite un riferimento esplicito all’oggetto (convenzionalmente `self`).\n",
    "- **Metodi di classe**: Operano sulla classe e non sulle singole istanze; accedono ai dati della classe tramite un parametro convenzionale (`cls`).\n",
    "- **Metodi statici**: Non accedono né alla classe né all’istanza; sono utili per raggruppare funzionalità correlate logicamente.\n",
    "\n",
    "---\n",
    "\n",
    "## 🔹 5. Visibilità degli attributi e convenzioni\n",
    "\n",
    "In Python non ci sono modificatori di accesso formali, ma si usano convenzioni:\n",
    "\n",
    "- Attributi pubblici: accessibili da ovunque.\n",
    "- Attributi protetti (con _): indicano uso interno alla classe o sottoclassi.\n",
    "- Attributi privati (con __): attivano il name mangling per offuscare l’accesso esterno.\n",
    "\n",
    "---\n",
    "\n",
    "## 🔹 6. Differenza tra Classe e Oggetto\n",
    "\n",
    "- **Classe**: Definizione astratta di uno o più oggetti (es. \"Auto\").\n",
    "- **Oggetto**: Istanza reale con valori specifici (es. \"Auto con targa ABC123\").\n",
    "\n",
    "---\n",
    "\n",
    "## 🔹 7. Best Practices\n",
    "\n",
    "- Utilizzare il principio **\"Tell, don’t ask\"**: far compiere azioni agli oggetti invece di interrogarli e agire dall’esterno.\n",
    "- Mantenere l’interfaccia pubblica semplice e chiara.\n",
    "- Separare le responsabilità in più classi (principio SRP – Single Responsibility Principle).\n",
    "- Scrivere docstring per classi e metodi per migliorare la leggibilità e la documentazione del codice.\n"
   ]
  }
 ],
 "metadata": {
  "kernelspec": {
   "display_name": "datas",
   "language": "python",
   "name": "python3"
  },
  "language_info": {
   "codemirror_mode": {
    "name": "ipython",
    "version": 3
   },
   "file_extension": ".py",
   "mimetype": "text/x-python",
   "name": "python",
   "nbconvert_exporter": "python",
   "pygments_lexer": "ipython3",
   "version": "3.10.13"
  }
 },
 "nbformat": 4,
 "nbformat_minor": 5
}
