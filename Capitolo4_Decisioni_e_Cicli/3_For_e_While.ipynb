{
 "cells": [
  {
   "cell_type": "markdown",
   "id": "589a5c55",
   "metadata": {},
   "source": [
    "# 🔁 Cicli in Python\n",
    "\n",
    "I cicli sono uno degli strumenti più potenti nella programmazione, permettendo di automatizzare processi ripetitivi e gestire operazioni complesse in modo efficiente. In Python, l’uso corretto dei cicli non solo migliora la leggibilità del codice, ma ne aumenta anche la manutenibilità e la scalabilità. Sono uno strumento fondamentale per evitare **ripetizioni inutili** nel codice e per risolvere problemi che richiedono **iterazione**, come ad esempio:\n",
    "\n",
    "- stampare i numeri da 1 a 100,\n",
    "- calcolare la somma degli elementi in una lista,\n",
    "- elaborare una sequenza di dati elemento per elemento,\n",
    "- chiedere ripetutamente un input valido all’utente.\n",
    "\n",
    "## 📜 Perché Usare i Cicli?\n",
    "\n",
    "- **Eliminare la ridondanza**: Evitare di scrivere codice ripetuto manualmente.\n",
    "- **Gestione dinamica dei dati**: Lavorare con insiemi di dati di dimensioni variabili.\n",
    "- **Automazione**: Eseguire task complessi senza intervento umano (es. analisi dati, scraping web).\n",
    "- **Controllo di flusso**: Gestire scenari dove il numero di iterazioni dipende da condizioni runtime.\n",
    "\n",
    "## 🧭 Tipi di cicli in Python\n",
    "\n",
    "In Python esistono due principali tipi di ciclo:\n",
    "\n",
    "1. **`for` loop**: quando sappiamo **quante volte** vogliamo ripetere un blocco di codice (iterazione su una sequenza).\n",
    "2. **`while` loop**: quando vogliamo ripetere il blocco **finché** una certa condizione è vera."
   ]
  },
  {
   "cell_type": "markdown",
   "id": "a97d58a6",
   "metadata": {},
   "source": [
    "### 🧠 Cosa succede dietro le quinte?\n",
    "\n",
    "Quando scriviamo un ciclo `for` come il seguente:\n",
    "\n",
    "```python\n",
    "for elemento in sequenza:\n",
    "    ...\n",
    "```\n",
    "\n",
    "Python internamente esegue le seguenti operazioni:\n",
    "\n",
    "1. Chiama `iter(sequenza)` per ottenere un iteratore. \n",
    "   - Se `iter()` riceve un oggetto che è già un iteratore, lo restituisce così com'è, senza creare un nuovo oggetto.\n",
    "2. Chiama `next()` su quell’iteratore per ottenere il prossimo elemento.\n",
    "3. Ripete finché non viene sollevata un’eccezione StopIteration, che segnala la fine dell’iterazione."
   ]
  },
  {
   "cell_type": "markdown",
   "id": "78d8ab49",
   "metadata": {},
   "source": [
    "## Ciclo `for`\n",
    "\n",
    "```python\n",
    "for variabile in sequenza:\n",
    "    # blocco di codice da ripetere\n",
    "```"
   ]
  },
  {
   "cell_type": "markdown",
   "id": "86dea262",
   "metadata": {},
   "source": []
  },
  {
   "cell_type": "markdown",
   "id": "4d95f439",
   "metadata": {},
   "source": [
    "Any All"
   ]
  }
 ],
 "metadata": {
  "kernelspec": {
   "display_name": "datas",
   "language": "python",
   "name": "python3"
  },
  "language_info": {
   "codemirror_mode": {
    "name": "ipython",
    "version": 3
   },
   "file_extension": ".py",
   "mimetype": "text/x-python",
   "name": "python",
   "nbconvert_exporter": "python",
   "pygments_lexer": "ipython3",
   "version": "3.10.13"
  }
 },
 "nbformat": 4,
 "nbformat_minor": 5
}
