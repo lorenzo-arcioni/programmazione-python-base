{
 "cells": [
  {
   "cell_type": "markdown",
   "id": "589a5c55",
   "metadata": {},
   "source": [
    "<a href=\"https://colab.research.google.com/github/lorenzo-arcioni/programmazione-python-base/blob/main/Capitolo4_Decisioni_e_Cicli/3_For_e_While.ipynb\" target=\"_blank\"><img src=\"https://colab.research.google.com/assets/colab-badge.svg\" alt=\"Open In Colab\"/></a>\n",
    "\n",
    "# 🔁 Cicli in Python\n",
    "I cicli sono uno degli strumenti più potenti nella programmazione, permettendo di automatizzare processi ripetitivi e gestire operazioni complesse in modo efficiente. In Python, l'uso corretto dei cicli non solo migliora la leggibilità del codice, ma ne aumenta anche la manutenibilità e la scalabilità. Sono uno strumento fondamentale per evitare **ripetizioni inutili** nel codice e per risolvere problemi che richiedono **iterazione**, come ad esempio:\n",
    "- stampare i numeri da 1 a 100,\n",
    "- calcolare la somma degli elementi in una lista,\n",
    "- elaborare una sequenza di dati elemento per elemento,\n",
    "- chiedere ripetutamente un input valido all'utente.\n",
    "\n",
    "## 📜 Perché Usare i Cicli?\n",
    "- **Eliminare la ridondanza**: Evitare di scrivere codice ripetuto manualmente.\n",
    "- **Gestione dinamica dei dati**: Lavorare con insiemi di dati di dimensioni variabili.\n",
    "- **Automazione**: Eseguire task complessi senza intervento humano (es. analisi dati, scraping web).\n",
    "- **Controllo di flusso**: Gestire scenari dove il numero di iterazioni dipende da condizioni runtime.\n",
    "\n",
    "## 🧭 Tipi di cicli in Python\n",
    "In Python esistono due principali tipi di ciclo:\n",
    "1. **`for` loop**: quando sappiamo **quante volte** vogliamo ripetere un blocco di codice (iterazione su una sequenza).\n",
    "2. **`while` loop**: quando vogliamo ripetere il blocco **finché** una certa condizione è vera.\n",
    "\n",
    "### 🧠 Cosa succede dietro le quinte?\n",
    "Quando scriviamo un ciclo `for` come il seguente:\n",
    "```python\n",
    "for elemento in sequenza:\n",
    "    ...\n",
    "```\n",
    "Python internamente esegue le seguenti operazioni:\n",
    "1. Chiama `iter(sequenza)` per ottenere un iteratore. \n",
    "   - Se `iter()` riceve un oggetto che è già un iteratore, lo restituisce così com'è, senza creare un nuovo oggetto.\n",
    "2. Chiama `next()` su quell'iteratore per ottenere il prossimo elemento.\n",
    "3. Ripete finché non viene sollevata un'eccezione StopIteration, che segnala la fine dell'iterazione.\n",
    "\n",
    "## 🔄 Ciclo `for`\n",
    "Il ciclo `for` è ideale quando vogliamo iterare su una sequenza di elementi o quando conosciamo il numero di iterazioni da eseguire.\n",
    "\n",
    "### Sintassi base\n",
    "```python\n",
    "for variabile in sequenza:\n",
    "    # blocco di codice da ripetere\n",
    "```\n",
    "\n",
    "### Oggetti iterabili comuni\n",
    "- **Liste**: `[1, 2, 3, 4, 5]`\n",
    "- **Tuple**: `(1, 2, 3, 4, 5)`\n",
    "- **Stringhe**: `\"python\"`\n",
    "- **Dizionari**: `{\"a\": 1, \"b\": 2}`\n",
    "- **Set**: `{1, 2, 3, 4, 5}`\n",
    "- **Range**: `range(10)`"
   ]
  },
  {
   "cell_type": "code",
   "execution_count": 86,
   "id": "02488e1c",
   "metadata": {},
   "outputs": [
    {
     "name": "stdout",
     "output_type": "stream",
     "text": [
      "Numero: 1\n",
      "Numero: 2\n",
      "Numero: 3\n",
      "Numero: 4\n",
      "Numero: 5\n"
     ]
    }
   ],
   "source": [
    "# Iterazione su una lista\n",
    "numeri = [1, 2, 3, 4, 5]\n",
    "for numero in numeri:\n",
    "    print(f\"Numero: {numero}\")"
   ]
  },
  {
   "cell_type": "code",
   "execution_count": 87,
   "id": "ce8cbe8d",
   "metadata": {},
   "outputs": [
    {
     "name": "stdout",
     "output_type": "stream",
     "text": [
      "Coordinata: 10\n",
      "Coordinata: 20\n",
      "Coordinata: 30\n"
     ]
    }
   ],
   "source": [
    "# Iterazione su una tupla\n",
    "coordinate = (10, 20, 30)\n",
    "for coordinata in coordinate:\n",
    "    print(f\"Coordinata: {coordinata}\")"
   ]
  },
  {
   "cell_type": "code",
   "execution_count": 88,
   "id": "7815a613",
   "metadata": {},
   "outputs": [
    {
     "name": "stdout",
     "output_type": "stream",
     "text": [
      "Carattere: p\n",
      "Carattere: y\n",
      "Carattere: t\n",
      "Carattere: h\n",
      "Carattere: o\n",
      "Carattere: n\n"
     ]
    }
   ],
   "source": [
    "# Iterazione su una stringa\n",
    "parola = \"python\"\n",
    "for carattere in parola:\n",
    "    print(f\"Carattere: {carattere}\")"
   ]
  },
  {
   "cell_type": "code",
   "execution_count": 89,
   "id": "b33f80ce",
   "metadata": {},
   "outputs": [
    {
     "name": "stdout",
     "output_type": "stream",
     "text": [
      "Colore: verde\n",
      "Colore: blu\n",
      "Colore: rosso\n"
     ]
    }
   ],
   "source": [
    "# Iterazione su un set\n",
    "colori = {\"rosso\", \"verde\", \"blu\"}\n",
    "for colore in colori:\n",
    "    print(f\"Colore: {colore}\")"
   ]
  },
  {
   "cell_type": "markdown",
   "id": "86dea262",
   "metadata": {},
   "source": [
    "### 🔢 La funzione `range()`\n",
    "`range()` è una funzione integrata che genera una sequenza numerica e viene spesso utilizzata nei cicli `for`.\n",
    "\n",
    "**Sintassi:**\n",
    "- `range(stop)`: da 0 a stop-1\n",
    "- `range(start, stop)`: da start a stop-1\n",
    "- `range(start, stop, step)`: da start a stop-1 con incremento step"
   ]
  },
  {
   "cell_type": "code",
   "execution_count": 90,
   "id": "2f0a04b8",
   "metadata": {},
   "outputs": [
    {
     "name": "stdout",
     "output_type": "stream",
     "text": [
      "0\n",
      "1\n",
      "2\n",
      "3\n",
      "4\n"
     ]
    }
   ],
   "source": [
    "# range(stop) - da 0 a 4\n",
    "for i in range(5):\n",
    "    print(i)  # Output: 0, 1, 2, 3, 4"
   ]
  },
  {
   "cell_type": "code",
   "execution_count": 91,
   "id": "ca3a096e",
   "metadata": {},
   "outputs": [
    {
     "name": "stdout",
     "output_type": "stream",
     "text": [
      "2\n",
      "3\n",
      "4\n",
      "5\n",
      "6\n",
      "7\n"
     ]
    }
   ],
   "source": [
    "# range(start, stop) - da 2 a 7\n",
    "for i in range(2, 8):\n",
    "    print(i)  # Output: 2, 3, 4, 5, 6, 7"
   ]
  },
  {
   "cell_type": "code",
   "execution_count": 92,
   "id": "bcb5a0e4",
   "metadata": {},
   "outputs": [
    {
     "name": "stdout",
     "output_type": "stream",
     "text": [
      "0\n",
      "2\n",
      "4\n",
      "6\n",
      "8\n",
      "10\n"
     ]
    }
   ],
   "source": [
    "# range(start, stop, step) - numeri pari da 0 a 10\n",
    "for i in range(0, 11, 2):\n",
    "    print(i)  # Output: 0, 2, 4, 6, 8, 10"
   ]
  },
  {
   "cell_type": "code",
   "execution_count": 93,
   "id": "83588f43",
   "metadata": {},
   "outputs": [
    {
     "name": "stdout",
     "output_type": "stream",
     "text": [
      "10\n",
      "9\n",
      "8\n",
      "7\n",
      "6\n",
      "5\n",
      "4\n",
      "3\n",
      "2\n",
      "1\n"
     ]
    }
   ],
   "source": [
    "# range con step negativo - countdown\n",
    "for i in range(10, 0, -1):\n",
    "    print(i)  # Output: 10, 9, 8, 7, 6, 5, 4, 3, 2, 1"
   ]
  },
  {
   "cell_type": "markdown",
   "id": "d5bb1dfc",
   "metadata": {},
   "source": [
    "### 📊 Iterazione su dizionari\n",
    "Quando iteriamo su un dizionario, possiamo accedere a:\n",
    "- **Chiavi**: `dict.keys()`\n",
    "- **Valori**: `dict.values()`\n",
    "- **Coppie chiave-valore**: `dict.items()`"
   ]
  },
  {
   "cell_type": "code",
   "execution_count": 94,
   "id": "bae68e05",
   "metadata": {},
   "outputs": [],
   "source": [
    "# Definizamo un dizionario di studenti con i loro voti\n",
    "studenti = {\"Alice\": 85, \"Bob\": 92, \"Carol\": 78, \"David\": 95}"
   ]
  },
  {
   "cell_type": "code",
   "execution_count": 95,
   "id": "cdd5a156",
   "metadata": {},
   "outputs": [
    {
     "name": "stdout",
     "output_type": "stream",
     "text": [
      "Studente: Alice\n",
      "Studente: Bob\n",
      "Studente: Carol\n",
      "Studente: David\n"
     ]
    }
   ],
   "source": [
    "# Iterazione sulle chiavi (comportamento predefinito)\n",
    "for nome in studenti:\n",
    "    print(f\"Studente: {nome}\")"
   ]
  },
  {
   "cell_type": "code",
   "execution_count": 96,
   "id": "52551474",
   "metadata": {},
   "outputs": [
    {
     "name": "stdout",
     "output_type": "stream",
     "text": [
      "Studente: Alice\n",
      "Studente: Bob\n",
      "Studente: Carol\n",
      "Studente: David\n"
     ]
    }
   ],
   "source": [
    "# Iterazione esplicita sulle chiavi\n",
    "for nome in studenti.keys():\n",
    "    print(f\"Studente: {nome}\")"
   ]
  },
  {
   "cell_type": "code",
   "execution_count": 97,
   "id": "174d68ff",
   "metadata": {},
   "outputs": [
    {
     "name": "stdout",
     "output_type": "stream",
     "text": [
      "Voto: 85\n",
      "Voto: 92\n",
      "Voto: 78\n",
      "Voto: 95\n"
     ]
    }
   ],
   "source": [
    "# Iterazione sui valori\n",
    "for voto in studenti.values():\n",
    "    print(f\"Voto: {voto}\")"
   ]
  },
  {
   "cell_type": "code",
   "execution_count": 98,
   "id": "e8ec2eca",
   "metadata": {},
   "outputs": [
    {
     "data": {
      "text/plain": [
       "dict_items([('Alice', 85), ('Bob', 92), ('Carol', 78), ('David', 95)])"
      ]
     },
     "execution_count": 98,
     "metadata": {},
     "output_type": "execute_result"
    }
   ],
   "source": [
    "studenti.items()"
   ]
  },
  {
   "cell_type": "code",
   "execution_count": 99,
   "id": "b381d8f8",
   "metadata": {},
   "outputs": [
    {
     "name": "stdout",
     "output_type": "stream",
     "text": [
      "Tupla completa: ('Alice', 85)\n",
      "Alice ha preso 85\n",
      "Tupla completa: ('Bob', 92)\n",
      "Bob ha preso 92\n",
      "Tupla completa: ('Carol', 78)\n",
      "Carol ha preso 78\n",
      "Tupla completa: ('David', 95)\n",
      "David ha preso 95\n"
     ]
    }
   ],
   "source": [
    "# Senza unpacking (si accede alla tupla)\n",
    "for elemento in studenti.items():\n",
    "    print(f\"Tupla completa: {elemento}\")  # elemento è una tupla (nome, voto)\n",
    "    print(f\"{elemento[0]} ha preso {elemento[1]}\")"
   ]
  },
  {
   "cell_type": "markdown",
   "id": "81a03aed",
   "metadata": {},
   "source": [
    "Anche nei cicli è presente il concetto di **unpaking**. Possiamo infatti scomporre direttamente elementi iterabili (come tuple, liste o dizionari) in variabili separate durante l'iterazione, rendendo il codice più chiaro e conciso."
   ]
  },
  {
   "cell_type": "code",
   "execution_count": 100,
   "id": "149383d9",
   "metadata": {},
   "outputs": [
    {
     "name": "stdout",
     "output_type": "stream",
     "text": [
      "Alice ha preso 85\n",
      "Bob ha preso 92\n",
      "Carol ha preso 78\n",
      "David ha preso 95\n"
     ]
    }
   ],
   "source": [
    "# Iterazione su coppie chiave-valore (unpacking)\n",
    "for nome, voto in studenti.items():\n",
    "    print(f\"{nome} ha preso {voto}\")"
   ]
  },
  {
   "cell_type": "markdown",
   "id": "3f67da7b",
   "metadata": {},
   "source": [
    "Vediamo ora un esempio elggermente più complesso."
   ]
  },
  {
   "cell_type": "code",
   "execution_count": 101,
   "id": "f017eb4e",
   "metadata": {},
   "outputs": [
    {
     "name": "stdout",
     "output_type": "stream",
     "text": [
      "Il migliore studente è David con 95\n"
     ]
    }
   ],
   "source": [
    "# Esempio pratico: trovare lo studente con il voto più alto\n",
    "voto_massimo = 0\n",
    "migliore_studente = \"\"\n",
    "for nome, voto in studenti.items():\n",
    "    if voto > voto_massimo:\n",
    "        voto_massimo = voto\n",
    "        migliore_studente = nome\n",
    "print(f\"Il migliore studente è {migliore_studente} con {voto_massimo}\")"
   ]
  },
  {
   "cell_type": "markdown",
   "id": "791cfe42",
   "metadata": {},
   "source": [
    "### 🎯 Enumerate\n",
    "La funzione `enumerate()` è utile quando abbiamo bisogno sia dell'indice che del valore durante l'iterazione."
   ]
  },
  {
   "cell_type": "code",
   "execution_count": 102,
   "id": "c29f2439",
   "metadata": {},
   "outputs": [],
   "source": [
    "# Lista di città\n",
    "citta = [\"Roma\", \"Milano\", \"Napoli\", \"Torino\", \"Palermo\"]"
   ]
  },
  {
   "cell_type": "code",
   "execution_count": 103,
   "id": "b5378b71",
   "metadata": {},
   "outputs": [
    {
     "name": "stdout",
     "output_type": "stream",
     "text": [
      "0: Roma\n",
      "1: Milano\n",
      "2: Napoli\n",
      "3: Torino\n",
      "4: Palermo\n"
     ]
    }
   ],
   "source": [
    "# Enumerate con indice che parte da 0 (predefinito)\n",
    "for indice, nome in enumerate(citta):\n",
    "    print(f\"{indice}: {nome}\")"
   ]
  },
  {
   "cell_type": "code",
   "execution_count": 104,
   "id": "1fb96dc6",
   "metadata": {},
   "outputs": [
    {
     "name": "stdout",
     "output_type": "stream",
     "text": [
      "Posizione 1: Roma\n",
      "Posizione 2: Milano\n",
      "Posizione 3: Napoli\n",
      "Posizione 4: Torino\n",
      "Posizione 5: Palermo\n"
     ]
    }
   ],
   "source": [
    "# Enumerate con indice personalizzato\n",
    "for posizione, nome in enumerate(citta, start=1):\n",
    "    print(f\"Posizione {posizione}: {nome}\")"
   ]
  },
  {
   "cell_type": "code",
   "execution_count": 105,
   "id": "81a163ba",
   "metadata": {},
   "outputs": [
    {
     "name": "stdout",
     "output_type": "stream",
     "text": [
      "=== MENU ===\n",
      "1. Pizza\n",
      "2. Pasta\n",
      "3. Risotto\n",
      "4. Lasagne\n"
     ]
    }
   ],
   "source": [
    "# Esempio pratico: creare un menu numerato\n",
    "menu = [\"Pizza\", \"Pasta\", \"Risotto\", \"Lasagne\"]\n",
    "print(\"=== MENU ===\")\n",
    "for numero, piatto in enumerate(menu, start=1):\n",
    "    print(f\"{numero}. {piatto}\")"
   ]
  },
  {
   "cell_type": "code",
   "execution_count": 106,
   "id": "def5c088",
   "metadata": {},
   "outputs": [
    {
     "name": "stdout",
     "output_type": "stream",
     "text": [
      "arancia si trova alla posizione 2\n"
     ]
    }
   ],
   "source": [
    "# Trovare l'indice di un elemento specifico\n",
    "frutta = [\"mela\", \"banana\", \"arancia\", \"pera\"]\n",
    "frutto_cercato = \"arancia\"\n",
    "for indice, frutto in enumerate(frutta):\n",
    "    if frutto == frutto_cercato:\n",
    "        print(f\"{frutto_cercato} si trova alla posizione {indice}\")\n",
    "        break"
   ]
  },
  {
   "cell_type": "markdown",
   "id": "5a6d140a",
   "metadata": {},
   "source": [
    "### 🔗 Zip\n",
    "La funzione `zip()` permette di iterare su più sequenze contemporaneamente, combinando elementi alla stessa posizione."
   ]
  },
  {
   "cell_type": "code",
   "execution_count": 107,
   "id": "e312ceb9",
   "metadata": {},
   "outputs": [],
   "source": [
    "# Due liste della stessa lunghezza\n",
    "nomi = [\"Alice\", \"Bob\", \"Carol\"]\n",
    "voti = [85, 92, 78]"
   ]
  },
  {
   "cell_type": "code",
   "execution_count": 108,
   "id": "ccae71e2",
   "metadata": {},
   "outputs": [
    {
     "name": "stdout",
     "output_type": "stream",
     "text": [
      "Alice: 85\n",
      "Bob: 92\n",
      "Carol: 78\n"
     ]
    }
   ],
   "source": [
    "# Combinare con zip\n",
    "for nome, voto in zip(nomi, voti):\n",
    "    print(f\"{nome}: {voto}\")"
   ]
  },
  {
   "cell_type": "code",
   "execution_count": 109,
   "id": "0aab3996",
   "metadata": {},
   "outputs": [
    {
     "name": "stdout",
     "output_type": "stream",
     "text": [
      "Alice Rossi, 25 anni\n",
      "Bob Bianchi, 30 anni\n",
      "Carol Verdi, 28 anni\n"
     ]
    }
   ],
   "source": [
    "# Esempio con tre liste\n",
    "nomi = [\"Alice\", \"Bob\", \"Carol\"]\n",
    "cognomi = [\"Rossi\", \"Bianchi\", \"Verdi\"]\n",
    "eta = [25, 30, 28]\n",
    "\n",
    "for nome, cognome, anni in zip(nomi, cognomi, eta):\n",
    "    print(f\"{nome} {cognome}, {anni} anni\")"
   ]
  },
  {
   "cell_type": "code",
   "execution_count": 110,
   "id": "329a6549",
   "metadata": {},
   "outputs": [
    {
     "name": "stdout",
     "output_type": "stream",
     "text": [
      "1 -> a\n",
      "2 -> b\n",
      "3 -> c\n"
     ]
    }
   ],
   "source": [
    "# Zip con liste di lunghezza diversa (si ferma alla più corta)\n",
    "numeri = [1, 2, 3, 4, 5]\n",
    "lettere = ['a', 'b', 'c']\n",
    "\n",
    "for numero, lettera in zip(numeri, lettere):\n",
    "    print(f\"{numero} -> {lettera}\")  # Output: 1->a, 2->b, 3->c"
   ]
  },
  {
   "cell_type": "code",
   "execution_count": 111,
   "id": "4bb976ea",
   "metadata": {},
   "outputs": [
    {
     "name": "stdout",
     "output_type": "stream",
     "text": [
      "{'nome': 'Mario', 'cognome': 'Rossi', 'eta': 35, 'citta': 'Roma'}\n"
     ]
    }
   ],
   "source": [
    "# Esempio pratico: creare un dizionario da due liste\n",
    "chiavi = [\"nome\", \"cognome\", \"eta\", \"citta\"]\n",
    "valori = [\"Mario\", \"Rossi\", 35, \"Roma\"]\n",
    "\n",
    "dizionario = {}\n",
    "for chiave, valore in zip(chiavi, valori):\n",
    "    dizionario[chiave] = valore\n",
    "print(dizionario)"
   ]
  },
  {
   "cell_type": "code",
   "execution_count": 112,
   "id": "428831dd",
   "metadata": {},
   "outputs": [
    {
     "name": "stdout",
     "output_type": "stream",
     "text": [
      "{'nome': 'Mario', 'cognome': 'Rossi', 'eta': 35, 'citta': 'Roma'}\n"
     ]
    }
   ],
   "source": [
    "# Metodo più elegante con dict() e zip()\n",
    "dizionario_elegante = dict(zip(chiavi, valori))\n",
    "print(dizionario_elegante)"
   ]
  },
  {
   "cell_type": "markdown",
   "id": "3b52c8be",
   "metadata": {},
   "source": [
    "## ⏰ Ciclo `while`\n",
    "Il ciclo `while` continua ad eseguire un blocco di codice finché una condizione rimane vera.\n",
    "\n",
    "### Sintassi base\n",
    "```python\n",
    "while condizione:\n",
    "    # blocco di codice da ripetere\n",
    "    # importante: modificare la condizione per evitare loop infiniti\n",
    "```"
   ]
  },
  {
   "cell_type": "code",
   "execution_count": 113,
   "id": "f344edaf",
   "metadata": {},
   "outputs": [
    {
     "name": "stdout",
     "output_type": "stream",
     "text": [
      "1\n",
      "2\n",
      "3\n",
      "4\n",
      "5\n",
      "Fine del ciclo!\n"
     ]
    }
   ],
   "source": [
    "# Inizializza la variabile contatore\n",
    "contatore = 1\n",
    "\n",
    "# Ciclo while che continua finché contatore è minore o uguale a 5\n",
    "while contatore <= 5:\n",
    "    print(contatore)\n",
    "    contatore += 1  # Incrementa il contatore di 1\n",
    "\n",
    "print(\"Fine del ciclo!\")"
   ]
  },
  {
   "cell_type": "code",
   "execution_count": 114,
   "id": "5f38a627",
   "metadata": {},
   "outputs": [
    {
     "name": "stdout",
     "output_type": "stream",
     "text": [
      "Accesso consentito!\n"
     ]
    }
   ],
   "source": [
    "password_corretta = \"1234\"\n",
    "tentativo = \"\"\n",
    "\n",
    "while tentativo != password_corretta:\n",
    "    tentativo = input(\"Inserisci la password: \")\n",
    "    \n",
    "print(\"Accesso consentito!\")"
   ]
  },
  {
   "cell_type": "markdown",
   "id": "7d81cf4b",
   "metadata": {},
   "source": [
    "### ⚠️ Attenzione ai loop infiniti\n",
    "Un loop infinito si verifica quando la condizione del `while` non viene mai modificata o rimane sempre vera. È importante includere sempre una logica che modifichi la condizione per permettere l'uscita dal ciclo."
   ]
  },
  {
   "cell_type": "code",
   "execution_count": 115,
   "id": "f2d46a03",
   "metadata": {},
   "outputs": [
    {
     "name": "stdout",
     "output_type": "stream",
     "text": [
      "0\n",
      "1\n",
      "2\n",
      "3\n",
      "4\n",
      "5\n",
      "6\n",
      "7\n",
      "8\n",
      "9\n"
     ]
    }
   ],
   "source": [
    "# ESEMPIO SBAGLIATO - Loop infinito (NON eseguire!)\n",
    "# i = 0\n",
    "# while i < 10:\n",
    "#     print(i)\n",
    "#     # Manca l'incremento di i, quindi i rimane sempre 0\n",
    "\n",
    "# ESEMPIO CORRETTO\n",
    "i = 0\n",
    "while i < 10:\n",
    "    print(i)\n",
    "    i += 1  # Incremento necessario per modificare la condizione"
   ]
  },
  {
   "cell_type": "markdown",
   "id": "a85a19aa",
   "metadata": {},
   "source": [
    "### 🎮 Pattern comuni con `while`\n",
    "- **Validazione input**: Continuare a chiedere input finché non è valido\n",
    "- **Menu interattivi**: Mostrare opzioni finché l'utente non sceglie di uscire\n",
    "- **Elaborazione batch**: Processare dati finché non sono finiti"
   ]
  },
  {
   "cell_type": "markdown",
   "id": "ead741a8",
   "metadata": {},
   "source": [
    "## 🚪 Controllo del flusso nei cicli\n",
    "\n",
    "### `break` - Uscita immediata\n",
    "L'istruzione `break` interrompe immediatamente il ciclo e passa alla prima istruzione dopo il blocco del ciclo."
   ]
  },
  {
   "cell_type": "code",
   "execution_count": 116,
   "id": "8c309346",
   "metadata": {},
   "outputs": [
    {
     "name": "stdout",
     "output_type": "stream",
     "text": [
      "Numero: 1\n",
      "Numero: 2\n",
      "Numero: 3\n",
      "Numero: 4\n",
      "Trovato il numero 5, esco dal ciclo\n",
      "Ciclo terminato\n"
     ]
    }
   ],
   "source": [
    "# Break in un ciclo for\n",
    "numeri = [1, 2, 3, 4, 5, 6, 7, 8, 9, 10]\n",
    "for numero in numeri:\n",
    "    if numero == 5:\n",
    "        print(\"Trovato il numero 5, esco dal ciclo\")\n",
    "        break\n",
    "    print(f\"Numero: {numero}\")\n",
    "print(\"Ciclo terminato\")"
   ]
  },
  {
   "cell_type": "code",
   "execution_count": 117,
   "id": "e1d3df22",
   "metadata": {},
   "outputs": [
    {
     "name": "stdout",
     "output_type": "stream",
     "text": [
      "Password corretta!\n"
     ]
    }
   ],
   "source": [
    "# Break in un ciclo while\n",
    "tentativo = 0\n",
    "while True:  # Loop infinito controllato da break\n",
    "    tentativo += 1\n",
    "    password = input(f\"Tentativo {tentativo} - Inserisci password: \")\n",
    "    \n",
    "    if password == \"1234\":\n",
    "        print(\"Password corretta!\")\n",
    "        break\n",
    "    elif tentativo >= 3:\n",
    "        print(\"Troppi tentativi falliti!\")\n",
    "        break\n",
    "    else:\n",
    "        print(\"Password errata, riprova\")"
   ]
  },
  {
   "cell_type": "code",
   "execution_count": 118,
   "id": "7f7ce284",
   "metadata": {},
   "outputs": [
    {
     "name": "stdout",
     "output_type": "stream",
     "text": [
      "Studente Carol trovato!\n"
     ]
    }
   ],
   "source": [
    "# Break con ricerca in una lista\n",
    "studenti = [\"Alice\", \"Bob\", \"Carol\", \"David\", \"Eva\"]\n",
    "nome_cercato = \"Carol\"\n",
    "trovato = False\n",
    "\n",
    "for studente in studenti:\n",
    "    if studente == nome_cercato:\n",
    "        print(f\"Studente {nome_cercato} trovato!\")\n",
    "        trovato = True\n",
    "        break\n",
    "\n",
    "if not trovato:\n",
    "    print(f\"Studente {nome_cercato} non trovato\")"
   ]
  },
  {
   "cell_type": "markdown",
   "id": "7fa2c744",
   "metadata": {},
   "source": [
    "### `continue` - Saltare alla prossima iterazione\n",
    "L'istruzione `continue` salta il resto del codice nel ciclo corrente e passa direttamente alla prossima iterazione."
   ]
  },
  {
   "cell_type": "code",
   "execution_count": 119,
   "id": "0c2da79f",
   "metadata": {},
   "outputs": [
    {
     "name": "stdout",
     "output_type": "stream",
     "text": [
      "Numero dispari: 1\n",
      "Numero dispari: 3\n",
      "Numero dispari: 5\n",
      "Numero dispari: 7\n",
      "Numero dispari: 9\n"
     ]
    }
   ],
   "source": [
    "# Continue in un ciclo for - saltare numeri pari\n",
    "for numero in range(1, 11):\n",
    "    if numero % 2 == 0:  # Se il numero è pari\n",
    "        continue  # Salta il resto del codice e va alla prossima iterazione\n",
    "    print(f\"Numero dispari: {numero}\")"
   ]
  },
  {
   "cell_type": "code",
   "execution_count": 120,
   "id": "bd912942",
   "metadata": {},
   "outputs": [
    {
     "name": "stdout",
     "output_type": "stream",
     "text": [
      "Parola valida: ciao\n",
      "Parola valida: mondo\n",
      "Parola valida: python\n",
      "Parola valida: programmazione\n"
     ]
    }
   ],
   "source": [
    "# Continue per filtrare input\n",
    "parole = [\"ciao\", \"\", \"mondo\", \"python\", \"\", \"programmazione\"]\n",
    "for parola in parole:\n",
    "    if not parola:  # Se la stringa è vuota\n",
    "        continue\n",
    "    print(f\"Parola valida: {parola}\")"
   ]
  },
  {
   "cell_type": "code",
   "execution_count": 121,
   "id": "cdf8ed4a",
   "metadata": {},
   "outputs": [
    {
     "name": "stdout",
     "output_type": "stream",
     "text": [
      "1 al quadrato = 1\n",
      "3 al quadrato = 9\n",
      "5 al quadrato = 25\n",
      "6 al quadrato = 36\n"
     ]
    }
   ],
   "source": [
    "# Continue in un ciclo while - elaborazione dati\n",
    "dati = [1, -2, 3, -4, 5, 0, 6, -7]\n",
    "i = 0\n",
    "while i < len(dati):\n",
    "    valore = dati[i]\n",
    "    i += 1  # Importante: incrementare prima del continue\n",
    "    \n",
    "    if valore <= 0:  # Salta valori negativi e zero\n",
    "        continue\n",
    "    \n",
    "    # Elabora solo valori positivi\n",
    "    quadrato = valore ** 2\n",
    "    print(f\"{valore} al quadrato = {quadrato}\")"
   ]
  },
  {
   "cell_type": "code",
   "execution_count": 122,
   "id": "3662e565",
   "metadata": {},
   "outputs": [
    {
     "name": "stdout",
     "output_type": "stream",
     "text": [
      "Email valida: user@example.com\n",
      "Email valida: test@test.it\n",
      "Email valida: admin@site.org\n"
     ]
    }
   ],
   "source": [
    "# Esempio pratico: validazione di una lista di email\n",
    "emails = [\"user@example.com\", \"invalid-email\", \"test@test.it\", \"\", \"admin@site.org\"]\n",
    "\n",
    "for email in emails:\n",
    "    if not email:  # Salta email vuote\n",
    "        continue\n",
    "    if \"@\" not in email:  # Salta email senza @\n",
    "        continue\n",
    "    if \".\" not in email.split(\"@\")[1]:  # Salta email senza dominio valido\n",
    "        continue\n",
    "    \n",
    "    print(f\"Email valida: {email}\")"
   ]
  },
  {
   "cell_type": "markdown",
   "id": "84171a5d",
   "metadata": {},
   "source": [
    "### `else` nei cicli\n",
    "Python offre una caratteristica unica: la clausola `else` nei cicli. Il blocco `else` viene eseguito solo se il ciclo termina naturalmente (senza `break`)."
   ]
  },
  {
   "cell_type": "code",
   "execution_count": 123,
   "id": "05b0815a",
   "metadata": {},
   "outputs": [
    {
     "name": "stdout",
     "output_type": "stream",
     "text": [
      "Numero 4 non trovato nella lista\n"
     ]
    }
   ],
   "source": [
    "# Else con for - ricerca in una lista\n",
    "numeri = [1, 3, 5, 7, 9]\n",
    "numero_cercato = 4\n",
    "\n",
    "for numero in numeri:\n",
    "    if numero == numero_cercato:\n",
    "        print(f\"Numero {numero_cercato} trovato!\")\n",
    "        break\n",
    "else:\n",
    "    # Questo blocco viene eseguito solo se non c'è stato break\n",
    "    print(f\"Numero {numero_cercato} non trovato nella lista\")"
   ]
  },
  {
   "cell_type": "code",
   "execution_count": 124,
   "id": "406344cf",
   "metadata": {},
   "outputs": [
    {
     "name": "stdout",
     "output_type": "stream",
     "text": [
      "Accesso autorizzato!\n"
     ]
    }
   ],
   "source": [
    "# Else con while - validazione con limite di tentativi\n",
    "max_tentativi = 3\n",
    "tentativo = 0\n",
    "password_corretta = \"1234\"\n",
    "\n",
    "while tentativo < max_tentativi:\n",
    "    password = input(f\"Tentativo {tentativo + 1} - Inserisci password: \")\n",
    "    tentativo += 1\n",
    "    \n",
    "    if password == password_corretta:\n",
    "        print(\"Accesso autorizzato!\")\n",
    "        break\n",
    "else:\n",
    "    # Eseguito solo se il while termina senza break\n",
    "    print(\"Accesso negato: troppi tentativi falliti\")"
   ]
  },
  {
   "cell_type": "markdown",
   "id": "3c6ec361",
   "metadata": {},
   "source": [
    "## 🔄 Cicli annidati\n",
    "I cicli annidati sono cicli all'interno di altri cicli. Sono utili per lavorare con strutture dati bidimensionali come matrici o per combinazioni multiple.\n",
    "\n",
    "### Considerazioni sulla performance\n",
    "- I cicli annidati aumentano la complessità temporale\n",
    "- Un ciclo annidato con due livelli ha complessità O(n²)\n",
    "- Usare con cautela per grandi dataset"
   ]
  },
  {
   "cell_type": "code",
   "execution_count": 125,
   "id": "828bdb28",
   "metadata": {},
   "outputs": [
    {
     "name": "stdout",
     "output_type": "stream",
     "text": [
      "Tabella di moltiplicazione 5x5:\n",
      " 1  2  3  4  5 \n",
      " 2  4  6  8 10 \n",
      " 3  6  9 12 15 \n",
      " 4  8 12 16 20 \n",
      " 5 10 15 20 25 \n"
     ]
    }
   ],
   "source": [
    "# Esempio base: tabella di moltiplicazione\n",
    "print(\"Tabella di moltiplicazione 5x5:\")\n",
    "for i in range(1, 6):\n",
    "    for j in range(1, 6):\n",
    "        prodotto = i * j\n",
    "        print(f\"{prodotto:2d}\", end=\" \")  # Formattazione per allineamento\n",
    "    print()  # Nuova riga dopo ogni riga della tabella"
   ]
  },
  {
   "cell_type": "code",
   "execution_count": 126,
   "id": "12542ba5",
   "metadata": {},
   "outputs": [
    {
     "name": "stdout",
     "output_type": "stream",
     "text": [
      "\n",
      "Elementi della matrice:\n",
      "1 2 3 \n",
      "4 5 6 \n",
      "7 8 9 \n"
     ]
    }
   ],
   "source": [
    "# Lavorare con matrici\n",
    "matrice = [\n",
    "    [1, 2, 3],\n",
    "    [4, 5, 6],\n",
    "    [7, 8, 9]\n",
    "]\n",
    "\n",
    "# Stampare tutti gli elementi\n",
    "print(\"\\nElementi della matrice:\")\n",
    "for riga in matrice:\n",
    "    for elemento in riga:\n",
    "        print(elemento, end=\" \")\n",
    "    print()"
   ]
  },
  {
   "cell_type": "code",
   "execution_count": 127,
   "id": "400b59ec",
   "metadata": {},
   "outputs": [
    {
     "name": "stdout",
     "output_type": "stream",
     "text": [
      "\n",
      "Elementi con coordinate:\n",
      "(0,0): 1\n",
      "(0,1): 2\n",
      "(0,2): 3\n",
      "(1,0): 4\n",
      "(1,1): 5\n",
      "(1,2): 6\n",
      "(2,0): 7\n",
      "(2,1): 8\n",
      "(2,2): 9\n"
     ]
    }
   ],
   "source": [
    "# Accesso con indici\n",
    "print(\"\\nElementi con coordinate:\")\n",
    "for i in range(len(matrice)):\n",
    "    for j in range(len(matrice[i])):\n",
    "        print(f\"({i},{j}): {matrice[i][j]}\")"
   ]
  },
  {
   "cell_type": "code",
   "execution_count": 128,
   "id": "057c692e",
   "metadata": {},
   "outputs": [
    {
     "name": "stdout",
     "output_type": "stream",
     "text": [
      "\n",
      "Valore massimo: 99 alla posizione (2, 2)\n"
     ]
    }
   ],
   "source": [
    "# Esempio pratico: trovare il massimo in una matrice\n",
    "matrice_numeri = [\n",
    "    [12, 7, 3],\n",
    "    [1, 45, 6],\n",
    "    [8, 2, 99]\n",
    "]\n",
    "\n",
    "massimo = matrice_numeri[0][0]  # Inizializza con il primo elemento\n",
    "posizione_max = (0, 0)\n",
    "\n",
    "for i in range(len(matrice_numeri)):\n",
    "    for j in range(len(matrice_numeri[i])):\n",
    "        if matrice_numeri[i][j] > massimo:\n",
    "            massimo = matrice_numeri[i][j]\n",
    "            posizione_max = (i, j)\n",
    "\n",
    "print(f\"\\nValore massimo: {massimo} alla posizione {posizione_max}\")"
   ]
  },
  {
   "cell_type": "code",
   "execution_count": 129,
   "id": "188f87e0",
   "metadata": {},
   "outputs": [
    {
     "name": "stdout",
     "output_type": "stream",
     "text": [
      "\n",
      "Combinazioni colore-taglia:\n",
      "rosso-S\n",
      "rosso-M\n",
      "rosso-L\n",
      "verde-S\n",
      "verde-M\n",
      "verde-L\n",
      "blu-S\n",
      "blu-M\n",
      "blu-L\n"
     ]
    }
   ],
   "source": [
    "# Generare tutte le combinazioni\n",
    "colori = [\"rosso\", \"verde\", \"blu\"]\n",
    "taglie = [\"S\", \"M\", \"L\"]\n",
    "\n",
    "print(\"\\nCombinazioni colore-taglia:\")\n",
    "for colore in colori:\n",
    "    for taglia in taglie:\n",
    "        print(f\"{colore}-{taglia}\")"
   ]
  },
  {
   "cell_type": "code",
   "execution_count": 130,
   "id": "b444abf5",
   "metadata": {},
   "outputs": [
    {
     "name": "stdout",
     "output_type": "stream",
     "text": [
      "Valore 7 trovato alla posizione (1, 2)\n"
     ]
    }
   ],
   "source": [
    "# Esempio con break nei cicli annidati\n",
    "# Ricerca in una matrice con uscita anticipata\n",
    "matrice_ricerca = [\n",
    "    [1, 2, 3, 4],\n",
    "    [5, 6, 7, 8],\n",
    "    [9, 10, 11, 12]\n",
    "]\n",
    "\n",
    "valore_cercato = 7\n",
    "trovato = False\n",
    "\n",
    "for i, riga in enumerate(matrice_ricerca):\n",
    "    for j, valore in enumerate(riga):\n",
    "        if valore == valore_cercato:\n",
    "            print(f\"Valore {valore_cercato} trovato alla posizione ({i}, {j})\")\n",
    "            trovato = True\n",
    "            break\n",
    "    if trovato:  # Break dal ciclo esterno\n",
    "        break"
   ]
  },
  {
   "cell_type": "markdown",
   "id": "4e98a5f5",
   "metadata": {},
   "source": [
    "## 🎯 Funzioni utili con i cicli\n",
    "\n",
    "### `any()` e `all()`\n",
    "- **`any()`**: Restituisce `True` se almeno un elemento dell'iterabile è vero\n",
    "- **`all()`**: Restituisce `True` se tutti gli elementi dell'iterabile sono veri"
   ]
  },
  {
   "cell_type": "code",
   "execution_count": 131,
   "id": "12526dc5",
   "metadata": {},
   "outputs": [
    {
     "name": "stdout",
     "output_type": "stream",
     "text": [
      "Almeno un numero è diverso da zero: True\n",
      "Almeno un numero è diverso da zero: False\n",
      "Almeno un voto è sufficiente (>=60): True\n",
      "Almeno un voto è eccellente (>=90): True\n",
      "Tutti i numeri sono positivi: True\n",
      "Tutti i numeri sono positivi: False\n",
      "Tutte le parole hanno almeno 4 caratteri: True\n",
      "Tutti i campi sono compilati: True\n",
      "Form valido: True\n",
      "Almeno un frutto richiesto è disponibile: True\n",
      "Tutti gli studenti hanno almeno un voto sufficiente: True\n"
     ]
    }
   ],
   "source": [
    "# Esempi con any()\n",
    "numeri = [0, 2, 0, 4, 0]\n",
    "print(f\"Almeno un numero è diverso da zero: {any(numeri)}\")  # True\n",
    "\n",
    "numeri_zero = [0, 0, 0]\n",
    "print(f\"Almeno un numero è diverso da zero: {any(numeri_zero)}\")  # False\n",
    "\n",
    "# any() con condizioni\n",
    "voti = [65, 72, 58, 89, 94]\n",
    "print(f\"Almeno un voto è sufficiente (>=60): {any(voto >= 60 for voto in voti)}\")  # True\n",
    "print(f\"Almeno un voto è eccellente (>=90): {any(voto >= 90 for voto in voti)}\")  # True\n",
    "\n",
    "# Esempi con all()\n",
    "numeri_positivi = [1, 2, 3, 4, 5]\n",
    "print(f\"Tutti i numeri sono positivi: {all(n > 0 for n in numeri_positivi)}\")  # True\n",
    "\n",
    "numeri_misti = [1, 2, -3, 4, 5]\n",
    "print(f\"Tutti i numeri sono positivi: {all(n > 0 for n in numeri_misti)}\")  # False\n",
    "\n",
    "# all() con stringhe\n",
    "parole = [\"python\", \"java\", \"javascript\"]\n",
    "print(f\"Tutte le parole hanno almeno 4 caratteri: {all(len(parola) >= 4 for parola in parole)}\")  # True\n",
    "\n",
    "# Esempio pratico: validazione di un form\n",
    "dati_form = {\n",
    "    \"nome\": \"Mario\",\n",
    "    \"email\": \"mario@example.com\",\n",
    "    \"età\": 25,\n",
    "    \"telefono\": \"123456789\"\n",
    "}\n",
    "\n",
    "# Verificare che tutti i campi siano compilati\n",
    "campi_compilati = all(bool(valore) for valore in dati_form.values())\n",
    "print(f\"Tutti i campi sono compilati: {campi_compilati}\")\n",
    "\n",
    "# Verificare condizioni specifiche\n",
    "condizioni = [\n",
    "    len(dati_form[\"nome\"]) >= 2,\n",
    "    \"@\" in dati_form[\"email\"],\n",
    "    dati_form[\"età\"] >= 18,\n",
    "    len(dati_form[\"telefono\"]) >= 8\n",
    "]\n",
    "\n",
    "form_valido = all(condizioni)\n",
    "print(f\"Form valido: {form_valido}\")\n",
    "\n",
    "# Esempio con any() per ricerca\n",
    "frutti_disponibili = [\"mela\", \"banana\", \"arancia\", \"pesca\"]\n",
    "frutti_richiesti = [\"kiwi\", \"banana\", \"mango\"]\n",
    "\n",
    "# Verificare se almeno un frutto richiesto è disponibile\n",
    "disponibile = any(frutto in frutti_disponibili for frutto in frutti_richiesti)\n",
    "print(f\"Almeno un frutto richiesto è disponibile: {disponibile}\")  # True\n",
    "\n",
    "# Combinazione di any() e all()\n",
    "studenti_classe = [\n",
    "    {\"nome\": \"Alice\", \"voti\": [85, 90, 78]},\n",
    "    {\"nome\": \"Bob\", \"voti\": [92, 88, 95]},\n",
    "    {\"nome\": \"Carol\", \"voti\": [65, 70, 68]}\n",
    "]\n",
    "\n",
    "# Verificare se tutti gli studenti hanno almeno un voto sufficiente\n",
    "tutti_sufficienti = all(any(voto >= 60 for voto in studente[\"voti\"]) \n",
    "                       for studente in studenti_classe)\n",
    "print(f\"Tutti gli studenti hanno almeno un voto sufficiente: {tutti_sufficienti}\")"
   ]
  },
  {
   "cell_type": "markdown",
   "id": "2dadda3c",
   "metadata": {},
   "source": [
    "## 🚀 Best Practices\n",
    "\n",
    "### Efficienza e Performance\n",
    "- **Evitare modifiche durante l'iterazione**: Non modificare la struttura dati mentre la si itera\n",
    "- **Usare generatori**: Per grandi dataset, considera l'uso di generatori invece di liste\n",
    "- **Scegliere il ciclo giusto**: Usa `for` per iterazioni note, `while` per condizioni"
   ]
  },
  {
   "cell_type": "markdown",
   "id": "7460d142",
   "metadata": {},
   "source": [
    "### Leggibilità del codice\n",
    "- **Nomi delle variabili descrittivi**: Usa nomi che descrivono il contenuto\n",
    "- **Evitare cicli troppo annidati**: Massimo 2-3 livelli di annidamento\n",
    "- **Utilizzare le comprehension**: Quando appropriate, rendono il codice più pythonic"
   ]
  },
  {
   "cell_type": "markdown",
   "id": "3de466a3",
   "metadata": {},
   "source": [
    "### Gestione degli errori\n",
    "- **Validare gli input**: Assicurarsi che gli oggetti siano iterabili\n",
    "- **Gestire eccezioni**: Catturare possibili errori durante l'iterazione\n",
    "- **Evitare loop infiniti**: Sempre includere una condizione di uscita"
   ]
  },
  {
   "cell_type": "markdown",
   "id": "fed81216",
   "metadata": {},
   "source": [
    "## 🎯 Quando usare quale ciclo?\n",
    "\n",
    "### Usa `for` quando:\n",
    "- Devi iterare su una sequenza di elementi\n",
    "- Conosci il numero di iterazioni\n",
    "- Lavori con range numerici\n",
    "- Usi enumerate, zip, o altre funzioni built-in"
   ]
  },
  {
   "cell_type": "markdown",
   "id": "92efb538",
   "metadata": {},
   "source": [
    "### Usa `while` quando:\n",
    "- La condizione di terminazione è complessa\n",
    "- Non sai quante iterazioni servono\n",
    "- Implementi logic di retry o validazione\n",
    "- Gestisci input dell'utente"
   ]
  },
  {
   "cell_type": "markdown",
   "id": "5375ef3c",
   "metadata": {},
   "source": [
    "## 🔧 Debugging dei cicli\n",
    "\n",
    "### Tecniche comuni\n",
    "- **Print statements**: Stampare valori durante l'iterazione\n",
    "- **Contatori**: Tenere traccia del numero di iterazioni\n",
    "- **Breakpoint**: Usare debugger per fermare l'esecuzione\n",
    "- **Logging**: Registrare informazioni per analisi successive"
   ]
  },
  {
   "cell_type": "code",
   "execution_count": 132,
   "id": "cc09ed1f",
   "metadata": {},
   "outputs": [
    {
     "name": "stdout",
     "output_type": "stream",
     "text": [
      "=== ESEMPIO 1: Print statements ===\n",
      "Iterazione 0: numero = 1, somma attuale = 0\n",
      "  -> Nuova somma: 1\n",
      "Iterazione 1: numero = 2, somma attuale = 1\n",
      "  -> Nuova somma: 3\n",
      "Iterazione 2: numero = 3, somma attuale = 3\n",
      "  -> Nuova somma: 6\n",
      "Iterazione 3: numero = 4, somma attuale = 6\n",
      "  -> Nuova somma: 10\n",
      "Iterazione 4: numero = 5, somma attuale = 10\n",
      "  -> Nuova somma: 15\n",
      "Somma finale: 15\n",
      "\n"
     ]
    }
   ],
   "source": [
    "# ═══════════════════════════════════════════════════════════════\n",
    "# 1. PRINT STATEMENTS - Stampare valori durante l'iterazione\n",
    "# ═══════════════════════════════════════════════════════════════\n",
    "\n",
    "print(\"=== ESEMPIO 1: Print statements ===\")\n",
    "numeri = [1, 2, 3, 4, 5]\n",
    "somma = 0\n",
    "\n",
    "for i, numero in enumerate(numeri):\n",
    "    print(f\"Iterazione {i}: numero = {numero}, somma attuale = {somma}\")\n",
    "    somma += numero\n",
    "    print(f\"  -> Nuova somma: {somma}\")\n",
    "\n",
    "print(f\"Somma finale: {somma}\\n\")"
   ]
  },
  {
   "cell_type": "code",
   "execution_count": 133,
   "id": "a5e265d2",
   "metadata": {},
   "outputs": [
    {
     "name": "stdout",
     "output_type": "stream",
     "text": [
      "=== ESEMPIO 2: Debug while loop ===\n",
      "x = 10\n",
      "x = 8\n",
      "x = 6\n",
      "  -> x ha raggiunto 4, continuo...\n",
      "x = 4\n",
      "x = 2\n",
      "Fine ciclo, x = 0\n",
      "\n"
     ]
    }
   ],
   "source": [
    "# Esempio con while loop\n",
    "print(\"=== ESEMPIO 2: Debug while loop ===\")\n",
    "x = 10\n",
    "while x > 0:\n",
    "    print(f\"x = {x}\")\n",
    "    x -= 2\n",
    "    if x == 4:\n",
    "        print(\"  -> x ha raggiunto 4, continuo...\")\n",
    "print(f\"Fine ciclo, x = {x}\\n\")"
   ]
  },
  {
   "cell_type": "code",
   "execution_count": 134,
   "id": "9ad40063",
   "metadata": {},
   "outputs": [
    {
     "name": "stdout",
     "output_type": "stream",
     "text": [
      "=== ESEMPIO 3: Contatori per debug ===\n",
      "Iterazione 1: elaboro 1\n",
      "  -> Trovato positivo! Totale positivi: 1\n",
      "Iterazione 2: elaboro -2\n",
      "  -> Trovato negativo! Totale negativi: 1\n",
      "Iterazione 3: elaboro 3\n",
      "  -> Trovato positivo! Totale positivi: 2\n",
      "Iterazione 4: elaboro -4\n",
      "  -> Trovato negativo! Totale negativi: 2\n",
      "Iterazione 5: elaboro 5\n",
      "  -> Trovato positivo! Totale positivi: 3\n",
      "Iterazione 6: elaboro -6\n",
      "  -> Trovato negativo! Totale negativi: 3\n",
      "Iterazione 7: elaboro 7\n",
      "  -> Trovato positivo! Totale positivi: 4\n",
      "Statistiche finali:\n",
      "  Iterazioni totali: 7\n",
      "  Numeri positivi: 4\n",
      "  Numeri negativi: 3\n",
      "\n"
     ]
    }
   ],
   "source": [
    "# ═══════════════════════════════════════════════════════════════\n",
    "# 2. CONTATORI - Tenere traccia del numero di iterazioni\n",
    "# ═══════════════════════════════════════════════════════════════\n",
    "\n",
    "print(\"=== ESEMPIO 3: Contatori per debug ===\")\n",
    "lista = [1, -2, 3, -4, 5, -6, 7]\n",
    "positivi = 0\n",
    "negativi = 0\n",
    "iterazioni_totali = 0\n",
    "\n",
    "for numero in lista:\n",
    "    iterazioni_totali += 1\n",
    "    print(f\"Iterazione {iterazioni_totali}: elaboro {numero}\")\n",
    "    \n",
    "    if numero > 0:\n",
    "        positivi += 1\n",
    "        print(f\"  -> Trovato positivo! Totale positivi: {positivi}\")\n",
    "    else:\n",
    "        negativi += 1\n",
    "        print(f\"  -> Trovato negativo! Totale negativi: {negativi}\")\n",
    "\n",
    "print(f\"Statistiche finali:\")\n",
    "print(f\"  Iterazioni totali: {iterazioni_totali}\")\n",
    "print(f\"  Numeri positivi: {positivi}\")\n",
    "print(f\"  Numeri negativi: {negativi}\\n\")"
   ]
  },
  {
   "cell_type": "code",
   "execution_count": 135,
   "id": "6af59b36",
   "metadata": {},
   "outputs": [
    {
     "name": "stdout",
     "output_type": "stream",
     "text": [
      "=== ESEMPIO 4: Simulazione breakpoint ===\n",
      "Controllo elemento 0: 10\n",
      "Controllo elemento 1: 15\n",
      "⚠️  BREAKPOINT: Trovato numero > 10 (15)\n",
      "    Indice corrente: 1\n",
      "    Target cercato: 15\n",
      "    È il target? Sì\n",
      "✅ Target trovato all'indice 1!\n",
      "\n"
     ]
    }
   ],
   "source": [
    "# ═══════════════════════════════════════════════════════════════\n",
    "# 3. BREAKPOINT - Simulazione di debug con input\n",
    "# ═══════════════════════════════════════════════════════════════\n",
    "\n",
    "print(\"=== ESEMPIO 4: Simulazione breakpoint ===\")\n",
    "# Normalmente useresti: breakpoint() o import pdb; pdb.set_trace()\n",
    "# Qui simulo con input per scopi didattici\n",
    "\n",
    "numeri = [10, 15, 7, 23, 4]\n",
    "target = 15\n",
    "\n",
    "for i, numero in enumerate(numeri):\n",
    "    print(f\"Controllo elemento {i}: {numero}\")\n",
    "    \n",
    "    # Simulazione breakpoint - ferma e ispeziona\n",
    "    if numero > 10:\n",
    "        print(f\"⚠️  BREAKPOINT: Trovato numero > 10 ({numero})\")\n",
    "        print(f\"    Indice corrente: {i}\")\n",
    "        print(f\"    Target cercato: {target}\")\n",
    "        print(f\"    È il target? {'Sì' if numero == target else 'No'}\")\n",
    "        # input(\"Premi Enter per continuare...\") # Decommentare per pausa reale\n",
    "    \n",
    "    if numero == target:\n",
    "        print(f\"✅ Target trovato all'indice {i}!\")\n",
    "        break\n",
    "\n",
    "print()"
   ]
  },
  {
   "cell_type": "code",
   "execution_count": 136,
   "id": "166bad83",
   "metadata": {},
   "outputs": [
    {
     "name": "stdout",
     "output_type": "stream",
     "text": [
      "=== ESEMPIO 5: Logging per debug ===\n",
      "[15:21:13] INFO: Inizio elaborazione lista parole\n",
      "[15:21:13] INFO: Elaboro parola 1/4: 'python'\n",
      "[15:21:13] DEBUG: Parola lunga trovata: 'python' (lunghezza: 6)\n",
      "[15:21:13] INFO: Elaboro parola 2/4: 'debug'\n",
      "[15:21:13] DEBUG: Parola corta: 'debug' (lunghezza: 5)\n",
      "[15:21:13] INFO: Elaboro parola 3/4: 'ciclo'\n",
      "[15:21:13] DEBUG: Parola corta: 'ciclo' (lunghezza: 5)\n",
      "[15:21:13] INFO: Elaboro parola 4/4: 'esempio'\n",
      "[15:21:13] DEBUG: Parola lunga trovata: 'esempio' (lunghezza: 7)\n",
      "[15:21:13] INFO: Elaborazione completata. Trovate 2 parole lunghe\n",
      "\n",
      "=== LOG COMPLETO ===\n",
      "[15:21:13] INFO: Inizio elaborazione lista parole\n",
      "[15:21:13] INFO: Elaboro parola 1/4: 'python'\n",
      "[15:21:13] DEBUG: Parola lunga trovata: 'python' (lunghezza: 6)\n",
      "[15:21:13] INFO: Elaboro parola 2/4: 'debug'\n",
      "[15:21:13] DEBUG: Parola corta: 'debug' (lunghezza: 5)\n",
      "[15:21:13] INFO: Elaboro parola 3/4: 'ciclo'\n",
      "[15:21:13] DEBUG: Parola corta: 'ciclo' (lunghezza: 5)\n",
      "[15:21:13] INFO: Elaboro parola 4/4: 'esempio'\n",
      "[15:21:13] DEBUG: Parola lunga trovata: 'esempio' (lunghezza: 7)\n",
      "[15:21:13] INFO: Elaborazione completata. Trovate 2 parole lunghe\n",
      "\n"
     ]
    }
   ],
   "source": [
    "# ═══════════════════════════════════════════════════════════════\n",
    "# 4. LOGGING - Registrare informazioni per analisi successive\n",
    "# ═══════════════════════════════════════════════════════════════\n",
    "\n",
    "print(\"=== ESEMPIO 5: Logging per debug ===\")\n",
    "import datetime\n",
    "\n",
    "# Simulazione di un log semplice\n",
    "log_entries = []\n",
    "\n",
    "# Esempio di ciclo con logging\n",
    "parole = [\"python\", \"debug\", \"ciclo\", \"esempio\"]\n",
    "parole_lunghe = []\n",
    "\n",
    "# Aggiungo entry al log manualmente\n",
    "timestamp = datetime.datetime.now().strftime(\"%H:%M:%S\")\n",
    "entry = f\"[{timestamp}] INFO: Inizio elaborazione lista parole\"\n",
    "log_entries.append(entry)\n",
    "print(entry)\n",
    "\n",
    "for i, parola in enumerate(parole):\n",
    "    # Log per ogni parola elaborata\n",
    "    timestamp = datetime.datetime.now().strftime(\"%H:%M:%S\")\n",
    "    entry = f\"[{timestamp}] INFO: Elaboro parola {i+1}/{len(parole)}: '{parola}'\"\n",
    "    log_entries.append(entry)\n",
    "    print(entry)\n",
    "    \n",
    "    if len(parola) > 5:\n",
    "        parole_lunghe.append(parola)\n",
    "        # Log per parola lunga\n",
    "        timestamp = datetime.datetime.now().strftime(\"%H:%M:%S\")\n",
    "        entry = f\"[{timestamp}] DEBUG: Parola lunga trovata: '{parola}' (lunghezza: {len(parola)})\"\n",
    "        log_entries.append(entry)\n",
    "        print(entry)\n",
    "    else:\n",
    "        # Log per parola corta\n",
    "        timestamp = datetime.datetime.now().strftime(\"%H:%M:%S\")\n",
    "        entry = f\"[{timestamp}] DEBUG: Parola corta: '{parola}' (lunghezza: {len(parola)})\"\n",
    "        log_entries.append(entry)\n",
    "        print(entry)\n",
    "\n",
    "# Log finale\n",
    "timestamp = datetime.datetime.now().strftime(\"%H:%M:%S\")\n",
    "entry = f\"[{timestamp}] INFO: Elaborazione completata. Trovate {len(parole_lunghe)} parole lunghe\"\n",
    "log_entries.append(entry)\n",
    "print(entry)\n",
    "\n",
    "print(\"\\n=== LOG COMPLETO ===\")\n",
    "for entry in log_entries:\n",
    "    print(entry)\n",
    "\n",
    "print()"
   ]
  },
  {
   "cell_type": "markdown",
   "id": "e2742132",
   "metadata": {},
   "source": [
    "### Errori frequenti\n",
    "- **IndexError**: Accesso a indici non validi\n",
    "- **KeyError**: Accesso a chiavi inesistenti nei dizionari\n",
    "- **TypeError**: Tentativo di iterare su oggetti non iterabili\n",
    "- **Loop infiniti**: Condizioni che non cambiano mai"
   ]
  },
  {
   "cell_type": "code",
   "execution_count": 137,
   "id": "75d6e3ce",
   "metadata": {},
   "outputs": [
    {
     "name": "stdout",
     "output_type": "stream",
     "text": [
      "=== ESEMPIO 1: Range troppo grande ===\n",
      "Lista: [10, 20, 30, 40, 50]\n",
      "Lunghezza: 5\n",
      "Indici validi: da 0 a 4\n",
      "\n",
      "Versione CORRETTA:\n",
      "Indice 0: 10\n",
      "Indice 1: 20\n",
      "Indice 2: 30\n",
      "Indice 3: 40\n",
      "Indice 4: 50\n",
      "\n"
     ]
    }
   ],
   "source": [
    "# ═══════════════════════════════════════════════════════════════\n",
    "# ESEMPIO 1: Errore classico - range troppo grande\n",
    "# ═══════════════════════════════════════════════════════════════\n",
    "\n",
    "print(\"=== ESEMPIO 1: Range troppo grande ===\")\n",
    "\n",
    "numeri = [10, 20, 30, 40, 50]\n",
    "print(f\"Lista: {numeri}\")\n",
    "print(f\"Lunghezza: {len(numeri)}\")\n",
    "print(f\"Indici validi: da 0 a {len(numeri)-1}\")\n",
    "\n",
    "# SBAGLIATO - questo causa errore!\n",
    "#print(\"\\nTentativo SBAGLIATO:\")\n",
    "#for i in range(6):  # Va da 0 a 5, ma la lista ha indici 0-4\n",
    "#    print(f\"Indice {i}: {numeri[i]}\")\n",
    "\n",
    "# CORRETTO\n",
    "print(\"\\nVersione CORRETTA:\")\n",
    "for i in range(len(numeri)):  # Va da 0 a 4\n",
    "    print(f\"Indice {i}: {numeri[i]}\")\n",
    "\n",
    "print()"
   ]
  },
  {
   "cell_type": "code",
   "execution_count": 138,
   "id": "68fe1d5e",
   "metadata": {},
   "outputs": [
    {
     "name": "stdout",
     "output_type": "stream",
     "text": [
      "Tentativo di iterare su oggetti non iterabili:\n"
     ]
    }
   ],
   "source": [
    "# ═══════════════════════════════════════════════════════════════\n",
    "# 3. TYPEERROR - Tentativo di iterare su oggetti non iterabili\n",
    "# ═══════════════════════════════════════════════════════════════\n",
    "\n",
    "# Esempi di oggetti non iterabili\n",
    "numero = 42\n",
    "booleano = True\n",
    "nessuno = None\n",
    "\n",
    "print(\"Tentativo di iterare su oggetti non iterabili:\")\n",
    "\n",
    "# SBAGLIATO - questi causerebbero TypeError\n",
    "oggetti_non_iterabili = [numero, booleano, nessuno]\n",
    "nomi_oggetti = [\"numero\", \"booleano\", \"None\"]\n",
    "\n",
    "#for obj, nome in zip(oggetti_non_iterabili, nomi_oggetti):\n",
    "#    print(f\"\\nTentativo di iterare su {nome} ({obj}):\")\n",
    "#    for item in obj:\n",
    "#        print(item)"
   ]
  },
  {
   "cell_type": "markdown",
   "id": "84d2d791",
   "metadata": {},
   "source": [
    "## ✅ Conclusioni\n",
    "\n",
    "In questo notebook abbiamo esplorato in profondità il mondo dei **cicli** in Python, uno strumento essenziale per scrivere codice efficiente e leggibile.\n",
    "\n",
    "Abbiamo imparato:\n",
    "\n",
    "- A comprendere **perché** e **quando** usare i cicli per automatizzare operazioni ripetitive e lavorare con insiemi di dati\n",
    "- La differenza tra i due principali tipi di ciclo in Python: **`for` loop** e **`while` loop**, e i contesti d’uso ideali per ciascuno\n",
    "- Come funziona il ciclo `for` **dietro le quinte**, tramite iteratori e la funzione `next()`\n",
    "- A utilizzare la funzione **`range()`** per generare sequenze numeriche e iterare su di esse\n",
    "- A iterare su oggetti come **liste**, **tuple**, **stringhe**, **set** e **dizionari**, sfruttando anche il concetto di **unpacking**\n",
    "- L'uso avanzato delle funzioni **`enumerate()`** e **`zip()`** per iterazioni più ricche e leggibili\n",
    "- Come strutturare un ciclo `while` e i pattern più comuni d’uso, facendo attenzione ai **loop infiniti**\n",
    "- I meccanismi di controllo del flusso con le istruzioni **`break`**, **`continue`**, e la clausola **`else`** nei cicli\n",
    "- L'importanza e le considerazioni sulle **performance** nell'uso di cicli annidati\n",
    "- Come sfruttare le funzioni **`any()`** e **`all()`** per controlli rapidi e leggibili sugli elementi iterati\n",
    "- Le **best practices** per scrivere cicli più leggibili, sicuri ed efficienti\n",
    "- Tecniche di **debugging** utili per identificare e risolvere errori comuni nei cicli\n",
    "\n",
    "💡 I cicli sono uno strumento potente e indispensabile per affrontare problemi di ogni complessità.\n",
    "\n",
    "➡️ Continua con gli esercizi o il prossimo capitolo per mettere in pratica quanto appreso!\n",
    "\n",
    "<a href=\"https://colab.research.google.com/github/lorenzo-arcioni/programmazione-python-base/blob/main/Capitolo4_Decisioni_e_Cicli/4_Esercizi.ipynb\" target=\"_blank\"><img src=\"https://colab.research.google.com/assets/colab-badge.svg\" alt=\"Open In Colab\"/></a>"
   ]
  }
 ],
 "metadata": {
  "kernelspec": {
   "display_name": "datas",
   "language": "python",
   "name": "python3"
  },
  "language_info": {
   "codemirror_mode": {
    "name": "ipython",
    "version": 3
   },
   "file_extension": ".py",
   "mimetype": "text/x-python",
   "name": "python",
   "nbconvert_exporter": "python",
   "pygments_lexer": "ipython3",
   "version": "3.10.13"
  }
 },
 "nbformat": 4,
 "nbformat_minor": 5
}
