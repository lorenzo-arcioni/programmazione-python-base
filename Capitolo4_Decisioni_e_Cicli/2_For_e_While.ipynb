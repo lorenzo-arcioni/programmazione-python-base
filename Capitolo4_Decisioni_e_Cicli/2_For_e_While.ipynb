{
 "cells": [
  {
   "cell_type": "markdown",
   "id": "589a5c55",
   "metadata": {},
   "source": [
    "# 🔁 Cicli in Python\n",
    "\n",
    "I cicli sono uno degli strumenti più potenti nella programmazione, permettendo di automatizzare processi ripetitivi e gestire operazioni complesse in modo efficiente. In Python, l’uso corretto dei cicli non solo migliora la leggibilità del codice, ma ne aumenta anche la manutenibilità e la scalabilità. Sono uno strumento fondamentale per evitare **ripetizioni inutili** nel codice e per risolvere problemi che richiedono **iterazione**, come ad esempio:\n",
    "\n",
    "- stampare i numeri da 1 a 100,\n",
    "- calcolare la somma degli elementi in una lista,\n",
    "- elaborare una sequenza di dati elemento per elemento,\n",
    "- chiedere ripetutamente un input valido all’utente.\n",
    "\n",
    "## 📜 Perché Usare i Cicli?\n",
    "\n",
    "- **Eliminare la ridondanza**: Evitare di scrivere codice ripetuto manualmente.\n",
    "- **Gestione dinamica dei dati**: Lavorare con insiemi di dati di dimensioni variabili.\n",
    "- **Automazione**: Eseguire task complessi senza intervento umano (es. analisi dati, scraping web).\n",
    "- **Controllo di flusso**: Gestire scenari dove il numero di iterazioni dipende da condizioni runtime.\n",
    "\n",
    "## 🧭 Tipi di cicli in Python\n",
    "\n",
    "In Python esistono due principali tipi di ciclo:\n",
    "\n",
    "1. **`for` loop**: quando sappiamo **quante volte** vogliamo ripetere un blocco di codice (iterazione su una sequenza).\n",
    "2. **`while` loop**: quando vogliamo ripetere il blocco **finché** una certa condizione è vera."
   ]
  },
  {
   "cell_type": "markdown",
   "id": "69e8d869",
   "metadata": {},
   "source": [
    "## 🔁 Oggetti Iterabili in Python\n",
    "\n",
    "In Python, un **oggetto iterabile** è un oggetto che può essere attraversato (cioè, iterato) elemento per elemento. Un iterabile è qualcosa che può **fornire un elemento alla volta** quando usato in un ciclo `for` o quando passato a funzioni come `list()`, `tuple()`, `set()` ecc.\n",
    "\n",
    "Gli oggetti iterabili sono fondamentali nella programmazione Python e rappresentano una delle basi per lavorare con cicli, liste, generatori e molto altro.\n",
    "\n",
    "### 🔹 Esempi di oggetti iterabili:\n",
    "\n",
    "- Liste (`list`)\n",
    "- Tuple (`tuple`)\n",
    "- Stringhe (`str`)\n",
    "- Dizionari (`dict`)\n",
    "- Insiemi (`set`)\n",
    "- Oggetti restituiti da funzioni come `range()`, `zip()`, `map()`, `filter()`, ecc.\n",
    "\n",
    "Un iterabile è un oggetto che **implementa il metodo speciale `__iter__()`**, il quale restituisce un oggetto chiamato **iteratore**.\n",
    "\n",
    "Un iteratore, a sua volta, implementa il metodo `__next__()`, che permette di ottenere il prossimo elemento nella sequenza.\n",
    "\n",
    "### 🔍 Come riconoscere un oggetto iterabile\n",
    "\n",
    "Un modo semplice per verificare se un oggetto è iterabile è provare a usarlo in un ciclo `for`, oppure usare la funzione `iter()` su di esso. Se non è iterabile, Python solleverà un errore `TypeError`.\n",
    "\n",
    "### Funzioni built-in per gli iterabili\n",
    "   sum, min, max, any, all, "
   ]
  },
  {
   "cell_type": "markdown",
   "id": "a97d58a6",
   "metadata": {},
   "source": [
    "### 🧠 Cosa succede dietro le quinte?\n",
    "\n",
    "Quando scriviamo un ciclo `for` come il seguente:\n",
    "\n",
    "```python\n",
    "for elemento in sequenza:\n",
    "    ...\n",
    "```\n",
    "\n",
    "Python internamente esegue le seguenti operazioni:\n",
    "\n",
    "1. Chiama iter(sequenza) per ottenere un iteratore.\n",
    "2. Chiama next() su quell’iteratore per ottenere il prossimo elemento.\n",
    "3. Ripete finché non viene sollevata un’eccezione StopIteration, che segnala la fine dell’iterazione.\n",
    "\n",
    "#### 🧪 Verifica manuale\n",
    "\n",
    "Possiamo simulare manualmente questo processo usando iter() e next()."
   ]
  },
  {
   "cell_type": "code",
   "execution_count": null,
   "id": "173b7134",
   "metadata": {},
   "outputs": [],
   "source": [
    "# Simulazione del ciclo for usando iter() e next()\n",
    "numeri = [1, 2, 3]\n",
    "iteratore = iter(numeri)  # Otteniamo un oggetto iteratore\n",
    "\n",
    "print(next(iteratore))  # 1\n",
    "print(next(iteratore))  # 2\n",
    "print(next(iteratore))  # 3\n",
    "\n",
    "# La prossima chiamata a next() genererà un'eccezione StopIteration\n",
    "# print(next(iteratore))  # decommentare per vedere l'errore"
   ]
  },
  {
   "cell_type": "markdown",
   "id": "97e3c031",
   "metadata": {},
   "source": [
    "### 📌 Tutto ciò che è iterabile non è necessariamente un iteratore\n",
    "\n",
    "È importante distinguere tra **iterabile** e **iteratore**:\n",
    "\n",
    "- Un **iterabile** può essere trasformato in un iteratore usando `iter()`.\n",
    "- Un **iteratore** è un oggetto che implementa `__next__()` e può essere consumato passo dopo passo.\n",
    "\n",
    "Ogni volta che chiamiamo `iter()` su un iterabile, otteniamo un **nuovo iteratore indipendente**. Tuttavia, un iteratore è **esauribile**: una volta che ha restituito tutti i suoi elementi, non può essere riutilizzato."
   ]
  },
  {
   "cell_type": "code",
   "execution_count": null,
   "id": "b3cd603d",
   "metadata": {},
   "outputs": [],
   "source": [
    "# Differenza tra iterabile e iteratore\n",
    "testo = \"ciao\"\n",
    "iterabile = testo           # Una stringa è iterabile\n",
    "iteratore = iter(testo)     # Otteniamo un iteratore\n",
    "\n",
    "print(next(iteratore))  # 'c'\n",
    "print(next(iteratore))  # 'i'"
   ]
  },
  {
   "cell_type": "markdown",
   "id": "78d8ab49",
   "metadata": {},
   "source": [
    "## Ciclo `for`\n",
    "\n",
    "```python\n",
    "for variabile in sequenza:\n",
    "    # blocco di codice da ripetere\n",
    "```"
   ]
  },
  {
   "cell_type": "markdown",
   "id": "86dea262",
   "metadata": {},
   "source": []
  }
 ],
 "metadata": {
  "kernelspec": {
   "display_name": "datas",
   "language": "python",
   "name": "python3"
  },
  "language_info": {
   "name": "python",
   "version": "3.10.13"
  }
 },
 "nbformat": 4,
 "nbformat_minor": 5
}
