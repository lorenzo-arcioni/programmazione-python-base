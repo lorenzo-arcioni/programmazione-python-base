{
 "cells": [
  {
   "cell_type": "markdown",
   "id": "72616478",
   "metadata": {},
   "source": [
    "<a href=\"https://colab.research.google.com/github/lorenzo-arcioni/programmazione-python-base/blob/main/Capitolo3_Decisioni/1_If_statement.ipynb\" target=\"_blank\"><img src=\"https://colab.research.google.com/assets/colab-badge.svg\" alt=\"Open In Colab\"/></a>\n",
    "\n",
    "# 🧠 Decisioni in Python\n",
    "\n",
    "Le **decisioni** permettono al programma di **scegliere** tra due o più azioni in base a una **condizione logica**.\n",
    "\n",
    "Questo è un concetto fondamentale nella programmazione: molte volte, vogliamo che il nostro programma si comporti in modo diverso a seconda dei **dati in ingresso**, dello **stato del sistema**, o di qualsiasi altra **situazione contingente**.\n",
    "\n",
    "Ad esempio:\n",
    "- Se l'utente ha inserito una password corretta, possiamo farlo accedere. Mentre se l'utente ha inserito una password sbagliata, possiamo mostrare un messaggio di errore.\n",
    "- Se una temperatura è sopra una certa soglia, possiamo inviare un allarme.\n",
    "- Se un numero è pari o dispari, possiamo decidere un'azione diversa.\n",
    "\n",
    "## 🔁 Control Flow: il flusso di controllo\n",
    "\n",
    "Le decisioni fanno parte di un insieme più ampio chiamato **control-flow statements**. Il **flusso di controllo** (in inglese *control flow*) è il percorso che il programma segue durante la sua esecuzione.\n",
    "\n",
    "In Python (e in tutti i linguaggi di programmazione), possiamo controllare il flusso di esecuzione del codice tramite tre principali costrutti:\n",
    "1. **Sequenza**: le istruzioni vengono eseguite una dopo l'altra, in ordine.\n",
    "2. **Decisioni (condizionali)**: eseguiamo blocchi di codice solo se una certa condizione è vera.\n",
    "3. **Cicli (iterazioni)**: ripetiamo blocchi di codice finché una condizione è vera o per un certo numero di volte.\n",
    "\n",
    "Questo capitolo si concentra sul secondo punto: le **decisioni** tramite le istruzioni `if`, `elif` ed `else`.\n",
    "\n",
    "Imparare a controllare il flusso del programma è essenziale per scrivere codice che **risponda in modo intelligente** alle diverse situazioni e che sia **adattabile**, **efficiente** e **leggibile**.\n",
    "\n",
    "### 🔢 Operatori di confronto\n",
    "\n",
    "Gli **operatori di confronto** sono usati per confrontare due valori. Le espressioni che li utilizzano restituiscono sempre un valore booleano: `True` se la condizione è vera, `False` altrimenti.\n",
    "\n",
    "Sono fondamentali per esprimere condizioni all'interno di costrutti come `if`.\n",
    "\n",
    "| Operatore | Significato       | Esempio            |\n",
    "|-----------|-------------------|--------------------|\n",
    "| `==`      | Uguale            | $5 == 5$ → `True`  |\n",
    "| `!=`      | Diverso           | $4\\ \\text{!=} \\ 3$ → `True`  |\n",
    "| `<`       | Minore            | $2 < 5$ → `True`   |\n",
    "| `>`       | Maggiore          | $5 > 2$ → `True`   |\n",
    "| `<=`      | Minore o uguale   | $3 <= 3$ → `True`  |\n",
    "| `>=`      | Maggiore o uguale | $6 >= 7$ → `False` |"
   ]
  },
  {
   "cell_type": "markdown",
   "id": "3ead3583",
   "metadata": {},
   "source": [
    "## ✅ Il costrutto `if`\n",
    "\n",
    "Il costrutto `if` è il modo più semplice e diretto per prendere una decisione in Python.\n",
    "\n",
    "La sintassi generale è:\n",
    "\n",
    "```python\n",
    "if condizione: \n",
    "    blocco di codice indentato\n",
    "```\n",
    "\n",
    "Python valuta la **condizione** (che è un'espressione booleana) e, **se il risultato è `True`**, esegue il blocco di codice sottostante. In caso contrario, lo **salta**.\n",
    "\n",
    "### 🔍 Esempio semplice"
   ]
  },
  {
   "cell_type": "code",
   "execution_count": 8,
   "id": "76004384",
   "metadata": {},
   "outputs": [
    {
     "data": {
      "text/plain": [
       "True"
      ]
     },
     "execution_count": 8,
     "metadata": {},
     "output_type": "execute_result"
    }
   ],
   "source": [
    "5 > 3"
   ]
  },
  {
   "cell_type": "code",
   "execution_count": 9,
   "id": "a431fbd3",
   "metadata": {},
   "outputs": [
    {
     "name": "stdout",
     "output_type": "stream",
     "text": [
      "È vero!\n"
     ]
    }
   ],
   "source": [
    "if 5 > 3:\n",
    "    print(\"È vero!\")"
   ]
  },
  {
   "cell_type": "markdown",
   "id": "09a9cf27",
   "metadata": {},
   "source": [
    "Poiché $5 > 3$ è una condizione vera, l'istruzione `print` verrà eseguita. Al contrario:"
   ]
  },
  {
   "cell_type": "code",
   "execution_count": 10,
   "id": "d7cbf924",
   "metadata": {},
   "outputs": [
    {
     "data": {
      "text/plain": [
       "False"
      ]
     },
     "execution_count": 10,
     "metadata": {},
     "output_type": "execute_result"
    }
   ],
   "source": [
    "7 < 2"
   ]
  },
  {
   "cell_type": "code",
   "execution_count": 11,
   "id": "6b64372f",
   "metadata": {},
   "outputs": [],
   "source": [
    "if 7 < 2:\n",
    "    print(\"È vero!\")"
   ]
  },
  {
   "cell_type": "markdown",
   "id": "1d98ce63",
   "metadata": {},
   "source": [
    "\n",
    "### ℹ️ Note importanti\n",
    "\n",
    "- Il blocco di codice **deve essere indentato** (generalmente con 4 spazi): l'indentazione è fondamentale in Python e definisce i blocchi logici di codice.\n",
    "- La **condizione** deve restituire un valore booleano (`True` o `False`). Può essere una semplice espressione confrontando numeri, stringhe, variabili, o anche combinazioni più complesse.\n",
    "- Quando siamo in presenza di una singola istruzione dopo l'`if`, è possibile scriverla anche senza l'indentazione:\n",
    "\n",
    "```python\n",
    "if condizione: unica istruzione\n",
    "```\n",
    "\n",
    "### ✅ Esempi di condizioni valide"
   ]
  },
  {
   "cell_type": "code",
   "execution_count": 12,
   "id": "5b06bee9",
   "metadata": {},
   "outputs": [
    {
     "name": "stdout",
     "output_type": "stream",
     "text": [
      "x è uguale a 10\n",
      "Ciao Alice!\n",
      "Che caldo!\n",
      "È maggiorenne\n",
      "È Italiano\n"
     ]
    }
   ],
   "source": [
    "x = 10\n",
    "nome = \"Alice\"\n",
    "temperatura = 35\n",
    "eta = 20\n",
    "cittadinanza = \"IT\"\n",
    "\n",
    "if x == 10:\n",
    "    print(\"x è uguale a 10\")\n",
    "\n",
    "if nome == \"Alice\":\n",
    "    print(\"Ciao Alice!\")\n",
    "\n",
    "if temperatura > 30:\n",
    "    print(\"Che caldo!\")\n",
    "\n",
    "if eta >= 18:\n",
    "    print(\"È maggiorenne\")\n",
    "\n",
    "if cittadinanza != \"IT\":\n",
    "    print(\"Non è Italiano\")\n",
    "\n",
    "if cittadinanza == \"IT\": print(\"È Italiano\")"
   ]
  },
  {
   "cell_type": "markdown",
   "id": "8699038e",
   "metadata": {},
   "source": [
    "### ➕ Clausola `else`\n",
    "\n",
    "Serve a specificare un blocco di codice da eseguire **quando la condizione è falsa**.\n",
    "\n",
    "```python\n",
    "if condizione:\n",
    "    Blocco A\n",
    "else:\n",
    "    Blocco B\n",
    "```\n",
    "\n",
    "Quindi, quando `condizione` ritorna il valore booleano `False`, il **Blocco A** non viene eseguito, mentre il **Blocco B** si!\n",
    "\n",
    "Esempio:"
   ]
  },
  {
   "cell_type": "code",
   "execution_count": 13,
   "id": "b06ce9aa",
   "metadata": {},
   "outputs": [
    {
     "name": "stdout",
     "output_type": "stream",
     "text": [
      "È falso\n"
     ]
    }
   ],
   "source": [
    "if 10 < 5: \n",
    "    print(\"È vero\")\n",
    "else: \n",
    "    print(\"È falso\")"
   ]
  },
  {
   "cell_type": "markdown",
   "id": "7217813f",
   "metadata": {},
   "source": [
    "### 🔁 Clausola `elif`\n",
    "\n",
    "Serve per testare **più condizioni diverse**:\n",
    "\n",
    "```python\n",
    "if condizione1:\n",
    "    Blocco A\n",
    "elif condizione2:\n",
    "    Blocco B\n",
    "elif condizione3:\n",
    "    Blocco C\n",
    "else:\n",
    "    Blocco D\n",
    "```\n",
    "\n",
    "Quindi, Python esamina le condizioni **una alla volta**:\n",
    "\n",
    "1. Se `condizione1` è vera, esegue **solo il Blocco A** e ignora tutto il resto.\n",
    "2. Se `condizione1` è falsa ma `condizione2` è vera, esegue il **Blocco B**, e così via.\n",
    "3. L'`else` finale è **opzionale**, e viene eseguito solo se **tutte le condizioni precedenti sono false**.\n",
    "\n",
    "✅ È utile quando vuoi controllare **casi distinti**, come ad esempio valutare un voto:"
   ]
  },
  {
   "cell_type": "code",
   "execution_count": 14,
   "id": "00ada165",
   "metadata": {},
   "outputs": [
    {
     "name": "stdout",
     "output_type": "stream",
     "text": [
      "Buono\n"
     ]
    }
   ],
   "source": [
    "voto = 85\n",
    "\n",
    "if voto >= 90:\n",
    "    print(\"Ottimo\")\n",
    "elif voto >= 75:\n",
    "    print(\"Buono\")\n",
    "elif voto >= 60:\n",
    "    print(\"Sufficiente\")\n",
    "else:\n",
    "    print(\"Insufficiente\")"
   ]
  },
  {
   "cell_type": "markdown",
   "id": "f9ec7ce9",
   "metadata": {},
   "source": [
    "In questo esempio, il programma stampa `\"Buono\"` perché `85 >= 75` è la prima condizione vera."
   ]
  },
  {
   "cell_type": "markdown",
   "id": "29631245",
   "metadata": {},
   "source": [
    "## 🔗 Operatori logici\n",
    "\n",
    "Gli **operatori logici** permettono di combinare più condizioni insieme per costruire espressioni complesse.\n",
    "\n",
    "- `cond1 and cond2` → Restituisce `True` solo se **entrambe** le condizioni sono vere.\n",
    "- `cond1 or cond2` → Restituisce `True` se **almeno una** delle due condizioni è vera.\n",
    "- `not cond` → Inverte il valore logico: se `cond` è `True`, diventa `False`, e viceversa.\n",
    "\n",
    "Questi operatori vengono spesso usati insieme agli `if` per prendere decisioni basate su **più condizioni**.\n",
    "\n",
    "Attenzione alla **precedenza degli operatori**:\n",
    "- `not` ha la precedenza più alta,\n",
    "- seguito da `and`,\n",
    "- e infine `or`.\n",
    "\n",
    "### 📊 Tabella della verità per gli operatori logici\n",
    "\n",
    "In queste tabelle vediamo come si comportano gli operatori logici `not`, `and` e `or` a seconda dei valori booleani delle condizioni coinvolte. Sono fondamentali per costruire condizioni complesse nei blocchi decisionali (`if`, `elif`, `while`, ecc.).\n",
    "\n",
    "Gli operatori logici restituiscono sempre un valore booleano (`True` o `False`) e seguono le regole della logica proposizionale.\n",
    "\n",
    "Nelle tabelle, `A` e `B` sono condizioni con valore booleano.\n",
    "\n",
    "#### 🔹 Operatore `not`\n",
    "\n",
    "L'operatore `not` **nega** il valore della condizione: se è `True`, diventa `False` e viceversa.\n",
    "\n",
    "| `A`     | `not A` |\n",
    "|---------|---------|\n",
    "| `True`  | `False` |\n",
    "| `False` | `True`  |\n",
    "\n",
    "#### 🔸 Operatore `and`\n",
    "\n",
    "L'operatore `and` restituisce `True` **solo se entrambe le condizioni** sono vere. Se anche solo una è falsa, il risultato è `False`.\n",
    "\n",
    "| `A`     | `B`     | `A and B` |\n",
    "|---------|---------|-----------|\n",
    "| `True`  | `True`  | `True`    |\n",
    "| `True`  | `False` | `False`   |\n",
    "| `False` | `True`  | `False`   |\n",
    "| `False` | `False` | `False`   |\n",
    "\n",
    "#### 🔸 Operatore `or`\n",
    "\n",
    "L'operatore `or` restituisce `True` **se almeno una** delle condizioni è vera. Restituisce `False` solo se **entrambe** sono false.\n",
    "\n",
    "| `A`     | `B`     | `A or B` |\n",
    "|---------|---------|----------|\n",
    "| `True`  | `True`  | `True`   |\n",
    "| `True`  | `False` | `True`   |\n",
    "| `False` | `True`  | `True`   |\n",
    "| `False` | `False` | `False`  |\n",
    "\n",
    "Queste tabelle aiutano a prevedere il comportamento del programma quando si usano condizioni multiple. È buona pratica usare le parentesi per rendere più chiara la priorità delle operazioni logiche, anche se Python segue delle regole precise su quali operatori vengono valutati prima.\n",
    "\n",
    "Vediamo subito un esempio!"
   ]
  },
  {
   "cell_type": "code",
   "execution_count": 15,
   "id": "7471f258",
   "metadata": {},
   "outputs": [
    {
     "name": "stdout",
     "output_type": "stream",
     "text": [
      "Può votare in Italia\n"
     ]
    }
   ],
   "source": [
    "# AND: entrambe le condizioni devono essere vere\n",
    "eta = 25\n",
    "cittadinanza = \"IT\"\n",
    "\n",
    "if eta >= 18 and cittadinanza == \"IT\":\n",
    "    print(\"Può votare in Italia\")"
   ]
  },
  {
   "cell_type": "code",
   "execution_count": 16,
   "id": "62f53a32",
   "metadata": {},
   "outputs": [
    {
     "name": "stdout",
     "output_type": "stream",
     "text": [
      "Accesso consentito\n"
     ]
    }
   ],
   "source": [
    "# OR: almeno una delle condizioni deve essere vera\n",
    "username = \"admin\"\n",
    "is_superuser = False\n",
    "\n",
    "if username == \"admin\" or is_superuser:\n",
    "    print(\"Accesso consentito\")"
   ]
  },
  {
   "cell_type": "code",
   "execution_count": 17,
   "id": "39ddef54",
   "metadata": {},
   "outputs": [
    {
     "name": "stdout",
     "output_type": "stream",
     "text": [
      "Utente non registrato\n"
     ]
    }
   ],
   "source": [
    "# NOT: inverte il valore logico\n",
    "registrato = False\n",
    "\n",
    "if not registrato:\n",
    "    print(\"Utente non registrato\")"
   ]
  },
  {
   "cell_type": "code",
   "execution_count": 18,
   "id": "7e4c6e1d",
   "metadata": {},
   "outputs": [
    {
     "name": "stdout",
     "output_type": "stream",
     "text": [
      "Né x < 5 né y > 10\n"
     ]
    }
   ],
   "source": [
    "x = 10\n",
    "y = 5\n",
    "z = 8\n",
    "\n",
    "# Esempio 1: entrambe le condizioni devono essere false per entrare\n",
    "if not (x < 5 or y > 10):\n",
    "    print(\"Né x < 5 né y > 10\")"
   ]
  },
  {
   "cell_type": "code",
   "execution_count": 19,
   "id": "ec1c9116",
   "metadata": {},
   "outputs": [
    {
     "name": "stdout",
     "output_type": "stream",
     "text": [
      "Entrambe sono vere\n"
     ]
    }
   ],
   "source": [
    "# Esempio 2: almeno una delle due condizioni interne è vera, ma viene negata\n",
    "if not (x == 10 and z > 5):\n",
    "    print(\"Almeno una tra x == 10 e z > 5 è falsa\")\n",
    "else:\n",
    "    print(\"Entrambe sono vere\")"
   ]
  },
  {
   "cell_type": "code",
   "execution_count": 20,
   "id": "26e3fd90",
   "metadata": {},
   "outputs": [
    {
     "name": "stdout",
     "output_type": "stream",
     "text": [
      "La prima coppia di condizioni è vera, oppure z è 8\n"
     ]
    }
   ],
   "source": [
    "# Esempio 3: combinazione di and e or con parentesi\n",
    "if (x > 5 and y < 10) or (z == 8):\n",
    "    print(\"La prima coppia di condizioni è vera, oppure z è 8\")\n"
   ]
  },
  {
   "cell_type": "code",
   "execution_count": 21,
   "id": "85a42807",
   "metadata": {},
   "outputs": [
    {
     "name": "stdout",
     "output_type": "stream",
     "text": [
      "x è 10 e y non è 3\n"
     ]
    }
   ],
   "source": [
    "# Esempio 4: uso di not all'interno di una combinazione\n",
    "if (x == 10 and not y == 3):\n",
    "    print(\"x è 10 e y non è 3\")"
   ]
  },
  {
   "cell_type": "code",
   "execution_count": 22,
   "id": "7d875872",
   "metadata": {},
   "outputs": [
    {
     "name": "stdout",
     "output_type": "stream",
     "text": [
      "L'intera espressione tra parentesi è falsa\n"
     ]
    }
   ],
   "source": [
    "# Esempio 5: negazione di un'espressione complessa\n",
    "if not ((x < y) or (z != 8 and x > 5)):\n",
    "    print(\"L'intera espressione tra parentesi è falsa\")"
   ]
  },
  {
   "cell_type": "code",
   "execution_count": 23,
   "id": "9c227cc8",
   "metadata": {},
   "outputs": [
    {
     "name": "stdout",
     "output_type": "stream",
     "text": [
      "x > 5 e almeno una tra y < 10 o z == 8 è vera\n"
     ]
    }
   ],
   "source": [
    "# Esempio 6: condizioni annidate per maggiore chiarezza\n",
    "if (x > 5 and (y < 10 or z == 8)):\n",
    "    print(\"x > 5 e almeno una tra y < 10 o z == 8 è vera\")"
   ]
  },
  {
   "cell_type": "markdown",
   "id": "2644b91c",
   "metadata": {},
   "source": [
    "### 🔗 Confronti concatenati\n",
    "\n",
    "In Python è possibile concatenare più confronti in un'unica espressione, proprio come in matematica. Ad esempio:\n",
    "\n",
    "- $4 < 6 < 8$, che equivale a: $(4 < 6)\\ \\text{and}\\ (6 < 8)$ → entrambe le condizioni devono essere vere.\n",
    "\n",
    "Questa scrittura è più leggibile e Python la interpreta nel modo matematicamente corretto."
   ]
  },
  {
   "cell_type": "code",
   "execution_count": 24,
   "id": "1523103c",
   "metadata": {},
   "outputs": [
    {
     "data": {
      "text/plain": [
       "True"
      ]
     },
     "execution_count": 24,
     "metadata": {},
     "output_type": "execute_result"
    }
   ],
   "source": [
    "4 < 6 < 8"
   ]
  },
  {
   "cell_type": "code",
   "execution_count": 25,
   "id": "c80a8245",
   "metadata": {},
   "outputs": [
    {
     "data": {
      "text/plain": [
       "False"
      ]
     },
     "execution_count": 25,
     "metadata": {},
     "output_type": "execute_result"
    }
   ],
   "source": [
    "4 < 60 < 8"
   ]
  },
  {
   "cell_type": "code",
   "execution_count": 26,
   "id": "fecdbb49",
   "metadata": {},
   "outputs": [
    {
     "name": "stdout",
     "output_type": "stream",
     "text": [
      "x è compreso tra 4 e 8 (esclusi)\n",
      "x è compreso tra 4 e 8 (esclusi) - versione con and\n"
     ]
    }
   ],
   "source": [
    "# Esempio di confronti concatenati in Python\n",
    "x = 6\n",
    "\n",
    "if 4 < x < 8:\n",
    "    print(\"x è compreso tra 4 e 8 (esclusi)\")\n",
    "\n",
    "# Questo è equivalente a scrivere:\n",
    "if 4 < x and x < 8:\n",
    "    print(\"x è compreso tra 4 e 8 (esclusi) - versione con and\")"
   ]
  },
  {
   "cell_type": "code",
   "execution_count": 27,
   "id": "415f268e",
   "metadata": {},
   "outputs": [
    {
     "name": "stdout",
     "output_type": "stream",
     "text": [
      "a è minore o uguale a b, che è minore o uguale a c\n"
     ]
    }
   ],
   "source": [
    "# Altri esempi con confronti concatenati\n",
    "a = 3\n",
    "b = 5\n",
    "c = 7\n",
    "\n",
    "if a <= b <= c:\n",
    "    print(\"a è minore o uguale a b, che è minore o uguale a c\")"
   ]
  },
  {
   "cell_type": "code",
   "execution_count": 28,
   "id": "43da66c2",
   "metadata": {},
   "outputs": [
    {
     "name": "stdout",
     "output_type": "stream",
     "text": [
      "x non è compreso tra 3 e 7\n"
     ]
    }
   ],
   "source": [
    "# Uso del not con confronti concatenati\n",
    "x = 10\n",
    "if not (3 < x < 7):\n",
    "    print(\"x non è compreso tra 3 e 7\")"
   ]
  },
  {
   "cell_type": "markdown",
   "id": "4e3c2fdb",
   "metadata": {},
   "source": [
    "## ↩️ Istruzioni su più righe con il carattere `\\`\n",
    "\n",
    "In Python, se una singola istruzione è troppo lunga e si vuole scriverla su più righe per migliorare la leggibilità, si può usare il carattere di **continuazione di linea** `\\` alla fine di una riga.\n",
    "\n",
    "Questo permette a Python di considerare le righe successive come parte della stessa istruzione."
   ]
  },
  {
   "cell_type": "code",
   "execution_count": 29,
   "id": "bf4a2a61",
   "metadata": {},
   "outputs": [
    {
     "name": "stdout",
     "output_type": "stream",
     "text": [
      "La parola 'ciao' contiene una vocale.\n"
     ]
    }
   ],
   "source": [
    "# Definisco la parola da controllare\n",
    "parola = \"ciao\"\n",
    "\n",
    "# Controllo se la parola contiene almeno una vocale (a, e, i, o, u)\n",
    "if \"a\" in parola or\\\n",
    "   \"e\" in parola or\\\n",
    "   \"i\" in parola or\\\n",
    "   \"o\" in parola or\\\n",
    "   \"u\" in parola:\n",
    "    # Se la condizione è vera, stampo che la parola contiene una vocale\n",
    "    print(f\"La parola '{parola}' contiene una vocale.\")"
   ]
  },
  {
   "cell_type": "markdown",
   "id": "722a6812",
   "metadata": {},
   "source": [
    "**Nota**: è importante che dopo la barra rovesciata \\ non ci siano spazi o altri caratteri diversi da `\\n`.\n",
    "\n",
    "Alternativamente, si possono usare le parentesi tonde () per scrivere espressioni su più righe senza usare \\."
   ]
  },
  {
   "cell_type": "markdown",
   "id": "36e8102f",
   "metadata": {},
   "source": [
    "## 🎯 Valori booleani impliciti\n",
    "\n",
    "Python considera alcuni valori come `False` anche senza usare `==`:\n",
    "\n",
    "| Valore       | Bool |\n",
    "|--------------|------|\n",
    "| `0`         | `False` |\n",
    "| `\"\"`        | `False` |\n",
    "| `None`      | `False` |\n",
    "\n",
    "Tutti gli altri valori (del tipo di quelli in tabella) → `True`.\n",
    "\n",
    "Esempio:"
   ]
  },
  {
   "cell_type": "code",
   "execution_count": 30,
   "id": "58ca1da6",
   "metadata": {},
   "outputs": [
    {
     "name": "stdout",
     "output_type": "stream",
     "text": [
      "Il valore 0 è considerato False\n",
      "Il valore '' è considerato False\n",
      "Il valore None è considerato False\n",
      "Il valore 1 è considerato True\n",
      "Il valore 'ciao' è considerato True\n"
     ]
    }
   ],
   "source": [
    "v1 = 0\n",
    "v2 = \"\"\n",
    "v3 = None\n",
    "v4 = 1\n",
    "v5 = \"ciao\"\n",
    "\n",
    "if v1:\n",
    "    print(f\"Il valore {v1!r} è considerato True\")\n",
    "else:\n",
    "    print(f\"Il valore {v1!r} è considerato False\")\n",
    "\n",
    "if v2:\n",
    "    print(f\"Il valore {v2!r} è considerato True\")\n",
    "else:\n",
    "    print(f\"Il valore {v2!r} è considerato False\")\n",
    "\n",
    "if v3:\n",
    "    print(f\"Il valore {v3!r} è considerato True\")\n",
    "else:\n",
    "    print(f\"Il valore {v3!r} è considerato False\")\n",
    "\n",
    "if v4:\n",
    "    print(f\"Il valore {v4!r} è considerato True\")\n",
    "else:\n",
    "    print(f\"Il valore {v4!r} è considerato False\")\n",
    "\n",
    "if v5:\n",
    "    print(f\"Il valore {v5!r} è considerato True\")\n",
    "else:\n",
    "    print(f\"Il valore {v5!r} è considerato False\")"
   ]
  },
  {
   "cell_type": "markdown",
   "id": "0cb3692a",
   "metadata": {},
   "source": [
    "## 🧩 If annidati (Nested if)\n",
    "\n",
    "Un **if annidato** è un costrutto in cui una struttura `if` è contenuta **all'interno** di un'altra struttura `if`.\n",
    "\n",
    "Questa tecnica permette di esprimere **decisioni complesse** che dipendono da **più livelli di condizioni**, dove ogni livello successivo viene valutato **solo se il precedente è verificato**.\n",
    "\n",
    "### 📌 Quando usare gli `if` annidati\n",
    "\n",
    "- Quando hai bisogno di verificare **più condizioni correlate tra loro**.\n",
    "- Quando una condizione **ha senso solo nel contesto** di un'altra.\n",
    "- Quando vuoi scrivere codice che **rispecchi una logica gerarchica** (es. accesso utente ➝ verifica permessi ➝ azioni disponibili).\n",
    "\n",
    "### 🧠 Attenzione a:\n",
    "- L’**indentazione**: ogni blocco annidato deve essere ben indentato per evitare errori o comportamenti inaspettati.\n",
    "- La **leggibilità**: troppi livelli di annidamento rendono il codice difficile da leggere. Se noti questo problema, valuta di ristrutturare usando funzioni o altre strategie (es. `match-case`, dizionari, return anticipati)."
   ]
  },
  {
   "cell_type": "code",
   "execution_count": 31,
   "id": "96ffe565",
   "metadata": {},
   "outputs": [
    {
     "name": "stdout",
     "output_type": "stream",
     "text": [
      "Accesso consentito.\n",
      "Benvenuto, amministratore!\n"
     ]
    }
   ],
   "source": [
    "# Esempio 1: Controllo login + ruolo utente\n",
    "username = \"mario\"\n",
    "password = \"abc123\"\n",
    "ruolo = \"admin\"\n",
    "\n",
    "if username == \"mario\":\n",
    "    if password == \"abc123\":\n",
    "        print(\"Accesso consentito.\")\n",
    "        if ruolo == \"admin\":\n",
    "            print(\"Benvenuto, amministratore!\")\n",
    "        else:\n",
    "            print(\"Accesso come utente standard.\")\n",
    "    else:\n",
    "        print(\"Password errata.\")\n",
    "else:\n",
    "    print(\"Utente non riconosciuto.\")"
   ]
  },
  {
   "cell_type": "code",
   "execution_count": 32,
   "id": "6340e627",
   "metadata": {},
   "outputs": [
    {
     "name": "stdout",
     "output_type": "stream",
     "text": [
      "Il numero è positivo.\n",
      "Ed è pari.\n"
     ]
    }
   ],
   "source": [
    "# Esempio 2: Verifica numerica in più fasi\n",
    "numero = 10\n",
    "\n",
    "if numero > 0:\n",
    "    print(\"Il numero è positivo.\")\n",
    "    if numero % 2 == 0:\n",
    "        print(\"Ed è pari.\")\n",
    "    else:\n",
    "        print(\"Ed è dispari.\")\n",
    "else:\n",
    "    print(\"Il numero non è positivo.\")"
   ]
  },
  {
   "cell_type": "markdown",
   "id": "b75c6064",
   "metadata": {},
   "source": [
    "## 🧭 Il costrutto `match-case` (introdotto in Python 3.10)\n",
    "\n",
    "A partire da Python 3.10 è stato introdotto un nuovo costrutto chiamato `match-case`, simile al `switch` presente in altri linguaggi.\n",
    "\n",
    "Questo costrutto permette di **semplificare il controllo di flusso** in presenza di **numerose condizioni alternative**, mantenendo il codice ordinato e leggibile.\n",
    "\n",
    "### 🧩 A cosa serve `match-case`?\n",
    "\n",
    "- Gestire condizioni **mutualmente esclusive** in modo chiaro.\n",
    "- Evitare lunghe catene di `if-elif-else`.\n",
    "- Rendere il codice più leggibile e **simile al linguaggio naturale**.\n",
    "- Permettere il **pattern matching strutturale**: confrontare non solo valori semplici, ma anche **strutture complesse**, come tuple, liste, dizionari o oggetti.\n",
    "\n",
    "### 📌 Quando preferire `match-case` agli `if`?\n",
    "\n",
    "- Quando hai una **singola variabile** da confrontare con **diversi possibili valori**.\n",
    "- Quando vuoi **sfruttare il pattern matching** avanzato.\n",
    "- Quando desideri **rendere più espressivo** e mantenibile il codice.\n",
    "\n",
    "> ⚠️ Nota: `match-case` richiede **Python 3.10 o superiore**. Assicurati che l’ambiente in cui esegui il codice sia compatibile."
   ]
  },
  {
   "cell_type": "code",
   "execution_count": 33,
   "id": "088c703c",
   "metadata": {},
   "outputs": [
    {
     "name": "stdout",
     "output_type": "stream",
     "text": [
      "Chiusura del programma.\n"
     ]
    }
   ],
   "source": [
    "# Richiede Python 3.10 o superiore\n",
    "\n",
    "comando = input(\"Inserisci un comando (start, stop, pausa): \").lower().strip()\n",
    "\n",
    "match comando:\n",
    "    case \"start\":\n",
    "        print(\"Avvio del programma...\")\n",
    "    case \"stop\":\n",
    "        print(\"Chiusura del programma.\")\n",
    "    case \"pausa\":\n",
    "        print(\"Il programma è in pausa.\")\n",
    "    case _:\n",
    "        print(\"Comando non riconosciuto.\")"
   ]
  },
  {
   "cell_type": "code",
   "execution_count": 34,
   "id": "b17594d2",
   "metadata": {},
   "outputs": [
    {
     "name": "stdout",
     "output_type": "stream",
     "text": [
      "Login riuscito!\n"
     ]
    }
   ],
   "source": [
    "# Esempio avanzato con tuple\n",
    "azione = (\"login\", 200)\n",
    "\n",
    "match azione:\n",
    "    case (\"login\", 200):\n",
    "        print(\"Login riuscito!\")\n",
    "    case (\"login\", 401):\n",
    "        print(\"Errore: credenziali non valide.\")\n",
    "    case _:\n",
    "        print(\"Risposta non gestita.\")"
   ]
  },
  {
   "cell_type": "markdown",
   "id": "1b05f012",
   "metadata": {},
   "source": [
    "## ✅ Best Practices con le Decisioni\n",
    "\n",
    "Scrivere decisioni in modo corretto e leggibile è fondamentale per la qualità del codice. Ecco alcune **buone pratiche (best practices)** da seguire quando si usano `if`, `elif`, ed `else`.\n",
    "\n",
    "### 🔍 Chiarezza prima di tutto\n",
    "\n",
    "- Scrivi condizioni **semplici e leggibili**. Se la condizione è troppo lunga o complessa, considera di **scomporla** in più variabili.\n",
    "- Usa **nomi di variabili descrittivi** per rendere il codice autoesplicativo.\n",
    "\n",
    "### 🚫 Evita errori comuni\n",
    "\n",
    "- Non usare `== True` o `== False` inutilmente: preferisci `if condizione:` invece di `if condizione == True`.\n",
    "- Non confondere `=` (assegnamento) con `==` (confronto).\n",
    "- Non dimenticare i `:` dopo ogni `if`, `elif`, `else`.\n",
    "\n",
    "### 🧹 Organizza il codice in modo chiaro\n",
    "\n",
    "- Usa le **funzioni** per separare blocchi decisionali complessi.\n",
    "- Evita troppi `elif`: valuta alternative come `match-case`, dizionari o return anticipati.\n",
    "\n",
    "### 🧠 Scrivi condizioni \"positive\"\n",
    "\n",
    "- Preferisci condizioni **positive**: sono più facili da capire rispetto a `not` combinati.\n",
    "  - ✅ `if is_valid:`\n",
    "  - ❌ `if not is_invalid:`"
   ]
  },
  {
   "cell_type": "code",
   "execution_count": 35,
   "id": "6117c4ce",
   "metadata": {},
   "outputs": [
    {
     "name": "stdout",
     "output_type": "stream",
     "text": [
      "Condizione vera (ma scritta male)\n",
      "Condizione vera (forma corretta)\n",
      "Hai superato l'esame.\n",
      "Accesso standard.\n",
      "Accesso con agevolazioni.\n"
     ]
    }
   ],
   "source": [
    "# ❌ Cattiva pratica\n",
    "condizione = True\n",
    "if condizione == True:\n",
    "    print(\"Condizione vera (ma scritta male)\")\n",
    "\n",
    "# ✅ Buona pratica\n",
    "if condizione:\n",
    "    print(\"Condizione vera (forma corretta)\")\n",
    "\n",
    "# ✅ Separazione logica delle condizioni\n",
    "punteggio = 85\n",
    "sufficiente = punteggio >= 60\n",
    "eccellente = punteggio >= 90\n",
    "\n",
    "if eccellente:\n",
    "    print(\"Ottimo lavoro!\")\n",
    "elif sufficiente:\n",
    "    print(\"Hai superato l'esame.\")\n",
    "else:\n",
    "    print(\"Esame non superato.\")\n",
    "\n",
    "# ✅ Funzione per migliorare leggibilità\n",
    "def valuta_accesso(eta):\n",
    "    if eta < 18:\n",
    "        return \"Accesso negato.\"\n",
    "    if eta >= 65:\n",
    "        return \"Accesso con agevolazioni.\"\n",
    "    return \"Accesso standard.\"\n",
    "\n",
    "print(valuta_accesso(20))\n",
    "print(valuta_accesso(70))"
   ]
  },
  {
   "cell_type": "markdown",
   "id": "39e23212",
   "metadata": {},
   "source": [
    "È buona norma anche semplificare, dove possibile, le condizioni booleane. Ad esempio:"
   ]
  },
  {
   "cell_type": "code",
   "execution_count": 36,
   "id": "cadb5d05",
   "metadata": {},
   "outputs": [],
   "source": [
    "# ❌ Cattiva pratica\n",
    "if (not a and not b) or (not a and b):\n",
    "    print(\"Condizione vera\")"
   ]
  },
  {
   "cell_type": "markdown",
   "id": "f6f549b6",
   "metadata": {},
   "source": [
    "Ok, ma come si fa?\n",
    "\n",
    "### 🧮 Semplificazione di una formula booleana complessa\n",
    "\n",
    "Supponiamo di partire dalla seguente condizione logica:\n",
    "\n",
    "$$\n",
    "(\\lnot A \\land \\lnot B) \\lor (\\lnot A \\land B)\n",
    "$$\n",
    "\n",
    "Fattorizziamo $\\lnot A$ (distributiva inversa):\n",
    "\n",
    "$$\n",
    "= \\lnot A \\land (\\lnot B \\lor B)\n",
    "$$\n",
    "\n",
    "Poiché $(\\lnot B \\lor B)$ è sempre vera (tautologia):\n",
    "\n",
    "$$\n",
    "= \\lnot A \\land \\text{True}\n",
    "$$\n",
    "\n",
    "Qualsiasi cosa \"AND\" `True` restituisce sé stessa:\n",
    "\n",
    "$$\n",
    "= \\lnot A\n",
    "$$\n",
    "\n",
    "✅ **Conclusione**: la formula booleana originale può essere riscritta in modo molto più semplice come:"
   ]
  },
  {
   "cell_type": "code",
   "execution_count": 37,
   "id": "8ad36d3a",
   "metadata": {},
   "outputs": [],
   "source": [
    "# ✅ Buona pratica\n",
    "if not a:\n",
    "    print(\"Condizione vera\")"
   ]
  },
  {
   "cell_type": "markdown",
   "id": "5520d8c3",
   "metadata": {},
   "source": [
    "## 🎓 Esempi pratici e casi d’uso comuni"
   ]
  },
  {
   "cell_type": "code",
   "execution_count": 38,
   "id": "caadb887",
   "metadata": {},
   "outputs": [
    {
     "name": "stdout",
     "output_type": "stream",
     "text": [
      "Totale: 120€ - Sconto applicato: 10.0%\n"
     ]
    }
   ],
   "source": [
    "# Prezzo e sconto\n",
    "totale = 120\n",
    "\n",
    "if totale > 100:\n",
    "    sconto = 0.10\n",
    "elif totale > 50:\n",
    "    sconto = 0.05\n",
    "else:\n",
    "    sconto = 0.00\n",
    "\n",
    "print(f\"Totale: {totale}€ - Sconto applicato: {sconto*100}%\")"
   ]
  },
  {
   "cell_type": "code",
   "execution_count": 39,
   "id": "3de7e320",
   "metadata": {},
   "outputs": [
    {
     "name": "stdout",
     "output_type": "stream",
     "text": [
      "È weekend, negozio chiuso.\n"
     ]
    }
   ],
   "source": [
    "# Giorni della settimana con match-case\n",
    "giorno = \"domenica\"\n",
    "\n",
    "match giorno:\n",
    "    case \"sabato\" | \"domenica\":\n",
    "        print(\"È weekend, negozio chiuso.\")\n",
    "    case \"lunedì\" | \"martedì\" | \"mercoledì\" | \"giovedì\" | \"venerdì\":\n",
    "        print(\"Giorno feriale, negozio aperto.\")\n",
    "    case _:\n",
    "        print(\"Giorno non valido.\")"
   ]
  },
  {
   "cell_type": "markdown",
   "id": "a40cb6ae",
   "metadata": {},
   "source": [
    "## ✅ Conclusioni\n",
    "\n",
    "In questo notebook abbiamo approfondito il meccanismo delle **decisioni condizionali** in Python, pilastro fondamentale del control flow.\n",
    "\n",
    "Abbiamo esplorato:\n",
    "\n",
    "- La struttura base delle decisioni con `if`, `elif` ed `else`\n",
    "- Gli **operatori di confronto** (`==`, `!=`, `<`, `>`, `<=`, `>=`) \n",
    "- Gli **operatori logici** (`and`, `or`, `not`) e le relative tabelle della verità\n",
    "- I **confronti concatenati** (es. `4 < x < 10`)\n",
    "- La gestione dei **valori booleani impliciti** (truthy/falsy values)\n",
    "- L'importanza dell'**indentazione** per definire i blocchi di codice\n",
    "- Tecniche per migliorare la leggibilità con condizioni complesse\n",
    "\n",
    "💡 Padroneggiare le strutture condizionali permette di scrivere codice **dinamico** e **reattivo**, in grado di prendere decisioni intelligenti basate sui dati in input. \n",
    "\n",
    "➡️ **Prosegui con il prossimo notebook sui cicli iterativi** per scoprire come automatizzare operazioni ripetitive:\n",
    "<a href=\"https://colab.research.google.com/github/percorso/esempio/blob/main/4_Cicli.ipynb\" target=\"_parent\"><img src=\"https://colab.research.google.com/assets/colab-badge.svg\" alt=\"Open In Colab\"/></a>"
   ]
  }
 ],
 "metadata": {
  "kernelspec": {
   "display_name": "datas",
   "language": "python",
   "name": "python3"
  },
  "language_info": {
   "codemirror_mode": {
    "name": "ipython",
    "version": 3
   },
   "file_extension": ".py",
   "mimetype": "text/x-python",
   "name": "python",
   "nbconvert_exporter": "python",
   "pygments_lexer": "ipython3",
   "version": "3.10.13"
  }
 },
 "nbformat": 4,
 "nbformat_minor": 5
}
