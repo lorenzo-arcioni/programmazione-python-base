{
 "cells": [
  {
   "cell_type": "markdown",
   "id": "6fb68802",
   "metadata": {},
   "source": [
    "# 🔄 Iterabili e Iteratori in Python\n",
    "\n",
    "## 📚 Introduzione\n",
    "\n",
    "In Python, **l'iterazione** è uno dei concetti fondamentali per la manipolazione e l'elaborazione di collezioni di dati. Alla base di ogni ciclo `for`, `while` o costrutto iterativo, esiste un insieme di meccanismi che coinvolgono due concetti strettamente legati:\n",
    "\n",
    "- **Iterabile** (*Iterable*)\n",
    "- **Iteratore** (*Iterator*)\n",
    "\n",
    "Questi concetti non rappresentano semplici \"tipi di oggetti\", ma definiscono **comportamenti specifici** che gli oggetti possono esibire quando vengono usati in contesti iterativi. Comprendere come funzionano questi comportamenti permette di scrivere codice più efficiente, controllato e conforme ai principi del linguaggio Python."
   ]
  },
  {
   "cell_type": "markdown",
   "id": "4c6a0d86",
   "metadata": {},
   "source": [
    "## 🔁 Cos'è un Iterabile?\n",
    "\n",
    "Un **iterabile** è un oggetto che rappresenta una **sequenza di elementi** e che è in grado di **fornire un iteratore** per accedere a questi elementi uno alla volta.\n",
    "\n",
    "Un oggetto è considerato **iterabile** se implementa il **protocollo dell'iterabile**, ovvero se:\n",
    "\n",
    "- **implementa un metodo speciale chiamato `__iter__()`**\n",
    "- questo metodo restituisce un **oggetto iteratore**\n",
    "\n",
    "Un iterabile è quindi **una collezione di dati** che non è direttamente responsabile di fornire ciascun valore uno dopo l'altro, ma **sa come creare** un oggetto incaricato di farlo."
   ]
  },
  {
   "cell_type": "code",
   "execution_count": 1,
   "id": "8cec9b0f",
   "metadata": {},
   "outputs": [
    {
     "name": "stdout",
     "output_type": "stream",
     "text": [
      "True\n"
     ]
    }
   ],
   "source": [
    "# Una lista è un iterabile: possiede il metodo __iter__()\n",
    "lista = [10, 20, 30]\n",
    "print('__iter__' in dir(lista))  # True"
   ]
  },
  {
   "cell_type": "code",
   "execution_count": 2,
   "id": "7f59bc08",
   "metadata": {},
   "outputs": [
    {
     "name": "stdout",
     "output_type": "stream",
     "text": [
      "True\n"
     ]
    }
   ],
   "source": [
    "# Anche una stringa è un iterabile\n",
    "stringa = \"ciao\"\n",
    "print('__iter__' in dir(stringa))  # True"
   ]
  },
  {
   "cell_type": "code",
   "execution_count": 3,
   "id": "b58cb16b",
   "metadata": {},
   "outputs": [
    {
     "name": "stdout",
     "output_type": "stream",
     "text": [
      "True\n"
     ]
    }
   ],
   "source": [
    "# Anche un dizionario è un iterabile\n",
    "dizionario = {\"a\": 1, \"b\": 2}\n",
    "print('__iter__' in dir(dizionario))  # True"
   ]
  },
  {
   "cell_type": "code",
   "execution_count": 4,
   "id": "9010d506",
   "metadata": {},
   "outputs": [
    {
     "data": {
      "text/plain": [
       "str_iterator"
      ]
     },
     "execution_count": 4,
     "metadata": {},
     "output_type": "execute_result"
    }
   ],
   "source": [
    "type(stringa.__iter__())"
   ]
  },
  {
   "cell_type": "markdown",
   "id": "42f94c8f",
   "metadata": {},
   "source": [
    "Come abbiamo potuto osservare, se un oggetto implementa il metodo `__iter__()`, quando esso viene chiamato, restituisce un oggetto **iteratore**."
   ]
  },
  {
   "cell_type": "markdown",
   "id": "db410b53",
   "metadata": {},
   "source": [
    "## 🔄 Cos'è un Iteratore?\n",
    "\n",
    "Un **iteratore** è un oggetto che **mantiene uno stato interno** e che sa **come restituire i valori successivi** di una sequenza, uno alla volta, fino all'esaurimento degli elementi.\n",
    "\n",
    "Un oggetto è considerato **un iteratore** se:\n",
    "\n",
    "- **implementa il metodo `__next__()`**, che restituisce l’elemento successivo nella sequenza a ogni chiamata\n",
    "- **implementa anche il metodo `__iter__()`**, che restituisce l'oggetto stesso (quindi un iteratore è anche un iterabile)\n",
    "\n",
    "La caratteristica principale dell’iteratore è che, una volta consumati tutti gli elementi, ogni ulteriore richiesta tramite `__next__()` causerà il sollevamento di un’**eccezione di tipo `StopIteration`**, che segnala la **fine dell’iterazione**."
   ]
  },
  {
   "cell_type": "code",
   "execution_count": 5,
   "id": "f1b60093",
   "metadata": {},
   "outputs": [
    {
     "data": {
      "text/plain": [
       "list_iterator"
      ]
     },
     "execution_count": 5,
     "metadata": {},
     "output_type": "execute_result"
    }
   ],
   "source": [
    "# Gli iteratori sono oggetti che hanno sia __iter__() che __next__()\n",
    "lista = [1, 2, 3]\n",
    "\n",
    "# Creazione di un iteratore a partire da un iterabile\n",
    "iteratore = lista.__iter__()\n",
    "type(iteratore)"
   ]
  },
  {
   "cell_type": "code",
   "execution_count": 6,
   "id": "4d55333c",
   "metadata": {},
   "outputs": [
    {
     "data": {
      "text/plain": [
       "list"
      ]
     },
     "execution_count": 6,
     "metadata": {},
     "output_type": "execute_result"
    }
   ],
   "source": [
    "type(lista)"
   ]
  },
  {
   "cell_type": "code",
   "execution_count": 7,
   "id": "72835876",
   "metadata": {},
   "outputs": [
    {
     "name": "stdout",
     "output_type": "stream",
     "text": [
      "True\n",
      "True\n"
     ]
    }
   ],
   "source": [
    "# L'oggetto ottenuto è un iteratore\n",
    "print('__iter__' in dir(iteratore))   # True\n",
    "print('__next__' in dir(iteratore))   # True"
   ]
  },
  {
   "cell_type": "code",
   "execution_count": 8,
   "id": "af6c0402",
   "metadata": {},
   "outputs": [
    {
     "name": "stdout",
     "output_type": "stream",
     "text": [
      "1\n",
      "2\n",
      "3\n"
     ]
    }
   ],
   "source": [
    "# Accesso sequenziale agli elementi tramite __next__()\n",
    "print(iteratore.__next__())  # 1\n",
    "print(iteratore.__next__())  # 2\n",
    "print(iteratore.__next__())  # 3"
   ]
  },
  {
   "cell_type": "markdown",
   "id": "0de1527b",
   "metadata": {},
   "source": [
    "Quindi l'iteratore si \"consuma\" ogni volta che usiamo il metodo `__next__()`. Quindi se utilizziamo il metodo ancora una volta, otteniamo un errore dall'interprete:"
   ]
  },
  {
   "cell_type": "code",
   "execution_count": 9,
   "id": "d354d8ba",
   "metadata": {},
   "outputs": [],
   "source": [
    "# print(iteratore.__next__()) # StopIteration Error"
   ]
  },
  {
   "cell_type": "markdown",
   "id": "2da1b4b8",
   "metadata": {},
   "source": [
    "## ⚙️ Differenza tra Iterabile e Iteratore\n",
    "\n",
    "| Caratteristica | Iterabile | Iteratore |\n",
    "|----------------|-----------|-----------|\n",
    "| Responsabilità | Sa come **fornire un iteratore** | Sa come **restituire i valori uno a uno** |\n",
    "| Metodo richiesto | `__iter__()` | `__iter__()` e `__next__()` |\n",
    "| Stato interno | Non mantiene stato | Mantiene uno **stato interno** tra chiamate successive |\n",
    "| Riutilizzabile | Può essere usato per creare **nuovi iteratori** ogni volta | **Non riutilizzabile** una volta esauriti gli elementi |\n",
    "| Tipico esempio | Liste, stringhe, tuple | Oggetto restituito da `iter()` |\n",
    "\n",
    "Quindi, un iterabile può fornire uno (o più) iteratori, ovvero ha la potenzialità di generare un iteratore."
   ]
  },
  {
   "cell_type": "code",
   "execution_count": 10,
   "id": "554d0cf8",
   "metadata": {},
   "outputs": [
    {
     "name": "stdout",
     "output_type": "stream",
     "text": [
      "<list_iterator object at 0x72cee8109030>\n",
      "<list_iterator object at 0x72cee810a500>\n"
     ]
    }
   ],
   "source": [
    "# Possiamo generare piu iteratori dallo stesso iterabile\n",
    "print(lista.__iter__())\n",
    "print(lista.__iter__())"
   ]
  },
  {
   "cell_type": "markdown",
   "id": "0fe71943",
   "metadata": {},
   "source": [
    "### 🗂️ Dizionari: iterabili e iteratori\n",
    "\n",
    "- Un **dizionario** in Python è un oggetto **iterabile**, il che significa che si può ottenere un iteratore da esso chiamando il metodo `__iter__()`.\n",
    "- L’iteratore ottenuto da un dizionario scorre **le chiavi** del dizionario, una alla volta.\n",
    "- L’iteratore implementa il metodo `__next__()`, che restituisce la chiave successiva ogni volta che viene chiamato.\n",
    "- Quando si raggiungono tutte le chiavi, una chiamata successiva a `__next__()` genera un’eccezione `StopIteration` (tipico comportamento di tutti gli iteratori).\n",
    "\n",
    "**In sintesi:**\n",
    "\n",
    "- Dizionario = iterabile (puoi chiamare `__iter__()` su di esso)  \n",
    "- Iteratore del dizionario = oggetto con `__next__()` che restituisce le chiavi, una alla volta\n",
    "\n",
    "Se vuoi iterare sui valori o sulle coppie chiave-valore, puoi ottenere iterabili e iteratori specifici usando i metodi `.values()` e `.items()` del dizionario, che funzionano in modo analogo.  "
   ]
  },
  {
   "cell_type": "code",
   "execution_count": 11,
   "id": "ba5ce712",
   "metadata": {},
   "outputs": [
    {
     "name": "stdout",
     "output_type": "stream",
     "text": [
      "True\n",
      "a\n",
      "b\n",
      "c\n"
     ]
    }
   ],
   "source": [
    "# Dizionario semplice\n",
    "diz = {'a': 1, 'b': 2, 'c': 3}\n",
    "\n",
    "# Un dizionario è un iterabile: possiamo ottenere un iteratore chiamando __iter__()\n",
    "iter_diz = diz.__iter__()\n",
    "\n",
    "# Verifica che iter_diz è un iteratore (ha __next__)\n",
    "print('__next__' in dir(iter_diz))  # True\n",
    "\n",
    "# Accesso manuale alle CHIAVI tramite l'iteratore\n",
    "print(iter_diz.__next__())  # 'a' (prima chiave)\n",
    "print(iter_diz.__next__())  # 'b' (seconda chiave)\n",
    "print(iter_diz.__next__())  # 'c' (terza chiave)"
   ]
  },
  {
   "cell_type": "code",
   "execution_count": 12,
   "id": "7a254b57",
   "metadata": {},
   "outputs": [
    {
     "name": "stdout",
     "output_type": "stream",
     "text": [
      "True\n",
      "1\n",
      "2\n",
      "3\n"
     ]
    }
   ],
   "source": [
    "# Otteniamo un iterabile sui valori\n",
    "valori_iterabile = diz.values()\n",
    "\n",
    "# Creiamo un iteratore sui VALORI\n",
    "iter_valori = valori_iterabile.__iter__()\n",
    "\n",
    "print('__next__' in dir(iter_valori))  # True\n",
    "\n",
    "# Accesso manuale ai VALORI\n",
    "print(iter_valori.__next__())  # 10\n",
    "print(iter_valori.__next__())  # 20\n",
    "print(iter_valori.__next__())  # 30"
   ]
  },
  {
   "cell_type": "markdown",
   "id": "7afe38c9",
   "metadata": {},
   "source": [
    "## 🧠 Perché questa distinzione è importante?\n",
    "\n",
    "Questa distinzione permette a Python di:\n",
    "\n",
    "- **Separare la struttura dei dati dalla logica di accesso** sequenziale: un iterabile può essere semplice da rappresentare, mentre l’iteratore si occupa della logica dell’avanzamento.\n",
    "- **Supportare la lazy evaluation**: gli iteratori possono produrre dati “su richiesta” senza doverli tenere tutti in memoria.\n",
    "- **Consentire l’uso di cicli `for`**, funzioni come `map()`, `filter()`, e comprensioni, basandosi sul protocollo dell’iterazione."
   ]
  },
  {
   "cell_type": "markdown",
   "id": "3ad130d5",
   "metadata": {},
   "source": [
    "## 🧭 Protocollo dell’Iterazione in breve\n",
    "\n",
    "1. Quando un oggetto viene usato in un ciclo `for`, Python chiama il suo metodo `__iter__()`.\n",
    "2. Questo metodo restituisce un oggetto **iteratore**.\n",
    "3. Python continua a chiamare il metodo `__next__()` sull’iteratore per ottenere ciascun valore.\n",
    "4. Quando non ci sono più valori, il metodo `__next__()` solleva l’eccezione `StopIteration`.\n",
    "5. Il ciclo `for` intercetta l’eccezione e termina l’iterazione."
   ]
  },
  {
   "cell_type": "code",
   "execution_count": 13,
   "id": "b6a6c054",
   "metadata": {},
   "outputs": [
    {
     "name": "stdout",
     "output_type": "stream",
     "text": [
      "a\n",
      "b\n",
      "c\n"
     ]
    }
   ],
   "source": [
    "# In un ciclo for, Python chiama internamente __iter__() per ottenere un iteratore\n",
    "lista = [\"a\", \"b\", \"c\"]\n",
    "iteratore = lista.__iter__()\n",
    "\n",
    "# Poi chiama __next__() per ottenere ogni elemento\n",
    "elemento1 = iteratore.__next__()\n",
    "print(elemento1)  # \"a\"\n",
    "\n",
    "elemento2 = iteratore.__next__()\n",
    "print(elemento2)  # \"b\"\n",
    "\n",
    "elemento3 = iteratore.__next__()\n",
    "print(elemento3)  # \"c\"\n",
    "\n",
    "# Una ulteriore chiamata a __next__() genererebbe un errore StopIteration\n",
    "# ma qui non possiamo gestirlo, perciò ci fermiamo"
   ]
  },
  {
   "cell_type": "markdown",
   "id": "57c01cf0",
   "metadata": {},
   "source": [
    "## 🧩 Alcune proprietà aggiuntive degli iteratori\n",
    "\n",
    "- Gli **iteratori sono consumabili**: una volta iterati completamente, non possono essere riutilizzati senza ricrearne uno nuovo.\n",
    "- Gli **iteratori non hanno lunghezza** nota a priori, a differenza delle liste o tuple.\n",
    "- La loro natura li rende ideali per lavorare con **flussi di dati infiniti o grandi** (es. file, stream, generatori).\n",
    "\n",
    "### 🧬 Iteratori e gestione efficiente di grandi quantità di dati\n",
    "\n",
    "Quando lavoriamo con dataset di dimensioni molto grandi — ad esempio una sequenza genomica composta da miliardi di caratteri (A, C, G, T) — caricare l'intera struttura in memoria può essere estremamente inefficiente o addirittura impossibile. Strutture come `list`, `str` o `tuple` contengono tutti i dati in RAM, il che non è scalabile per file di grandi dimensioni.\n",
    "\n",
    "#### ✅ Iteratori come soluzione\n",
    "\n",
    "Gli **iteratori** permettono di elaborare dati **uno alla volta**, senza bisogno di caricare l'intera sequenza in memoria. Questo approccio si chiama **lazy evaluation** (valutazione pigra): i dati vengono forniti solo quando richiesti, tramite il metodo `__next__()`.\n",
    "\n",
    "In questo modo:\n",
    "\n",
    "- ✅ l'utilizzo di memoria è minimo (viene mantenuto solo l'elemento corrente),\n",
    "- ✅ l'applicazione può scalare facilmente a dataset enormi,\n",
    "- ✅ si riducono i tempi di caricamento iniziale.\n",
    "\n",
    "#### 📌 Esempio realistico\n",
    "\n",
    "Nel caso di un file contenente il genoma umano (oltre 3 miliardi di caratteri), è possibile aprirlo come un iteratore di caratteri o righe. Python fornisce oggetti file che **sono già iteratori**: è quindi possibile leggere il file **una riga alla volta**, con un impatto minimo sulla memoria.\n",
    "\n",
    "Questo approccio è utile, ad esempio, per:\n",
    "\n",
    "- contare la frequenza di una base (es. quante volte appare \"G\"),\n",
    "- cercare un pattern genetico,\n",
    "- validare o convertire il formato dei dati,\n",
    "- generare statistiche in tempo reale.\n",
    "\n",
    "Usando un iteratore, possiamo **analizzare il file pezzo per pezzo**, senza mai caricare tutto in memoria. Questo è un vantaggio chiave nella programmazione di basso livello su grandi dataset.\n",
    "\n",
    "Nella cella seguente, viene mostrato un esempio concreto in Python."
   ]
  },
  {
   "cell_type": "code",
   "execution_count": 14,
   "id": "3ee738bc",
   "metadata": {},
   "outputs": [],
   "source": [
    "# Generiamo il file del genoma\n",
    "\n",
    "# Apriamo un file in modalità scrittura binaria (più efficiente)\n",
    "nome_file_grande = \"./genoma.txt\"\n",
    "\n",
    "chunk = (\"ACGT\" * 250_000) + \"\\n\"  # circa 1 MB per chunk (4 bytes * 250,000 = 1,000,000 bytes circa)\n",
    "# Scriviamo 4000 chunk da 1 MB = circa 4 GB\n",
    "\n",
    "with open(nome_file_grande, \"w\") as f:\n",
    "    for _ in range(4000):\n",
    "        f.write(chunk)\n",
    "    f.close()"
   ]
  },
  {
   "cell_type": "code",
   "execution_count": 15,
   "id": "caff58eb",
   "metadata": {},
   "outputs": [
    {
     "name": "stdout",
     "output_type": "stream",
     "text": [
      "[Iteratore] Lunghezza prima riga: 1000000 caratteri\n",
      "[Iteratore] Memoria attuale: 0.96 MB, picco: 1.92 MB\n"
     ]
    }
   ],
   "source": [
    "import tracemalloc\n",
    "\n",
    "# --- Uso iteratore (leggi una riga alla volta) ---\n",
    "file_iter = open(nome_file_grande, \"r\")\n",
    "\n",
    "tracemalloc.start()  # inizia a tracciare la memoria\n",
    "prima_riga = file_iter.__next__()\n",
    "current_mem, peak_mem = tracemalloc.get_traced_memory()\n",
    "tracemalloc.stop()\n",
    "\n",
    "print(f\"[Iteratore] Lunghezza prima riga: {len(prima_riga.strip())} caratteri\")\n",
    "print(f\"[Iteratore] Memoria attuale: {current_mem / 1024 / 1024:.2f} MB, picco: {peak_mem / 1024 / 1024:.2f} MB\")\n",
    "\n",
    "file_iter.close()"
   ]
  },
  {
   "cell_type": "code",
   "execution_count": 16,
   "id": "a903fd25",
   "metadata": {},
   "outputs": [
    {
     "name": "stdout",
     "output_type": "stream",
     "text": [
      "\n",
      "[Read()] Lunghezza prima riga: 1000000 caratteri\n",
      "[Read()] Memoria attuale: 3815.66 MB, picco: 7629.62 MB\n"
     ]
    }
   ],
   "source": [
    "# --- Uso read() (carica tutto il file in RAM) ---\n",
    "file_whole = open(nome_file_grande, \"r\")\n",
    "\n",
    "tracemalloc.start()\n",
    "contenuto = file_whole.read()\n",
    "prima_riga_whole = contenuto.split()[0]\n",
    "current_mem2, peak_mem2 = tracemalloc.get_traced_memory()\n",
    "tracemalloc.stop()\n",
    "\n",
    "print(f\"\\n[Read()] Lunghezza prima riga: {len(prima_riga_whole.strip())} caratteri\")\n",
    "print(f\"[Read()] Memoria attuale: {current_mem2 / 1024 / 1024:.2f} MB, picco: {peak_mem2 / 1024 / 1024:.2f} MB\")\n",
    "\n",
    "file_whole.close()"
   ]
  },
  {
   "cell_type": "markdown",
   "id": "1ea9d246",
   "metadata": {},
   "source": [
    "## 🧰 Oggetti built-in iterabili\n",
    "\n",
    "Python offre molte **strutture dati** che sono nativamente iterabili:\n",
    "\n",
    "- Liste, tuple, insiemi e dizionari\n",
    "- Stringhe\n",
    "- Oggetti restituiti da funzioni come `range()`, `zip()`, `enumerate()`\n",
    "- File aperti (iterano riga per riga)\n",
    "- Oggetti definiti dall’utente che implementano `__iter__()`"
   ]
  },
  {
   "cell_type": "markdown",
   "id": "c27b292e",
   "metadata": {},
   "source": [
    "### 📏 Oggetto di tipo `range`: Iterabile ma non Iteratore\n",
    "\n",
    "- L’oggetto `range` rappresenta una sequenza di numeri ed è **iterabile**, il che significa che può restituire un iteratore tramite il metodo `__iter__()`.\n",
    "- Tuttavia, `range` **non è di per sé un iteratore**, perché non implementa il metodo `__next__()`.\n",
    "- Per scorrere gli elementi di un `range`, è necessario prima ottenere un iteratore da esso chiamando `__iter__()`.\n",
    "- L’iteratore restituito da `range.__iter__()` implementa `__next__()` e permette di ottenere gli elementi uno per uno.\n",
    "\n",
    "**Riassunto:**\n",
    "\n",
    "| Tipo oggetto   | `__iter__()` | `__next__()` | Cos’è?         |\n",
    "|----------------|--------------|--------------|----------------|\n",
    "| `range`        | Sì           | No           | Iterabile      |\n",
    "| `range.__iter__()` | Sì        | Sì           | Iteratore      |"
   ]
  },
  {
   "cell_type": "code",
   "execution_count": 17,
   "id": "c1e3d6b8",
   "metadata": {},
   "outputs": [
    {
     "name": "stdout",
     "output_type": "stream",
     "text": [
      "True\n",
      "False\n",
      "0\n",
      "1\n",
      "2\n"
     ]
    }
   ],
   "source": [
    "# Oggetto di tipo range\n",
    "intervallo = range(0, 3)\n",
    "\n",
    "# range è iterabile\n",
    "print('__iter__' in dir(intervallo))  # True\n",
    "\n",
    "# Ma non è un iteratore\n",
    "print('__next__' in dir(intervallo))  # False\n",
    "\n",
    "# Possiamo creare un iteratore da esso\n",
    "it = intervallo.__iter__()\n",
    "print(it.__next__())  # 0\n",
    "print(it.__next__())  # 1\n",
    "print(it.__next__())  # 2"
   ]
  },
  {
   "cell_type": "markdown",
   "id": "49922ffe",
   "metadata": {},
   "source": [
    "### 🔗 Uso di `zip`: iteratore di tuple\n",
    "\n",
    "- La funzione built-in `zip()` prende due o più iterabili e restituisce un **iteratore** che produce tuple composte dagli elementi corrispondenti di ogni iterabile.\n",
    "- `zip` è un **iteratore** perché implementa `__next__()`, quindi può essere usato direttamente per ottenere gli elementi uno alla volta.\n",
    "- Le tuple restituite da `zip` combinano i valori degli input posizionati allo stesso indice.\n",
    "\n",
    "**Esempio di comportamento:**\n",
    "\n",
    "- Input: liste `[1, 2, 3]` e `['a', 'b', 'c']`\n",
    "- Output `zip`: (1, 'a'), (2, 'b'), (3, 'c')"
   ]
  },
  {
   "cell_type": "code",
   "execution_count": 18,
   "id": "af157df4",
   "metadata": {},
   "outputs": [
    {
     "name": "stdout",
     "output_type": "stream",
     "text": [
      "True\n",
      "(1, 'a')\n",
      "(2, 'b')\n",
      "(3, 'c')\n"
     ]
    }
   ],
   "source": [
    "# Due liste\n",
    "numeri = [1, 2, 3]\n",
    "lettere = [\"a\", \"b\", \"c\"]\n",
    "\n",
    "# zip() crea un iteratore di tuple\n",
    "z = zip(numeri, lettere)\n",
    "\n",
    "# zip è un iteratore (ha __next__)\n",
    "print('__next__' in dir(z))  # True\n",
    "\n",
    "# Accesso manuale alle tuple\n",
    "print(z.__next__())  # (1, 'a')\n",
    "print(z.__next__())  # (2, 'b')\n",
    "print(z.__next__())  # (3, 'c')"
   ]
  },
  {
   "cell_type": "markdown",
   "id": "bb9482e9",
   "metadata": {},
   "source": [
    "### 🔢 Uso di `enumerate`: iteratore con indice\n",
    "\n",
    "- `enumerate()` prende un iterabile e restituisce un **iteratore** che produce tuple `(indice, elemento)`.\n",
    "- È molto utile quando si vuole accedere sia all’elemento sia alla sua posizione durante l’iterazione.\n",
    "- Come `zip`, `enumerate` implementa `__next__()` e quindi è un iteratore pronto all’uso.\n",
    "\n",
    "**Esempio di comportamento:**\n",
    "\n",
    "- Input: lista `['mela', 'banana', 'ciliegia']`\n",
    "- Output `enumerate`: (0, 'mela'), (1, 'banana'), (2, 'ciliegia')"
   ]
  },
  {
   "cell_type": "code",
   "execution_count": 19,
   "id": "5e216439",
   "metadata": {},
   "outputs": [
    {
     "name": "stdout",
     "output_type": "stream",
     "text": [
      "True\n",
      "(0, 'mela')\n",
      "(1, 'banana')\n",
      "(2, 'ciliegia')\n"
     ]
    }
   ],
   "source": [
    "# Lista di elementi\n",
    "frutti = [\"mela\", \"banana\", \"ciliegia\"]\n",
    "\n",
    "# --- Enumerate ---\n",
    "# enumerate() crea un iteratore di tuple (indice, elemento)\n",
    "enum = enumerate(frutti)\n",
    "\n",
    "# enumerate è un iteratore (ha __next__)\n",
    "print('__next__' in dir(enum))  # True\n",
    "\n",
    "# Accesso manuale alle tuple (indice, elemento)\n",
    "print(enum.__next__())  # (0, 'mela')\n",
    "print(enum.__next__())  # (1, 'banana')\n",
    "print(enum.__next__())  # (2, 'ciliegia')"
   ]
  },
  {
   "cell_type": "markdown",
   "id": "8e57b5a1",
   "metadata": {},
   "source": [
    "### 🔄 Uso di `reversed()`: iteratore inverso\n",
    "\n",
    "- La funzione built-in `reversed()` prende una sequenza (come una lista o una stringa) e restituisce un **iteratore** che attraversa gli elementi in ordine inverso.\n",
    "- `reversed` è un iteratore perché implementa `__next__()`, quindi possiamo usarlo per scorrere gli elementi a ritroso uno alla volta.\n",
    "- Non modifica l’oggetto originale, ma crea un iteratore che genera gli elementi in senso opposto.\n",
    "\n",
    "**Esempio di comportamento:**\n",
    "\n",
    "- Input: lista `[10, 20, 30]`\n",
    "- Output `reversed`: 30, 20, 10"
   ]
  },
  {
   "cell_type": "code",
   "execution_count": 20,
   "id": "5cdaff5f",
   "metadata": {},
   "outputs": [
    {
     "name": "stdout",
     "output_type": "stream",
     "text": [
      "True\n",
      "30\n",
      "20\n",
      "10\n"
     ]
    }
   ],
   "source": [
    "# Lista di numeri\n",
    "numeri = [10, 20, 30]\n",
    "\n",
    "# reversed() crea un iteratore che scorre la lista al contrario\n",
    "rev_iter = reversed(numeri)\n",
    "\n",
    "# reversed è un iteratore (ha __next__)\n",
    "print('__next__' in dir(rev_iter))  # True\n",
    "\n",
    "# Accesso manuale agli elementi al contrario\n",
    "print(rev_iter.__next__())  # 30\n",
    "print(rev_iter.__next__())  # 20\n",
    "print(rev_iter.__next__())  # 10"
   ]
  },
  {
   "cell_type": "markdown",
   "id": "53b7494e",
   "metadata": {},
   "source": [
    "### 📋 `sorted()`: restituisce una nuova lista ordinata\n",
    "\n",
    "- La funzione `sorted()` prende un iterabile e restituisce una **nuova lista** contenente gli elementi ordinati.\n",
    "- La lista risultante è iterabile, ma **non è un iteratore**.\n",
    "- Per ottenere un iteratore dalla lista ordinata, si può usare la funzione `iter()`.\n",
    "\n",
    "### 🔧 `iter()`: creare un iteratore da un iterabile\n",
    "\n",
    "- `iter()` è una funzione built-in che prende un oggetto iterabile e restituisce un **iteratore**.\n",
    "- Questo iteratore può essere usato per ottenere gli elementi uno alla volta con `__next__()`.\n",
    "- È il modo standard per trasformare un iterabile in un iteratore esplicitamente."
   ]
  },
  {
   "cell_type": "code",
   "execution_count": 21,
   "id": "2f5c6452",
   "metadata": {},
   "outputs": [
    {
     "name": "stdout",
     "output_type": "stream",
     "text": [
      "1\n",
      "2\n",
      "3\n"
     ]
    }
   ],
   "source": [
    "numeri = [3, 1, 2]\n",
    "\n",
    "# sorted() restituisce una lista ordinata\n",
    "lista_ordinata = sorted(numeri)  # [1, 2, 3]\n",
    "\n",
    "# Creiamo un iteratore dalla lista ordinata\n",
    "it = iter(lista_ordinata)\n",
    "\n",
    "print(it.__next__())  # 1\n",
    "print(it.__next__())  # 2\n",
    "print(it.__next__())  # 3"
   ]
  },
  {
   "cell_type": "markdown",
   "id": "f3a85b77",
   "metadata": {},
   "source": [
    "## ✅ Conclusioni\n",
    "\n",
    "In questa sezione abbiamo esplorato a fondo i concetti di **iterabili** e **iteratori** in Python, pilastri fondamentali per la gestione efficiente e flessibile di sequenze di dati.\n",
    "\n",
    "### Punti chiave:\n",
    "\n",
    "- Un **iterabile** è un oggetto che **sa come restituire un iteratore** tramite il metodo `__iter__()`.\n",
    "- Un **iteratore** è un oggetto che mantiene uno **stato interno** e produce gli elementi uno alla volta con `__next__()`.\n",
    "- Gli iteratori sono **consumabili**: una volta terminati, non possono essere riutilizzati senza crearne di nuovi.\n",
    "- La distinzione permette a Python di supportare la **lazy evaluation**, importante per elaborare grandi o infiniti flussi di dati senza caricarli completamente in memoria.\n",
    "- Molte strutture dati e funzioni built-in come `range()`, `zip()`, `enumerate()`, `reversed()` restituiscono iteratori o oggetti iterabili.\n",
    "- Lavorare con iteratori consente di scrivere codice più **efficiente, pulito e modulare**, specialmente con dataset grandi (es. file di testo molto grandi o stream di dati).\n",
    "\n",
    "### Implicazioni pratiche:\n",
    "\n",
    "- L’iterazione è alla base di cicli `for` e molte funzionalità di Python.\n",
    "- Comprendere come funzionano iterabili e iteratori aiuta a evitare errori come il consumo involontario di un iteratore.\n",
    "- Permette di scrivere algoritmi che gestiscono dati molto grandi senza esaurire la memoria.\n",
    "\n",
    "➡️ Ora sei pronto per approfondire il **controllo dei cicli iterativi** (`for` e `while`), che sfruttano proprio questi meccanismi per processare sequenze di dati.\n",
    "<a href=\"https://colab.research.google.com/github/lorenzo-arcioni/programmazione-python-base/blob/main/Capitolo4_Decisioni_e_Cicli/3_For_e_While.ipynb\" target=\"_blank\"><img src=\"https://colab.research.google.com/assets/colab-badge.svg\" alt=\"Open In Colab\"/></a>"
   ]
  }
 ],
 "metadata": {
  "kernelspec": {
   "display_name": "datas",
   "language": "python",
   "name": "python3"
  },
  "language_info": {
   "codemirror_mode": {
    "name": "ipython",
    "version": 3
   },
   "file_extension": ".py",
   "mimetype": "text/x-python",
   "name": "python",
   "nbconvert_exporter": "python",
   "pygments_lexer": "ipython3",
   "version": "3.10.13"
  }
 },
 "nbformat": 4,
 "nbformat_minor": 5
}
