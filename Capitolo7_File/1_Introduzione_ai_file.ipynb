{
 "cells": [
  {
   "cell_type": "markdown",
   "id": "ebf9d67e",
   "metadata": {},
   "source": [
    "# 📂 File\n",
    "\n",
    "I **file** sono un mezzo fondamentale per **memorizzare dati in modo permanente**. A differenza delle variabili, che esistono solo durante l’esecuzione del programma, i file consentono di **salvare informazioni** per poterle usare anche in un secondo momento.\n",
    "\n",
    "## 🤔 Perché lavorare con i file?\n",
    "\n",
    "I file sono utili per:\n",
    "\n",
    "- 📝 Salvare dati di input/output in modo permanente.\n",
    "- 📊 Registrare log o risultati di esecuzioni.\n",
    "- 🔄 Scambiare dati tra programmi (es. CSV, JSON).\n",
    "- 📚 Caricare configurazioni o documenti di grandi dimensioni.\n",
    "\n",
    "## 🗂️ Tipi di file\n",
    "\n",
    "I file possono essere di diversi tipi, ma i più comuni sono:\n",
    "\n",
    "- **File di testo** (`.txt`, `.csv`, `.json`, ecc.)  \n",
    "  Contengono caratteri leggibili.\n",
    "  \n",
    "- **File binari** (`.bin`, `.exe`, immagini, audio, ecc.)  \n",
    "  Contengono dati non leggibili direttamente, codificati in byte.\n",
    "\n",
    "<img src=\"./file_testuali_e_binari.png\" width=\"600\" style=\"display: block; margin-left: auto; margin-right: auto;\">\n",
    "\n",
    "L'estensione rappresenta solo un'indicazione (utile per capire come interpretare il contenuto) sul contenuto del file, ma non ne determina il formato reale. Un file .txt può contenere dati binari, e un file .bin può essere rinominato .dat senza cambiare il contenuto effettivo.\n",
    "➡️ È il modo in cui apriamo e interpretiamo il file (in modalità testo o binaria) che fa la differenza nel trattamento dei dati.\n",
    "\n",
    "✅ Per questo è importante sapere come leggere e scrivere correttamente un file in base al tipo di contenuto che ci aspettiamo."
   ]
  },
  {
   "cell_type": "markdown",
   "id": "154d706d",
   "metadata": {},
   "source": [
    "## 🔐 Modalità di apertura\n",
    "\n",
    "Quando si lavora con un file, è importante specificare **in che modo** vogliamo interagire con esso. Le modalità principali sono:\n",
    "\n",
    "| Modalità | Descrizione                          |\n",
    "|----------|--------------------------------------|\n",
    "| `r`      | Lettura (default)                    |\n",
    "| `w`      | Scrittura (sovrascrive il file)      |\n",
    "| `a`      | Scrittura (aggiunge in fondo)        |\n",
    "| `x`      | Crea un nuovo file (errore se esiste)|\n",
    "| `b`      | Modalità binaria                     |\n",
    "| `t`      | Modalità testo (default)             |\n",
    "| `+`      | Lettura e scrittura insieme          |\n",
    "\n",
    "📌 Le modalità possono essere **combinate**. Esempio: `rb` per leggere un file binario.\n",
    "\n",
    "### 🧩 Combinazioni possibili\n",
    "\n",
    "Puoi **combinare** alcune modalità per specificare più dettagli:\n",
    "\n",
    "- `rb` → lettura binaria\n",
    "- `wb` → scrittura binaria (sovrascrive)\n",
    "- `ab` → aggiunta binaria\n",
    "- `r+` → lettura e scrittura (senza creare)\n",
    "- `w+` → scrittura e lettura (sovrascrive)\n",
    "- `a+` → lettura e aggiunta\n",
    "- `rb+`, `wb+`, `ab+` → lettura/scrittura binaria\n",
    "\n",
    "📌 L’ordine delle lettere non è importante (`rb` = `br`), ma è buona pratica usare quello più leggibile (`r`, `w`, `a`, `x` prima, poi `b`, `t`, `+`).\n",
    "\n",
    "### ❌ Combinazioni NON valide\n",
    "\n",
    "Alcune modalità **non possono** essere combinate:\n",
    "\n",
    "- `r` e `x` insieme → ❌ hanno scopi opposti (lettura vs creazione esclusiva)\n",
    "- `x+` è valido, ma `xr` no\n",
    "- `b` e `t` insieme → ❌ sono alternative, non compatibili\n",
    "- `r` e `w` → ❌ conflitto: `r` apre un file **esistente**, `w` lo **sovrascrive** o crea  \n",
    "- `a` e `x` → ❌ `a` apre (o crea) un file per **aggiungere**, `x` crea un file **solo se non esiste**  \n",
    "- `w` e `x` → ❌ entrambe creano file, ma con comportamenti diversi: `w` sovrascrive, `x` fallisce se il file esiste  \n",
    "\n",
    "✅ Se vuoi **leggere e scrivere**, usa `+` insieme a una modalità principale (`r+`, `w+`, `a+`, `x+`),  \n",
    "**non combinare due modalità principali tra loro** (`r`, `w`, `a`, `x`).\n",
    "\n",
    "📎 Ricorda: la modalità `t` (testo) è il default, quindi `r` = `rt`, `w` = `wt`, ecc.\n",
    "\n",
    "## 🔄 File come flussi di dati\n",
    "\n",
    "I file vengono trattati come **flussi di caratteri o byte**. Quando leggiamo o scriviamo, ci muoviamo attraverso questo flusso:\n",
    "\n",
    "- All’apertura, il **cursore** è all’inizio del file.\n",
    "- Dopo una lettura o scrittura, il cursore avanza.\n",
    "- Possiamo usare funzioni per **spostare** il cursore (seek) o **tornare all’inizio**.\n",
    "\n",
    "## 📥 Leggere un file\n",
    "\n",
    "Leggere un file significa **aprire il file esistente e accedere ai suoi contenuti**. Possiamo leggere:\n",
    "\n",
    "- Tutto il contenuto in una volta sola.\n",
    "- Una riga alla volta.\n",
    "- Un blocco di caratteri.\n",
    "\n",
    "Proviamo subito a leggere il file `esempio.txt`."
   ]
  },
  {
   "cell_type": "code",
   "execution_count": 1,
   "id": "c0b45232",
   "metadata": {},
   "outputs": [],
   "source": [
    "# Assegnamo alla variabile f il file esempio.txt\n",
    "f = open('esempio.txt', 'r')"
   ]
  },
  {
   "cell_type": "markdown",
   "id": "95186dd1",
   "metadata": {},
   "source": [
    "`f` è ora un oggetto di tipo file."
   ]
  },
  {
   "cell_type": "code",
   "execution_count": 2,
   "id": "1161e480",
   "metadata": {},
   "outputs": [
    {
     "name": "stdout",
     "output_type": "stream",
     "text": [
      "Help on TextIOWrapper object:\n",
      "\n",
      "class TextIOWrapper(_TextIOBase)\n",
      " |  TextIOWrapper(buffer, encoding=None, errors=None, newline=None, line_buffering=False, write_through=False)\n",
      " |  \n",
      " |  Character and line based layer over a BufferedIOBase object, buffer.\n",
      " |  \n",
      " |  encoding gives the name of the encoding that the stream will be\n",
      " |  decoded or encoded with. It defaults to locale.getpreferredencoding(False).\n",
      " |  \n",
      " |  errors determines the strictness of encoding and decoding (see\n",
      " |  help(codecs.Codec) or the documentation for codecs.register) and\n",
      " |  defaults to \"strict\".\n",
      " |  \n",
      " |  newline controls how line endings are handled. It can be None, '',\n",
      " |  '\\n', '\\r', and '\\r\\n'.  It works as follows:\n",
      " |  \n",
      " |  * On input, if newline is None, universal newlines mode is\n",
      " |    enabled. Lines in the input can end in '\\n', '\\r', or '\\r\\n', and\n",
      " |    these are translated into '\\n' before being returned to the\n",
      " |    caller. If it is '', universal newline mode is enabled, but line\n",
      " |    endings are returned to the caller untranslated. If it has any of\n",
      " |    the other legal values, input lines are only terminated by the given\n",
      " |    string, and the line ending is returned to the caller untranslated.\n",
      " |  \n",
      " |  * On output, if newline is None, any '\\n' characters written are\n",
      " |    translated to the system default line separator, os.linesep. If\n",
      " |    newline is '' or '\\n', no translation takes place. If newline is any\n",
      " |    of the other legal values, any '\\n' characters written are translated\n",
      " |    to the given string.\n",
      " |  \n",
      " |  If line_buffering is True, a call to flush is implied when a call to\n",
      " |  write contains a newline character.\n",
      " |  \n",
      " |  Method resolution order:\n",
      " |      TextIOWrapper\n",
      " |      _TextIOBase\n",
      " |      _IOBase\n",
      " |      builtins.object\n",
      " |  \n",
      " |  Methods defined here:\n",
      " |  \n",
      " |  __init__(self, /, *args, **kwargs)\n",
      " |      Initialize self.  See help(type(self)) for accurate signature.\n",
      " |  \n",
      " |  __next__(self, /)\n",
      " |      Implement next(self).\n",
      " |  \n",
      " |  __repr__(self, /)\n",
      " |      Return repr(self).\n",
      " |  \n",
      " |  close(self, /)\n",
      " |      Flush and close the IO object.\n",
      " |      \n",
      " |      This method has no effect if the file is already closed.\n",
      " |  \n",
      " |  detach(self, /)\n",
      " |      Separate the underlying buffer from the TextIOBase and return it.\n",
      " |      \n",
      " |      After the underlying buffer has been detached, the TextIO is in an\n",
      " |      unusable state.\n",
      " |  \n",
      " |  fileno(self, /)\n",
      " |      Returns underlying file descriptor if one exists.\n",
      " |      \n",
      " |      OSError is raised if the IO object does not use a file descriptor.\n",
      " |  \n",
      " |  flush(self, /)\n",
      " |      Flush write buffers, if applicable.\n",
      " |      \n",
      " |      This is not implemented for read-only and non-blocking streams.\n",
      " |  \n",
      " |  isatty(self, /)\n",
      " |      Return whether this is an 'interactive' stream.\n",
      " |      \n",
      " |      Return False if it can't be determined.\n",
      " |  \n",
      " |  read(self, size=-1, /)\n",
      " |      Read at most n characters from stream.\n",
      " |      \n",
      " |      Read from underlying buffer until we have n characters or we hit EOF.\n",
      " |      If n is negative or omitted, read until EOF.\n",
      " |  \n",
      " |  readable(self, /)\n",
      " |      Return whether object was opened for reading.\n",
      " |      \n",
      " |      If False, read() will raise OSError.\n",
      " |  \n",
      " |  readline(self, size=-1, /)\n",
      " |      Read until newline or EOF.\n",
      " |      \n",
      " |      Returns an empty string if EOF is hit immediately.\n",
      " |  \n",
      " |  reconfigure(self, /, *, encoding=None, errors=None, newline=None, line_buffering=None, write_through=None)\n",
      " |      Reconfigure the text stream with new parameters.\n",
      " |      \n",
      " |      This also does an implicit stream flush.\n",
      " |  \n",
      " |  seek(self, cookie, whence=0, /)\n",
      " |      Change stream position.\n",
      " |      \n",
      " |      Change the stream position to the given byte offset. The offset is\n",
      " |      interpreted relative to the position indicated by whence.  Values\n",
      " |      for whence are:\n",
      " |      \n",
      " |      * 0 -- start of stream (the default); offset should be zero or positive\n",
      " |      * 1 -- current stream position; offset may be negative\n",
      " |      * 2 -- end of stream; offset is usually negative\n",
      " |      \n",
      " |      Return the new absolute position.\n",
      " |  \n",
      " |  seekable(self, /)\n",
      " |      Return whether object supports random access.\n",
      " |      \n",
      " |      If False, seek(), tell() and truncate() will raise OSError.\n",
      " |      This method may need to do a test seek().\n",
      " |  \n",
      " |  tell(self, /)\n",
      " |      Return current stream position.\n",
      " |  \n",
      " |  truncate(self, pos=None, /)\n",
      " |      Truncate file to size bytes.\n",
      " |      \n",
      " |      File pointer is left unchanged.  Size defaults to the current IO\n",
      " |      position as reported by tell().  Returns the new size.\n",
      " |  \n",
      " |  writable(self, /)\n",
      " |      Return whether object was opened for writing.\n",
      " |      \n",
      " |      If False, write() will raise OSError.\n",
      " |  \n",
      " |  write(self, text, /)\n",
      " |      Write string to stream.\n",
      " |      Returns the number of characters written (which is always equal to\n",
      " |      the length of the string).\n",
      " |  \n",
      " |  ----------------------------------------------------------------------\n",
      " |  Static methods defined here:\n",
      " |  \n",
      " |  __new__(*args, **kwargs) from builtins.type\n",
      " |      Create and return a new object.  See help(type) for accurate signature.\n",
      " |  \n",
      " |  ----------------------------------------------------------------------\n",
      " |  Data descriptors defined here:\n",
      " |  \n",
      " |  buffer\n",
      " |  \n",
      " |  closed\n",
      " |  \n",
      " |  encoding\n",
      " |      Encoding of the text stream.\n",
      " |      \n",
      " |      Subclasses should override.\n",
      " |  \n",
      " |  errors\n",
      " |      The error setting of the decoder or encoder.\n",
      " |      \n",
      " |      Subclasses should override.\n",
      " |  \n",
      " |  line_buffering\n",
      " |  \n",
      " |  name\n",
      " |  \n",
      " |  newlines\n",
      " |      Line endings translated so far.\n",
      " |      \n",
      " |      Only line endings translated during reading are considered.\n",
      " |      \n",
      " |      Subclasses should override.\n",
      " |  \n",
      " |  write_through\n",
      " |  \n",
      " |  ----------------------------------------------------------------------\n",
      " |  Methods inherited from _IOBase:\n",
      " |  \n",
      " |  __del__(...)\n",
      " |  \n",
      " |  __enter__(...)\n",
      " |  \n",
      " |  __exit__(...)\n",
      " |  \n",
      " |  __iter__(self, /)\n",
      " |      Implement iter(self).\n",
      " |  \n",
      " |  readlines(self, hint=-1, /)\n",
      " |      Return a list of lines from the stream.\n",
      " |      \n",
      " |      hint can be specified to control the number of lines read: no more\n",
      " |      lines will be read if the total size (in bytes/characters) of all\n",
      " |      lines so far exceeds hint.\n",
      " |  \n",
      " |  writelines(self, lines, /)\n",
      " |      Write a list of lines to stream.\n",
      " |      \n",
      " |      Line separators are not added, so it is usual for each of the\n",
      " |      lines provided to have a line separator at the end.\n",
      " |  \n",
      " |  ----------------------------------------------------------------------\n",
      " |  Data descriptors inherited from _IOBase:\n",
      " |  \n",
      " |  __dict__\n",
      "\n"
     ]
    }
   ],
   "source": [
    "help(f)"
   ]
  },
  {
   "cell_type": "code",
   "execution_count": 3,
   "id": "8e47cfe7",
   "metadata": {},
   "outputs": [
    {
     "name": "stdout",
     "output_type": "stream",
     "text": [
      "Ciao! Benvenuto/a nel corso\n",
      "di programmazione\n",
      "in Python.\n"
     ]
    }
   ],
   "source": [
    "# Leggiamo il contenuto del file e salviamolo come stringa nella variabile contenuto\n",
    "contenuto = f.read()\n",
    "\n",
    "# Stampiamo il contenuto\n",
    "print(contenuto)"
   ]
  },
  {
   "cell_type": "code",
   "execution_count": 4,
   "id": "7e98da1f",
   "metadata": {},
   "outputs": [
    {
     "name": "stdout",
     "output_type": "stream",
     "text": [
      "\n"
     ]
    }
   ],
   "source": [
    "# Leggiamo i primi 5 caratteri del file e salviamolo come stringa nella variabile contenuto\n",
    "contenuto = f.read(5)\n",
    "\n",
    "# Stampiamo il contenuto\n",
    "print(contenuto)"
   ]
  },
  {
   "cell_type": "markdown",
   "id": "779a2848",
   "metadata": {},
   "source": [
    "**Come mai non funziona?**\n",
    "\n",
    "👉 dopo la prima lettura, il 'cursore' si sposta in fondo al file. Quindi le letture successive non restituiranno più dati, a meno che tu non sposti di nuovo il cursore."
   ]
  },
  {
   "cell_type": "code",
   "execution_count": 5,
   "id": "85b8698e",
   "metadata": {},
   "outputs": [
    {
     "name": "stdout",
     "output_type": "stream",
     "text": [
      "Ciao!\n"
     ]
    }
   ],
   "source": [
    "# Riposizioniamo il cursore al primo carattere\n",
    "f.seek(0)\n",
    "\n",
    "# Leggiamo i primi 5 caratteri del file e salviamolo come stringa nella variabile contenuto\n",
    "contenuto = f.read(5)\n",
    "\n",
    "# Stampiamo il contenuto\n",
    "print(contenuto)\n",
    "\n",
    "# Chiudiamo il file\n",
    "f.close()"
   ]
  },
  {
   "cell_type": "markdown",
   "id": "3bfb48bf",
   "metadata": {},
   "source": [
    "Sapendo questo, possiamo anche leggere $x$ caratteri alla volta senza aprire ogni volta il file:"
   ]
  },
  {
   "cell_type": "code",
   "execution_count": 6,
   "id": "9f736860",
   "metadata": {},
   "outputs": [
    {
     "name": "stdout",
     "output_type": "stream",
     "text": [
      "Ciao!| Benv|enuto|/a ne|"
     ]
    }
   ],
   "source": [
    "# Assegnamo alla variabile f il file esempio.txt\n",
    "f = open('esempio.txt', 'r')\n",
    "\n",
    "contenuto_1 = f.read(5)\n",
    "contenuto_2 = f.read(5)\n",
    "contenuto_3 = f.read(5)\n",
    "contenuto_4 = f.read(5)\n",
    "\n",
    "print(contenuto_1, end='|')\n",
    "print(contenuto_2, end='|')\n",
    "print(contenuto_3, end='|')\n",
    "print(contenuto_4, end='|')\n",
    "\n",
    "f.close()"
   ]
  },
  {
   "cell_type": "markdown",
   "id": "4afe58e8",
   "metadata": {},
   "source": [
    "## 📦 Cosa sono i file binari in Python\n",
    "\n",
    "I **file binari** contengono dati non leggibili come testo (es. immagini, video, audio). A differenza dei file di testo, non vanno aperti in modalità `\"r\"` ma con `\"rb\"` (read binary) o `\"wb\"` per scrittura.\n",
    "\n",
    "Esempio: apriamo e leggiamo i byte di un'immagine `Colline.jpg`:"
   ]
  },
  {
   "cell_type": "code",
   "execution_count": 9,
   "id": "26c57dbc",
   "metadata": {},
   "outputs": [
    {
     "name": "stdout",
     "output_type": "stream",
     "text": [
      "ffd8ffe1131b4578696600004d4d002a000000080007011200030000000100010000011a00050000000100000062011b0005\n"
     ]
    }
   ],
   "source": [
    "file = open(\"Colline.jpg\", \"rb\")\n",
    "contenuto = file.read().hex() # converte i byte in esadecimale\n",
    "print(contenuto[:100])  # stampiamo solo i primi 100 byte\n",
    "file.close()"
   ]
  },
  {
   "cell_type": "code",
   "execution_count": 10,
   "id": "8c9213d1",
   "metadata": {},
   "outputs": [
    {
     "name": "stdout",
     "output_type": "stream",
     "text": [
      "00000000: ffd8 ffe1 131b 4578 6966 0000 4d4d 002a  ......Exif..MM.*\n",
      "00000010: 0000 0008 0007 0112 0003 0000 0001 0001  ................\n",
      "00000020: 0000 011a 0005 0000 0001 0000 0062 011b  .............b..\n",
      "00000030: 0005 0000 0001 0000 006a 0128 0003 0000  .........j.(....\n",
      "00000040: 0001 0002 0000 0131 0002 0000 0024 0000  .......1.....$..\n",
      "00000050: 0072 0132 0002 0000 0014 0000 0096 8769  .r.2...........i\n",
      "00000060: 0004 0000 0001 0000 00ac 0000 00d8 000a  ................\n",
      "00000070: fc80 0000 2710 000a fc80 0000 2710 4164  ....'.......'.Ad\n",
      "00000080: 6f62 6520 5068 6f74 6f73 686f 7020 4343  obe Photoshop CC\n",
      "00000090: 2032 3031 3920 284d 6163 696e 746f 7368   2019 (Macintosh\n",
      "xxd: Broken pipe\n"
     ]
    }
   ],
   "source": [
    "!xxd Colline.jpg | head -n 10"
   ]
  },
  {
   "cell_type": "code",
   "execution_count": 11,
   "id": "25d467be",
   "metadata": {},
   "outputs": [
    {
     "name": "stdout",
     "output_type": "stream",
     "text": [
      "ffd8 ffe1 131b 4578 6966 0000 4d4d 002a\n",
      "0000 0008 0007 0112 0003 0000 0001 0001\n",
      "0000 011a 0005 0000 0001 0000 0062 011b\n",
      "0005 0000 0001 0000 006a 0128 0003 0000\n",
      "0001 0002 0000 0131 0002 0000 0024 0000\n",
      "0072 0132 0002 0000 0014 0000 0096 8769\n",
      "0004 0000 0001 0000 00ac 0000 00d8 000a\n",
      "fc80 0000 2710 000a fc80 0000 2710 4164\n",
      "6f62 6520 5068 6f74 6f73 686f 7020 4343\n",
      "2032 3031 3920 284d 6163 696e 746f 7368\n",
      "2900 3230 3230 3a30 383a 3330 2032 323a\n",
      "3035 3a34 3600 0000 0003 a001 0003 0000\n",
      "0001 ffff 0000 a002\n"
     ]
    }
   ],
   "source": [
    "# Genera i gruppi da 4 caratteri\n",
    "gruppi = [contenuto[i:i+4] for i in range(0, len(contenuto), 4)][:100]\n",
    "\n",
    "# Inserisce uno spazio ogni 4 caratteri e un '\\n' ogni 8 gruppi\n",
    "righe = [' '.join(gruppi[i:i+8]) for i in range(0, len(gruppi), 8)]\n",
    "\n",
    "# Stampa con andata a capo ogni 8 gruppi\n",
    "print('\\n'.join(righe))"
   ]
  },
  {
   "cell_type": "markdown",
   "id": "47a17990",
   "metadata": {},
   "source": [
    "## 🎯 Controllo del cursore: `seek()` e `tell()`\n",
    "\n",
    "Quando leggiamo o scriviamo un file, Python mantiene un **cursore** interno che indica **dove ci troviamo** nel flusso di dati.\n",
    "\n",
    "Possiamo **controllare o spostare** questo cursore manualmente con due funzioni molto utili:\n",
    "\n",
    "### 🔍 `tell()`: dove siamo?\n",
    "\n",
    "Restituisce la **posizione attuale del cursore**, espressa in **byte**.\n",
    "\n",
    "### 🎛️ `seek(offset)`: spostare il cursore\n",
    "\n",
    "Permette di **spostare il cursore** a una posizione precisa nel file.\n",
    "\n",
    "📌 L'argomento `offset` indica **quanti byte dall’inizio** del file (posizione 0).\n",
    "\n",
    "### 🧠 Quando usarli?\n",
    "\n",
    "- Per **rileggere una parte** del file senza riaprirlo\n",
    "- Per **saltare intestazioni**\n",
    "- Per analizzare file **binari** con precisione\n",
    "- Per controllare **quanto è stato letto**\n",
    "\n",
    "### ⚠️ Attenzione\n",
    "\n",
    "- Nei file aperti in **modalità testo**, `seek()` e `tell()` funzionano, ma i valori **non indicano caratteri**, bensì **posizioni in byte** e possono essere poco affidabili con codifiche come UTF-8.\n",
    "- Se hai bisogno di un controllo preciso a livello di byte, usa la **modalità binaria** (`rb`, `wb`, ecc.).\n"
   ]
  },
  {
   "cell_type": "code",
   "execution_count": null,
   "id": "f127b022",
   "metadata": {},
   "outputs": [
    {
     "name": "stdout",
     "output_type": "stream",
     "text": [
      "Ciao!\n",
      "5\n",
      "Ciao!\n"
     ]
    }
   ],
   "source": [
    "# Esempio 1: tell() e seek() con file di testo\n",
    "with open(\"esempio.txt\", \"r\") as f:\n",
    "    print(f.read(5))      # Legge i primi 5 caratteri\n",
    "    print(f.tell())       # Mostra la posizione corrente\n",
    "    \n",
    "    f.seek(0)             # Torna all'inizio del file\n",
    "    print(f.read(5))      # Rilegge i primi 5 caratteri"
   ]
  },
  {
   "cell_type": "code",
   "execution_count": null,
   "id": "562e04aa",
   "metadata": {},
   "outputs": [],
   "source": [
    "# Esempio 2: uso di seek() in modalità binaria\n",
    "with open(\"immagine.jpg\", \"rb\") as f:\n",
    "    f.seek(10)            # Vai al byte 10\n",
    "    dati = f.read(4)      # Leggi 4 byte da lì\n",
    "    print(dati)"
   ]
  },
  {
   "cell_type": "markdown",
   "id": "10e59b19",
   "metadata": {},
   "source": [
    "📌 Il simbolo `/` indica che tutti i parametri prima del `/` sono solo posizionali."
   ]
  },
  {
   "cell_type": "code",
   "execution_count": null,
   "id": "f9c0ac8f",
   "metadata": {},
   "outputs": [],
   "source": [
    "# Attenzione!\n",
    "def mia_funzione(x, /):\n",
    "    print(x)\n",
    "\n",
    "mia_funzione(10)       # ✅\n",
    "#mia_funzione(x=10)     # ❌ TypeError: solo posizionale"
   ]
  },
  {
   "cell_type": "markdown",
   "id": "081be230",
   "metadata": {},
   "source": [
    "## 📤 Scrivere su un file\n",
    "\n",
    "Scrivere su un file vuol dire **modificare o creare un file inserendo dati**. Possiamo:\n",
    "\n",
    "- Sovrascrivere il contenuto esistente (`w`).\n",
    "- Aggiungere (append) nuove righe (`a`).\n",
    "\n",
    "Entrambe creano il file se non esiste!\n",
    "\n",
    "⚠️ Se apri un file in modalità `w`, il contenuto esistente verrà **cancellato**.\n",
    "\n",
    "Quindi, se vuoi scrivere un nuovo contenuto cancellando tutto ciò che c’era prima, puoi usare la modalità `w`:"
   ]
  },
  {
   "cell_type": "code",
   "execution_count": 12,
   "id": "621a9e30",
   "metadata": {},
   "outputs": [],
   "source": [
    "# Creiamo il file esempio2.txt\n",
    "f = open('esempio2.txt', 'w')\n",
    "\n",
    "# Scriviamo nel file\n",
    "f.write(\"Questa riga sarà aggiunta in fondo.\\n\")\n",
    "\n",
    "# Chiudiamo il file\n",
    "f.close()"
   ]
  },
  {
   "cell_type": "code",
   "execution_count": 13,
   "id": "71c9b3a6",
   "metadata": {},
   "outputs": [
    {
     "name": "stdout",
     "output_type": "stream",
     "text": [
      "Questa riga sarà aggiunta in fondo.\n",
      "\n"
     ]
    }
   ],
   "source": [
    "# Creiamo il file esempio2.txt\n",
    "f = open('esempio2.txt', 'r')\n",
    "\n",
    "# Scriviamo nel file\n",
    "print(f.read())\n",
    "\n",
    "# Chiudiamo il file\n",
    "f.close()"
   ]
  },
  {
   "cell_type": "markdown",
   "id": "240bdc53",
   "metadata": {},
   "source": [
    "Se invece vuoi aggiungere nuovo contenuto in fondo al file (senza cancellare), usa la modalità `a` (che significa `append`):"
   ]
  },
  {
   "cell_type": "code",
   "execution_count": 18,
   "id": "745ec48f",
   "metadata": {},
   "outputs": [],
   "source": [
    "# Creiamo il file esempio2.txt\n",
    "f = open('esempio2.txt', 'a')\n",
    "\n",
    "# Scriviamo nel file\n",
    "f.write(\"Questa riga sarà aggiunta in fondo.\\n\")\n",
    "\n",
    "# Chiudiamo il file\n",
    "f.close()"
   ]
  },
  {
   "cell_type": "code",
   "execution_count": 19,
   "id": "477c215c",
   "metadata": {},
   "outputs": [
    {
     "name": "stdout",
     "output_type": "stream",
     "text": [
      "Questa riga sarà aggiunta in fondo.\n",
      "Questa riga sarà aggiunta in fondo.\n",
      "Questa riga sarà aggiunta in fondo.\n",
      "Questa riga sarà aggiunta in fondo.\n",
      "Questa riga sarà aggiunta in fondo.\n",
      "\n"
     ]
    }
   ],
   "source": [
    "# Creiamo il file esempio2.txt\n",
    "f = open('esempio2.txt', 'r')\n",
    "\n",
    "# Scriviamo nel file\n",
    "print(f.read())\n",
    "\n",
    "# Chiudiamo il file\n",
    "f.close()"
   ]
  },
  {
   "cell_type": "markdown",
   "id": "4311db43",
   "metadata": {},
   "source": [
    "Le modalità possono anche essere combinate, come ad esempio `r+`:"
   ]
  },
  {
   "cell_type": "code",
   "execution_count": 25,
   "id": "47a4416f",
   "metadata": {},
   "outputs": [],
   "source": [
    "!> esempio3.txt"
   ]
  },
  {
   "cell_type": "code",
   "execution_count": 26,
   "id": "3b611f8b",
   "metadata": {},
   "outputs": [
    {
     "name": "stdout",
     "output_type": "stream",
     "text": [
      "File vuoto!\n"
     ]
    }
   ],
   "source": [
    "# r+ → Lettura e scrittura (file deve esistere)\n",
    "f = open(\"esempio3.txt\", \"r+\")\n",
    "contenuto = f.read()\n",
    "print(contenuto if contenuto else \"File vuoto!\")"
   ]
  },
  {
   "cell_type": "markdown",
   "id": "a4e4c00d",
   "metadata": {},
   "source": [
    "La modalita `r+` permette di leggere e scrivere nel file. Senza però cancellarne il contenuto. Inoltre, se il file non esiste, restituisce un errore."
   ]
  },
  {
   "cell_type": "code",
   "execution_count": 27,
   "id": "10479e71",
   "metadata": {},
   "outputs": [
    {
     "name": "stdout",
     "output_type": "stream",
     "text": [
      "Modifica inizio\n",
      "\n"
     ]
    }
   ],
   "source": [
    "f.write(\"Modifica inizio\\n\")\n",
    "f.seek(0)  # torna all'inizio per poter leggere\n",
    "print(f.read())\n",
    "f.close()"
   ]
  },
  {
   "cell_type": "markdown",
   "id": "6d02c12b",
   "metadata": {},
   "source": [
    "Possiamo anche utilizzare `w+`, ma in questo caso il file verrà creato se non esiste, oppure sovrascritto:"
   ]
  },
  {
   "cell_type": "code",
   "execution_count": 28,
   "id": "4c56502a",
   "metadata": {},
   "outputs": [
    {
     "name": "stdout",
     "output_type": "stream",
     "text": [
      "Scrittura e poi lettura\n",
      "\n"
     ]
    }
   ],
   "source": [
    "# w+ → Scrittura e lettura (sovrascrive o crea)\n",
    "f = open(\"esempio4.txt\", \"w+\")\n",
    "f.write(\"Scrittura e poi lettura\\n\")\n",
    "f.seek(0)\n",
    "print(f.read())\n",
    "f.close()"
   ]
  },
  {
   "cell_type": "markdown",
   "id": "9bc7b574",
   "metadata": {},
   "source": [
    "Invece, con `a+` abbiamo l'apertura in lettura e aggiunta:"
   ]
  },
  {
   "cell_type": "code",
   "execution_count": 29,
   "id": "e9c8c6dd",
   "metadata": {},
   "outputs": [],
   "source": [
    "!> log.txt"
   ]
  },
  {
   "cell_type": "code",
   "execution_count": 33,
   "id": "03243ea1",
   "metadata": {},
   "outputs": [
    {
     "name": "stdout",
     "output_type": "stream",
     "text": [
      "Nuova riga aggiunta\n",
      "Nuova riga aggiunta\n",
      "Nuova riga aggiunta\n",
      "Nuova riga aggiunta\n",
      "\n"
     ]
    }
   ],
   "source": [
    "# a+ → Lettura e aggiunta\n",
    "f = open(\"log.txt\", \"a+\")\n",
    "f.write(\"Nuova riga aggiunta\\n\")\n",
    "f.seek(0)  # per leggere serve tornare all'inizio\n",
    "print(f.read())\n",
    "f.close()"
   ]
  },
  {
   "cell_type": "markdown",
   "id": "334c2e1b",
   "metadata": {},
   "source": [
    "## ✅ Uso corretto: apertura e chiusura\n",
    "\n",
    "Lavorare con i file comporta due fasi fondamentali:\n",
    "\n",
    "1. **Apertura del file**: specificando il percorso e la modalità.\n",
    "2. **Chiusura del file**: libera risorse e salva i dati.\n",
    "\n",
    "🔁 In alternativa, si può usare un **blocco contestuale (`with`)** che chiude il file automaticamente, anche in caso di errore.\n",
    "\n",
    "## Il costrutto `with` in Python\n",
    "\n",
    "Il costrutto `with` viene utilizzato per **gestire risorse in modo sicuro e automatico**, come file, connessioni, socket, lock, ecc.\n",
    "\n",
    "Quando si usa `with`, **non è necessario chiudere manualmente** il file con `close()` — viene fatto **automaticamente anche in caso di errore**.\n",
    "\n",
    "### 📌 Vantaggi principali:\n",
    "\n",
    "- ✔️ Chiusura automatica del file  \n",
    "- ✔️ Codice più pulito e leggibile  \n",
    "- ✔️ Migliore gestione degli errori  \n",
    "- ✔️ Evita dimenticanze (es. dimenticare `f.close()`)"
   ]
  },
  {
   "cell_type": "code",
   "execution_count": null,
   "id": "435eb4ab",
   "metadata": {},
   "outputs": [
    {
     "name": "stdout",
     "output_type": "stream",
     "text": [
      "Ciao! Benvenuto/a nel corso\n",
      "di programmazione\n",
      "in Python.\n"
     ]
    }
   ],
   "source": [
    "with open(\"esempio.txt\", \"r\") as f:\n",
    "    contenuto = f.read()\n",
    "    print(contenuto)\n",
    "# Qui il file è già stato chiuso automaticamente"
   ]
  },
  {
   "cell_type": "code",
   "execution_count": 35,
   "id": "523011a6",
   "metadata": {},
   "outputs": [
    {
     "name": "stdout",
     "output_type": "stream",
     "text": [
      "Hello, world!\n"
     ]
    }
   ],
   "source": [
    "# Scrittura con with\n",
    "with open(\"output.txt\", \"w+\") as f:\n",
    "    f.write(\"Hello, world!\")\n",
    "    f.seek(0)\n",
    "    print(f.read())"
   ]
  },
  {
   "cell_type": "markdown",
   "id": "c40c74db",
   "metadata": {},
   "source": [
    "## 📁 Percorsi e directory\n",
    "\n",
    "Un file può trovarsi:\n",
    "\n",
    "- In una **directory locale** (nella stessa cartella dello script).\n",
    "- In una **directory relativa** (una sottocartella).\n",
    "- In un **percorso assoluto** (specificando tutto il cammino nel file system).\n",
    "\n",
    "Esempi di percorsi:\n",
    "\n",
    "- `dati.txt` → file nella stessa cartella dello script\n",
    "- `./documenti/dati.txt` → file in una sottocartella\n",
    "- `documenti/dati.txt` → file in una sottocartella\n",
    "- `/Users/nome/Desktop/dati.txt` → percorso assoluto (macOS/Linux)\n",
    "- `C:\\Users\\nome\\Desktop\\dati.txt` → percorso assoluto (Windows)\n",
    "\n",
    "## 🧪 Lettura e scrittura riga per riga\n",
    "\n",
    "Quando un file è molto grande, è meglio **leggerlo o scriverlo una riga alla volta**. Questo riduce l’uso di memoria ed è più efficiente.\n",
    "\n",
    "📌 Leggere riga per riga è utile anche per elaborare contenuti strutturati come CSV o log."
   ]
  },
  {
   "cell_type": "code",
   "execution_count": 39,
   "id": "adf8d952",
   "metadata": {},
   "outputs": [
    {
     "name": "stdout",
     "output_type": "stream",
     "text": [
      "Nel mezzo del cammin di nostra vita  \n",
      "mi ritrovai per una selva oscura,  \n",
      "ché la diritta via era smarrita.  \n",
      "Ahi quanto a dir qual era è cosa dura  \n",
      "esta selva selvaggia e aspra e forte  \n",
      "che nel pensier rinova la paura!\n"
     ]
    }
   ],
   "source": [
    "# esempio: leggere riga per riga ed elaborare solo righe significative\n",
    "with open(\"grande_file.txt\", \"r\", encoding=\"utf-8\") as file:\n",
    "    for line in file:\n",
    "        print(line, end='')"
   ]
  },
  {
   "cell_type": "code",
   "execution_count": 51,
   "id": "ffa8a63e",
   "metadata": {},
   "outputs": [
    {
     "name": "stdout",
     "output_type": "stream",
     "text": [
      "Nel mezzo del cammin di nostra vita  \n",
      "mi ritrovai per una selva oscura,  \n",
      "ché la diritta via era smarrita.  \n",
      "Ahi quanto a dir qual era è cosa dura  \n",
      "esta selva selvaggia e aspra e forte  \n",
      "che nel pensier rinova la paura!\n"
     ]
    }
   ],
   "source": [
    "# Esempio: leggere tutte le righe in una lista e stamparle riga per riga\n",
    "with open(\"grande_file.txt\", \"r\", encoding=\"utf-8\") as file:\n",
    "    righe = file.readlines()  # Legge tutte le righe e le restituisce come lista\n",
    "    for riga in righe:\n",
    "        print(riga, end='')"
   ]
  },
  {
   "cell_type": "markdown",
   "id": "c057a886",
   "metadata": {},
   "source": [
    "### 🔍 Differenze rispetto a `for line in file`:\n",
    "\n",
    "| Metodo             | Carica tutto in memoria?     | Più efficiente per file grandi? |\n",
    "|--------------------|------------------------------|----------------------------------|\n",
    "| `readlines()`      | ✔️ Sì (lista in memoria)      | ❌ No                            |\n",
    "| `for line in file` | ❌ No (stream)                | ✔️ Sì                            |"
   ]
  },
  {
   "cell_type": "markdown",
   "id": "3071b825",
   "metadata": {},
   "source": [
    "## Facciamo ora qualche esempio pratico!\n",
    "\n",
    "### 📝 Esercizio: Analisi ordini\n",
    "\n",
    "Il programma deve leggere un file di testo dove **ogni riga** contiene:\n",
    "- Il nome di un prodotto\n",
    "- La quantità desiderata\n",
    "- La quantità disponibile in magazzino\n",
    "\n",
    "Lo scopo è determinare **quali prodotti devono essere ordinati** perché la quantità disponibile è **inferiore** a quella desiderata.\n",
    "\n",
    "#### 📂 Input:\n",
    "Un file di testo nel formato:\n",
    "\n",
    "```\n",
    "mele 9 10\n",
    "pere 9 8\n",
    "arance 10 1\n",
    "albicocche 8 10\n",
    "```\n",
    "\n",
    "#### ✅ Output atteso:\n",
    "Un `set` con i nomi dei prodotti da ordinare:\n",
    "```python\n",
    "{\"pere\", \"arance\"}\n",
    "```\n",
    "\n",
    "#### Soluzione 👀"
   ]
  },
  {
   "cell_type": "code",
   "execution_count": 41,
   "id": "3cb5d19e",
   "metadata": {},
   "outputs": [
    {
     "data": {
      "text/plain": [
       "{'arance', 'pere'}"
      ]
     },
     "execution_count": 41,
     "metadata": {},
     "output_type": "execute_result"
    }
   ],
   "source": [
    "def analizza_ordini(input):\n",
    "    # Inizializza un set per memorizzare i prodotti da ordinare (evita duplicati)\n",
    "    prodotti_da_ordinare = set()\n",
    "\n",
    "    # Apre il file in modalità lettura\n",
    "    with open(input, \"r\") as f:\n",
    "        # Legge ogni riga del file\n",
    "        for riga in f:\n",
    "            # Rimuove il carattere di nuova linea e divide la riga in tre parti\n",
    "            prodotto, quantita_desiderata, quantita_disponibile = riga.rstrip(\"\\n\").split(\" \")\n",
    "\n",
    "            # Confronta la quantità desiderata con quella disponibile\n",
    "            if int(quantita_desiderata) > int(quantita_disponibile):\n",
    "                # Se la quantità desiderata è maggiore, aggiunge il prodotto al set\n",
    "                prodotti_da_ordinare.add(prodotto)\n",
    "\n",
    "    # Restituisce il set dei prodotti da ordinare\n",
    "    return prodotti_da_ordinare\n",
    "\n",
    "analizza_ordini('ordini.txt')"
   ]
  },
  {
   "cell_type": "markdown",
   "id": "7a8bc23e",
   "metadata": {},
   "source": [
    "### 📝 Esercizio: Analisi degli accessi a un sistema\n",
    "\n",
    "Hai a disposizione un file di log chiamato `accessi.txt`, in cui ogni riga rappresenta un accesso al sistema informatico aziendale.\n",
    "Ogni riga del file ha il formato:\n",
    "\n",
    "`username` `data` `ora` `esito`\n",
    "\n",
    "dove:\n",
    "\n",
    "- `username`: il nome utente\n",
    "- `data`: nel formato `YYYY-MM-DD`\n",
    "- `ora`: nel formato `HH:MM`\n",
    "- `esito`: può essere `successo` oppure `fallito`\n",
    "\n",
    "Scrivere una funzione `analizza_accessi(nome_file)` che restituisce un dizionario con:\n",
    "- come chiavi i nomi utente (`username`)\n",
    "- come valori una tupla con il numero di accessi **falliti** per ciascun utente e il numero di accessi **riusciti**\n",
    "  \n",
    "```python\n",
    "(falliti, riusciti)\n",
    "```\n",
    "\n",
    "- Il numero di accessi riusciti deve considerare solo gli accessi **riusciti** tra le `00:00` e le `03:15`\n",
    "\n",
    "Se un utente non ha mai fatto accessi falliti ne accessi riusciti, non deve comparire nel dizionario.\n",
    "\n",
    "#### Soluzione 👀"
   ]
  },
  {
   "cell_type": "code",
   "execution_count": 42,
   "id": "dddec685",
   "metadata": {},
   "outputs": [
    {
     "data": {
      "text/plain": [
       "{'mario': (1, 2), 'anna': (1, 1), 'luca': (1, 0), 'giulia': (1, 1)}"
      ]
     },
     "execution_count": 42,
     "metadata": {},
     "output_type": "execute_result"
    }
   ],
   "source": [
    "def analizza_accessi(nome_file):\n",
    "    risultati = {}\n",
    "\n",
    "    with open(nome_file, \"r\") as file:\n",
    "        for riga in file:\n",
    "            username, data, ora, esito = riga.strip().split() # Rimuove il carattere di nuova linea e divide la riga per spazi\n",
    "\n",
    "            # Inizializza la voce dell'utente se non esiste\n",
    "            if username not in risultati:\n",
    "                risultati[username] = [0, 0]  # [falliti, riusciti_nella_fascia]\n",
    "\n",
    "            # Conta i fallimenti\n",
    "            if esito == \"fallito\":\n",
    "                risultati[username][0] += 1\n",
    "\n",
    "            # Conta i successi solo se nell'intervallo 00:00 - 03:15\n",
    "            elif esito == \"successo\":\n",
    "                if \"00:00\" <= ora <= \"03:15\":\n",
    "                    risultati[username][1] += 1\n",
    "\n",
    "    # Costruisce un nuovo dizionario solo con utenti con almeno un accesso valido\n",
    "    risultati_filtrati = {}\n",
    "    for utente in risultati:\n",
    "        falliti, riusciti = risultati[utente]\n",
    "        if falliti > 0 or riusciti > 0:\n",
    "            risultati_filtrati[utente] = (falliti, riusciti)\n",
    "\n",
    "    return risultati_filtrati\n",
    "\n",
    "# Esempio uso:\n",
    "analizza_accessi(\"accessi.txt\")"
   ]
  },
  {
   "cell_type": "markdown",
   "id": "313df6de",
   "metadata": {},
   "source": [
    "### 📊 Esercizio: Giorni di attività\n",
    "\n",
    "Il programma deve leggere un file di testo dove **ogni riga** contiene le informazioni di un'interazione utente nel formato:\n",
    "- Data (formato gg/mm/aaaa)\n",
    "- Ora (formato hh:mm)\n",
    "- Nome utente\n",
    "- Tipo di interazione (like o commento)\n",
    "\n",
    "Lo scopo è determinare **per ogni giorno** il numero totale di like e commenti effettuati da tutti gli utenti, restituendo i risultati **ordinati cronologicamente**.\n",
    "\n",
    "#### 📂 Input:\n",
    "Un file di testo nel formato:\n",
    "```\n",
    "30/08/2024 - 12:30 - utente_A - like\n",
    "28/08/2024 - 10:15 - marco_rossi - like\n",
    "29/08/2024 - 15:25 - giulia_verdi - commento\n",
    "28/08/2024 - 14:45 - luca_bianchi - like\n",
    "29/08/2024 - 08:20 - anna_neri - like\n",
    "```\n",
    "\n",
    "#### ✅ Output atteso:\n",
    "Un `dict` con le date come chiavi e dizionari con i conteggi come valori:\n",
    "```python\n",
    "{\n",
    "    \"28/08/2024\": {\"like\": 2, \"commento\": 0},\n",
    "    \"29/08/2024\": {\"like\": 1, \"commento\": 1},\n",
    "    \"30/08/2024\": {\"like\": 1, \"commento\": 0}\n",
    "}\n",
    "```\n",
    "\n",
    "#### 📋 Stampa formattata:\n",
    "```\n",
    "28/08/2024 - Like: 2, Commenti: 0\n",
    "29/08/2024 - Like: 1, Commenti: 1\n",
    "30/08/2024 - Like: 1, Commenti: 0\n",
    "```\n",
    "\n",
    "#### 💡 Suggerimenti:\n",
    "- Per ordinare le date (stringhe) cronologicamente, usa:\n",
    "  ```python\n",
    "  sorted(dizionario.keys(), key=lambda x: tuple(map(int, x.split('/')[::-1])))\n",
    "  ```\n",
    "- Ricorda di gestire i casi di errore (file non trovato, formato riga non valido)\n",
    "- La funzione deve **restituire** il dizionario, la stampa va fatta esternamente\n",
    "\n",
    "#### Soluzione 👀"
   ]
  },
  {
   "cell_type": "code",
   "execution_count": null,
   "id": "1e7ae9cb",
   "metadata": {},
   "outputs": [
    {
     "name": "stdout",
     "output_type": "stream",
     "text": [
      "28/08/2024 - Like: 2, Commenti: 1\n",
      "29/08/2024 - Like: 4, Commenti: 2\n",
      "30/08/2024 - Like: 3, Commenti: 3\n"
     ]
    }
   ],
   "source": [
    "def giorni_di_attivita(nome_file):\n",
    "    \"\"\"\n",
    "    Analizza un file di attività utenti e restituisce una stringa formattata\n",
    "    con il numero di like e commenti per ogni giorno.\n",
    "    \n",
    "    Args:\n",
    "        nome_file (str): Nome del file contenente le attività\n",
    "        \n",
    "    Returns:\n",
    "        str: Stringa formattata con i risultati ordinati per data\n",
    "    \"\"\"\n",
    "    # Dizionario per memorizzare i conteggi per ogni giorno\n",
    "    attivita_per_giorno = {}\n",
    "    \n",
    "    with open(nome_file, 'r', encoding='utf-8') as file:\n",
    "        for riga in file:\n",
    "            # Rimuove spazi e caratteri di fine riga\n",
    "            riga = riga.strip() # Utilissimo per eliminare lo \\n se non si tratta dell'ultima riga\n",
    "            \n",
    "            # Salta righe vuote\n",
    "            if not riga:\n",
    "                continue\n",
    "            \n",
    "            # Divide la riga usando il separatore \" - \"\n",
    "            parti = riga.split(' - ')\n",
    "            \n",
    "            # Verifica che la riga abbia il formato corretto\n",
    "            if len(parti) != 4:\n",
    "                print(f\"Riga con formato non valido: {riga}\")\n",
    "                continue\n",
    "            \n",
    "            data, ora, utente, tipo_interazione = parti\n",
    "            \n",
    "            # Inizializza il giorno se non esiste\n",
    "            if data not in attivita_per_giorno:\n",
    "                attivita_per_giorno[data] = {'like': 0, 'commento': 0}\n",
    "            \n",
    "            # Incrementa il contatore appropriato\n",
    "            if tipo_interazione.lower() == 'like':\n",
    "                attivita_per_giorno[data]['like'] += 1\n",
    "            elif tipo_interazione.lower() == 'commento':\n",
    "                attivita_per_giorno[data]['commento'] += 1\n",
    "            else:\n",
    "                print(f\"Tipo di interazione non riconosciuto: {tipo_interazione}\")\n",
    "    \n",
    "    # Ordina le date usando la funzione suggerita nell'esercizio\n",
    "    date_ordinate = sorted(attivita_per_giorno.keys(), \n",
    "                          key=lambda x: tuple(map(int, x.split('/')[::-1]))) # Da qui esce una lista con le date ordinate (non ripetute, dato che sono chiavi di un dizionario)\n",
    "    \n",
    "    # Crea la stringa formattata\n",
    "    risultato = []\n",
    "    for data in date_ordinate:\n",
    "        likes = attivita_per_giorno[data]['like']\n",
    "        commenti = attivita_per_giorno[data]['commento']\n",
    "        risultato.append(f\"{data} - Like: {likes}, Commenti: {commenti}\")\n",
    "    \n",
    "    return '\\n'.join(risultato)\n",
    "\n",
    "# Chiama la funzione e stampa direttamente il risultato\n",
    "print(giorni_di_attivita(\"attivita.txt\"))"
   ]
  },
  {
   "cell_type": "markdown",
   "id": "6b3cbe4b",
   "metadata": {},
   "source": [
    "#### Soluzione (ristretta) 👀"
   ]
  },
  {
   "cell_type": "code",
   "execution_count": 43,
   "id": "7c90a879",
   "metadata": {},
   "outputs": [
    {
     "name": "stdout",
     "output_type": "stream",
     "text": [
      "28/08/2024 - Like: 2, Commenti: 1\n",
      "29/08/2024 - Like: 4, Commenti: 2\n",
      "30/08/2024 - Like: 3, Commenti: 3\n"
     ]
    }
   ],
   "source": [
    "def giorni_di_attivita(nome_file):\n",
    "    attivita = {}\n",
    "    with open(nome_file, 'r', encoding='utf-8') as file:\n",
    "        for riga in file:\n",
    "            parti = riga.strip().split(' - ')\n",
    "            if len(parti) == 4:\n",
    "                data, _, _, tipo = parti\n",
    "                if data not in attivita:\n",
    "                    attivita[data] = {'like': 0, 'commento': 0}\n",
    "                if tipo.lower() in ['like', 'commento']:\n",
    "                    attivita[data][tipo.lower()] += 1\n",
    "    \n",
    "    date_ordinate = sorted(attivita.keys(), key=lambda x: tuple(map(int, x.split('/')[::-1])))\n",
    "    return '\\n'.join(f\"{data} - Like: {attivita[data]['like']}, Commenti: {attivita[data]['commento']}\" \n",
    "                     for data in date_ordinate)\n",
    "\n",
    "# Esempio di utilizzo\n",
    "print(giorni_di_attivita(\"attivita.txt\"))"
   ]
  },
  {
   "cell_type": "markdown",
   "id": "bdc386f0",
   "metadata": {},
   "source": [
    "## 📌 Buone pratiche\n",
    "\n",
    "- 📏 Verifica che il file esista prima di leggerlo.\n",
    "- 📂 Usa blocchi `with` per una gestione sicura e automatica della chiusura.\n",
    "- ⚠️ Non sovrascrivere file importanti senza backup.\n",
    "- 🔐 Gestisci gli errori con `try`/`except` per evitare crash se il file non è accessibile.\n",
    "\n",
    "## 🧼 Riepilogo\n",
    "\n",
    "| Operazione       | Cosa fa                                      |\n",
    "|------------------|----------------------------------------------|\n",
    "| Aprire un file   | Crea un ponte tra il programma e il file     |\n",
    "| Leggere           | Recupera i dati dal file                     |\n",
    "| Scrivere          | Inserisce dati nel file                      |\n",
    "| Chiudere          | Libera risorse e completa le operazioni     |\n",
    "\n",
    "## 🎯 Obiettivo\n",
    "\n",
    "Lavorare con i file serve a:\n",
    "\n",
    "- Salvare e riutilizzare dati in modo persistente.\n",
    "- Interagire con il mondo esterno (input/output).\n",
    "- Automatizzare lettura e scrittura di grandi quantità di testo o dati.\n",
    "\n",
    "➡️ Nella prossima lezione vedremo come **gestire file CSV e JSON**, che sono formati molto usati per lo scambio dati!\n"
   ]
  }
 ],
 "metadata": {
  "kernelspec": {
   "display_name": "datas",
   "language": "python",
   "name": "python3"
  },
  "language_info": {
   "codemirror_mode": {
    "name": "ipython",
    "version": 3
   },
   "file_extension": ".py",
   "mimetype": "text/x-python",
   "name": "python",
   "nbconvert_exporter": "python",
   "pygments_lexer": "ipython3",
   "version": "3.10.13"
  }
 },
 "nbformat": 4,
 "nbformat_minor": 5
}
