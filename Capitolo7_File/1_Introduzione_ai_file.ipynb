{
 "cells": [
  {
   "cell_type": "markdown",
   "id": "ebf9d67e",
   "metadata": {},
   "source": [
    "# 📂 File\n",
    "\n",
    "I **file** sono un mezzo fondamentale per **memorizzare dati in modo permanente**. A differenza delle variabili, che esistono solo durante l’esecuzione del programma, i file consentono di **salvare informazioni** per poterle usare anche in un secondo momento.\n",
    "\n",
    "## 🤔 Perché lavorare con i file?\n",
    "\n",
    "I file sono utili per:\n",
    "\n",
    "- 📝 Salvare dati di input/output in modo permanente.\n",
    "- 📊 Registrare log o risultati di esecuzioni.\n",
    "- 🔄 Scambiare dati tra programmi (es. CSV, JSON).\n",
    "- 📚 Caricare configurazioni o documenti di grandi dimensioni.\n",
    "\n",
    "## 🗂️ Tipi di file\n",
    "\n",
    "I file possono essere di diversi tipi, ma i più comuni sono:\n",
    "\n",
    "- **File di testo** (`.txt`, `.csv`, `.json`, ecc.)  \n",
    "  Contengono caratteri leggibili.\n",
    "  \n",
    "- **File binari** (`.bin`, `.exe`, immagini, audio, ecc.)  \n",
    "  Contengono dati non leggibili direttamente, codificati in byte.\n",
    "\n",
    "<img src=\"./file_testuali_e_binari.png\" width=\"600\" style=\"display: block; margin-left: auto; margin-right: auto;\">\n",
    "\n",
    "L'estensione rappresenta solo un'indicazione (utile per capire come interpretare il contenuto) sul contenuto del file, ma non ne determina il formato reale. Un file .txt può contenere dati binari, e un file .bin può essere rinominato .dat senza cambiare il contenuto effettivo.\n",
    "➡️ È il modo in cui apriamo e interpretiamo il file (in modalità testo o binaria) che fa la differenza nel trattamento dei dati.\n",
    "\n",
    "✅ Per questo è importante sapere come leggere e scrivere correttamente un file in base al tipo di contenuto che ci aspettiamo."
   ]
  },
  {
   "cell_type": "markdown",
   "id": "154d706d",
   "metadata": {},
   "source": [
    "## 🔐 Modalità di apertura\n",
    "\n",
    "Quando si lavora con un file, è importante specificare **in che modo** vogliamo interagire con esso. Le modalità principali sono:\n",
    "\n",
    "| Modalità | Descrizione                          |\n",
    "|----------|--------------------------------------|\n",
    "| `r`      | Lettura (default)                    |\n",
    "| `w`      | Scrittura (sovrascrive il file)      |\n",
    "| `a`      | Scrittura (aggiunge in fondo)        |\n",
    "| `x`      | Crea un nuovo file (errore se esiste)|\n",
    "| `b`      | Modalità binaria                     |\n",
    "| `t`      | Modalità testo (default)             |\n",
    "| `+`      | Lettura e scrittura insieme          |\n",
    "\n",
    "📌 Le modalità possono essere **combinate**. Esempio: `rb` per leggere un file binario.\n",
    "\n",
    "### 🧩 Combinazioni possibili\n",
    "\n",
    "Puoi **combinare** alcune modalità per specificare più dettagli:\n",
    "\n",
    "- `rb` → lettura binaria\n",
    "- `wb` → scrittura binaria (sovrascrive)\n",
    "- `ab` → aggiunta binaria\n",
    "- `r+` → lettura e scrittura (senza creare)\n",
    "- `w+` → scrittura e lettura (sovrascrive)\n",
    "- `a+` → lettura e aggiunta\n",
    "- `rb+`, `wb+`, `ab+` → lettura/scrittura binaria\n",
    "\n",
    "📌 L’ordine delle lettere non è importante (`rb` = `br`), ma è buona pratica usare quello più leggibile (`r`, `w`, `a`, `x` prima, poi `b`, `t`, `+`).\n",
    "\n",
    "### ❌ Combinazioni NON valide\n",
    "\n",
    "Alcune modalità **non possono** essere combinate:\n",
    "\n",
    "- `r` e `x` insieme → ❌ hanno scopi opposti (lettura vs creazione esclusiva)\n",
    "- `x+` è valido, ma `xr` no\n",
    "- `b` e `t` insieme → ❌ sono alternative, non compatibili\n",
    "- `r` e `w` → ❌ conflitto: `r` apre un file **esistente**, `w` lo **sovrascrive** o crea  \n",
    "- `a` e `x` → ❌ `a` apre (o crea) un file per **aggiungere**, `x` crea un file **solo se non esiste**  \n",
    "- `w` e `x` → ❌ entrambe creano file, ma con comportamenti diversi: `w` sovrascrive, `x` fallisce se il file esiste  \n",
    "\n",
    "✅ Se vuoi **leggere e scrivere**, usa `+` insieme a una modalità principale (`r+`, `w+`, `a+`, `x+`),  \n",
    "**non combinare due modalità principali tra loro** (`r`, `w`, `a`, `x`).\n",
    "\n",
    "📎 Ricorda: la modalità `t` (testo) è il default, quindi `r` = `rt`, `w` = `wt`, ecc.\n",
    "\n",
    "## 📥 Leggere un file\n",
    "\n",
    "Leggere un file significa **aprire il file esistente e accedere ai suoi contenuti**. Possiamo leggere:\n",
    "\n",
    "- Tutto il contenuto in una volta sola.\n",
    "- Una riga alla volta.\n",
    "- Un blocco di caratteri.\n",
    "\n",
    "Proviamo subito a leggere il file `esempio.txt`."
   ]
  },
  {
   "cell_type": "code",
   "execution_count": 29,
   "id": "c0b45232",
   "metadata": {},
   "outputs": [],
   "source": [
    "# Assegnamo alla variabile f il file esempio.txt\n",
    "f = open('esempio.txt', 'r')"
   ]
  },
  {
   "cell_type": "markdown",
   "id": "95186dd1",
   "metadata": {},
   "source": [
    "`f` è ora un oggetto di tipo file."
   ]
  },
  {
   "cell_type": "code",
   "execution_count": 30,
   "id": "1161e480",
   "metadata": {},
   "outputs": [
    {
     "name": "stdout",
     "output_type": "stream",
     "text": [
      "Help on TextIOWrapper object:\n",
      "\n",
      "class TextIOWrapper(_TextIOBase)\n",
      " |  TextIOWrapper(buffer, encoding=None, errors=None, newline=None, line_buffering=False, write_through=False)\n",
      " |  \n",
      " |  Character and line based layer over a BufferedIOBase object, buffer.\n",
      " |  \n",
      " |  encoding gives the name of the encoding that the stream will be\n",
      " |  decoded or encoded with. It defaults to locale.getpreferredencoding(False).\n",
      " |  \n",
      " |  errors determines the strictness of encoding and decoding (see\n",
      " |  help(codecs.Codec) or the documentation for codecs.register) and\n",
      " |  defaults to \"strict\".\n",
      " |  \n",
      " |  newline controls how line endings are handled. It can be None, '',\n",
      " |  '\\n', '\\r', and '\\r\\n'.  It works as follows:\n",
      " |  \n",
      " |  * On input, if newline is None, universal newlines mode is\n",
      " |    enabled. Lines in the input can end in '\\n', '\\r', or '\\r\\n', and\n",
      " |    these are translated into '\\n' before being returned to the\n",
      " |    caller. If it is '', universal newline mode is enabled, but line\n",
      " |    endings are returned to the caller untranslated. If it has any of\n",
      " |    the other legal values, input lines are only terminated by the given\n",
      " |    string, and the line ending is returned to the caller untranslated.\n",
      " |  \n",
      " |  * On output, if newline is None, any '\\n' characters written are\n",
      " |    translated to the system default line separator, os.linesep. If\n",
      " |    newline is '' or '\\n', no translation takes place. If newline is any\n",
      " |    of the other legal values, any '\\n' characters written are translated\n",
      " |    to the given string.\n",
      " |  \n",
      " |  If line_buffering is True, a call to flush is implied when a call to\n",
      " |  write contains a newline character.\n",
      " |  \n",
      " |  Method resolution order:\n",
      " |      TextIOWrapper\n",
      " |      _TextIOBase\n",
      " |      _IOBase\n",
      " |      builtins.object\n",
      " |  \n",
      " |  Methods defined here:\n",
      " |  \n",
      " |  __init__(self, /, *args, **kwargs)\n",
      " |      Initialize self.  See help(type(self)) for accurate signature.\n",
      " |  \n",
      " |  __next__(self, /)\n",
      " |      Implement next(self).\n",
      " |  \n",
      " |  __repr__(self, /)\n",
      " |      Return repr(self).\n",
      " |  \n",
      " |  close(self, /)\n",
      " |      Flush and close the IO object.\n",
      " |      \n",
      " |      This method has no effect if the file is already closed.\n",
      " |  \n",
      " |  detach(self, /)\n",
      " |      Separate the underlying buffer from the TextIOBase and return it.\n",
      " |      \n",
      " |      After the underlying buffer has been detached, the TextIO is in an\n",
      " |      unusable state.\n",
      " |  \n",
      " |  fileno(self, /)\n",
      " |      Returns underlying file descriptor if one exists.\n",
      " |      \n",
      " |      OSError is raised if the IO object does not use a file descriptor.\n",
      " |  \n",
      " |  flush(self, /)\n",
      " |      Flush write buffers, if applicable.\n",
      " |      \n",
      " |      This is not implemented for read-only and non-blocking streams.\n",
      " |  \n",
      " |  isatty(self, /)\n",
      " |      Return whether this is an 'interactive' stream.\n",
      " |      \n",
      " |      Return False if it can't be determined.\n",
      " |  \n",
      " |  read(self, size=-1, /)\n",
      " |      Read at most n characters from stream.\n",
      " |      \n",
      " |      Read from underlying buffer until we have n characters or we hit EOF.\n",
      " |      If n is negative or omitted, read until EOF.\n",
      " |  \n",
      " |  readable(self, /)\n",
      " |      Return whether object was opened for reading.\n",
      " |      \n",
      " |      If False, read() will raise OSError.\n",
      " |  \n",
      " |  readline(self, size=-1, /)\n",
      " |      Read until newline or EOF.\n",
      " |      \n",
      " |      Returns an empty string if EOF is hit immediately.\n",
      " |  \n",
      " |  reconfigure(self, /, *, encoding=None, errors=None, newline=None, line_buffering=None, write_through=None)\n",
      " |      Reconfigure the text stream with new parameters.\n",
      " |      \n",
      " |      This also does an implicit stream flush.\n",
      " |  \n",
      " |  seek(self, cookie, whence=0, /)\n",
      " |      Change stream position.\n",
      " |      \n",
      " |      Change the stream position to the given byte offset. The offset is\n",
      " |      interpreted relative to the position indicated by whence.  Values\n",
      " |      for whence are:\n",
      " |      \n",
      " |      * 0 -- start of stream (the default); offset should be zero or positive\n",
      " |      * 1 -- current stream position; offset may be negative\n",
      " |      * 2 -- end of stream; offset is usually negative\n",
      " |      \n",
      " |      Return the new absolute position.\n",
      " |  \n",
      " |  seekable(self, /)\n",
      " |      Return whether object supports random access.\n",
      " |      \n",
      " |      If False, seek(), tell() and truncate() will raise OSError.\n",
      " |      This method may need to do a test seek().\n",
      " |  \n",
      " |  tell(self, /)\n",
      " |      Return current stream position.\n",
      " |  \n",
      " |  truncate(self, pos=None, /)\n",
      " |      Truncate file to size bytes.\n",
      " |      \n",
      " |      File pointer is left unchanged.  Size defaults to the current IO\n",
      " |      position as reported by tell().  Returns the new size.\n",
      " |  \n",
      " |  writable(self, /)\n",
      " |      Return whether object was opened for writing.\n",
      " |      \n",
      " |      If False, write() will raise OSError.\n",
      " |  \n",
      " |  write(self, text, /)\n",
      " |      Write string to stream.\n",
      " |      Returns the number of characters written (which is always equal to\n",
      " |      the length of the string).\n",
      " |  \n",
      " |  ----------------------------------------------------------------------\n",
      " |  Static methods defined here:\n",
      " |  \n",
      " |  __new__(*args, **kwargs) from builtins.type\n",
      " |      Create and return a new object.  See help(type) for accurate signature.\n",
      " |  \n",
      " |  ----------------------------------------------------------------------\n",
      " |  Data descriptors defined here:\n",
      " |  \n",
      " |  buffer\n",
      " |  \n",
      " |  closed\n",
      " |  \n",
      " |  encoding\n",
      " |      Encoding of the text stream.\n",
      " |      \n",
      " |      Subclasses should override.\n",
      " |  \n",
      " |  errors\n",
      " |      The error setting of the decoder or encoder.\n",
      " |      \n",
      " |      Subclasses should override.\n",
      " |  \n",
      " |  line_buffering\n",
      " |  \n",
      " |  name\n",
      " |  \n",
      " |  newlines\n",
      " |      Line endings translated so far.\n",
      " |      \n",
      " |      Only line endings translated during reading are considered.\n",
      " |      \n",
      " |      Subclasses should override.\n",
      " |  \n",
      " |  write_through\n",
      " |  \n",
      " |  ----------------------------------------------------------------------\n",
      " |  Methods inherited from _IOBase:\n",
      " |  \n",
      " |  __del__(...)\n",
      " |  \n",
      " |  __enter__(...)\n",
      " |  \n",
      " |  __exit__(...)\n",
      " |  \n",
      " |  __iter__(self, /)\n",
      " |      Implement iter(self).\n",
      " |  \n",
      " |  readlines(self, hint=-1, /)\n",
      " |      Return a list of lines from the stream.\n",
      " |      \n",
      " |      hint can be specified to control the number of lines read: no more\n",
      " |      lines will be read if the total size (in bytes/characters) of all\n",
      " |      lines so far exceeds hint.\n",
      " |  \n",
      " |  writelines(self, lines, /)\n",
      " |      Write a list of lines to stream.\n",
      " |      \n",
      " |      Line separators are not added, so it is usual for each of the\n",
      " |      lines provided to have a line separator at the end.\n",
      " |  \n",
      " |  ----------------------------------------------------------------------\n",
      " |  Data descriptors inherited from _IOBase:\n",
      " |  \n",
      " |  __dict__\n",
      "\n"
     ]
    }
   ],
   "source": [
    "help(f)"
   ]
  },
  {
   "cell_type": "code",
   "execution_count": 31,
   "id": "8e47cfe7",
   "metadata": {},
   "outputs": [
    {
     "name": "stdout",
     "output_type": "stream",
     "text": [
      "Ciao! Benvenuto/a nel corso\n",
      "di programmazione\n",
      "in Python.\n"
     ]
    }
   ],
   "source": [
    "# Leggiamo il contenuto del file e salviamolo come stringa nella variabile contenuto\n",
    "contenuto = f.read()\n",
    "\n",
    "# Stampiamo il contenuto\n",
    "print(contenuto)"
   ]
  },
  {
   "cell_type": "code",
   "execution_count": 32,
   "id": "7e98da1f",
   "metadata": {},
   "outputs": [
    {
     "name": "stdout",
     "output_type": "stream",
     "text": [
      "\n"
     ]
    }
   ],
   "source": [
    "# Leggiamo i primi 5 caratteri del file e salviamolo come stringa nella variabile contenuto\n",
    "contenuto = f.read(5)\n",
    "\n",
    "# Stampiamo il contenuto\n",
    "print(contenuto)"
   ]
  },
  {
   "cell_type": "markdown",
   "id": "779a2848",
   "metadata": {},
   "source": [
    "**Come mai non funziona?**\n",
    "\n",
    "👉 dopo la prima lettura, il 'cursore' si sposta in fondo al file. Quindi le letture successive non restituiranno più dati, a meno che tu non sposti di nuovo il cursore."
   ]
  },
  {
   "cell_type": "code",
   "execution_count": 28,
   "id": "85b8698e",
   "metadata": {},
   "outputs": [
    {
     "name": "stdout",
     "output_type": "stream",
     "text": [
      "Ciao!\n"
     ]
    }
   ],
   "source": [
    "# Riposizioniamo il cursore al primo carattere\n",
    "f.seek(0)\n",
    "\n",
    "# Leggiamo i primi 5 caratteri del file e salviamolo come stringa nella variabile contenuto\n",
    "contenuto = f.read(5)\n",
    "\n",
    "# Stampiamo il contenuto\n",
    "print(contenuto)\n",
    "\n",
    "# Chiudiamo il file\n",
    "f.close()"
   ]
  },
  {
   "cell_type": "markdown",
   "id": "10e59b19",
   "metadata": {},
   "source": [
    "📌 Il simbolo `/` indica che tutti i parametri prima del `/` sono solo posizionali."
   ]
  },
  {
   "cell_type": "code",
   "execution_count": null,
   "id": "f9c0ac8f",
   "metadata": {},
   "outputs": [],
   "source": [
    "# Attenzione!\n",
    "def mia_funzione(x, /):\n",
    "    print(x)\n",
    "\n",
    "mia_funzione(10)       # ✅\n",
    "#mia_funzione(x=10)     # ❌ TypeError: solo posizionale"
   ]
  },
  {
   "cell_type": "markdown",
   "id": "081be230",
   "metadata": {},
   "source": [
    "## 📤 Scrivere su un file\n",
    "\n",
    "Scrivere su un file vuol dire **modificare o creare un file inserendo dati**. Possiamo:\n",
    "\n",
    "- Sovrascrivere il contenuto esistente (`w`).\n",
    "- Aggiungere (append) nuove righe (`a`).\n",
    "- Scrivere in formato binario (`b`).\n",
    "\n",
    "⚠️ Se apri un file in modalità `w`, il contenuto esistente verrà **cancellato**.\n",
    "\n",
    "Quindi, se vuoi scrivere un nuovo contenuto cancellando tutto ciò che c’era prima, puoi usare la modalità `w`:"
   ]
  },
  {
   "cell_type": "code",
   "execution_count": 9,
   "id": "621a9e30",
   "metadata": {},
   "outputs": [],
   "source": [
    "# Creiamo il file esempio2.txt\n",
    "f = open('esempio2.txt', 'w')\n",
    "\n",
    "# Scriviamo nel file\n",
    "f.write(\"Questa riga sarà aggiunta in fondo.\\n\")\n",
    "\n",
    "# Chiudiamo il file\n",
    "f.close()"
   ]
  },
  {
   "cell_type": "code",
   "execution_count": 10,
   "id": "71c9b3a6",
   "metadata": {},
   "outputs": [
    {
     "name": "stdout",
     "output_type": "stream",
     "text": [
      "Questa riga sarà aggiunta in fondo.\n",
      "\n"
     ]
    }
   ],
   "source": [
    "# Creiamo il file esempio2.txt\n",
    "f = open('esempio2.txt', 'r')\n",
    "\n",
    "# Scriviamo nel file\n",
    "print(f.read())\n",
    "\n",
    "# Chiudiamo il file\n",
    "f.close()"
   ]
  },
  {
   "cell_type": "markdown",
   "id": "240bdc53",
   "metadata": {},
   "source": [
    "Se invece vuoi aggiungere nuovo contenuto in fondo al file (senza cancellare), usa la modalità `a` (che significa `append`):"
   ]
  },
  {
   "cell_type": "code",
   "execution_count": 7,
   "id": "745ec48f",
   "metadata": {},
   "outputs": [],
   "source": [
    "# Creiamo il file esempio2.txt\n",
    "f = open('esempio2.txt', 'a')\n",
    "\n",
    "# Scriviamo nel file\n",
    "f.write(\"Questa riga sarà aggiunta in fondo.\\n\")\n",
    "\n",
    "# Chiudiamo il file\n",
    "f.close()"
   ]
  },
  {
   "cell_type": "code",
   "execution_count": 11,
   "id": "477c215c",
   "metadata": {},
   "outputs": [
    {
     "name": "stdout",
     "output_type": "stream",
     "text": [
      "Questa riga sarà aggiunta in fondo.\n",
      "\n"
     ]
    }
   ],
   "source": [
    "# Creiamo il file esempio2.txt\n",
    "f = open('esempio2.txt', 'r')\n",
    "\n",
    "# Scriviamo nel file\n",
    "print(f.read())\n",
    "\n",
    "# Chiudiamo il file\n",
    "f.close()"
   ]
  },
  {
   "cell_type": "markdown",
   "id": "4311db43",
   "metadata": {},
   "source": [
    "Le modalità possono anche essere combinate, come ad esempio `r+`:"
   ]
  },
  {
   "cell_type": "code",
   "execution_count": 38,
   "id": "47a4416f",
   "metadata": {},
   "outputs": [],
   "source": [
    "!echo \"\" > esempio3.txt"
   ]
  },
  {
   "cell_type": "code",
   "execution_count": 39,
   "id": "3b611f8b",
   "metadata": {},
   "outputs": [
    {
     "name": "stdout",
     "output_type": "stream",
     "text": [
      "\n",
      "\n"
     ]
    }
   ],
   "source": [
    "# r+ → Lettura e scrittura (file deve esistere)\n",
    "f = open(\"esempio3.txt\", \"r+\")\n",
    "contenuto = f.read()\n",
    "print(contenuto if contenuto else \"File vuoto!\")"
   ]
  },
  {
   "cell_type": "code",
   "execution_count": 40,
   "id": "10479e71",
   "metadata": {},
   "outputs": [
    {
     "name": "stdout",
     "output_type": "stream",
     "text": [
      "\n",
      "Modifica inizio\n",
      "\n"
     ]
    }
   ],
   "source": [
    "f.write(\"Modifica inizio\\n\")\n",
    "f.seek(0)  # torna all'inizio per poter leggere\n",
    "print(f.read())"
   ]
  },
  {
   "cell_type": "code",
   "execution_count": 41,
   "id": "77a8919c",
   "metadata": {},
   "outputs": [],
   "source": [
    "f.close()"
   ]
  },
  {
   "cell_type": "markdown",
   "id": "6d02c12b",
   "metadata": {},
   "source": [
    "Possiamo anche utilizzare `w+`, ma in questo caso il file verrà creato se non esiste, oppure sovrascritto:"
   ]
  },
  {
   "cell_type": "code",
   "execution_count": null,
   "id": "4c56502a",
   "metadata": {},
   "outputs": [],
   "source": [
    "# w+ → Scrittura e lettura (sovrascrive o crea)\n",
    "f = open(\"esempio4.txt\", \"w+\")\n",
    "f.write(\"Scrittura e poi lettura\\n\")\n",
    "f.seek(0)\n",
    "print(f.read())\n",
    "f.close()"
   ]
  },
  {
   "cell_type": "markdown",
   "id": "9bc7b574",
   "metadata": {},
   "source": [
    "Invece, con `a+` abbiamo l'apertura in lettura e aggiunta:"
   ]
  },
  {
   "cell_type": "code",
   "execution_count": null,
   "id": "03243ea1",
   "metadata": {},
   "outputs": [],
   "source": [
    "# a+ → Lettura e aggiunta\n",
    "f = open(\"log.txt\", \"a+\")\n",
    "f.write(\"Nuova riga aggiunta\\n\")\n",
    "f.seek(0)  # per leggere serve tornare all'inizio\n",
    "print(f.read())\n",
    "f.close()"
   ]
  },
  {
   "cell_type": "markdown",
   "id": "334c2e1b",
   "metadata": {},
   "source": [
    "## ✅ Uso corretto: apertura e chiusura\n",
    "\n",
    "Lavorare con i file comporta due fasi fondamentali:\n",
    "\n",
    "1. **Apertura del file**: specificando il percorso e la modalità.\n",
    "2. **Chiusura del file**: libera risorse e salva i dati.\n",
    "\n",
    "🔁 In alternativa, si può usare un **blocco contestuale (`with`)** che chiude il file automaticamente, anche in caso di errore.\n",
    "\n",
    "## ✅ Il costrutto `with` in Python\n",
    "\n",
    "Il costrutto `with` viene utilizzato per **gestire risorse in modo sicuro e automatico**, come file, connessioni, socket, lock, ecc.\n",
    "\n",
    "Quando si usa `with`, **non è necessario chiudere manualmente** il file con `close()` — viene fatto **automaticamente anche in caso di errore**.\n",
    "\n",
    "### 📌 Vantaggi principali:\n",
    "\n",
    "- ✔️ Chiusura automatica del file  \n",
    "- ✔️ Codice più pulito e leggibile  \n",
    "- ✔️ Migliore gestione degli errori  \n",
    "- ✔️ Evita dimenticanze (es. dimenticare `f.close()`)"
   ]
  },
  {
   "cell_type": "code",
   "execution_count": null,
   "id": "435eb4ab",
   "metadata": {},
   "outputs": [],
   "source": [
    "with open(\"dati.txt\", \"r\") as f:\n",
    "    contenuto = f.read()\n",
    "    print(contenuto)\n",
    "# Qui il file è già stato chiuso automaticamente"
   ]
  },
  {
   "cell_type": "code",
   "execution_count": null,
   "id": "523011a6",
   "metadata": {},
   "outputs": [],
   "source": [
    "# Scrittura con with\n",
    "with open(\"output.txt\", \"w\") as f:\n",
    "    f.write(\"Hello, world!\")"
   ]
  },
  {
   "cell_type": "markdown",
   "id": "c40c74db",
   "metadata": {},
   "source": [
    "## 📁 Percorsi e directory\n",
    "\n",
    "Un file può trovarsi:\n",
    "\n",
    "- In una **directory locale** (nella stessa cartella dello script).\n",
    "- In una **directory relativa** (una sottocartella).\n",
    "- In un **percorso assoluto** (specificando tutto il cammino nel file system).\n",
    "\n",
    "Esempi di percorsi:\n",
    "\n",
    "- `dati.txt` → file nella stessa cartella dello script\n",
    "- `documenti/dati.txt` → file in una sottocartella\n",
    "- `/Users/nome/Desktop/dati.txt` → percorso assoluto (macOS/Linux)\n",
    "- `C:\\Users\\nome\\Desktop\\dati.txt` → percorso assoluto (Windows)"
   ]
  },
  {
   "cell_type": "markdown",
   "id": "bdc386f0",
   "metadata": {},
   "source": [
    "## 🧪 Lettura e scrittura riga per riga\n",
    "\n",
    "Quando un file è molto grande, è meglio **leggerlo o scriverlo una riga alla volta**. Questo riduce l’uso di memoria ed è più efficiente.\n",
    "\n",
    "📌 Leggere riga per riga è utile anche per elaborare contenuti strutturati come CSV o log.\n",
    "\n",
    "## 🔄 File come flussi di dati\n",
    "\n",
    "I file vengono trattati come **flussi di caratteri o byte**. Quando leggiamo o scriviamo, ci muoviamo attraverso questo flusso:\n",
    "\n",
    "- All’apertura, il **cursore** è all’inizio del file.\n",
    "- Dopo una lettura o scrittura, il cursore avanza.\n",
    "- Possiamo usare funzioni per **spostare** il cursore (seek) o **tornare all’inizio**.\n",
    "\n",
    "## 📌 Buone pratiche\n",
    "\n",
    "- 📏 Verifica che il file esista prima di leggerlo.\n",
    "- 📂 Usa blocchi `with` per una gestione sicura e automatica della chiusura.\n",
    "- ⚠️ Non sovrascrivere file importanti senza backup.\n",
    "- 🔐 Gestisci gli errori con `try`/`except` per evitare crash se il file non è accessibile.\n",
    "\n",
    "## 🧼 Riepilogo\n",
    "\n",
    "| Operazione       | Cosa fa                                      |\n",
    "|------------------|----------------------------------------------|\n",
    "| Aprire un file   | Crea un ponte tra il programma e il file     |\n",
    "| Leggere           | Recupera i dati dal file                     |\n",
    "| Scrivere          | Inserisce dati nel file                      |\n",
    "| Chiudere          | Libera risorse e completa le operazioni     |\n",
    "\n",
    "## 🎯 Obiettivo\n",
    "\n",
    "Lavorare con i file serve a:\n",
    "\n",
    "- Salvare e riutilizzare dati in modo persistente.\n",
    "- Interagire con il mondo esterno (input/output).\n",
    "- Automatizzare lettura e scrittura di grandi quantità di testo o dati.\n",
    "\n",
    "➡️ Nella prossima lezione vedremo come **gestire file CSV e JSON**, che sono formati molto usati per lo scambio dati!\n"
   ]
  },
  {
   "cell_type": "markdown",
   "id": "55586015",
   "metadata": {},
   "source": []
  }
 ],
 "metadata": {
  "kernelspec": {
   "display_name": "datas",
   "language": "python",
   "name": "python3"
  },
  "language_info": {
   "codemirror_mode": {
    "name": "ipython",
    "version": 3
   },
   "file_extension": ".py",
   "mimetype": "text/x-python",
   "name": "python",
   "nbconvert_exporter": "python",
   "pygments_lexer": "ipython3",
   "version": "3.10.13"
  }
 },
 "nbformat": 4,
 "nbformat_minor": 5
}
