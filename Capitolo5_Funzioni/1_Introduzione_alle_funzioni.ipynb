{
 "cells": [
  {
   "cell_type": "markdown",
   "id": "cd74351f",
   "metadata": {},
   "source": [
    "# 🧩 Funzioni\n",
    "\n",
    "Le **funzioni** sono uno dei concetti fondamentali della programmazione. Servono a **suddividere un programma in blocchi logici**, ognuno dei quali svolge un compito specifico.\n",
    "\n",
    "In termini semplici, una funzione è un **insieme di istruzioni** che possiamo **riutilizzare** ogni volta che serve, senza doverle riscrivere da capo.\n",
    "\n",
    "## 🤔 Perché usare le funzioni?\n",
    "\n",
    "Immagina di dover calcolare la media di una lista di numeri in vari punti del tuo programma. Se scrivessi le stesse istruzioni ogni volta, il codice diventerebbe **lungo, ripetitivo e difficile da leggere**.\n",
    "\n",
    "Le funzioni permettono di:\n",
    "\n",
    "- 📦 **Raggruppare** le istruzioni che compiono un'azione precisa.\n",
    "- 🔁 **Riutilizzare** quel blocco ogni volta che serve, semplicemente chiamandolo.\n",
    "- 🧹 **Migliorare la leggibilità** del codice, rendendolo più ordinato e più facile da capire.\n",
    "- 🛠️ **Facilitare la manutenzione**: se devi correggere un errore o migliorare una parte, ti basta modificare la funzione, e il cambiamento avrà effetto ovunque essa sia usata.\n"
   ]
  },
  {
   "cell_type": "markdown",
   "id": "1565afbc",
   "metadata": {},
   "source": [
    "## 🔧 Com’è fatta una funzione?\n",
    "\n",
    "Una funzione in Python è composta da:\n",
    "\n",
    "1. **Parola chiave `def`** → Va inserita prima del nome della funzione.\n",
    "2. **Un nome** → per poterla richiamare nel codice.\n",
    "3. **Una lista di parametri (opzionale)** → per passare dei dati alla funzione.\n",
    "4. **Un corpo** → che contiene le istruzioni da eseguire.\n",
    "5. **Un valore restituito (opzionale)** → che può essere usato nel resto del programma.\n",
    "\n",
    "💬 Detto altrimenti: una funzione può **ricevere informazioni**, **fare qualcosa con esse** e **restituire un risultato**.\n",
    "\n",
    "Vediamo subito un esempio pratico. \n",
    "\n",
    "### 🧪 Esempio\n",
    "Immagginiamo di avere due numeri e di voler calcolare la loro somma."
   ]
  },
  {
   "cell_type": "code",
   "execution_count": 29,
   "id": "8ada95f8",
   "metadata": {},
   "outputs": [
    {
     "name": "stdout",
     "output_type": "stream",
     "text": [
      "Risultato della somma: 12\n"
     ]
    }
   ],
   "source": [
    "# 📌 Questa è la DEFINIZIONE della funzione\n",
    "def somma_due_numeri(numero1, numero2):\n",
    "    \n",
    "    # Qui numero1 e numero2 sono PARAMETRI\n",
    "    risultato = numero1 + numero2\n",
    "\n",
    "    return risultato  # 📤 Valore di ritorno\n",
    "\n",
    "# 🔽 Questa è una variabile GLOBALE\n",
    "messaggio = \"Risultato della somma:\"\n",
    "\n",
    "# 🧭 Questa è una CHIAMATA alla funzione\n",
    "# Passiamo due ARGOMENTI: 7 e 5\n",
    "somma = somma_due_numeri(7, 5)\n",
    "\n",
    "# Stampiamo il risultato\n",
    "print(messaggio, somma)"
   ]
  },
  {
   "cell_type": "markdown",
   "id": "bac3e57e",
   "metadata": {},
   "source": [
    "`somma_due_numeri(numero1, numero2)` è la funzione che prende in input due numeri (due variabili di tipo numerico), ne calcola la somma, e restituisce il risultato.\n",
    "\n",
    "### 🧪 Esempio\n",
    "Immagginiamo di avere una lista e di voler calcolare la media armonica degli elementi al suo interno.\n",
    "\n",
    "Ricordiamo però prima come è definita la media armonica.\n",
    "\n",
    "*La **media armonica** di una lista di $n$ numeri positivi si calcola con la formula:*\n",
    "\n",
    "$$\n",
    "\\text{Media armonica}(lista) = \\frac{n}{\\sum_{i=1}^{n} \\frac{1}{x_i}}\n",
    "$$"
   ]
  },
  {
   "cell_type": "code",
   "execution_count": 30,
   "id": "f6517a70",
   "metadata": {},
   "outputs": [
    {
     "name": "stdout",
     "output_type": "stream",
     "text": [
      "La media armonica è: 5.454545454545454\n"
     ]
    }
   ],
   "source": [
    "# 📌 Definizione della funzione\n",
    "def media_armonica(lista_numeri):\n",
    "    # Controlliamo che la lista non sia vuota\n",
    "    if len(lista_numeri) == 0:\n",
    "        return None  # Nessun valore da restituire se la lista è vuota\n",
    "    \n",
    "    # Calcoliamo il denominatore: somma degli inversi\n",
    "    somma_inversi = 0\n",
    "    for numero in lista_numeri:\n",
    "        somma_inversi += 1 / numero\n",
    "\n",
    "    # Formula della media armonica\n",
    "    media = len(lista_numeri) / somma_inversi\n",
    "    return media  # 📤 Valore di ritorno\n",
    "\n",
    "# 🔽 Lista di esempio (variabile globale)\n",
    "valori = [4, 5, 10]\n",
    "\n",
    "# 🧭 Chiamata della funzione con una lista come argomento\n",
    "risultato = media_armonica(valori)\n",
    "\n",
    "# Stampiamo il risultato\n",
    "print(\"La media armonica è:\", risultato)"
   ]
  },
  {
   "cell_type": "markdown",
   "id": "f0987578",
   "metadata": {},
   "source": [
    "### 🧾 Analisi dell’esempio\n",
    "\n",
    "- `media_armonica` è la funzione.\n",
    "- `lista_numeri` è il **parametro**: accetterà una lista di numeri al momento della chiamata.\n",
    "- `[4, 5, 5]` è l’**argomento** passato alla funzione.\n",
    "- Il risultato è calcolato usando la formula della media armonica.\n",
    "\n",
    "📌 In questo modo, possiamo riutilizzare la funzione per **qualsiasi lista di numeri positivi**, cambiando solo l’argomento."
   ]
  },
  {
   "cell_type": "markdown",
   "id": "4eebcc16",
   "metadata": {},
   "source": [
    "## 📥 Parametri e argomenti\n",
    "\n",
    "Quando definiamo una funzione, possiamo **dichiarare dei parametri**, cioè **variabili che accetteranno dei valori** ogni volta che la funzione viene chiamata. Questi valori si chiamano **argomenti**.\n",
    "\n",
    "👉 Esempio concettuale:\n",
    "\n",
    "- La funzione si aspetta due numeri (i parametri).\n",
    "- Quando la chiamiamo, gliene passiamo due (gli argomenti).\n",
    "- La funzione usa quei numeri per fare un calcolo.\n",
    "\n",
    "Se una funzione **non ha bisogno di dati in ingresso**, possiamo definirla **senza parametri**.\n",
    "\n",
    "Quindi, \n",
    "\n",
    "👉 I **parametri** si dichiarano nella **definizione** della funzione.  \n",
    "\n",
    "```python\n",
    "def funzione(parametro_1, parametro_2):\n",
    "```\n",
    "\n",
    "👉 Gli **argomenti** sono i **valori reali** che passiamo alla funzione **quando la chiamiamo**.\n",
    "\n",
    "```python\n",
    "funzione(argomento_1, argomento_2)\n",
    "```\n",
    "\n",
    "### 🧠 Osservazioni importanti\n",
    "\n",
    "- Una funzione può avere **zero, uno o più parametri**.\n",
    "- Gli argomenti che passiamo **devono corrispondere** (per numero e ordine) ai parametri previsti dalla funzione.\n",
    "- Una funzione può essere riutilizzata più volte con **argomenti diversi**, proprio grazie alla flessibilità dei parametri.\n",
    "\n",
    "### 📐 Annotazioni di tipo\n",
    "\n",
    "In Python possiamo **specificare il tipo atteso di ciascun parametro** usando i due punti `:`. Questo si chiama annotazione di tipo e rende il codice più leggibile e sicuro."
   ]
  },
  {
   "cell_type": "code",
   "execution_count": 31,
   "id": "714ac884",
   "metadata": {},
   "outputs": [],
   "source": [
    "# Esempio di annotazione di tipo\n",
    "def somma(a: int, b: int):\n",
    "    return a + b"
   ]
  },
  {
   "cell_type": "markdown",
   "id": "815d8784",
   "metadata": {},
   "source": [
    "- `a: int` → il parametro a dovrebbe essere un intero\n",
    "\n",
    "- `-> int` → la funzione dovrebbe restituire un intero\n",
    "\n",
    "⚠️ Python non obbliga a rispettare questi tipi (non è un linguaggio strettamente tipizzato), ma strumenti esterni come editor, IDE e controlli statici possono segnalare errori se il tipo è errato."
   ]
  },
  {
   "cell_type": "code",
   "execution_count": 32,
   "id": "84e76610",
   "metadata": {},
   "outputs": [
    {
     "data": {
      "text/plain": [
       "'ea'"
      ]
     },
     "execution_count": 32,
     "metadata": {},
     "output_type": "execute_result"
    }
   ],
   "source": [
    "somma(\"e\", \"a\")"
   ]
  },
  {
   "cell_type": "markdown",
   "id": "217b843c",
   "metadata": {},
   "source": [
    "Infatti, come possiamo notare, la funzione `somma` non dà errore se passiamo due stringhe come argomenti invece che due interi."
   ]
  },
  {
   "cell_type": "markdown",
   "id": "138a9ab5",
   "metadata": {},
   "source": [
    "### 🔢 Ordine degli argomenti\n",
    "\n",
    "L’ordine degli argomenti è **fondamentale**: quando chiamiamo una funzione, Python **abbina il primo argomento al primo parametro**, il secondo al secondo, e così via.\n",
    "\n",
    "> ⚠️ Cambiare l’ordine degli argomenti può cambiare il significato della funzione!"
   ]
  },
  {
   "cell_type": "code",
   "execution_count": 33,
   "id": "0027483c",
   "metadata": {},
   "outputs": [
    {
     "name": "stdout",
     "output_type": "stream",
     "text": [
      "Luca ha 30 anni.\n"
     ]
    }
   ],
   "source": [
    "# ✅ Ordine degli argomenti\n",
    "def descrivi_persona(nome: str, eta: int):\n",
    "    print(f\"{nome} ha {eta} anni.\")\n",
    "\n",
    "descrivi_persona(\"Luca\", 30)           # OK\n",
    "# descrivi_persona(30, \"Luca\")        # ⚠️ Logicamente errato"
   ]
  },
  {
   "cell_type": "markdown",
   "id": "238c010d",
   "metadata": {},
   "source": [
    "### 🧰 Argomenti di default\n",
    "\n",
    "Quando definiamo una funzione, possiamo **assegnare un valore di default** a uno o più parametri. In questo modo, la funzione può essere chiamata **anche senza fornire tutti gli argomenti**.\n",
    "\n",
    "```python\n",
    "def saluta(nome, lingua='it'):\n",
    "```\n",
    "\n",
    "- Se non specifichiamo `lingua`, verrà usato il valore `'it'`.\n",
    "- Possiamo comunque passare un valore diverso durante la chiamata.\n",
    "\n",
    "I parametri con valore di default devono essere scritti **dopo** quelli obbligatori."
   ]
  },
  {
   "cell_type": "code",
   "execution_count": 34,
   "id": "fd8ab30e",
   "metadata": {},
   "outputs": [
    {
     "name": "stdout",
     "output_type": "stream",
     "text": [
      "Ciao, Maria!\n",
      "Hello, Maria!\n"
     ]
    }
   ],
   "source": [
    "# ✅ Argomenti di default\n",
    "def saluta(nome: str, lingua: str = \"it\"):\n",
    "    if lingua == \"it\":\n",
    "        print(f\"Ciao, {nome}!\")\n",
    "    elif lingua == \"en\":\n",
    "        print(f\"Hello, {nome}!\")\n",
    "    else:\n",
    "        print(f\"Saluto non disponibile per la lingua '{lingua}'\")\n",
    "\n",
    "saluta(\"Maria\")                # Usa default 'it'\n",
    "saluta(\"Maria\", \"en\")                # Usa default 'it'"
   ]
  },
  {
   "cell_type": "markdown",
   "id": "edf72339",
   "metadata": {},
   "source": [
    "### 🏷️ Argomenti con nome (keyword arguments)\n",
    "\n",
    "È possibile specificare gli argomenti usando il nome del parametro, anche **fuori ordine**:\n",
    "\n",
    "```python\n",
    "saluta(lingua='en', nome='Alice')\n",
    "```\n",
    "\n",
    "Questo approccio rende il codice più leggibile, soprattutto se ci sono molti parametri."
   ]
  },
  {
   "cell_type": "code",
   "execution_count": 35,
   "id": "4d274717",
   "metadata": {},
   "outputs": [
    {
     "name": "stdout",
     "output_type": "stream",
     "text": [
      "Hello, John!\n",
      "Hello, Alice!\n"
     ]
    }
   ],
   "source": [
    "saluta(\"John\", lingua=\"en\")    # Passa lingua esplicitamente\n",
    "\n",
    "# ✅ Argomenti con nome (fuori ordine)\n",
    "saluta(lingua=\"en\", nome=\"Alice\")  # Funziona lo stesso"
   ]
  },
  {
   "cell_type": "markdown",
   "id": "5737fe5b",
   "metadata": {},
   "source": [
    "### 🧭 Riepilogo\n",
    "\n",
    "| Tipo di argomento | Descrizione |\n",
    "|-------------------|-------------|\n",
    "| Posizionale        | Viene assegnato in base all’ordine |\n",
    "| Di default         | Ha un valore predefinito se non viene passato |\n",
    "| Con nome (keyword) | Viene assegnato esplicitamente usando `nome=valore` |\n"
   ]
  },
  {
   "cell_type": "markdown",
   "id": "b02d36a9",
   "metadata": {},
   "source": [
    "## 📤 Valore di ritorno\n",
    "\n",
    "Una funzione può **restituire un risultato** al codice che l’ha invocata. Questo risultato si chiama **valore di ritorno** (*return value*).\n",
    "\n",
    "### 🎯 A cosa serve il valore di ritorno?\n",
    "\n",
    "Restituire un valore da una funzione è utile perché permette di:\n",
    "\n",
    "- **Salvare il risultato in una variabile**, così possiamo usarlo in un secondo momento nel programma.\n",
    "- **Usarlo direttamente in un’altra espressione**, ad esempio in un calcolo matematico o come input di un'altra funzione.\n",
    "- **Visualizzarlo o elaborarlo** in modi differenti, a seconda delle necessità del programma."
   ]
  },
  {
   "cell_type": "code",
   "execution_count": 36,
   "id": "7add7a55",
   "metadata": {},
   "outputs": [
    {
     "name": "stdout",
     "output_type": "stream",
     "text": [
      "Il quadrato di 5 è: 25\n"
     ]
    }
   ],
   "source": [
    "# ✅ Esempio 1: funzione che restituisce un valore\n",
    "def quadrato(x):\n",
    "    return x * x\n",
    "\n",
    "# Usiamo il valore di ritorno\n",
    "risultato = quadrato(5)\n",
    "print(\"Il quadrato di 5 è:\", risultato)"
   ]
  },
  {
   "cell_type": "markdown",
   "id": "8282687a",
   "metadata": {},
   "source": [
    "### 🧠 Cosa succede se non restituiamo nulla?\n",
    "\n",
    "Se una funzione **non specifica esplicitamente un valore di ritorno**, Python restituisce automaticamente un valore speciale chiamato `None`. Questo valore rappresenta l'assenza di un risultato, ed è spesso utilizzato per indicare che la funzione ha semplicemente svolto un compito (come stampare un messaggio), ma **non produce un valore da usare altrove**."
   ]
  },
  {
   "cell_type": "code",
   "execution_count": 37,
   "id": "3c8080c2",
   "metadata": {},
   "outputs": [
    {
     "name": "stdout",
     "output_type": "stream",
     "text": [
      "Ciao, Giulia\n",
      "Valore restituito: None\n"
     ]
    }
   ],
   "source": [
    "# ✅ Esempio 2: funzione che non restituisce nulla (ma stampa)\n",
    "def saluta(nome):\n",
    "    print(\"Ciao,\", nome)\n",
    "\n",
    "# La funzione stampa qualcosa, ma non restituisce alcun valore\n",
    "x = saluta(\"Giulia\")\n",
    "print(\"Valore restituito:\", x)  # Mostra: None"
   ]
  },
  {
   "cell_type": "markdown",
   "id": "2911af27",
   "metadata": {},
   "source": [
    "## 🧭 Importante: `print` e `return` non sono la stessa cosa\n",
    "\n",
    "- `print` serve a **mostrare qualcosa sullo schermo**, per farlo leggere all’utente.\n",
    "- `return` serve a **restituire un valore al programma**, così che possa essere **usato** o **memorizzato**.\n",
    "\n",
    "Anche se il risultato visivo può sembrare simile, i due meccanismi hanno scopi molto diversi.\n",
    "\n",
    "Quando una funzione **usa `return`**, il valore torna al punto del programma in cui la funzione era stata chiamata. Questo è ciò che rende le funzioni **riutilizzabili e componibili**, perché possono fornire risultati su cui continuare a lavorare."
   ]
  },
  {
   "cell_type": "code",
   "execution_count": 38,
   "id": "8e6016aa",
   "metadata": {},
   "outputs": [
    {
     "data": {
      "text/plain": [
       "7"
      ]
     },
     "execution_count": 38,
     "metadata": {},
     "output_type": "execute_result"
    }
   ],
   "source": [
    "# ✅ Esempio 3: funzione con return, ma senza print\n",
    "def somma(a, b):\n",
    "    return a + b\n",
    "\n",
    "# Il valore di ritorno esiste, ma se non lo usiamo, non succede nulla di visibile\n",
    "somma(3, 4)  # Non produce output"
   ]
  },
  {
   "cell_type": "code",
   "execution_count": 39,
   "id": "2f13591a",
   "metadata": {},
   "outputs": [
    {
     "name": "stdout",
     "output_type": "stream",
     "text": [
      "25\n"
     ]
    }
   ],
   "source": [
    "# ✅ Esempio 4: usare direttamente il valore di ritorno in un'espressione\n",
    "def doppio(n):\n",
    "    return n * 2\n",
    "\n",
    "print(doppio(10) + 5)  # Stampa: 25"
   ]
  },
  {
   "cell_type": "markdown",
   "id": "f3fa5cec",
   "metadata": {},
   "source": [
    "Da notare che quando eseguiamo il **return** all'interno di una funzione, questa **ritorna immediatamente** al punto in cui è stata chiamata, ignorando qualsiasi altra istruzione che eventualmente si trovasse dopo il return stesso.\n",
    "\n",
    "Questo significa che:\n",
    "\n",
    "- Tutte le istruzioni dopo il **return** non vengono eseguite.\n",
    "- Il valore specificato nel return viene “trasportato” fuori dalla funzione.\n",
    "- Se la funzione non ha un return esplicito, alla fine restituisce automaticamente il valore speciale `None`.\n",
    "\n",
    "### Perché questo è importante?\n",
    "\n",
    "- Il **return** permette di decidere **quando e cosa** restituire come risultato, anche in base a condizioni specifiche.\n",
    "- Si può usare per uscire **anticipatamente** da una funzione quando, ad esempio, si incontra un errore o una condizione particolare.\n",
    "- Garantisce che la funzione produca sempre un valore coerente (o nessun valore) al chiamante.\n",
    "\n",
    "### Esempi tipici di utilizzo del return anticipato\n",
    "\n",
    "- Verifica di input non valido per fermare subito l’esecuzione.\n",
    "- Uscita da una funzione dopo aver trovato il risultato desiderato (come in una ricerca).\n",
    "- Suddivisione di casi diversi usando più return in punti differenti della funzione."
   ]
  },
  {
   "cell_type": "code",
   "execution_count": 40,
   "id": "32930e5c",
   "metadata": {},
   "outputs": [
    {
     "name": "stdout",
     "output_type": "stream",
     "text": [
      "Numero negativo, interrompo.\n",
      "20\n"
     ]
    }
   ],
   "source": [
    "# Esempio 1: Return immediato interrompe la funzione\n",
    "\n",
    "def controlla_numero(n):\n",
    "    if n < 0:\n",
    "        return \"Numero negativo, interrompo.\"\n",
    "    # Questa parte viene eseguita solo se n >= 0\n",
    "    risultato = n * 2\n",
    "    return risultato\n",
    "\n",
    "print(controlla_numero(-5))  # Output: Numero negativo, interrompo.\n",
    "print(controlla_numero(10))  # Output: 20\n",
    "\n",
    "# Spiegazione:\n",
    "# Quando n è negativo, la funzione ritorna subito la stringa e non esegue il calcolo.\n",
    "# Solo se n è positivo o zero, si procede a moltiplicare per 2 e restituire il risultato."
   ]
  },
  {
   "cell_type": "code",
   "execution_count": 41,
   "id": "e3c7bab5",
   "metadata": {},
   "outputs": [
    {
     "name": "stdout",
     "output_type": "stream",
     "text": [
      "Valore 5 trovato!\n",
      "Valore non trovato.\n"
     ]
    }
   ],
   "source": [
    "# Esempio 2: Uscita anticipata in una funzione di ricerca\n",
    "\n",
    "def cerca_valore(lista, valore):\n",
    "    for elemento in lista:\n",
    "        if elemento == valore:\n",
    "            return f\"Valore {valore} trovato!\"\n",
    "    return \"Valore non trovato.\"\n",
    "\n",
    "print(cerca_valore([1, 3, 5, 7], 5))  # Output: Valore 5 trovato!\n",
    "print(cerca_valore([1, 3, 5, 7], 2))  # Output: Valore non trovato.\n",
    "\n",
    "# Spiegazione:\n",
    "# Appena il valore viene trovato, la funzione esce con un return.\n",
    "# Se il ciclo termina senza trovare nulla, si ritorna \"Valore non trovato\"."
   ]
  },
  {
   "cell_type": "code",
   "execution_count": 42,
   "id": "f006c647",
   "metadata": {},
   "outputs": [
    {
     "name": "stdout",
     "output_type": "stream",
     "text": [
      "None\n"
     ]
    }
   ],
   "source": [
    "# Esempio 3: Nessun return esplicito restituisce None\n",
    "\n",
    "def funzione_senza_return():\n",
    "    x = 10 + 5  # Esegue un'operazione ma non restituisce nulla\n",
    "\n",
    "risultato = funzione_senza_return()\n",
    "print(risultato)  # Output: None\n",
    "\n",
    "# Spiegazione:\n",
    "# Poiché non c'è un return esplicito, Python restituisce automaticamente None."
   ]
  },
  {
   "cell_type": "markdown",
   "id": "3637c596",
   "metadata": {},
   "source": [
    "## 🧭 Chiamare una funzione\n",
    "\n",
    "Una volta definita, una funzione può essere **chiamata** nel nostro programma, scrivendo il suo nome e, se richiesti, passando gli argomenti tra parentesi tonde.\n",
    "\n",
    "Chiamare una funzione significa **far partire il suo codice** e ottenere, se previsto, un risultato.\n",
    "\n",
    "### 📌 Cosa succede quando chiamiamo una funzione?\n",
    "\n",
    "1. Python **sospende temporaneamente** l’esecuzione del programma nel punto in cui si trova la chiamata.\n",
    "2. Viene eseguito **tutto il codice contenuto nella funzione**, riga dopo riga.\n",
    "3. Se la funzione contiene un’istruzione `return`, viene restituito il valore specificato e l’esecuzione della funzione termina. Se non c'è l'istruzione `return`, la funzione restituisce automaticamente `None`.\n",
    "4. Python **riprende l’esecuzione del programma** nel punto in cui la funzione era stata chiamata, utilizzando eventualmente il valore restituito (che viene sostituito alla chiamata della funzione).\n",
    "\n",
    "### 🧠 Esempio esplicativo:"
   ]
  },
  {
   "cell_type": "code",
   "execution_count": 43,
   "id": "bfc4bc6a",
   "metadata": {},
   "outputs": [
    {
     "name": "stdout",
     "output_type": "stream",
     "text": [
      "Prima della chiamata della funzione\n",
      "Ciao, Alice!\n",
      "Dopo la chiamata della funzione\n",
      "Saluto inviato a Alice\n"
     ]
    }
   ],
   "source": [
    "def saluta(nome):\n",
    "    print(f\"Ciao, {nome}!\")\n",
    "    return f\"Saluto inviato a {nome}\"\n",
    "\n",
    "print(\"Prima della chiamata della funzione\")\n",
    "messaggio = saluta(\"Alice\")\n",
    "print(\"Dopo la chiamata della funzione\")\n",
    "print(messaggio)"
   ]
  },
  {
   "cell_type": "markdown",
   "id": "49d1065e",
   "metadata": {},
   "source": [
    "**Cosa succede passo dopo passo:**\n",
    "\n",
    "- Python stampa: `Prima della chiamata della funzione`\n",
    "- Python incontra `saluta(\"Alice\")`, sospende il flusso principale e entra nella funzione.\n",
    "- Dentro `saluta`, stampa: `Ciao, Alice!`\n",
    "- La funzione restituisce la stringa `\"Saluto inviato a Alice\"`.\n",
    "- Python riprende il flusso principale e assegna il valore restituito alla variabile `messaggio`.\n",
    "- Python stampa: `Dopo la chiamata della funzione`\n",
    "- Infine, stampa il contenuto di `messaggio`: `Saluto inviato a Alice`"
   ]
  },
  {
   "cell_type": "markdown",
   "id": "02b38285",
   "metadata": {},
   "source": [
    "### 🔄 Più chiamate della stessa funzione\n",
    "\n",
    "Una funzione può essere chiamata più volte con argomenti diversi:"
   ]
  },
  {
   "cell_type": "code",
   "execution_count": 44,
   "id": "29d0bb72",
   "metadata": {},
   "outputs": [
    {
     "name": "stdout",
     "output_type": "stream",
     "text": [
      "Ciao, Marco!\n",
      "Saluto inviato a Marco\n",
      "Ciao, Giulia!\n",
      "Saluto inviato a Giulia\n"
     ]
    }
   ],
   "source": [
    "print(saluta(\"Marco\"))\n",
    "print(saluta(\"Giulia\"))"
   ]
  },
  {
   "cell_type": "markdown",
   "id": "3678127c",
   "metadata": {},
   "source": [
    "Ogni chiamata è indipendente e produce un risultato basato sugli argomenti passati.\n",
    "\n",
    "### ⚠️ Attenzione\n",
    "\n",
    "- Se dimentichi di mettere le parentesi tonde `()` dopo il nome della funzione, non la chiami ma **ottieni solo un riferimento alla funzione stessa**.\n"
   ]
  },
  {
   "cell_type": "code",
   "execution_count": 45,
   "id": "4fd455ce",
   "metadata": {},
   "outputs": [
    {
     "name": "stdout",
     "output_type": "stream",
     "text": [
      "<function saluta at 0x7718fa47d750>\n"
     ]
    }
   ],
   "source": [
    "funzione_riferimento = saluta\n",
    "print(funzione_riferimento)  # <function saluta at 0x...>"
   ]
  },
  {
   "cell_type": "markdown",
   "id": "79485902",
   "metadata": {},
   "source": [
    "- Per **eseguire realmente** la funzione devi includere le parentesi e, se richiesti, gli argomenti."
   ]
  },
  {
   "cell_type": "markdown",
   "id": "11ca36fd",
   "metadata": {},
   "source": [
    "## 📌 Differenza tra definizione e chiamata\n",
    "\n",
    "È importante non confondere:\n",
    "\n",
    "- **Definizione** → serve a **creare** la funzione, specificandone nome, parametri e corpo.\n",
    "- **Chiamata** → serve a **usare** la funzione, cioè farla eseguire.\n",
    "\n",
    "Una funzione può essere **definita una sola volta**, ma **chiamata quante volte vuoi**, anche in punti diversi del programma."
   ]
  },
  {
   "cell_type": "markdown",
   "id": "ba1f85a7",
   "metadata": {},
   "source": [
    "## 🧼 Scope delle variabili\n",
    "\n",
    "Lo **scope** (ambiente) di una variabile definisce **dove** essa è accessibile nel codice. In Python, esistono principalmente due scope:\n",
    "\n",
    "- **Scope locale**: variabili create all'interno di una funzione.\n",
    "- **Scope globale**: variabili create al di fuori di tutte le funzioni, visibili in tutto il modulo.\n",
    "\n",
    "### 🔒 Scope locale: variabili dentro la funzione\n",
    "\n",
    "Quando dichiariamo una variabile **all'interno** di una funzione, questa vive solo per la durata della funzione stessa. \n",
    "\n",
    "- La variabile è **creata quando la funzione viene chiamata**.\n",
    "- Esiste solo durante l'esecuzione della funzione.\n",
    "- Scompare non appena la funzione termina.\n",
    "- Non è accessibile al di fuori della funzione (tentare di usarla fuori genera un errore).\n",
    "\n",
    "Questo permette alle funzioni di avere variabili “private” che non interferiscono con il resto del programma.\n",
    "\n",
    "### 🌍 Scope globale: variabili fuori dalla funzione\n",
    "\n",
    "Le variabili definite **fuori** da tutte le funzioni sono dette **globali**. \n",
    "\n",
    "- Sono visibili e accessibili da qualunque punto del programma, incluse le funzioni.\n",
    "- Possono essere **lette** dentro una funzione senza problemi.\n",
    "\n",
    "Tuttavia, **modificare una variabile globale dentro una funzione senza una dichiarazione esplicita** causa un problema: Python interpreta la variabile come una **locale** e, se la si usa prima di assegnarle un valore, si ottiene un errore.\n"
   ]
  },
  {
   "cell_type": "code",
   "execution_count": 46,
   "id": "4692e7ad",
   "metadata": {},
   "outputs": [
    {
     "name": "stdout",
     "output_type": "stream",
     "text": [
      "Dentro la funzione:\n",
      "x = 10\n",
      "y = 5\n",
      "Fuori dalla funzione:\n",
      "x = 10\n"
     ]
    }
   ],
   "source": [
    "# 🧠 Esempio di scope locale e globale\n",
    "\n",
    "x = 10  # variabile globale\n",
    "\n",
    "def funzione():\n",
    "    y = 5  # variabile locale\n",
    "    print(\"Dentro la funzione:\")\n",
    "    print(\"x =\", x)  # legge la variabile globale\n",
    "    print(\"y =\", y)\n",
    "\n",
    "funzione()\n",
    "\n",
    "print(\"Fuori dalla funzione:\")\n",
    "print(\"x =\", x)\n",
    "# print(\"y =\", y)  # genera errore: y non esiste qui!"
   ]
  },
  {
   "cell_type": "code",
   "execution_count": 47,
   "id": "492b170f",
   "metadata": {},
   "outputs": [],
   "source": [
    "### 🧠 Esempio di modifica di variabile globale (senza global)\n",
    "\n",
    "x = 10\n",
    "\n",
    "def funzione():\n",
    "    x = x + 5  # tenta di modificare x\n",
    "    print(x)\n",
    "\n",
    "#funzione()"
   ]
  },
  {
   "cell_type": "markdown",
   "id": "e5bdded6",
   "metadata": {},
   "source": [
    "Questo genera un errore `UnboundLocalError` perché Python pensa che `x` dentro la funzione sia una variabile locale, ma viene usata prima di essere inizializzata.\n",
    "\n",
    "### 📌 Modificare variabili globali dentro funzioni\n",
    "\n",
    "Se vuoi **modificare una variabile globale** dentro una funzione, devi usare la parola chiave speciale `global` per indicare a Python che ti riferisci alla variabile globale e non a una nuova locale."
   ]
  },
  {
   "cell_type": "code",
   "execution_count": 48,
   "id": "0a3c42b9",
   "metadata": {},
   "outputs": [
    {
     "name": "stdout",
     "output_type": "stream",
     "text": [
      "15\n",
      "15\n"
     ]
    }
   ],
   "source": [
    "x = 10\n",
    "\n",
    "def funzione():\n",
    "    global x  # dico che uso la variabile globale x\n",
    "    x = x + 5\n",
    "    print(x)\n",
    "\n",
    "funzione()\n",
    "print(x)  # ora x globale è stato modificato"
   ]
  },
  {
   "cell_type": "markdown",
   "id": "700c7d66",
   "metadata": {},
   "source": [
    "### 📌 Buone pratiche\n",
    "\n",
    "- **Evita di modificare variabili globali dentro le funzioni.** Questo può creare confusione e errori difficili da trovare.\n",
    "- Preferisci **passare variabili come parametri** e usare il valore di ritorno per aggiornare i dati.\n",
    "- Mantieni le funzioni indipendenti e senza effetti collaterali.\n",
    "\n",
    "### 🧩 Riassumendo\n",
    "\n",
    "| Scope       | Dove si definisce       | Visibilità                        | Durata                         | Modifica dentro funzione      |\n",
    "|-------------|-------------------------|---------------------------------|-------------------------------|------------------------------|\n",
    "| Locale      | Dentro funzione         | Solo dentro la funzione          | Solo durante l'esecuzione      | Sempre possibile              |\n",
    "| Globale     | Fuori da tutte le funzioni | In tutto il modulo (file)        | Per tutta la durata del programma | Solo con `global` o `nonlocal` |"
   ]
  },
  {
   "cell_type": "markdown",
   "id": "96ac2481",
   "metadata": {},
   "source": [
    "## 🎯 Obiettivi delle funzioni\n",
    "\n",
    "Scrivere funzioni serve a:\n",
    "\n",
    "- **Semplificare il codice** suddividendo il problema in sottocompiti.\n",
    "- **Evitare ripetizioni**, grazie al riutilizzo.\n",
    "- **Aumentare la leggibilità**: ogni funzione ben scritta descrive in modo chiaro cosa fa.\n",
    "- **Facilitare la collaborazione**: in progetti di gruppo, diversi membri possono occuparsi di funzioni diverse.\n",
    "\n",
    "## 🧪 Buone pratiche\n",
    "\n",
    "- 📛 Dai nomi chiari e descrittivi alle funzioni.\n",
    "- ✂️ Crea funzioni brevi, che svolgono un solo compito.\n",
    "- 📚 Documenta ogni funzione, spiegando cosa fa, quali parametri accetta e cosa restituisce.\n",
    "- 🔄 Usa i parametri e il valore di ritorno per **rendere le funzioni riutilizzabili in contesti diversi**.\n",
    "\n",
    "## ✅ Conclusione\n",
    "\n",
    "In questa introduzione abbiamo visto che:\n",
    "\n",
    "- Le **funzioni** servono a **organizzare e semplificare** il codice.\n",
    "- Una funzione ha **parametri in ingresso** e può **restituire un risultato**.\n",
    "- Le funzioni migliorano la **leggibilità, la manutenibilità e il riuso** del codice.\n",
    "- È essenziale comprendere la **differenza tra definizione e chiamata**, e il concetto di **scope**.\n",
    "\n",
    "➡️ Nel prossimo passo vedremo **cosa sono le funzioni anonime** in Python!\n"
   ]
  }
 ],
 "metadata": {
  "kernelspec": {
   "display_name": "datas",
   "language": "python",
   "name": "python3"
  },
  "language_info": {
   "codemirror_mode": {
    "name": "ipython",
    "version": 3
   },
   "file_extension": ".py",
   "mimetype": "text/x-python",
   "name": "python",
   "nbconvert_exporter": "python",
   "pygments_lexer": "ipython3",
   "version": "3.10.13"
  }
 },
 "nbformat": 4,
 "nbformat_minor": 5
}
