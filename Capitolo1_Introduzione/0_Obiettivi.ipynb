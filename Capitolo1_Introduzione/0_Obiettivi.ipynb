{
 "cells": [
  {
   "cell_type": "markdown",
   "id": "554b1bf2",
   "metadata": {},
   "source": [
    "# 🎯 Obiettivi del Capitolo 1 - Introduzione\n",
    "\n",
    "Benvenuti al primo capitolo del corso **\"Programmazione in Python - Base\"**!\n",
    "\n",
    "In questo notebook vedremo insieme **quali sono gli obiettivi didattici** che raggiungeremo al termine del capitolo.  \n",
    "L'obiettivo è introdurre in modo semplice e pratico i concetti fondamentali della programmazione e dell'informatica, utilizzando **Python** come linguaggio guida.\n",
    "\n",
    "---"
   ]
  },
  {
   "cell_type": "markdown",
   "id": "3c8d4ea3",
   "metadata": {},
   "source": [
    "## 📌 Obiettivi Specifici\n",
    "\n",
    "Alla fine di questo capitolo sarai in grado di:\n",
    "\n",
    "- ✅ Comprendere cosa significa programmare e cosa fa un programma.\n",
    "- ✅ Descrivere in modo semplice come è fatto un computer (hardware/software).\n",
    "- ✅ Comprendere cosa si intende per **pensiero computazionale**.\n",
    "- ✅ Conoscere le caratteristiche fondamentali del linguaggio **Python**.\n",
    "- ✅ Utilizzare **Google Colab** come ambiente di sviluppo.\n",
    "- ✅ Scrivere ed eseguire il tuo **primo programma Python**.\n",
    "- ✅ Riconoscere e correggere **errori comuni** nei programmi.\n",
    "- ✅ Comprendere l'importanza del **debugging**.\n",
    "- ✅ Attivare e utilizzare un **ambiente virtuale** per organizzare il proprio codice.\n",
    "- ✅ Completare esercizi pratici e una **prima auto-valutazione**.\n",
    "\n",
    "🚀 Questo primo passo è fondamentale per costruire basi solide nel tuo percorso da programmatore!"
   ]
  },
  {
   "cell_type": "markdown",
   "id": "e6c607ca",
   "metadata": {},
   "source": [
    "## 🔍 Cosa aspettarsi da questo capitolo?\n",
    "\n",
    "Impareremo in maniera guidata e progressiva. Ogni concetto verrà accompagnato da:\n",
    "\n",
    "- 📘 **Spiegazioni semplici**\n",
    "- 🧪 **Esempi pratici**\n",
    "- 📝 **Esercizi interattivi**\n",
    "- 🛠️ **Notebook tematici**\n",
    "- ✅ **Auto-valutazioni finali**\n",
    "\n",
    "> Non è richiesto alcun prerequisito: se sai usare un computer e sei curioso, sei nel posto giusto! 🎓"
   ]
  },
  {
   "cell_type": "markdown",
   "id": "34ca4200",
   "metadata": {},
   "source": [
    "## 🐍 Un assaggio: Il tuo primo codice Python\n",
    "\n",
    "Non serve aspettare oltre... Ecco un piccolo esempio di codice Python per iniziare a rompere il ghiaccio!"
   ]
  },
  {
   "cell_type": "code",
   "execution_count": 1,
   "id": "17cc8893",
   "metadata": {},
   "outputs": [
    {
     "name": "stdout",
     "output_type": "stream",
     "text": [
      "Ciao mondo! 🚀 Benvenuto in Python.\n"
     ]
    }
   ],
   "source": [
    "# Il tuo primo programma Python!\n",
    "print(\"Ciao mondo! 🚀 Benvenuto in Python.\")"
   ]
  },
  {
   "cell_type": "markdown",
   "id": "651653ea",
   "metadata": {},
   "source": [
    "## 📘 Prossimi Passi\n",
    "\n",
    "Se sei pronto, continua con il prossimo notebook:\n",
    "\n",
    "👉 [1_Concetti_di_base.ipynb](https://colab.research.google.com/github/tuo-utente/corso-python-base/blob/main/Capitolo1_Introduzione/1_Concetti_di_base/1_Concetti_di_base.ipynb)\n",
    "\n",
    "Buono studio! 💡"
   ]
  }
 ],
 "metadata": {
  "kernelspec": {
   "display_name": "datas",
   "language": "python",
   "name": "python3"
  },
  "language_info": {
   "codemirror_mode": {
    "name": "ipython",
    "version": 3
   },
   "file_extension": ".py",
   "mimetype": "text/x-python",
   "name": "python",
   "nbconvert_exporter": "python",
   "pygments_lexer": "ipython3",
   "version": "3.10.13"
  }
 },
 "nbformat": 4,
 "nbformat_minor": 5
}
