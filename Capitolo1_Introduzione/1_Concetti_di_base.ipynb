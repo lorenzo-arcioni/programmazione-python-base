{
 "cells": [
  {
   "cell_type": "markdown",
   "id": "0f1e4277",
   "metadata": {},
   "source": [
    "# 💡 Concetti di Base dell'Informatica e della Programmazione\n",
    "\n",
    "In questo notebook esploriamo i concetti fondamentali dell'informatica e cosa significa **programmare**.\n",
    "\n",
    "Impareremo:\n",
    "- Cos'è un **algoritmo**\n",
    "- Che cos'è un **programma**\n",
    "- Come funziona un **computer**\n",
    "- Cosa fa un **linguaggio di programmazione**\n",
    "- Qual è il ruolo del **programmatore**\n",
    "\n",
    "> 🧠 Comprendere questi concetti ti aiuterà a dare un significato a ciò che scriverai nei prossimi notebook."
   ]
  },
  {
   "cell_type": "markdown",
   "id": "26f560ff",
   "metadata": {},
   "source": [
    "## 🖥️ Cos'è l'informatica?\n",
    "\n",
    "L'informatica è la **scienza che studia l'informazione e i processi per trattarla automaticamente**.\n",
    "\n",
    "In altre parole, è la disciplina che ci permette di costruire e utilizzare **sistemi automatici** (come i computer) per risolvere problemi.\n",
    "\n",
    "📌 I principali ambiti dell'informatica:\n",
    "- Elaborazione di dati\n",
    "- Automazione di compiti\n",
    "- Comunicazione digitale\n",
    "- Intelligenza artificiale"
   ]
  },
  {
   "cell_type": "markdown",
   "id": "d2133773",
   "metadata": {},
   "source": [
    "## 🔁 Cos'è un algoritmo?\n",
    "\n",
    "Un **algoritmo** è una sequenza finita e ordinata di istruzioni che risolvono un problema o svolgono un compito.\n",
    "\n",
    "💡 Un algoritmo:\n",
    "- Ha un inizio e una fine\n",
    "- È chiaro e preciso\n",
    "- Deve funzionare in un tempo finito\n",
    "\n",
    "Esempio: algoritmo per preparare un tè\n",
    "\n",
    "1. Scalda l'acqua\n",
    "2. Metti la bustina nella tazza\n",
    "3. Versa l'acqua calda nella tazza\n",
    "4. Lascia in infusione 3 minuti\n",
    "5. Rimuovi la bustina e servi"
   ]
  },
  {
   "cell_type": "markdown",
   "id": "549ad2f5",
   "metadata": {},
   "source": [
    "## 💾 Cos'è un programma?\n",
    "\n",
    "Un **programma** è un insieme di istruzioni (cioè un algoritmo) scritto in un **linguaggio che il computer può capire**.\n",
    "\n",
    "Il programma viene poi eseguito dal computer, che **interpreta o compila** quelle istruzioni per compiere delle azioni.\n",
    "\n",
    "> Un programma non è altro che **una soluzione automatica a un problema**, scritta in un formato eseguibile."
   ]
  },
  {
   "cell_type": "markdown",
   "id": "f864a62f",
   "metadata": {},
   "source": [
    "## 👨‍💻 Chi è il programmatore?\n",
    "\n",
    "Il **programmatore** è la persona che scrive programmi per far sì che il computer esegua compiti specifici.\n",
    "\n",
    "Il suo lavoro è:\n",
    "- Capire il problema\n",
    "- Pensare a una soluzione logica (algoritmo)\n",
    "- Tradurla in codice usando un **linguaggio di programmazione**\n",
    "\n",
    "Il programmatore **non scrive codice a caso**, ma costruisce istruzioni logiche e ordinate."
   ]
  },
  {
   "cell_type": "markdown",
   "id": "c8b07241",
   "metadata": {},
   "source": [
    "## 🔤 Cos'è un linguaggio di programmazione?\n",
    "\n",
    "Un **linguaggio di programmazione** è un linguaggio formale, con una sintassi ben definita, usato per scrivere programmi.\n",
    "\n",
    "Serve da **ponte tra l'uomo e il computer**:\n",
    "- L'uomo scrive le istruzioni in modo comprensibile (es. Python)\n",
    "- Il computer le traduce in linguaggio macchina (0 e 1)\n",
    "\n",
    "Esempi di linguaggi: Python, JavaScript, C, Java, Scratch"
   ]
  },
  {
   "cell_type": "markdown",
   "id": "3e47c2cb",
   "metadata": {},
   "source": [
    "## 🧱 Cosa contiene un programma?\n",
    "\n",
    "Un programma può contenere:\n",
    "\n",
    "- **Variabili** → per memorizzare dati\n",
    "- **Istruzioni** → per fare calcoli, decisioni, ripetizioni\n",
    "- **Input/Output** → per comunicare con l'utente\n",
    "- **Commenti** → per spiegare il codice (non eseguiti dal computer)\n",
    "\n",
    "Esempio di programma molto semplice (in pseudocodice):"
   ]
  },
  {
   "cell_type": "code",
   "execution_count": 2,
   "id": "c57c46e2",
   "metadata": {},
   "outputs": [
    {
     "name": "stdout",
     "output_type": "stream",
     "text": [
      "Ciao Lorenzo !\n"
     ]
    }
   ],
   "source": [
    "# Questo è solo un esempio visivo, non è necessario capirlo ora\n",
    "\n",
    "nome = input(\"Come ti chiami? \")\n",
    "print(\"Ciao\", nome, \"!\")"
   ]
  },
  {
   "cell_type": "markdown",
   "id": "46b7cd82",
   "metadata": {},
   "source": [
    "## ✅ Cosa hai imparato\n",
    "\n",
    "- L'informatica è la scienza dell'automazione dell'informazione\n",
    "- Un algoritmo è una sequenza di istruzioni logiche\n",
    "- Un programma è un algoritmo scritto in un linguaggio comprensibile al computer\n",
    "- Il programmatore è colui che scrive questi programmi\n",
    "- I linguaggi di programmazione permettono di \"parlare\" ai computer\n",
    "\n",
    "Nel prossimo notebook vedremo **come è fatto un computer** e come esegue questi programmi."
   ]
  },
  {
   "cell_type": "markdown",
   "id": "d695eca2",
   "metadata": {},
   "source": [
    "## 📝 Esercizio - Scrivi il tuo primo algoritmo\n",
    "\n",
    "Ora tocca a te!\n",
    "\n",
    "Scegli un'attività quotidiana che fai spesso (es. fare colazione, lavarti i denti, uscire di casa) e descrivila come se fosse un **algoritmo**.\n",
    "\n",
    "### 🎯 Obiettivo:\n",
    "Scrivere i **passi chiari, ordinati e finiti** per svolgere quell'attività.\n",
    "\n",
    "### ✅ Linee guida:\n",
    "- Usa una numerazione o elenco puntato\n",
    "- Non saltare passaggi (anche quelli ovvi!)\n",
    "- Scrivi come se chi legge non sapesse nulla\n",
    "\n",
    "### ✍️ Esempio:\n",
    "**Algoritmo: Accendere una candela**\n",
    "1. Prendi una candela\n",
    "2. Posizionala su una superficie stabile\n",
    "3. Prendi un accendino o fiammifero\n",
    "4. Accendi la fiamma\n",
    "5. Avvicina la fiamma allo stoppino\n",
    "6. Lascia che la candela prenda fuoco\n",
    "7. Spegni l'accendino o fiammifero\n",
    "\n",
    "### 🚀 Ora tocca a te:\n",
    "Scrivi qui sotto il tuo algoritmo personale!\n",
    "\n",
    "**Algoritmo: ___**\n",
    "1. __\n",
    "2. __\n",
    "3. __"
   ]
  }
 ],
 "metadata": {
  "kernelspec": {
   "display_name": "datas",
   "language": "python",
   "name": "python3"
  },
  "language_info": {
   "codemirror_mode": {
    "name": "ipython",
    "version": 3
   },
   "file_extension": ".py",
   "mimetype": "text/x-python",
   "name": "python",
   "nbconvert_exporter": "python",
   "pygments_lexer": "ipython3",
   "version": "3.10.13"
  }
 },
 "nbformat": 4,
 "nbformat_minor": 5
}
