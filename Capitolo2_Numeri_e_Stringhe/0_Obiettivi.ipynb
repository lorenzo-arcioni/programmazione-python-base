{
 "cells": [
  {
   "cell_type": "markdown",
   "id": "d8a05b6b",
   "metadata": {},
   "source": [
    "# 🎯 Obiettivi del Capitolo 2 - Numeri e Stringhe\n",
    "\n",
    "Questo capitolo introduce i concetti fondamentali per manipolare dati numerici e testuali in Python.  \n",
    "Gli argomenti trattati costituiscono le basi per affrontare qualsiasi tipo di elaborazione, calcolo o interazione con l’utente.\n",
    "\n",
    "## 📌 Obiettivi didattici\n",
    "\n",
    "Al termine del capitolo lo studente sarà in grado di:\n",
    "\n",
    "- Comprendere cosa sono le **variabili** e come utilizzarle per conservare informazioni.\n",
    "- Eseguire **operazioni aritmetiche** di base (somma, differenza, moltiplicazione, divisione, potenza).\n",
    "- Gestire e trasformare **stringhe** di testo.\n",
    "- Utilizzare la **formattazione avanzata** delle stringhe con le `f-string`.\n",
    "- Distinguere tra **oggetti mutabili e immutabili**, concetto fondamentale per evitare errori logici.\n",
    "- Interagire con l’utente tramite **input/output** testuale.\n",
    "- Scrivere **algoritmi semplici** che combinano numeri, testo e logica di base.\n",
    "- Produrre **grafica semplice** come strumento di output e motivazione creativa.\n",
    "- Applicare **best practices** per scrivere codice chiaro, leggibile e mantenibile.\n",
    "\n",
    "## 🧭 Percorso del Capitolo\n",
    "\n",
    "Il capitolo è suddiviso in notebook tematici, ognuno focalizzato su un argomento specifico:\n",
    "\n",
    "1. **Variabili** – Cosa sono, come si usano.\n",
    "2. **Aritmetica** – Le principali operazioni matematiche.\n",
    "3. **Stringhe** – Concetti base e tecniche di manipolazione.\n",
    "4. **f-string** – Per formattare testo in modo efficace e leggibile.\n",
    "5. **Mutabilità** – Come si comportano i tipi di dato in memoria.\n",
    "6. **Input/Output** – Come comunicare con l’utente.\n",
    "7. **Grafica base** – Primo contatto con la programmazione visuale.\n",
    "8. **Operazioni miste** – Combinare numeri e testo in un algoritmo.\n",
    "9. **Algoritmi** – Esercizi per sviluppare il pensiero computazionale.\n",
    "10. **Best practices** – Consigli e regole per migliorare il codice.\n",
    "11. **Esercizi** – Attività pratiche su tutti i temi affrontati.\n",
    "\n",
    "---\n",
    "\n",
    "🔐 Queste competenze sono fondamentali per qualsiasi percorso nel mondo della programmazione, sia esso scientifico, creativo o professionale."
   ]
  }
 ],
 "metadata": {
  "language_info": {
   "name": "python"
  }
 },
 "nbformat": 4,
 "nbformat_minor": 5
}
