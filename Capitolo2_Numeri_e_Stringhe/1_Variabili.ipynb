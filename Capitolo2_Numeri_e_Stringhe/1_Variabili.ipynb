{
 "cells": [
  {
   "cell_type": "markdown",
   "id": "6d9e934e",
   "metadata": {},
   "source": [
    "<a href=\"https://github.com/lorenzo-arcioni/programmazione-python-base/blob/main/Capitolo2_Numeri_e_Stringhe/1_Variabili.ipynb\" target=\"_parent\"><img src=\"https://colab.research.google.com/assets/colab-badge.svg\" alt=\"Open In Colab\"/></a>\n",
    "\n",
    "# 📦 Le Variabili in Python\n",
    "\n",
    "Una **variabile** è uno spazio della memoria del computer associato a un nome simbolico. Serve per **salvare valori** da riutilizzare più volte nel programma.\n",
    "\n",
    "In Python, le variabili si creano **assegnando un valore** con il simbolo `=` (uguale), che però in questo contesto non indica uguaglianza matematica, ma **assegnazione**: stai dicendo \"metti questo valore dentro questa variabile\".\n",
    "\n",
    "🔍 **Caratteristiche delle variabili in Python**:\n",
    "- Python è un linguaggio **dinamicamente tipato**: non devi dichiarare il tipo della variabile (es. `int`, `str`, ecc.)\n",
    "- Le variabili possono **cambiare tipo** durante l’esecuzione\n",
    "- Python è **case-sensitive**: le variabili `nome`, `Nome`, `NOME` sono tutte diverse\n",
    "- I nomi delle variabili devono iniziare con una **lettera o un underscore** (`_`) e possono contenere lettere, numeri e underscore, ma **non spazi o simboli speciali**\n",
    "\n",
    "📌 Esempi validi:  \n",
    "`nome`, `eta`, `prezzo_totale`, `_temp`, `nome1`  \n",
    "❌ Esempi non validi:  \n",
    "`1nome`, `prezzo totale`, `valore€`\n",
    "\n",
    "\n",
    "## 🧾 Tipi di Dato in Python\n",
    "\n",
    "In Python, ogni variabile è **un riferimento a un oggetto** in memoria. Gli oggetti hanno **un tipo ben definito**, che ne determina il comportamento e le operazioni consentite. Python è **fortemente tipizzato**, quindi i tipi non vengono convertiti automaticamente in altri (es. da stringa a intero) senza una conversione esplicita.\n",
    "\n",
    "### ✅ Tipi primitivi più comuni:\n",
    "\n",
    "| Tipo         | Descrizione                                                  | Esempi                        | Dettagli Tecnici                                                                 |\n",
    "|--------------|--------------------------------------------------------------|-------------------------------|-----------------------------------------------------------------------------------|\n",
    "| `int`        | Numeri interi (positivi, negativi, zero)                     | `42`, `-7`, `100000`          | Precisione arbitraria (nessun limite fisso); implementato come oggetto `PyLong` |\n",
    "| `float`      | Numeri decimali (floating point, IEEE-754 double precision)  | `3.14`, `-0.5`, `1e-3`        | 64-bit, range circa ±1.8×10^308, precisione ~15 cifre decimali                  |\n",
    "| `str`        | Sequenze immutabili di caratteri Unicode                     | `\"ciao\"`, `'123'`, `\"π\"`      | Supporta qualsiasi carattere Unicode, inclusi emoji e simboli speciali          |\n",
    "| `bool`       | Valori booleani (vero o falso)                               | `True`, `False`               | Sottotipo di `int`: `True == 1`, `False == 0`                                    |\n",
    "| `NoneType`   | Rappresenta l’assenza di un valore o un ritorno “vuoto”      | `None`                        | Esiste un solo oggetto `None` in tutto il programma                             |\n",
    "| `complex`    | Numeri complessi, costituiti da una parte reale e una immaginaria | `3 + 4j`, `1 - 2j`           | La parte immaginaria è preceduta da `j`; supporta operazioni aritmetiche         |\n",
    "| `bytes`      | Sequenza immutabile di byte (valori da 0 a 255)              | `b\"abc\"`, `b'\\x00\\x01'`       | Usato per rappresentare dati binari, utile in contesti di I/O o crittografia    |\n",
    "\n",
    "Altri tipi importanti (che introdurremo in seguito) sono:\n",
    "- `list`: sequenza mutabile di oggetti\n",
    "- `tuple`: sequenza immutabile\n",
    "- `dict`: dizionari, cioè coppie chiave-valore\n",
    "- `set`: insiemi di elementi unici"
   ]
  },
  {
   "cell_type": "code",
   "execution_count": 24,
   "id": "98500724",
   "metadata": {},
   "outputs": [],
   "source": [
    "# Esempi di variabili in Python\n",
    "nome = \"Luca\"\n",
    "età = 25\n",
    "pi = 3.14159"
   ]
  },
  {
   "cell_type": "markdown",
   "id": "ded0aa79",
   "metadata": {},
   "source": [
    "Possiamo **stampare il contenuto** di una variabile con la funzione `print()`.\n",
    "\n",
    "In un notebook Jupyter o Google Colab, l'ultima istruzione di una cella viene **stampata automaticamente** anche senza `print()`."
   ]
  },
  {
   "cell_type": "code",
   "execution_count": 25,
   "id": "fc2c2d1c",
   "metadata": {},
   "outputs": [
    {
     "name": "stdout",
     "output_type": "stream",
     "text": [
      "Luca\n",
      "25\n",
      "3.14159\n"
     ]
    },
    {
     "data": {
      "text/plain": [
       "3.14159"
      ]
     },
     "execution_count": 25,
     "metadata": {},
     "output_type": "execute_result"
    }
   ],
   "source": [
    "print(nome)\n",
    "print(età)\n",
    "print(pi)\n",
    "\n",
    "# Oppure semplicemente scrivere il nome della variabile (solo l'ultima riga viene stampata)\n",
    "pi"
   ]
  },
  {
   "cell_type": "markdown",
   "id": "25d9f5d3",
   "metadata": {},
   "source": [
    "Vediamo ora un esempio di tutti i principali tipi di dato primitivi."
   ]
  },
  {
   "cell_type": "code",
   "execution_count": 26,
   "id": "26459281",
   "metadata": {},
   "outputs": [
    {
     "name": "stdout",
     "output_type": "stream",
     "text": [
      "<class 'int'>\n",
      "<class 'float'>\n",
      "<class 'str'>\n",
      "<class 'bool'>\n",
      "<class 'NoneType'>\n",
      "<class 'complex'>\n",
      "<class 'bytes'>\n"
     ]
    }
   ],
   "source": [
    "# Tipi primitivi\n",
    "a = 10\n",
    "b = 3.14\n",
    "c = \"ciao\"\n",
    "d = True\n",
    "e = None\n",
    "f = 3 + 4j\n",
    "g = b\"abc\"\n",
    "\n",
    "# Controlliamo i tipi\n",
    "print(type(a))  # <class 'int'>\n",
    "print(type(b))  # <class 'float'>\n",
    "print(type(c))  # <class 'str'>\n",
    "print(type(d))  # <class 'bool'>\n",
    "print(type(e))  # <class 'NoneType'>\n",
    "print(type(f))  # <class 'complex'>\n",
    "print(type(g))  # <class 'bytes'>"
   ]
  },
  {
   "cell_type": "markdown",
   "id": "6f1059fd",
   "metadata": {},
   "source": [
    "Python permette di **assegnare più variabili in una sola riga**.\n",
    "\n",
    "Questa è una sintassi compatta ed elegante per inizializzare più valori contemporaneamente."
   ]
  },
  {
   "cell_type": "code",
   "execution_count": 27,
   "id": "c1b2addb",
   "metadata": {},
   "outputs": [
    {
     "name": "stdout",
     "output_type": "stream",
     "text": [
      "1 2 3\n"
     ]
    }
   ],
   "source": [
    "x, y, z = 1, 2, 3\n",
    "print(x, y, z)"
   ]
  },
  {
   "cell_type": "markdown",
   "id": "8b532f88",
   "metadata": {},
   "source": [
    "Una caratteristica potente di Python è la possibilità di **scambiare i valori tra due variabili senza usare una variabile temporanea**."
   ]
  },
  {
   "cell_type": "code",
   "execution_count": 28,
   "id": "34afd4a1",
   "metadata": {},
   "outputs": [
    {
     "name": "stdout",
     "output_type": "stream",
     "text": [
      "a: 20\n",
      "b: 10\n"
     ]
    }
   ],
   "source": [
    "a = 10\n",
    "b = 20\n",
    "a, b = b, a\n",
    "print(\"a:\", a)\n",
    "print(\"b:\", b)"
   ]
  },
  {
   "cell_type": "markdown",
   "id": "f5636735",
   "metadata": {},
   "source": [
    "Python determina **automaticamente il tipo** della variabile in base al valore assegnato.  \n",
    "Puoi verificare il tipo di una variabile con la funzione `type()`.\n",
    "\n",
    "Esempio:"
   ]
  },
  {
   "cell_type": "code",
   "execution_count": null,
   "id": "888fe6bd",
   "metadata": {},
   "outputs": [
    {
     "name": "stdout",
     "output_type": "stream",
     "text": [
      "<class 'int'>\n"
     ]
    }
   ],
   "source": [
    "x = 42\n",
    "print(type(x))   # <class 'int'>\n",
    "\n",
    "x = 42\n",
    "x = \"adesso sono una stringa\""
   ]
  },
  {
   "cell_type": "code",
   "execution_count": 30,
   "id": "b3ce7147",
   "metadata": {},
   "outputs": [
    {
     "name": "stdout",
     "output_type": "stream",
     "text": [
      "<class 'int'>\n",
      "<class 'str'>\n"
     ]
    }
   ],
   "source": [
    "x = 42\n",
    "print(type(x))\n",
    "\n",
    "x = \"ciao\"\n",
    "print(type(x))"
   ]
  },
  {
   "cell_type": "markdown",
   "id": "e7cac19b",
   "metadata": {},
   "source": [
    "⚠️ **Attenzione agli errori comuni** con le variabili:\n",
    "- Usare una variabile **prima** che sia stata assegnata → `NameError`\n",
    "- Sbagliare il nome (es. maiuscole/minuscole) → `NameError`\n",
    "- Usare caratteri non validi nel nome\n",
    "\n",
    "Esempi:"
   ]
  },
  {
   "cell_type": "code",
   "execution_count": 31,
   "metadata": {},
   "outputs": [],
   "source": [
    "# print(saldo)      # Errore: saldo non è ancora definita ← Genera: NameError\n",
    "eta = 30\n",
    "# print(Età)        # Errore: case-sensitive ← Genera: NameError "
   ]
  },
  {
   "cell_type": "markdown",
   "id": "d7216861",
   "metadata": {},
   "source": [
    "Quando assegni un nuovo valore a una variabile già esistente, il vecchio valore viene **sovrascritto**.  \n",
    "La variabile ora **punta al nuovo oggetto in memoria**."
   ]
  },
  {
   "cell_type": "code",
   "execution_count": 32,
   "id": "34bda1db",
   "metadata": {},
   "outputs": [
    {
     "name": "stdout",
     "output_type": "stream",
     "text": [
      "5\n",
      "12\n"
     ]
    }
   ],
   "source": [
    "n = 5\n",
    "print(n)\n",
    "\n",
    "n = 12\n",
    "print(n)"
   ]
  },
  {
   "cell_type": "markdown",
   "id": "1f606561",
   "metadata": {},
   "source": [
    "### 🧠 Come Python gestisce le variabili e la memoria\n",
    "\n",
    "In Python, le **variabili non contengono direttamente i valori**, ma fungono da **etichette (riferimenti)** che puntano a oggetti allocati in memoria.\n",
    "\n",
    "- Ogni variabile è un **nome** che fa riferimento a un **oggetto**.\n",
    "- Più variabili possono puntare **allo stesso oggetto**.\n",
    "- Gli oggetti stessi contengono sia i dati (es. numeri, stringhe, liste) sia informazioni sul tipo e l'identificatore interno.\n",
    "\n",
    "Quando confronti due variabili, puoi farlo in due modi distinti:\n",
    "\n",
    "#### ✅ `==` → **Uguaglianza di valore**\n",
    "- Confronta se **il contenuto** dei due oggetti è lo stesso.\n",
    "- Funziona anche se gli oggetti sono **diversi**, ma hanno **valori equivalenti**.\n",
    "\n",
    "#### 🧠 `is` → **Uguaglianza di identità**\n",
    "- Verifica se **due variabili puntano esattamente allo stesso oggetto in memoria**.\n",
    "- Usato per verificare l’identità, non solo la somiglianza.\n",
    "\n",
    "#### 🔎 La funzione `id()`\n",
    "Restituisce l’identificativo unico dell’oggetto in memoria (simile a un indirizzo)."
   ]
  },
  {
   "cell_type": "code",
   "execution_count": 33,
   "id": "c1d80016",
   "metadata": {},
   "outputs": [
    {
     "name": "stdout",
     "output_type": "stream",
     "text": [
      "True\n",
      "False\n",
      "True\n",
      "129124169386128 129124169386224 129124169386128\n"
     ]
    }
   ],
   "source": [
    "# Esempio con interi\n",
    "x = 1000\n",
    "y = 1000\n",
    "z = x\n",
    "\n",
    "print(x == y)  # True → stesso valore\n",
    "print(x is y)  # False → oggetti diversi (fuori dall'intervallo di interning)\n",
    "print(x is z)  # True → stesso oggetto\n",
    "\n",
    "# ID degli oggetti\n",
    "print(id(x), id(y), id(z))"
   ]
  },
  {
   "cell_type": "markdown",
   "id": "d84b293c",
   "metadata": {},
   "source": [
    "### ⚠️ Note importanti sulla gestione della memoria in Python\n",
    "\n",
    "In Python, **alcuni oggetti immutabili** vengono **\"internati\"**, ovvero **condivisi in memoria** per migliorare le prestazioni e ridurre l'uso della RAM.\n",
    "\n",
    "Questo accade automaticamente per:\n",
    "- **Stringhe brevi** (costituite da lettere, numeri o underscore, senza spazi né caratteri speciali).\n",
    "- **Interi compresi tra -5 e 256**.\n",
    "\n",
    "#### 🔍 Cosa significa \"internati\"?\n",
    "\n",
    "Quando un valore viene internato, **Python non crea un nuovo oggetto in memoria** ogni volta che quel valore viene usato.\n",
    "Invece, **riutilizza un oggetto già esistente**."
   ]
  },
  {
   "cell_type": "code",
   "execution_count": 34,
   "id": "9347a5ac",
   "metadata": {},
   "outputs": [
    {
     "name": "stdout",
     "output_type": "stream",
     "text": [
      "True\n",
      "True\n",
      "True\n",
      "129124292100624 129124292100624 129124292100624\n"
     ]
    }
   ],
   "source": [
    "# Esempio con interi\n",
    "x = 10\n",
    "y = 10\n",
    "z = x\n",
    "\n",
    "print(x == y)  # True → stesso valore\n",
    "print(x is y)  # False → oggetti diversi (fuori dall'intervallo di interning)\n",
    "print(x is z)  # True → stesso oggetto\n",
    "\n",
    "# ID degli oggetti\n",
    "print(id(x), id(y), id(z))"
   ]
  },
  {
   "cell_type": "markdown",
   "id": "f78a54c5",
   "metadata": {},
   "source": [
    "> ⚠️ Attenzione: il comportamento dell’interning può variare tra diverse versioni e implementazioni di Python."
   ]
  },
  {
   "cell_type": "markdown",
   "id": "c30926ab",
   "metadata": {},
   "source": [
    "### ♻️ Garbage Collector in Python\n",
    "\n",
    "Python gestisce automaticamente la memoria attraverso un sistema chiamato **Garbage Collection**.  \n",
    "Quando un oggetto **non ha più riferimenti attivi**, la memoria viene liberata automaticamente.\n",
    "\n",
    "Questo è realizzato principalmente tramite:\n",
    "- **Reference Counting**: ogni oggetto tiene traccia del numero di riferimenti attivi.\n",
    "- **Garbage Collector**: un modulo che rimuove oggetti con riferimenti circolari.\n",
    "\n",
    "Per vedere e controllare questo comportamento puoi usare il modulo `gc`."
   ]
  },
  {
   "cell_type": "code",
   "execution_count": 35,
   "id": "2f65384d",
   "metadata": {},
   "outputs": [
    {
     "name": "stdout",
     "output_type": "stream",
     "text": [
      "(700, 10, 10)\n",
      "True\n"
     ]
    },
    {
     "data": {
      "text/plain": [
       "473"
      ]
     },
     "execution_count": 35,
     "metadata": {},
     "output_type": "execute_result"
    }
   ],
   "source": [
    "import gc\n",
    "\n",
    "# Mostra lo stato del garbage collector\n",
    "print(gc.get_threshold())     # Soglie di attivazione\n",
    "print(gc.isenabled())         # Garbage collector attivo?\n",
    "\n",
    "# Forza la raccolta dei rifiuti manualmente\n",
    "gc.collect()"
   ]
  },
  {
   "cell_type": "markdown",
   "id": "5def1f83",
   "metadata": {},
   "source": [
    "### 🚫 Valori di Default\n",
    "\n",
    "In Python, usare una variabile **non inizializzata** produce un errore:"
   ]
  },
  {
   "cell_type": "code",
   "execution_count": 36,
   "id": "fab360d2",
   "metadata": {},
   "outputs": [],
   "source": [
    "#print(xyz)  # NameError: name 'xyz' is not defined"
   ]
  },
  {
   "cell_type": "markdown",
   "id": "9248e897",
   "metadata": {},
   "source": [
    "Per inizializzare una variabile \"vuota\", si può usare `None`, che rappresenta l’assenza di valore:"
   ]
  },
  {
   "cell_type": "code",
   "execution_count": 37,
   "id": "04903231",
   "metadata": {},
   "outputs": [
    {
     "name": "stdout",
     "output_type": "stream",
     "text": [
      "None\n"
     ]
    }
   ],
   "source": [
    "xyz = None\n",
    "print(xyz)"
   ]
  },
  {
   "cell_type": "markdown",
   "id": "44edd40a",
   "metadata": {},
   "source": [
    "Questo tipo di inizializzazione è chiamata \"lazy\"."
   ]
  },
  {
   "cell_type": "markdown",
   "id": "6baea785",
   "metadata": {},
   "source": [
    "### ✍️ Stile e Nomi delle Variabili (PEP8)\n",
    "\n",
    "Le **convenzioni di scrittura** rendono il codice leggibile, scalabile e condivisibile.\n",
    "\n",
    "#### ✅ Buone pratiche:\n",
    "- Usa nomi **descrittivi**: `media_studenti`, `nome_completo`\n",
    "- Usa **snake_case** per variabili e funzioni: `numero_max`, `calcola_totale()`\n",
    "- Per costanti, usa **MAIUSCOLO**: `PI = 3.14159`\n",
    "- Evita nomi ambigui o troppo brevi: `x1`, `tmp`, `data2`\n",
    "\n",
    "> 📌 Attenzione: non usare **MAI** nomi uguali a **parole riservate** di Python (`class`, `def`, `if`, ecc.)"
   ]
  },
  {
   "cell_type": "markdown",
   "id": "ebb481c9",
   "metadata": {},
   "source": [
    "## ✅ Cosa abbiamo imparato\n",
    "\n",
    "- Come si crea una variabile in Python\n",
    "- Che Python è tipato dinamicamente\n",
    "- Come stampare e verificare i tipi di variabili\n",
    "- L’importanza dei nomi validi e delle maiuscole\n",
    "- Come funziona l’assegnazione multipla e lo scambio di valori\n",
    "\n",
    "➡️ Ora siamo pronti per imparare le **operazioni aritmetiche** nel prossimo notebook!"
   ]
  }
 ],
 "metadata": {
  "kernelspec": {
   "display_name": "datas",
   "language": "python",
   "name": "python3"
  },
  "language_info": {
   "codemirror_mode": {
    "name": "ipython",
    "version": 3
   },
   "file_extension": ".py",
   "mimetype": "text/x-python",
   "name": "python",
   "nbconvert_exporter": "python",
   "pygments_lexer": "ipython3",
   "version": "3.10.13"
  }
 },
 "nbformat": 4,
 "nbformat_minor": 5
}
