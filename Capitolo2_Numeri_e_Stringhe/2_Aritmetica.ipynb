{
 "cells": [
  {
   "cell_type": "markdown",
   "id": "42017648",
   "metadata": {},
   "source": [
    "<a href=\"https://github.com/lorenzo-arcioni/programmazione-python-base/blob/main/Capitolo2_Numeri_e_Stringhe/2_Aritmetica.ipynb\" target=\"_parent\"><img src=\"https://colab.research.google.com/assets/colab-badge.svg\" alt=\"Open In Colab\"/></a>\n",
    "\n",
    "# ➕ Aritmetica in Python\n",
    "\n",
    "In questo notebook vediamo come Python gestisce le **operazioni matematiche** di base e i comportamenti dei numeri nei calcoli.\n",
    "\n",
    "Python supporta i classici operatori aritmetici usati in algebra:\n",
    "\n",
    "\n",
    "| Operatore | Descrizione          | Esempio     | Risultato     |\n",
    "|-----------|----------------------|-------------|----------------|\n",
    "| `+`       | Addizione            | `5 + 3`     | `8`            |\n",
    "| `-`       | Sottrazione          | `10 - 4`    | `6`            |\n",
    "| `*`       | Moltiplicazione      | `2 * 7`     | `14`           |\n",
    "| `/`       | Divisione (float)    | `8 / 3`     | `2.666...`     |\n",
    "| `//`      | Divisione intera     | `8 // 3`    | `2`            |\n",
    "| `%`       | Modulo (resto)       | `8 % 3`     | `2`            |\n",
    "| `**`      | Potenza              | `2 ** 3`    | `8`            |\n",
    "\n",
    "\n",
    "🧠 Python tratta i numeri come **oggetti** e le operazioni matematiche sono in realtà **metodi** definiti sui tipi numerici (`int`, `float`, `complex`, ecc.)."
   ]
  },
  {
   "cell_type": "markdown",
   "id": "cb2a630a",
   "metadata": {},
   "source": [
    "Per effettuare un'operazione in Python, come ad esempio $5 + 3$, ci basta eseguire semplicemente:"
   ]
  },
  {
   "cell_type": "code",
   "execution_count": 71,
   "id": "06170857",
   "metadata": {},
   "outputs": [
    {
     "data": {
      "text/plain": [
       "8"
      ]
     },
     "execution_count": 71,
     "metadata": {},
     "output_type": "execute_result"
    }
   ],
   "source": [
    "5 + 3"
   ]
  },
  {
   "cell_type": "markdown",
   "id": "7e8ca2b6",
   "metadata": {},
   "source": [
    "**Nota Bene**: Nei Jupyter Notebook, l'ultima istruzione di una cella viene stampata automaticamente anche senza `print()`. Questo negli script Python normali non succede, infatti per poter stampare il risultato di un'operazione è necessario utilizzare la funzione `print()`. "
   ]
  },
  {
   "cell_type": "code",
   "execution_count": 72,
   "id": "80a5aeaa",
   "metadata": {},
   "outputs": [
    {
     "name": "stdout",
     "output_type": "stream",
     "text": [
      "8\n"
     ]
    }
   ],
   "source": [
    "print(5 + 3)"
   ]
  },
  {
   "cell_type": "markdown",
   "id": "86f247f8",
   "metadata": {},
   "source": [
    "Possiamo assegnare il risultato di un'operazione ad una variabile, come ad esempio `somma = 5 + 3`:"
   ]
  },
  {
   "cell_type": "code",
   "execution_count": 73,
   "id": "43dc5275",
   "metadata": {},
   "outputs": [
    {
     "name": "stdout",
     "output_type": "stream",
     "text": [
      "Somma: 8\n"
     ]
    }
   ],
   "source": [
    "somma = 5 + 3\n",
    "print(\"Somma:\", somma)"
   ]
  },
  {
   "cell_type": "markdown",
   "id": "4084124a",
   "metadata": {},
   "source": [
    "### 🔢 Precedenza degli operatori\n",
    "\n",
    "Come in matematica, alcuni operatori hanno precedenza su altri:\n",
    "\n",
    "1. `**`\n",
    "2. `*`, `/`, `//`, `%`\n",
    "3. `+`, `-`\n",
    "\n",
    "Puoi usare le **parentesi `()`** per forzare un ordine specifico."
   ]
  },
  {
   "cell_type": "code",
   "execution_count": 74,
   "id": "e9db2703",
   "metadata": {},
   "outputs": [
    {
     "name": "stdout",
     "output_type": "stream",
     "text": [
      "14\n",
      "20\n",
      "1\n",
      "3\n"
     ]
    }
   ],
   "source": [
    "print(2 + 3 * 4)       # 14 → moltiplicazione prima\n",
    "print((2 + 3) * 4)     # 20 → parentesi prima\n",
    "print(3 * 5 % 2)       # 1  → moltiplicazione prima\n",
    "print(3 * (5 % 2))     # 3  → parentesi prima"
   ]
  },
  {
   "cell_type": "markdown",
   "id": "8fb3769c",
   "metadata": {},
   "source": [
    "## 🔢 Comportamento dei Tipi Numerici\n",
    "\n",
    "Python gestisce automaticamente il tipo di numero in base al contesto dell’operazione:\n",
    "\n",
    "- Se operi con due `int`, ottieni un `int` (salvo divisione `/`)\n",
    "- Se uno degli operandi è `float`, il risultato sarà `float`\n",
    "- Le divisioni con `/` **restituiscono sempre un `float`**, anche se il risultato è intero\n",
    "- La divisione intera `//` **tronca** il risultato verso il basso"
   ]
  },
  {
   "cell_type": "code",
   "execution_count": 75,
   "id": "b15c9bb4",
   "metadata": {},
   "outputs": [
    {
     "name": "stdout",
     "output_type": "stream",
     "text": [
      "1\n",
      "6.0\n",
      "2.0\n",
      "3\n"
     ]
    }
   ],
   "source": [
    "# Somma intera\n",
    "print(4 - 3)\n",
    "\n",
    "# Moltiplicazione intero-float\n",
    "print(2 * 3.0)\n",
    "\n",
    "# Divisione\n",
    "print(6 / 3) # float\n",
    "\n",
    "# Divisione intera\n",
    "print(7 // 2)"
   ]
  },
  {
   "cell_type": "markdown",
   "id": "65baaefe",
   "metadata": {},
   "source": [
    "## ⚠️ Casi Particolari: Divisione intera `//` e Modulo `%`\n",
    "\n",
    "Python applica regole precise e coerenti anche con:\n",
    "- **numeri negativi**\n",
    "- **valori con la virgola (float)**"
   ]
  },
  {
   "cell_type": "markdown",
   "id": "0bb0a0bf",
   "metadata": {},
   "source": [
    "### 🔄 Divisione Intera con Float (`//`)\n",
    "\n",
    "Anche se `//` restituisce un risultato **intero**, il **tipo del risultato** dipende dagli operandi:\n",
    "- Se entrambi sono `int` → ritorna `int`\n",
    "- Se almeno uno è `float` → ritorna `float` (senza parte decimale)"
   ]
  },
  {
   "cell_type": "code",
   "execution_count": 76,
   "id": "aebe5d40",
   "metadata": {},
   "outputs": [
    {
     "name": "stdout",
     "output_type": "stream",
     "text": [
      "3\n",
      "3.0\n",
      "3.0\n"
     ]
    }
   ],
   "source": [
    "print(7 // 2)     # 3 (int)\n",
    "print(7.0 // 2)   # 3.0 (float)\n",
    "print(7 // 2.0)   # 3.0"
   ]
  },
  {
   "cell_type": "markdown",
   "id": "02ac4beb",
   "metadata": {},
   "source": [
    "### 📉 Divisione Intera con Numeri Negativi\n",
    "\n",
    "Python **tronca verso il basso** (verso l’inf), non verso lo zero:"
   ]
  },
  {
   "cell_type": "code",
   "execution_count": 77,
   "id": "4b430a4b",
   "metadata": {},
   "outputs": [
    {
     "name": "stdout",
     "output_type": "stream",
     "text": [
      "2\n",
      "-3\n"
     ]
    }
   ],
   "source": [
    "print(7 // 3)     # 2\n",
    "print(-7 // 3)    # -3 (non -2)"
   ]
  },
  {
   "cell_type": "markdown",
   "id": "9461aa9f",
   "metadata": {},
   "source": [
    "> Questo comportamento è diverso da alcuni altri linguaggi come C o Java, che troncano verso zero."
   ]
  },
  {
   "cell_type": "markdown",
   "id": "9bbf4852",
   "metadata": {},
   "source": [
    "### 🧮 Modulo con Numeri Negativi\n",
    "\n",
    "Il risultato del modulo `%` ha sempre il **segno del divisore**, non del dividendo:"
   ]
  },
  {
   "cell_type": "code",
   "execution_count": 78,
   "id": "2d4faaba",
   "metadata": {},
   "outputs": [
    {
     "name": "stdout",
     "output_type": "stream",
     "text": [
      "1\n",
      "2\n",
      "-2\n",
      "-1\n"
     ]
    }
   ],
   "source": [
    "print(7 % 3)      # 1\n",
    "print(-7 % 3)     # 2\n",
    "print(7 % -3)     # -2\n",
    "print(-7 % -3)    # -1"
   ]
  },
  {
   "cell_type": "markdown",
   "id": "66fea07b",
   "metadata": {},
   "source": [
    "### 🔬 Modulo e Divisione Intera con Float\n",
    "\n",
    "Entrambe le operazioni sono **consentite con numeri decimali**, ma possono generare risultati inaspettati se non si è consapevoli del funzionamento:"
   ]
  },
  {
   "cell_type": "code",
   "execution_count": 79,
   "id": "119ca897",
   "metadata": {},
   "outputs": [
    {
     "name": "stdout",
     "output_type": "stream",
     "text": [
      "3.0\n",
      "1.5\n",
      "-4.0\n",
      "0.5\n"
     ]
    }
   ],
   "source": [
    "print(7.5 // 2.0)   # 3.0\n",
    "print(7.5 % 2.0)    # 1.5\n",
    "\n",
    "print(-7.5 // 2.0)  # -4.0\n",
    "print(-7.5 % 2.0)   # 0.5"
   ]
  },
  {
   "cell_type": "markdown",
   "id": "5a0a1dd4",
   "metadata": {},
   "source": [
    "📌 **Regola generale**:\n",
    "> Per ogni coppia `a`, `b` vale sempre la relazione:  \n",
    ">  `a == (a // b) * b + (a % b)`"
   ]
  },
  {
   "cell_type": "code",
   "execution_count": 80,
   "id": "06d94744",
   "metadata": {},
   "outputs": [
    {
     "name": "stdout",
     "output_type": "stream",
     "text": [
      "True\n"
     ]
    }
   ],
   "source": [
    "a = -7.5\n",
    "b = 2.0\n",
    "print(a == (a // b) * b + (a % b))  # True"
   ]
  },
  {
   "cell_type": "markdown",
   "id": "94e7ecc1",
   "metadata": {},
   "source": [
    "📎 Questo comportamento è utile in algoritmi dove serve controllare **ripetizioni cicliche**, **allineamenti**, **calendari**, ecc."
   ]
  },
  {
   "cell_type": "markdown",
   "id": "e5f940fb",
   "metadata": {},
   "source": [
    "## 🔢 Arrotondamenti e Conversione a intero\n",
    "\n",
    "Python offre diversi strumenti per **gestire i numeri decimali**, a seconda di cosa vuoi ottenere:\n",
    "\n",
    "| Funzione        | Descrizione                                 | Comportamento                       |\n",
    "|----------------|----------------------------------------------|-------------------------------------|\n",
    "| `round(x)`      | Arrotonda al numero intero più vicino        | Valore tondo più vicino (con .5 arrotonato verso il pari) |\n",
    "| `round(x, n)`   | Arrotonda a `n` cifre decimali               | Utile per controllare la precisione |\n",
    "| `int(x)`        | Converte a intero **troncando** la parte decimale | Non arrotonda, taglia!             |\n",
    "| `abs(x)`        | Restituisce il valore assoluto del numero x | Toglie il segno al numero |\n",
    "\n",
    "⚠️ Attenzione:\n",
    "- `int(3.9)` → `3` (non 4!)\n",
    "- `round(2.5)` → `2`, perché segue l'**arrotondamento bancario** (verso il numero pari)"
   ]
  },
  {
   "cell_type": "code",
   "execution_count": 91,
   "id": "73986680",
   "metadata": {},
   "outputs": [
    {
     "name": "stdout",
     "output_type": "stream",
     "text": [
      "round(3.14159): 3\n",
      "round(3.14159, 2): 3.14\n",
      "int(3.99): 3\n",
      "round(2.5): 2\n",
      "round(3.5): 4\n",
      "3\n",
      "3\n"
     ]
    }
   ],
   "source": [
    "print(\"round(3.14159):\", round(3.14159))             # 3\n",
    "print(\"round(3.14159, 2):\", round(3.14159, 2))       # 3.14\n",
    "print(\"int(3.99):\", int(3.99))                       # 3\n",
    "print(\"round(2.5):\", round(2.5))                     # 2 (verso il pari)\n",
    "print(\"round(3.5):\", round(3.5))                     # 4\n",
    "print(abs(3))                                        # 3\n",
    "print(abs(-3))                                       # 3"
   ]
  },
  {
   "cell_type": "markdown",
   "id": "b1f16ab1",
   "metadata": {},
   "source": [
    "## ⚖️ Perché `round()` in Python arrotonda al numero pari?\n",
    "\n",
    "Quando usi `round(x)`, Python applica una regola particolare chiamata:\n",
    "\n",
    "### 🔹 \"Round Half To Even\"\n",
    "Conosciuto anche come **arrotondamento bancario**, è il metodo predefinito usato da `round()` per **ridurre l’errore cumulativo** nei calcoli numerici.\n",
    "\n",
    "### 🧠 Come funziona?\n",
    "Se un numero è esattamente a metà tra due interi (es. `2.5`, `3.5`, `4.5`...), Python **arrotonda verso il numero pari più vicino**:\n",
    "\n",
    "| Numero        | Risultato `round(x)` |\n",
    "|---------------|----------------------|\n",
    "| `2.5`         | `2` ← pari            |\n",
    "| `3.5`         | `4` ← pari            |\n",
    "| `4.5`         | `4` ← pari            |\n",
    "| `5.5`         | `6` ← pari            |\n",
    "\n",
    "📌 Ma se **non è a metà esatta**, il numero viene arrotondato normalmente al più vicino:\n",
    "\n",
    "| Numero        | Risultato `round(x)` |\n",
    "|---------------|----------------------|\n",
    "| `2.4`         | `2`                  |\n",
    "| `2.6`         | `3`                  |\n",
    "\n",
    "### ✅ Perché si fa così?\n",
    "L’arrotondamento al pari è usato per **evitare distorsioni sistematiche** nei dati:\n",
    "- Se si arrotondasse sempre per eccesso (`.5` → su), si introdurrebbe **un piccolo bias positivo** in grandi somme o medie.\n",
    "- Arrotondare al pari **bilancia verso l’alto e verso il basso** in modo equo.\n",
    "\n",
    "Questo metodo è adottato anche in linguaggi come Java, R, C# e nei fogli di calcolo (es. Excel, con `=ROUND()`)."
   ]
  },
  {
   "cell_type": "code",
   "execution_count": 82,
   "id": "def42e07",
   "metadata": {},
   "outputs": [
    {
     "name": "stdout",
     "output_type": "stream",
     "text": [
      "2\n",
      "4\n",
      "4\n",
      "6\n"
     ]
    }
   ],
   "source": [
    "print(round(2.5))  # 2\n",
    "print(round(3.5))  # 4\n",
    "print(round(4.5))  # 4\n",
    "print(round(5.5))  # 6"
   ]
  },
  {
   "cell_type": "markdown",
   "id": "6dffaa50",
   "metadata": {},
   "source": [
    "## 🧮 Funzioni matematiche utili in Python\n",
    "\n",
    "Python fornisce alcune **funzioni matematiche di base** integrate (senza moduli esterni):\n",
    "\n",
    "- `abs(x)` → valore assoluto\n",
    "- `pow(x, y)` → elevamento a potenza (`x ** y`)\n",
    "- `divmod(x, y)` → restituisce una **tupla** `(x // y, x % y)` (divisione intera + resto)"
   ]
  },
  {
   "cell_type": "code",
   "execution_count": 83,
   "id": "46d7b7a7",
   "metadata": {},
   "outputs": [
    {
     "name": "stdout",
     "output_type": "stream",
     "text": [
      "abs(-10): 10\n",
      "pow(2, 3): 8\n",
      "2 ** 3: 8\n",
      "divmod(17, 5): (3, 2)\n"
     ]
    }
   ],
   "source": [
    "print(\"abs(-10):\", abs(-10))           # 10\n",
    "print(\"pow(2, 3):\", pow(2, 3))         # 8\n",
    "print(\"2 ** 3:\", 2 ** 3)               # 8 (equivalente)\n",
    "print(\"divmod(17, 5):\", divmod(17, 5)) # (3, 2)"
   ]
  },
  {
   "cell_type": "markdown",
   "id": "8959eefb",
   "metadata": {},
   "source": [
    "`divmod()` è molto utile in operazioni dove servono **entrambi** i risultati della divisione: quoziente e resto."
   ]
  },
  {
   "cell_type": "markdown",
   "id": "fffca108",
   "metadata": {},
   "source": [
    "## 🧠 Numeri Complessi\n",
    "\n",
    "Python supporta nativamente i **numeri complessi**, usati in matematica, ingegneria, fisica, ecc.\n",
    "\n",
    "- Un numero complesso è del tipo `a + bj`, dove:\n",
    "  - `a` è la parte reale\n",
    "  - `b` è la parte immaginaria\n",
    "- Si crea con la lettera `j` (non `i`!)"
   ]
  },
  {
   "cell_type": "code",
   "execution_count": 84,
   "id": "8cefd5ce",
   "metadata": {},
   "outputs": [
    {
     "name": "stdout",
     "output_type": "stream",
     "text": [
      "Somma: (4+2j)\n",
      "Prodotto: (11-2j)\n",
      "Parte reale di c1: 3.0\n",
      "Parte immaginaria di c1: 4.0\n",
      "Modulo di c1: 5.0\n"
     ]
    }
   ],
   "source": [
    "c1 = 3 + 4j\n",
    "c2 = 1 - 2j\n",
    "\n",
    "print(\"Somma:\", c1 + c2)\n",
    "print(\"Prodotto:\", c1 * c2)\n",
    "print(\"Parte reale di c1:\", c1.real)\n",
    "print(\"Parte immaginaria di c1:\", c1.imag)\n",
    "print(\"Modulo di c1:\", abs(c1))  # √(a² + b²)"
   ]
  },
  {
   "cell_type": "markdown",
   "id": "34a52086",
   "metadata": {},
   "source": [
    "## ⚠️ Limiti della rappresentazione dei numeri in virgola mobile (`float`)\n",
    "\n",
    "In Python (come in quasi tutti i linguaggi), i numeri decimali (`float`) sono rappresentati **in virgola mobile** secondo lo standard **IEEE 754 a 64 bit**.\n",
    "\n",
    "### 🧠 Cosa significa?\n",
    "- Solo una quantità **finita** di numeri può essere rappresentata in modo **esatto**\n",
    "- Alcuni numeri, come `0.1`, **non si possono rappresentare esattamente**\n",
    "- Si introducono **approssimazioni**, che possono causare **piccoli errori nei calcoli**\n"
   ]
  },
  {
   "cell_type": "markdown",
   "id": "23ade2e4",
   "metadata": {},
   "source": [
    "### 🔎 Esempi pratici:\n",
    "#### 1. **Errore di rappresentazione**"
   ]
  },
  {
   "cell_type": "code",
   "execution_count": 85,
   "id": "ddca4e03",
   "metadata": {},
   "outputs": [
    {
     "name": "stdout",
     "output_type": "stream",
     "text": [
      "0.1 + 0.2 = 0.30000000000000004\n"
     ]
    }
   ],
   "source": [
    "# Errore di rappresentazione\n",
    "print(\"0.1 + 0.2 =\", 0.1 + 0.2)  # Non sarà 0.3 esatto"
   ]
  },
  {
   "cell_type": "markdown",
   "id": "d032bd07",
   "metadata": {},
   "source": [
    "📉 **Risultato**: `0.30000000000000004`\n",
    "\n",
    "Anche se **matematicamente** `0.1 + 0.2 = 0.3`, in binario questi numeri hanno una rappresentazione **infinita**, che viene **troncata**. L’errore è minimo, ma c’è!"
   ]
  },
  {
   "cell_type": "markdown",
   "id": "d211c918",
   "metadata": {},
   "source": [
    "#### 2. **Overflow** (numero troppo grande)"
   ]
  },
  {
   "cell_type": "code",
   "execution_count": 86,
   "id": "1be7c214",
   "metadata": {},
   "outputs": [
    {
     "name": "stdout",
     "output_type": "stream",
     "text": [
      "1e308 * 10 = inf\n"
     ]
    }
   ],
   "source": [
    "# Precisione persa con numeri molto grandi\n",
    "print(\"1e308 * 10 =\", 1e308 * 10)  # Inf (overflow)"
   ]
  },
  {
   "cell_type": "markdown",
   "id": "2b045d90",
   "metadata": {},
   "source": [
    "📉 **Risultato**: `inf` (infinito)\n",
    "\n",
    "Il valore `1e308` è già vicino al massimo rappresentabile (~`1.8e308`). Moltiplicandolo per 10, si supera il limite → Python restituisce `inf`."
   ]
  },
  {
   "cell_type": "markdown",
   "id": "d80f40f7",
   "metadata": {},
   "source": [
    "#### 3. **Underflow** (numero troppo piccolo)"
   ]
  },
  {
   "cell_type": "code",
   "execution_count": 87,
   "id": "d41bed23",
   "metadata": {},
   "outputs": [
    {
     "name": "stdout",
     "output_type": "stream",
     "text": [
      "1e-324 / 10 = 0.0\n"
     ]
    }
   ],
   "source": [
    "# Sotto il minimo rappresentabile\n",
    "print(\"1e-324 / 10 =\", 1e-324 / 10)  # 0.0 (underflow)"
   ]
  },
  {
   "cell_type": "markdown",
   "id": "77a295e1",
   "metadata": {},
   "source": [
    "📉 **Risultato**: `0.0`\n",
    "\n",
    "Il numero `1e-324` è **il più piccolo numero positivo** rappresentabile in `float`. Dividendo ancora, il risultato diventa **così vicino a zero** che non può più essere distinto da zero stesso → Python restituisce `0.0`."
   ]
  },
  {
   "cell_type": "markdown",
   "id": "676a8359",
   "metadata": {},
   "source": [
    "## 🔁 Assegnazioni combinate\n",
    "\n",
    "In Python puoi usare **operatori abbreviati** per modificare il valore di una variabile direttamente, invece di riscrivere l'intera espressione.\n",
    "\n",
    "### 📌 Esempi comuni:\n",
    "\n",
    "| Operatore | Equivalente     | Effetto                       |\n",
    "|-----------|------------------|-------------------------------|\n",
    "| `+=`      | `x = x + y`      | somma e assegna               |\n",
    "| `-=`      | `x = x - y`      | sottrai e assegna             |\n",
    "| `*=`      | `x = x * y`      | moltiplica e assegna          |\n",
    "| `/=`      | `x = x / y`      | dividi (float) e assegna      |\n",
    "| `//=`     | `x = x // y`     | dividi intera e assegna       |\n",
    "| `%=`      | `x = x % y`      | assegna il resto della divisione |\n",
    "| `**=`     | `x = x ** y`     | eleva a potenza e assegna     |\n",
    "\n",
    "Questi operatori rendono il codice più **conciso e leggibile**, specialmente nei cicli o nei contatori."
   ]
  },
  {
   "cell_type": "code",
   "execution_count": 88,
   "id": "2e2a8945",
   "metadata": {},
   "outputs": [
    {
     "name": "stdout",
     "output_type": "stream",
     "text": [
      "15\n",
      "30\n",
      "2\n"
     ]
    }
   ],
   "source": [
    "x = 10\n",
    "x += 5     # x = x + 5 → 15\n",
    "print(x)\n",
    "\n",
    "x *= 2     # x = x * 2 → 30\n",
    "print(x)\n",
    "\n",
    "x %= 7     # x = x % 7 → 2\n",
    "print(x)"
   ]
  },
  {
   "cell_type": "markdown",
   "id": "9c338991",
   "metadata": {},
   "source": [
    "## ➕➖ Operatori unari in Python\n",
    "\n",
    "Python supporta anche gli **operatori unari**:\n",
    "\n",
    "- `+x`: restituisce il valore **positivo** di `x` (in pratica, non cambia nulla)\n",
    "- `-x`: restituisce l'**opposto** di `x` (lo cambia di segno)\n",
    "\n",
    "> ❗ Non esistono operatori `++` o `--` come in C/C++ o Java. Scrivere `x++` dà errore.\n",
    "\n",
    "### 🧠 Doppi operatori (`--x`, `+-x`, ecc.)\n",
    "Python valuta da **sinistra a destra**:\n",
    "- `--x` significa `-(-x)` → diventa **positivo**\n",
    "- `+-x` significa `+(-x)` → resta **negativo**\n",
    "\n",
    "Sono legittimi e possono essere usati, ma raramente sono necessari."
   ]
  },
  {
   "cell_type": "code",
   "execution_count": 89,
   "id": "38f25c7f",
   "metadata": {},
   "outputs": [
    {
     "name": "stdout",
     "output_type": "stream",
     "text": [
      "5\n",
      "-5\n",
      "5\n",
      "-5\n"
     ]
    }
   ],
   "source": [
    "x = 5\n",
    "print(+x)     # 5\n",
    "print(-x)     # -5\n",
    "\n",
    "print(--x)    # 5 → -(-5)\n",
    "print(+-x)    # -5 → +(-5)\n",
    "\n",
    "# Errore: Python non ha ++\n",
    "# x++  ❌ SyntaxError"
   ]
  },
  {
   "cell_type": "markdown",
   "id": "dc3dbeff",
   "metadata": {},
   "source": [
    "## 🔢 Conversioni tra basi numeriche\n",
    "\n",
    "In Python puoi convertire numeri interi in **diverse basi**: binaria, ottale, esadecimale.\n",
    "\n",
    "### 🔄 Funzioni utili:\n",
    "- `bin(x)` → restituisce la **rappresentazione binaria** (`0b...`)\n",
    "- `oct(x)` → restituisce l'**ottale** (`0o...`)\n",
    "- `hex(x)` → restituisce l'**esadecimale** (`0x...`)\n",
    "- `int(stringa, base)` → converte da **qualsiasi base a decimale**\n",
    "\n",
    "### 🧠 Le stringhe di ritorno includono un prefisso (`0b`, `0o`, `0x`) che indica la base."
   ]
  },
  {
   "cell_type": "code",
   "execution_count": 90,
   "id": "22fc7b37",
   "metadata": {},
   "outputs": [
    {
     "name": "stdout",
     "output_type": "stream",
     "text": [
      "0b101010\n",
      "0o52\n",
      "0x2a\n",
      "42\n",
      "42\n",
      "42\n"
     ]
    }
   ],
   "source": [
    "# Da decimale ad altre basi\n",
    "x = 42\n",
    "print(bin(x))   # '0b101010'\n",
    "print(oct(x))   # '0o52'\n",
    "print(hex(x))   # '0x2a'\n",
    "\n",
    "# Da stringa di base N a intero decimale\n",
    "print(int(\"101010\", 2))   # 42 (binario → decimale)\n",
    "print(int(\"2a\", 16))      # 42 (esadecimale → decimale)\n",
    "print(int(\"52\", 8))       # 42 (ottale → decimale)"
   ]
  },
  {
   "cell_type": "markdown",
   "id": "79c6b74e",
   "metadata": {},
   "source": [
    "## ✅ Conclusioni\n",
    "\n",
    "In questo notebook abbiamo esplorato in modo approfondito come Python gestisce le **operazioni aritmetiche** e il comportamento dei numeri.\n",
    "\n",
    "Abbiamo visto:\n",
    "\n",
    "- Come usare gli **operatori matematici** (`+`, `-`, `*`, `/`, `//`, `%`, `**`)\n",
    "- Le **assegnazioni combinate** (`+=`, `*=` ecc.)\n",
    "- Gli **operatori unari** (`+x`, `-x`, `--x`, ecc.)\n",
    "- La gestione dei **numeri complessi**\n",
    "- L’arrotondamento e le funzioni utili come `round()`, `abs()`, `divmod()`, `pow()`\n",
    "- Le **conversioni tra basi numeriche** (binaria, ottale, esadecimale)\n",
    "- I limiti della rappresentazione numerica: **overflow, underflow, e precisione**\n",
    "\n",
    "💡 Python tratta i numeri come **oggetti** e consente di eseguire calcoli in modo molto flessibile, ma è importante conoscere le **caratteristiche tecniche** per evitare errori nei conti o risultati inattesi.\n",
    "\n",
    "➡️ **Prosegui con il prossimo notebook sulle stringhe** per imparare a manipolare testi e caratteri in Python:\n",
    "\n",
    "<a href=\"https://github.com/lorenzo-arcioni/programmazione-python-base/tree/main/Capitolo2_Numeri_e_Stringhe/3_Stringhe.ipynb\" target=\"_parent\"><img src=\"https://colab.research.google.com/assets/colab-badge.svg\" alt=\"Open In Colab\"/></a>"
   ]
  }
 ],
 "metadata": {
  "kernelspec": {
   "display_name": "datas",
   "language": "python",
   "name": "python3"
  },
  "language_info": {
   "codemirror_mode": {
    "name": "ipython",
    "version": 3
   },
   "file_extension": ".py",
   "mimetype": "text/x-python",
   "name": "python",
   "nbconvert_exporter": "python",
   "pygments_lexer": "ipython3",
   "version": "3.10.13"
  }
 },
 "nbformat": 4,
 "nbformat_minor": 5
}
