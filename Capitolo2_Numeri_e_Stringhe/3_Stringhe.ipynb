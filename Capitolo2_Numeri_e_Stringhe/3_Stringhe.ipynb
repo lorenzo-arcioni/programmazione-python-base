{
 "cells": [
  {
   "cell_type": "markdown",
   "id": "041185be",
   "metadata": {},
   "source": [
    "<a href=\"https://colab.research.google.com/github/lorenzo-arcioni/programmazione-python-base/blob/main/Capitolo2_Numeri_e_Stringhe/3_Stringhe.ipynb\" target=\"_blank\"><img src=\"https://colab.research.google.com/assets/colab-badge.svg\" alt=\"Open In Colab\"/></a>\n",
    "\n",
    "# 🧬 Le Stringhe\n",
    "\n",
    "In Python, una **stringa** (o *string*) è una sequenza ordinata e immutabile di caratteri Unicode. Questo significa che ogni carattere in una stringa ha una posizione ben definita (indicizzata) e che, una volta creata, una stringa **non può essere modificata direttamente**: tutte le operazioni che sembrano \"modificare\" una stringa restituiscono in realtà una **nuova stringa**.\n",
    "\n",
    "Le stringhe sono fondamentali nella programmazione: rappresentano testi, parole, frasi, ma anche dati non testuali come codici, identificativi e persino contenuti di file.\n",
    "\n",
    "## 🔤 Sintassi di base\n",
    "\n",
    "Una stringa può essere definita in diversi modi, usando:\n",
    "- **Apici singoli**: `'ciao'`\n",
    "- **Apici doppi**: `\"ciao\"`\n",
    "- **Triple virgolette** (singole o doppie): `'''ciao'''` oppure `\"\"\"ciao\"\"\"`, utili per stringhe su più righe (*multilinea*).\n",
    "\n",
    "Python non distingue tra apici singoli e doppi: entrambi sono equivalenti. Questo consente una maggiore flessibilità, ad esempio per includere virgolette all'interno di una stringa senza dover usare il carattere di escape `\\`."
   ]
  },
  {
   "cell_type": "code",
   "execution_count": 2,
   "id": "8d4a6e02",
   "metadata": {},
   "outputs": [
    {
     "name": "stdout",
     "output_type": "stream",
     "text": [
      "Ciao Mondo\n"
     ]
    }
   ],
   "source": [
    "s1 = 'Ciao'\n",
    "s2 = \"Mondo\"\n",
    "print(s1, s2)"
   ]
  },
  {
   "cell_type": "markdown",
   "id": "6defa24d",
   "metadata": {},
   "source": [
    "## 🔡 Caratteri Speciali nelle Stringhe\n",
    "\n",
    "In Python, i caratteri speciali sono rappresentati da sequenze di escape, che iniziano con una barra rovesciata (`\\`) seguita da un carattere con un significato particolare.\n",
    "\n",
    "### Principali Sequenze di Escape\n",
    "\n",
    "- `\\n` : Nuova linea (line break)\n",
    "- `\\t` : Tabulazione orizzontale\n",
    "- `\\\\` : Backslash letterale\n",
    "- `\\'` : Apostrofo\n",
    "- `\\\"` : Virgolette doppie\n",
    "- `\\r` : Ritorno carrello\n",
    "- `\\b` : Backspace\n",
    "- `\\f` : Form feed\n",
    "- `\\ooo` : Valore ottale\n",
    "- `\\xhh` : Valore esadecimale\n",
    "\n",
    "Queste sequenze sono utili per includere caratteri non stampabili o che altrimenti avrebbero un significato speciale nel codice, come ad esempio le virgolette o il carattere di nuova linea."
   ]
  },
  {
   "cell_type": "code",
   "execution_count": 3,
   "id": "53e30434",
   "metadata": {},
   "outputs": [
    {
     "name": "stdout",
     "output_type": "stream",
     "text": [
      "Prima linea\n",
      "Seconda linea\n",
      "Colonna1\tColonna2\n",
      "Questo è un backslash: \\\n",
      "Virgolette doppie: \"Test\"\n",
      "Apostrofo: 'Test'\n"
     ]
    }
   ],
   "source": [
    "# Esempio di utilizzo di caratteri speciali\n",
    "print(\"Prima linea\\nSeconda linea\")  # \\n crea una nuova linea\n",
    "print(\"Colonna1\\tColonna2\")          # \\t aggiunge una tabulazione\n",
    "print(\"Questo è un backslash: \\\\\")   # \\\\ stampa un backslash\n",
    "print(\"Virgolette doppie: \\\"Test\\\"\") # \\\" stampa virgolette doppie\n",
    "print(\"Apostrofo: \\'Test\\'\")         # \\' stampa un apostrofo"
   ]
  },
  {
   "cell_type": "markdown",
   "id": "aaf16185",
   "metadata": {},
   "source": [
    "### 🧵 Stringhe raw (`r\"...\"`)\n",
    "\n",
    "Le **stringhe raw** (grezze) si definiscono anteponendo una `r` o `R` davanti alle virgolette: `r\"testo\"`.  \n",
    "Queste stringhe **non interpretano i caratteri di escape**, come `\\n`, `\\t`, ecc.\n",
    "\n",
    "Sono molto utili, ad esempio, quando si scrivono **percorsi di file su Windows** o **espressioni regolari**, perché evitano la doppia scrittura delle barre rovesciate (`\\\\`).\n",
    "\n",
    "#### Esempi di confronto:\n",
    "\n",
    "- `\"C:\\\\Users\\\\Nome\"` interpreta `\\\\` come `\\`\n",
    "- `r\"C:\\Users\\Nome\"` lascia la barra singola così com'è"
   ]
  },
  {
   "cell_type": "code",
   "execution_count": 4,
   "id": "f9620501",
   "metadata": {},
   "outputs": [
    {
     "name": "stdout",
     "output_type": "stream",
     "text": [
      "Percorso:\n",
      "C:\\Users\\Mario\n",
      "Percorso:\\nC:\\Users\\Mario\n"
     ]
    }
   ],
   "source": [
    "# Stringa normale con caratteri di escape\n",
    "normale = \"Percorso:\\nC:\\\\Users\\\\Mario\"\n",
    "print(normale)\n",
    "\n",
    "# Stringa raw: i caratteri di escape non vengono interpretati\n",
    "raw = r\"Percorso:\\nC:\\Users\\Mario\"\n",
    "print(raw)"
   ]
  },
  {
   "cell_type": "markdown",
   "id": "174c7bc1",
   "metadata": {},
   "source": [
    "### 📏 La funzione `len()`\n",
    "\n",
    "La funzione `len()` restituisce la lunghezza di una stringa, cioè il numero totale di caratteri che contiene.  \n",
    "Ad esempio,"
   ]
  },
  {
   "cell_type": "code",
   "execution_count": 5,
   "id": "2a63024e",
   "metadata": {},
   "outputs": [
    {
     "data": {
      "text/plain": [
       "6"
      ]
     },
     "execution_count": 5,
     "metadata": {},
     "output_type": "execute_result"
    }
   ],
   "source": [
    "len(\"Python\")"
   ]
  },
  {
   "cell_type": "markdown",
   "id": "ae39b413",
   "metadata": {},
   "source": [
    "È molto utile per conoscere la dimensione della stringa e per lavorare con indici validi."
   ]
  },
  {
   "cell_type": "markdown",
   "id": "d98725a0",
   "metadata": {},
   "source": [
    "## 🔄 Casting a stringa con `str()`\n",
    "\n",
    "La funzione `str()` permette di **convertire qualsiasi valore di tipo primitivo in una stringa**.\n",
    "\n",
    "I tipi primitivi più comuni da convertire in stringa sono:\n",
    "\n",
    "- Numeri interi (`int`)  \n",
    "- Numeri decimali (`float`)  \n",
    "- Valori booleani (`bool`)  \n",
    "- Valore `None`  \n",
    "\n",
    "Quando si usa `str()` su uno di questi tipi, il risultato è una rappresentazione testuale leggibile del valore."
   ]
  },
  {
   "cell_type": "code",
   "execution_count": 1,
   "id": "7638244f",
   "metadata": {},
   "outputs": [
    {
     "name": "stdout",
     "output_type": "stream",
     "text": [
      "Intero 42 -> stringa '42'\n",
      "Float 3.14159 -> stringa '3.14159'\n",
      "Booleano True -> stringa 'True'\n",
      "Booleano False -> stringa 'False'\n",
      "None -> stringa 'None'\n"
     ]
    }
   ],
   "source": [
    "# Esempi di casting da tipi primitivi a stringa con str()\n",
    "\n",
    "# Intero\n",
    "num_int = 42\n",
    "str_int = str(num_int)\n",
    "print(f\"Intero {num_int} -> stringa '{str_int}'\")\n",
    "\n",
    "# Float\n",
    "num_float = 3.14159\n",
    "str_float = str(num_float)\n",
    "print(f\"Float {num_float} -> stringa '{str_float}'\")\n",
    "\n",
    "# Booleano\n",
    "bool_true = True\n",
    "bool_false = False\n",
    "print(f\"Booleano {bool_true} -> stringa '{str(bool_true)}'\")\n",
    "print(f\"Booleano {bool_false} -> stringa '{str(bool_false)}'\")\n",
    "\n",
    "# None\n",
    "none_val = None\n",
    "print(f\"None -> stringa '{str(none_val)}'\")"
   ]
  },
  {
   "cell_type": "markdown",
   "id": "c2c2d4e1",
   "metadata": {},
   "source": [
    "Questa conversione è fondamentale quando si vuole concatenare valori diversi in un output testuale, oppure quando si deve serializzare dati.\n",
    "\n",
    "**Nota:** La funzione `str()` è diversa da `repr()` che restituisce una stringa più dettagliata e “ufficiale” spesso utilizzata per il debugging."
   ]
  },
  {
   "cell_type": "markdown",
   "id": "1febfbbd",
   "metadata": {},
   "source": [
    "# 🔢 Indicizzazione e Slicing delle Stringhe\n",
    "\n",
    "In Python, le **stringhe** sono sequenze ordinate di caratteri. Ogni carattere occupa una posizione numerica chiamata **indice**, che può essere positivo (da sinistra verso destra, partendo da 0) o negativo (da destra verso sinistra, partendo da -1).\n",
    "\n",
    "## 🎯 Indicizzazione\n",
    "\n",
    "L'indicizzazione permette di accedere a un singolo carattere di una stringa. La sintassi è:\n",
    "\n",
    "- $s[i]$ → restituisce il carattere all'indice $i$\n",
    "\n",
    "Esempio:"
   ]
  },
  {
   "cell_type": "code",
   "execution_count": 6,
   "id": "a040ef40",
   "metadata": {},
   "outputs": [
    {
     "name": "stdout",
     "output_type": "stream",
     "text": [
      "P\n",
      "y\n",
      "n\n",
      "o\n"
     ]
    }
   ],
   "source": [
    "s = \"Python\"\n",
    "\n",
    "# Indici positivi\n",
    "print(s[0])  # P\n",
    "print(s[1])  # y\n",
    "\n",
    "# Indici negativi\n",
    "print(s[-1])  # n\n",
    "print(s[-2])  # o"
   ]
  },
  {
   "cell_type": "markdown",
   "id": "15c934da",
   "metadata": {},
   "source": [
    "Gli **indici negativi** permettono di accedere ai caratteri partendo dalla fine della stringa: $-1$ corrisponde all’ultimo carattere, $-2$ al penultimo, e così via. Questo è utile per lavorare con la coda di una stringa **senza conoscerne la lunghezza**.\n",
    "\n",
    "### Attenzione\n",
    "\n",
    "- Se l'indice non esiste, Python restituisce un errore di tipo `IndexError`.\n",
    "- Se l'indice non e' intero, Python restituisce un errore di tipo `TypeError`.\n",
    "- Se la stringa è vuota, Python restituisce un errore di tipo `IndexError`."
   ]
  },
  {
   "cell_type": "code",
   "execution_count": 7,
   "id": "849c5427",
   "metadata": {},
   "outputs": [],
   "source": [
    "# s[35]\n",
    "# s[3.4]\n",
    "# \"\"[0]"
   ]
  },
  {
   "cell_type": "markdown",
   "id": "c8484a53",
   "metadata": {},
   "source": [
    "## ✂️ Slicing\n",
    "\n",
    "Lo slicing consente di ottenere **sottostringhe** specificando un intervallo di indici. La sintassi generale è:\n",
    "\n",
    "- $s[inizio:fine:passo]$\n",
    "\n",
    "Dove:\n",
    "- $inizio$ è l'indice da cui si parte (incluso)\n",
    "- $fine$ è l'indice fino a cui si arriva (escluso)\n",
    "- $passo$ indica ogni quanti caratteri prendere (default è $1$)\n",
    "\n",
    "Esempi:"
   ]
  },
  {
   "cell_type": "code",
   "execution_count": 8,
   "id": "82927bfe",
   "metadata": {},
   "outputs": [
    {
     "name": "stdout",
     "output_type": "stream",
     "text": [
      "######## Slicing con indici positivi ########\n",
      "\n",
      "Stringa originale: Programmare \n",
      "\n",
      "Prog\n",
      "Prog\n",
      "rammare\n"
     ]
    }
   ],
   "source": [
    "s = \"Programmare\"\n",
    "\n",
    "# Slicing\n",
    "print(\"######## Slicing con indici positivi ########\")\n",
    "\n",
    "print(\"\\nStringa originale:\", s, \"\\n\")\n",
    "\n",
    "print(s[0:4])  # Prog\n",
    "print(s[:4])  # Prog\n",
    "print(s[4:])  # rammare"
   ]
  },
  {
   "cell_type": "code",
   "execution_count": 9,
   "id": "f14c0da7",
   "metadata": {},
   "outputs": [
    {
     "name": "stdout",
     "output_type": "stream",
     "text": [
      "######## Slicing con indici negativi ########\n",
      "\n",
      "Stringa originale: Programmare \n",
      "\n",
      "mare\n",
      "Program\n",
      "ma\n",
      "mar\n"
     ]
    }
   ],
   "source": [
    "# Slicing con indici negativi\n",
    "print(\"######## Slicing con indici negativi ########\")\n",
    "\n",
    "print(\"\\nStringa originale:\", s, \"\\n\")\n",
    "\n",
    "print(s[-4:])  # mare\n",
    "print(s[:-4])  # Program\n",
    "print(s[-4:-2])  # ma\n",
    "print(s[-4:-1])  # mar"
   ]
  },
  {
   "cell_type": "code",
   "execution_count": 10,
   "id": "a6138fb7",
   "metadata": {},
   "outputs": [
    {
     "name": "stdout",
     "output_type": "stream",
     "text": [
      "######## Slicing con passo ########\n",
      "\n",
      "Stringa originale: Programmare \n",
      "\n",
      "Pgmr\n",
      "Pg\n",
      "oaa\n",
      "oa\n"
     ]
    }
   ],
   "source": [
    "# Slicing con passo\n",
    "print(\"######## Slicing con passo ########\")\n",
    "\n",
    "print(\"\\nStringa originale:\", s, \"\\n\")\n",
    "\n",
    "print(s[::3])  # Pgmr\n",
    "print(s[:5:3])  # Pg\n",
    "print(s[2::3])  # oaa\n",
    "print(s[2:7:3])  # oa"
   ]
  },
  {
   "cell_type": "code",
   "execution_count": 11,
   "id": "0708a785",
   "metadata": {},
   "outputs": [
    {
     "name": "stdout",
     "output_type": "stream",
     "text": [
      "######## Slicing con passo negativo ########\n",
      "\n",
      "Stringa originale: Programmare \n",
      "\n",
      "erammargorP\n",
      "eamroP\n",
      "\n",
      "eam\n"
     ]
    }
   ],
   "source": [
    "# Slicing con passo negativo\n",
    "print(\"######## Slicing con passo negativo ########\")\n",
    "\n",
    "print(\"\\nStringa originale:\", s, \"\\n\")\n",
    "\n",
    "print(s[::-1])  # eramargorP ## Inverte la stringa\n",
    "print(s[::-2])  # eamroP\n",
    "print(s[2:4:-1]) #\n",
    "print(s[:5:-2]) # eam"
   ]
  },
  {
   "cell_type": "markdown",
   "id": "ac6268f0",
   "metadata": {},
   "source": [
    "### 🧩 Perché `s[2:4:-1]` restituisce una stringa vuota?\n",
    "\n",
    "Quando si usa uno slicing con passo negativo (ad esempio `-1`), l'indice iniziale deve essere maggiore dell'indice finale per estrarre caratteri andando all'indietro.  \n",
    "Nel caso di `s[2:4:-1]`, l'indice iniziale (2) è minore dell'indice finale (4), quindi non viene selezionato nessun carattere e la stringa risultante è vuota (`''`).\n",
    "\n",
    "Infatti, invertendo il 4 con il 2,"
   ]
  },
  {
   "cell_type": "code",
   "execution_count": 12,
   "id": "df55dde1",
   "metadata": {},
   "outputs": [
    {
     "name": "stdout",
     "output_type": "stream",
     "text": [
      "\n",
      "Stringa originale: Programmare \n",
      "\n",
      "rg\n"
     ]
    }
   ],
   "source": [
    "print(\"\\nStringa originale:\", s, \"\\n\")\n",
    "\n",
    "print(s[4:2:-1]) # rg"
   ]
  },
  {
   "cell_type": "markdown",
   "id": "cf6d2f07",
   "metadata": {},
   "source": [
    "### 🔄 Perché `s[::-1]` funziona?\n",
    "\n",
    "Con `s[::-1]` entrambi gli indici `start` e `end` sono omessi:  \n",
    "- Quando il passo è negativo, Python assume per default `start = len(s) - 1` (l’ultimo carattere)  \n",
    "- e `end = -len(s) - 1` (virtualmente prima del primo carattere).  \n",
    "\n",
    "Poiché `start > end` e il passo è -1, Python scorre all’indietro tutta la stringa, restituendo la versione invertita."
   ]
  },
  {
   "cell_type": "markdown",
   "id": "a305d4b2",
   "metadata": {},
   "source": [
    "### ✅ Suggerimenti\n",
    "\n",
    "- Usa `len(s)` per ottenere la lunghezza della stringa.\n",
    "- Lo slicing **non** genera errore se gli indici sono fuori range: restituirà semplicemente la parte disponibile.\n",
    "- Il `passo` può essere negativo per ottenere la stringa in ordine inverso."
   ]
  },
  {
   "cell_type": "markdown",
   "id": "b2306a59",
   "metadata": {},
   "source": [
    "## ➕ Operazioni su stringhe\n",
    "\n",
    "Le **stringhe** in Python supportano varie operazioni grazie alla loro natura di sequenze.  \n",
    "Ecco le due operazioni più comuni:\n",
    "\n",
    "- **Concatenazione (`+`)**  \n",
    "  Permette di unire due o più stringhe in una nuova stringa.  \n",
    "  ➤ Esempio: $\"Hello\" + \"\\text{ }\" + \"World\"$ produce la stringa $\"Hello\\text{ }World\"$.\n",
    "\n",
    "- **Ripetizione (`*`)**  \n",
    "  Permette di ripetere una stringa un certo numero di volte.  \n",
    "  ➤ Esempio: $\"ha\" * 3$ produce la stringa $\"hahaha\"$.\n",
    "\n",
    "> 🔒 Ricorda: le stringhe sono **immutabili**, quindi ogni operazione restituisce una **nuova** stringa senza modificare l'originale."
   ]
  },
  {
   "cell_type": "code",
   "execution_count": 13,
   "id": "9be3878e",
   "metadata": {},
   "outputs": [
    {
     "name": "stdout",
     "output_type": "stream",
     "text": [
      "Python\n",
      "PyPyPy\n"
     ]
    }
   ],
   "source": [
    "a = \"Py\"\n",
    "b = \"thon\"\n",
    "print(a + b)    # Concatenazione\n",
    "print(a * 3)    # Ripetizione"
   ]
  },
  {
   "cell_type": "markdown",
   "id": "93d44075",
   "metadata": {},
   "source": [
    "## 🚫 Immutabilità delle stringhe\n",
    "\n",
    "Le stringhe non possono essere modificate direttamente. Qualsiasi operazione restituisce una **nuova stringa**.\n"
   ]
  },
  {
   "cell_type": "code",
   "execution_count": 14,
   "id": "527eb05a",
   "metadata": {},
   "outputs": [
    {
     "name": "stdout",
     "output_type": "stream",
     "text": [
      "Jython\n"
     ]
    }
   ],
   "source": [
    "s = \"Python\"\n",
    "# s[0] = 'J'  # Questo genera un errore\n",
    "s = 'J' + s[1:] # Possiamo però crearne un'altra a partire da s\n",
    "print(s)"
   ]
  },
  {
   "cell_type": "markdown",
   "id": "085a0ce6",
   "metadata": {},
   "source": [
    "## 🛠️ Metodi delle Stringhe\n",
    "\n",
    "In Python, le stringhe non solo supportano operazioni da sequenza (come l'indicizzazione e lo slicing), ma offrono anche una vasta gamma di **metodi specifici**.  \n",
    "Questi metodi consentono di trasformare, cercare, modificare e verificare il contenuto delle stringhe in modo molto efficace.  \n",
    "Essendo **immutabili**, ogni metodo restituisce una nuova stringa (o altro valore) lasciando inalterata quella originale.\n",
    "\n",
    "Vediamo una panoramica dei metodi più comuni, suddivisi per categoria."
   ]
  },
  {
   "cell_type": "markdown",
   "id": "390f56b8",
   "metadata": {},
   "source": [
    "### 🔠 Modifica del contenuto: `upper()`, `lower()`, `title()`, `capitalize()`\n",
    "\n",
    "Questi metodi trasformano il contenuto della stringa modificandone il **case** (cioè maiuscole/minuscole):\n",
    "\n",
    "- `$str.upper()$` → Tutti i caratteri in **maiuscolo**  \n",
    "- `$str.lower()$` → Tutti i caratteri in **minuscolo**  \n",
    "- `$str.title()$` → Ogni parola con l'iniziale maiuscola  \n",
    "- `$str.capitalize()$` → Solo il primo carattere della stringa in maiuscolo"
   ]
  },
  {
   "cell_type": "code",
   "execution_count": 15,
   "id": "edb2832b",
   "metadata": {},
   "outputs": [
    {
     "name": "stdout",
     "output_type": "stream",
     "text": [
      "CIAO MONDO\n",
      "ciao mondo\n",
      "Ciao Mondo\n",
      "Ciao mondo\n"
     ]
    }
   ],
   "source": [
    "s = \"ciao mondo\"\n",
    "print(s.upper())       # CIAO MONDO\n",
    "print(s.lower())       # ciao mondo\n",
    "print(s.title())       # Ciao Mondo\n",
    "print(s.capitalize())  # Ciao mondo"
   ]
  },
  {
   "cell_type": "markdown",
   "id": "606a57dc",
   "metadata": {},
   "source": [
    "### 🔍 Ricerca e sostituzione: `find()`, `replace()`\n",
    "\n",
    "- `str.find(sub)` → Restituisce l’indice della **prima occorrenza** di `sub` o `-1` se non trovata  \n",
    "- `str.replace(old, new)` → Restituisce una nuova stringa dove **tutte** le occorrenze di `old` sono sostituite con `new`\n",
    "\n",
    "dove `sub`, `old` e `new` sono stringhe."
   ]
  },
  {
   "cell_type": "code",
   "execution_count": 16,
   "id": "88304acb",
   "metadata": {},
   "outputs": [
    {
     "name": "stdout",
     "output_type": "stream",
     "text": [
      "14\n",
      "-1\n",
      "programmare è fighissimo\n"
     ]
    }
   ],
   "source": [
    "s = \"programmare è divertente\"\n",
    "print(s.find(\"divertente\"))  # 14\n",
    "print(s.find(\"noioso\"))      # -1\n",
    "print(s.replace(\"divertente\", \"fighissimo\"))  # programmare è una sfida"
   ]
  },
  {
   "cell_type": "markdown",
   "id": "52bffbcc",
   "metadata": {},
   "source": [
    "### ✂️ Suddividere e unire stringhe: `split()`, `join()`\n",
    "\n",
    "- `str.split(sep)` → Divide la stringa in una lista di sottostringhe usando `sep` come delimitatore  \n",
    "- `sep.join(lista)` → Unisce una lista di stringhe in una singola stringa, separandole con `sep`\n",
    "\n",
    "Quello che restituisce la funzione `split`, e che la funzione `join` prende in input, è una **lista**. La lista è una particolare struttura dati, molto importante, che approfondiremo più avanti."
   ]
  },
  {
   "cell_type": "code",
   "execution_count": 17,
   "id": "f452ba22",
   "metadata": {},
   "outputs": [
    {
     "name": "stdout",
     "output_type": "stream",
     "text": [
      "['python', 'java', 'c++']\n",
      "['python', 'java', 'c++']\n",
      "python | java | c++\n"
     ]
    }
   ],
   "source": [
    "s = \"python,java,c++\"\n",
    "lista = s.split(\",\")\n",
    "print(lista)  # ['python', 'java', 'c++']\n",
    "\n",
    "# Oppure considerando gli spazi\n",
    "s = \"python java c++\"\n",
    "lista = s.split(\" \")\n",
    "print(lista)  # ['python', 'java', 'c++']\n",
    "\n",
    "nuova = \" | \".join(lista)\n",
    "print(nuova)  # python | java | c++"
   ]
  },
  {
   "cell_type": "markdown",
   "id": "6c724b0b",
   "metadata": {},
   "source": [
    "Per accedere all'elemento i-esimo della lista `lista` si usa la notazione `lista[i].`."
   ]
  },
  {
   "cell_type": "code",
   "execution_count": 18,
   "id": "a95a4154",
   "metadata": {},
   "outputs": [
    {
     "name": "stdout",
     "output_type": "stream",
     "text": [
      "python\n",
      "java\n",
      "c++\n"
     ]
    }
   ],
   "source": [
    "print(lista[0])\n",
    "print(lista[1])\n",
    "print(lista[2])"
   ]
  },
  {
   "cell_type": "markdown",
   "id": "51388cf8",
   "metadata": {},
   "source": [
    "### ✂️ Rimozione di spazi: `strip()`, `rstrip()`, `lstrip()`\n",
    "\n",
    "- `str.strip()` → Rimuove spazi (e caratteri di nuova riga) da **entrambe** le estremità  \n",
    "- `str.rstrip()` → Solo dalla **destra**  \n",
    "- `str.lstrip()` → Solo dalla **sinistra**"
   ]
  },
  {
   "cell_type": "code",
   "execution_count": 19,
   "id": "5528c4a9",
   "metadata": {},
   "outputs": [
    {
     "name": "stdout",
     "output_type": "stream",
     "text": [
      "testo con spazi\n",
      "testo con spazi   \n",
      "  \n",
      "  testo con spazi\n"
     ]
    }
   ],
   "source": [
    "s = \"  \\n  testo con spazi   \"\n",
    "print(s.strip())   # \"testo con spazi\"\n",
    "print(s.lstrip())  # \"testo con spazi   \"\n",
    "print(s.rstrip())  # \"  \\n  testo con spazi\""
   ]
  },
  {
   "cell_type": "markdown",
   "id": "e34e6589",
   "metadata": {},
   "source": [
    "### 🧪 Test di contenuto: `isalpha()`, `isdigit()`, `isalnum()`, `isspace()`\n",
    "\n",
    "Questi metodi restituiscono **valori booleani**:\n",
    "\n",
    "- `str.isalpha()` → True se tutti i caratteri sono **lettere**  \n",
    "- `str.isdigit()` → True se tutti i caratteri sono **cifre**  \n",
    "- `str.isalnum()` → True se tutti i caratteri sono lettere o cifre  \n",
    "- `str.isspace()` → True se contiene **solo spazi o caratteri di spaziatura**"
   ]
  },
  {
   "cell_type": "code",
   "execution_count": 20,
   "id": "0bfab070",
   "metadata": {},
   "outputs": [
    {
     "name": "stdout",
     "output_type": "stream",
     "text": [
      "True\n",
      "True\n",
      "True\n",
      "True\n"
     ]
    }
   ],
   "source": [
    "print(\"Python\".isalpha())   # True\n",
    "print(\"1234\".isdigit())     # True\n",
    "print(\"abc123\".isalnum())   # True\n",
    "print(\"   \\n\\t\".isspace())  # True"
   ]
  },
  {
   "cell_type": "markdown",
   "id": "d73077d0",
   "metadata": {},
   "source": [
    "## 🧾 Formattazione delle stringhe\n",
    "\n",
    "Python offre diverse modalità per incorporare valori dinamici all'interno delle stringhe. Le principali tecniche di formattazione sono:\n",
    "\n",
    "1. **Operatori con `%`** – vecchio stile, simile al C.\n",
    "2. **Metodo `.format()`** – introdotto in Python 2.6/3.0, più leggibile e potente.\n",
    "3. **f-string (formatted string literals)** – introdotte in Python 3.6, offrono una sintassi concisa e leggibile.\n",
    "\n",
    "Vediamo ciascun metodo con esempi."
   ]
  },
  {
   "cell_type": "markdown",
   "id": "7c8fc994",
   "metadata": {},
   "source": [
    "### 🎯 Formattazione con `%`\n",
    "\n",
    "L'operatore `%` consente di inserire valori in una stringa utilizzando dei segnaposto:\n",
    "\n",
    "- `%s` → stringa\n",
    "- `%d` → intero\n",
    "- `%f` → float\n",
    "\n",
    "Questa tecnica è ancora usata (in C ad esempio), ma è considerata meno flessibile e più soggetta a errori rispetto ai metodi più moderni."
   ]
  },
  {
   "cell_type": "code",
   "execution_count": 21,
   "id": "170be5d6",
   "metadata": {},
   "outputs": [
    {
     "name": "stdout",
     "output_type": "stream",
     "text": [
      "Mi chiamo Alice e ho 30 anni.\n"
     ]
    }
   ],
   "source": [
    "nome = \"Alice\"\n",
    "età = 30\n",
    "print(\"Mi chiamo %s e ho %d anni.\" % (nome, età))"
   ]
  },
  {
   "cell_type": "markdown",
   "id": "854378a7",
   "metadata": {},
   "source": [
    "### 🧩 Formattazione con `.format()`\n",
    "\n",
    "Il metodo `.format()` consente di inserire valori nei segnaposto `{}` all'interno della stringa. È possibile:\n",
    "\n",
    "- Usare l'ordine degli argomenti\n",
    "- Specificare indici\n",
    "- Usare argomenti nominati\n",
    "\n",
    "È più leggibile e versatile del vecchio metodo con `%`."
   ]
  },
  {
   "cell_type": "code",
   "execution_count": 22,
   "id": "cfe71cdc",
   "metadata": {},
   "outputs": [
    {
     "name": "stdout",
     "output_type": "stream",
     "text": [
      "Mi chiamo Alice e ho 30 anni.\n",
      "Mi chiamo Alice e ho 30 anni. Alice è il mio nome.\n",
      "Mi chiamo Alice e ho 30 anni.\n"
     ]
    }
   ],
   "source": [
    "nome = \"Alice\"\n",
    "età = 30\n",
    "print(\"Mi chiamo {} e ho {} anni.\".format(nome, età))\n",
    "print(\"Mi chiamo {0} e ho {1} anni. {0} è il mio nome.\".format(nome, età))\n",
    "print(\"Mi chiamo {nome} e ho {anni} anni.\".format(nome=\"Alice\", anni=30))"
   ]
  },
  {
   "cell_type": "markdown",
   "id": "6055ad7c",
   "metadata": {},
   "source": [
    "### ⚡ f-string (Formatted String Literals)\n",
    "\n",
    "Le f-string sono stringhe che iniziano con `f` e permettono di inserire direttamente espressioni Python nei segnaposto `{}`.\n",
    "\n",
    "Sono concise, efficienti e leggibili. Possono anche contenere espressioni complesse o chiamate a funzioni."
   ]
  },
  {
   "cell_type": "code",
   "execution_count": 23,
   "id": "4780d51b",
   "metadata": {},
   "outputs": [
    {
     "name": "stdout",
     "output_type": "stream",
     "text": [
      "Mi chiamo Alice e ho 30 anni.\n",
      "Tra 5 anni avrò 35 anni.\n"
     ]
    }
   ],
   "source": [
    "nome = \"Alice\"\n",
    "età = 30\n",
    "print(f\"Mi chiamo {nome} e ho {età} anni.\")\n",
    "print(f\"Tra 5 anni avrò {età + 5} anni.\")"
   ]
  },
  {
   "cell_type": "code",
   "execution_count": 24,
   "id": "25639a1b",
   "metadata": {},
   "outputs": [
    {
     "name": "stdout",
     "output_type": "stream",
     "text": [
      "Mi chiamo Mario e ho 30 anni.\n",
      "Mi chiamo Mario e ho 30 anni.\n",
      "Mi chiamo Mario e ho 30 anni.\n"
     ]
    }
   ],
   "source": [
    "nome = \"Mario\"\n",
    "eta = 30\n",
    "\n",
    "print(\"Mi chiamo %s e ho %d anni.\" % (nome, eta))\n",
    "print(\"Mi chiamo {} e ho {} anni.\".format(nome, eta))\n",
    "print(f\"Mi chiamo {nome} e ho {eta} anni.\")\n"
   ]
  },
  {
   "cell_type": "markdown",
   "id": "daba6a95",
   "metadata": {},
   "source": [
    "### 📝 Il formattatore `!r` nelle f-string\n",
    "\n",
    "In Python, quando usi le **f-string** (stringhe formattate con `f\"...\"`), puoi applicare un modificatore chiamato **`!r`** per ottenere la rappresentazione `repr()` dell'oggetto. \n",
    "\n",
    "- `!r` indica a Python di chiamare la funzione `repr()` sull'oggetto, che restituisce una rappresentazione “ufficiale” e dettagliata del valore.\n",
    "- Questo è particolarmente utile per vedere stringhe con le virgolette, valori `None`, o per debug, perché mostra il contenuto esatto incluso il tipo e i caratteri speciali.\n",
    "\n",
    "**Esempio:**"
   ]
  },
  {
   "cell_type": "code",
   "execution_count": 25,
   "id": "46560bef",
   "metadata": {},
   "outputs": [
    {
     "name": "stdout",
     "output_type": "stream",
     "text": [
      "Senza !r: Alice\n",
      "Con !r: 'Alice'\n"
     ]
    }
   ],
   "source": [
    "nome = \"Alice\"\n",
    "print(f'Senza !r: {nome}')\n",
    "print(f'Con !r: {nome!r}')"
   ]
  },
  {
   "cell_type": "markdown",
   "id": "f8302371",
   "metadata": {},
   "source": [
    "Qui, `nome!r` mostra la stringa con le virgolette incluse, evidenziando che si tratta di una stringa.\n",
    "\n",
    "### 🔍 Altri formattatori in Python nelle f-string\n",
    "\n",
    "Oltre a `!r`, ci sono altri due modificatori utili:\n",
    "\n",
    "- `!s` — usa la funzione `str()` per ottenere una rappresentazione “leggibile” e user-friendly dell’oggetto (è il comportamento predefinito senza modificatori).\n",
    "- `!a` — usa la funzione `ascii()`, che restituisce una stringa con tutti i caratteri non ASCII convertiti in sequenze di escape.\n",
    "\n",
    "**Esempio:**"
   ]
  },
  {
   "cell_type": "code",
   "execution_count": 26,
   "id": "a6e54fca",
   "metadata": {},
   "outputs": [
    {
     "name": "stdout",
     "output_type": "stream",
     "text": [
      "Str (default): Caffè\n",
      "Repr (!r): 'Caffè'\n",
      "Ascii (!a): 'Caff\\xe8'\n"
     ]
    }
   ],
   "source": [
    "val = \"Caffè\"\n",
    "\n",
    "print(f'Str (default): {val!s}')\n",
    "print(f'Repr (!r): {val!r}')\n",
    "print(f'Ascii (!a): {val!a}')"
   ]
  },
  {
   "cell_type": "markdown",
   "id": "5b7b2375",
   "metadata": {},
   "source": [
    "## 🔚 Inizio, Fine e Conteggio di Sottostringhe\n",
    "\n",
    "Python offre metodi molto utili per controllare se una stringa **inizia**, **termina** o **contiene** una certa sottostringa, o per **contarne le occorrenze**."
   ]
  },
  {
   "cell_type": "markdown",
   "id": "5a997206",
   "metadata": {},
   "source": [
    "### 🚀 `startswith()` e `endswith()`\n",
    "\n",
    "- `s.startswith(prefix)` → restituisce `True` se la stringa `s` **inizia con** `prefix`\n",
    "- `s.endswith(suffix)` → restituisce `True` se la stringa `s` **termina con** `suffix`\n",
    "\n",
    "Entrambi accettano anche tuple di stringhe per controllare più alternative.\n",
    "\n",
    "📌 **Esempi:**"
   ]
  },
  {
   "cell_type": "code",
   "execution_count": 27,
   "id": "82f02b71",
   "metadata": {},
   "outputs": [
    {
     "name": "stdout",
     "output_type": "stream",
     "text": [
      "True\n",
      "False\n",
      "True\n",
      "False\n",
      "True\n",
      "False\n"
     ]
    }
   ],
   "source": [
    "frase = \"ciao mondo\"\n",
    "\n",
    "# Inizia con...\n",
    "print(frase.startswith(\"ciao\"))        # True\n",
    "print(frase.startswith(\"mondo\"))       # False\n",
    "\n",
    "# Finisce con...\n",
    "print(frase.endswith(\"mondo\"))         # True\n",
    "print(frase.endswith(\"ciao\"))          # False\n",
    "\n",
    "# Controllo multiplo\n",
    "file = \"documento.pdf\"\n",
    "print(file.endswith((\".pdf\", \".docx\")))  # True\n",
    "print(file.endswith((\".jpg\", \".png\")))   # False"
   ]
  },
  {
   "cell_type": "markdown",
   "id": "e0d2d6e2",
   "metadata": {},
   "source": [
    "### 🔍 `in` → Controllo di sottostringa\n",
    "\n",
    "- `substr in s` → restituisce `True` se la sottostringa `substr` è **contenuta** nella stringa $s$\n",
    "\n",
    "📌 **Esempi:**"
   ]
  },
  {
   "cell_type": "code",
   "execution_count": 28,
   "id": "4c4c7778",
   "metadata": {},
   "outputs": [
    {
     "name": "stdout",
     "output_type": "stream",
     "text": [
      "False\n",
      "False\n",
      "True\n"
     ]
    }
   ],
   "source": [
    "testo = \"intelligenza artificiale\"\n",
    "\n",
    "print(\"ai\" in testo)     # False\n",
    "print(\"robot\" in testo)  # False\n",
    "print(\"genza\" in testo)  # True"
   ]
  },
  {
   "cell_type": "markdown",
   "id": "6fbd15c4",
   "metadata": {},
   "source": [
    "### 🔢 `count()` → Conteggio di occorrenze\n",
    "\n",
    "- `s.count(substr)` → restituisce **quante volte** `substr` appare in `s`\n",
    "\n",
    "📌 **Esempi:**"
   ]
  },
  {
   "cell_type": "code",
   "execution_count": 29,
   "id": "617e4c0d",
   "metadata": {},
   "outputs": [
    {
     "name": "stdout",
     "output_type": "stream",
     "text": [
      "3\n",
      "2\n",
      "1\n",
      "0\n"
     ]
    }
   ],
   "source": [
    "parola = \"banana\"\n",
    "\n",
    "print(parola.count(\"a\"))     # 3\n",
    "print(parola.count(\"na\"))    # 2\n",
    "print(parola.count(\"b\"))     # 1\n",
    "print(parola.count(\"x\"))     # 0"
   ]
  },
  {
   "cell_type": "markdown",
   "id": "1b7d6b1e",
   "metadata": {},
   "source": [
    "## 📚 Ottenere aiuto e scoprire metodi\n",
    "\n",
    "Python offre strumenti molto utili per esplorare gli oggetti e scoprire quali metodi o attributi possiedono.\n",
    "\n",
    "- La funzione `dir()` restituisce una lista di tutti i metodi e attributi disponibili per un oggetto.\n",
    "- La funzione `help()` fornisce la documentazione dettagliata su un metodo o un oggetto specifico.\n",
    "\n",
    "Questi strumenti sono essenziali per imparare a usare efficacemente le librerie e i tipi di dato, specialmente quando si inizia a lavorare con nuovi oggetti o moduli."
   ]
  },
  {
   "cell_type": "code",
   "execution_count": 30,
   "id": "a61f5fde",
   "metadata": {},
   "outputs": [],
   "source": [
    "import nbformat\n",
    "\n",
    "with open(\"3_Stringhe.ipynb\", \"r\", encoding=\"utf-8\") as f:\n",
    "    notebook = nbformat.read(f, as_version=4)\n",
    "\n",
    "with open(\"solo_markdown.md\", \"w\", encoding=\"utf-8\") as out:\n",
    "    for cell in notebook.cells:\n",
    "        if cell.cell_type == \"markdown\":\n",
    "            out.write(cell.source + \"\\n\\n\")\n",
    "    out.close()"
   ]
  },
  {
   "cell_type": "code",
   "execution_count": 31,
   "id": "40ec20c8",
   "metadata": {},
   "outputs": [
    {
     "name": "stdout",
     "output_type": "stream",
     "text": [
      "['__add__', '__class__', '__contains__', '__delattr__', '__dir__', '__doc__', '__eq__', '__format__', '__ge__', '__getattribute__', '__getitem__', '__getnewargs__', '__gt__', '__hash__', '__init__', '__init_subclass__', '__iter__', '__le__', '__len__', '__lt__', '__mod__', '__mul__', '__ne__', '__new__', '__reduce__', '__reduce_ex__', '__repr__', '__rmod__', '__rmul__', '__setattr__', '__sizeof__', '__str__', '__subclasshook__', 'capitalize', 'casefold', 'center', 'count', 'encode', 'endswith', 'expandtabs', 'find', 'format', 'format_map', 'index', 'isalnum', 'isalpha', 'isascii', 'isdecimal', 'isdigit', 'isidentifier', 'islower', 'isnumeric', 'isprintable', 'isspace', 'istitle', 'isupper', 'join', 'ljust', 'lower', 'lstrip', 'maketrans', 'partition', 'removeprefix', 'removesuffix', 'replace', 'rfind', 'rindex', 'rjust', 'rpartition', 'rsplit', 'rstrip', 'split', 'splitlines', 'startswith', 'strip', 'swapcase', 'title', 'translate', 'upper', 'zfill']\n"
     ]
    }
   ],
   "source": [
    "# Esempio di uso di dir() su una stringa\n",
    "s = \"Python\"\n",
    "print(dir(s))  # Mostra tutti i metodi e attributi disponibili per la stringa s"
   ]
  },
  {
   "cell_type": "code",
   "execution_count": 32,
   "id": "3c7da43b",
   "metadata": {},
   "outputs": [
    {
     "name": "stdout",
     "output_type": "stream",
     "text": [
      "Help on built-in function upper:\n",
      "\n",
      "upper() method of builtins.str instance\n",
      "    Return a copy of the string converted to uppercase.\n",
      "\n"
     ]
    }
   ],
   "source": [
    "# Esempio di uso di help() su un metodo specifico\n",
    "help(s.upper)  # Mostra la documentazione del metodo upper()"
   ]
  },
  {
   "cell_type": "code",
   "execution_count": 33,
   "id": "d24e347f",
   "metadata": {},
   "outputs": [
    {
     "name": "stdout",
     "output_type": "stream",
     "text": [
      "Help on class str in module builtins:\n",
      "\n",
      "class str(object)\n",
      " |  str(object='') -> str\n",
      " |  str(bytes_or_buffer[, encoding[, errors]]) -> str\n",
      " |  \n",
      " |  Create a new string object from the given object. If encoding or\n",
      " |  errors is specified, then the object must expose a data buffer\n",
      " |  that will be decoded using the given encoding and error handler.\n",
      " |  Otherwise, returns the result of object.__str__() (if defined)\n",
      " |  or repr(object).\n",
      " |  encoding defaults to sys.getdefaultencoding().\n",
      " |  errors defaults to 'strict'.\n",
      " |  \n",
      " |  Methods defined here:\n",
      " |  \n",
      " |  __add__(self, value, /)\n",
      " |      Return self+value.\n",
      " |  \n",
      " |  __contains__(self, key, /)\n",
      " |      Return key in self.\n",
      " |  \n",
      " |  __eq__(self, value, /)\n",
      " |      Return self==value.\n",
      " |  \n",
      " |  __format__(self, format_spec, /)\n",
      " |      Return a formatted version of the string as described by format_spec.\n",
      " |  \n",
      " |  __ge__(self, value, /)\n",
      " |      Return self>=value.\n",
      " |  \n",
      " |  __getattribute__(self, name, /)\n",
      " |      Return getattr(self, name).\n",
      " |  \n",
      " |  __getitem__(self, key, /)\n",
      " |      Return self[key].\n",
      " |  \n",
      " |  __getnewargs__(...)\n",
      " |  \n",
      " |  __gt__(self, value, /)\n",
      " |      Return self>value.\n",
      " |  \n",
      " |  __hash__(self, /)\n",
      " |      Return hash(self).\n",
      " |  \n",
      " |  __iter__(self, /)\n",
      " |      Implement iter(self).\n",
      " |  \n",
      " |  __le__(self, value, /)\n",
      " |      Return self<=value.\n",
      " |  \n",
      " |  __len__(self, /)\n",
      " |      Return len(self).\n",
      " |  \n",
      " |  __lt__(self, value, /)\n",
      " |      Return self<value.\n",
      " |  \n",
      " |  __mod__(self, value, /)\n",
      " |      Return self%value.\n",
      " |  \n",
      " |  __mul__(self, value, /)\n",
      " |      Return self*value.\n",
      " |  \n",
      " |  __ne__(self, value, /)\n",
      " |      Return self!=value.\n",
      " |  \n",
      " |  __repr__(self, /)\n",
      " |      Return repr(self).\n",
      " |  \n",
      " |  __rmod__(self, value, /)\n",
      " |      Return value%self.\n",
      " |  \n",
      " |  __rmul__(self, value, /)\n",
      " |      Return value*self.\n",
      " |  \n",
      " |  __sizeof__(self, /)\n",
      " |      Return the size of the string in memory, in bytes.\n",
      " |  \n",
      " |  __str__(self, /)\n",
      " |      Return str(self).\n",
      " |  \n",
      " |  capitalize(self, /)\n",
      " |      Return a capitalized version of the string.\n",
      " |      \n",
      " |      More specifically, make the first character have upper case and the rest lower\n",
      " |      case.\n",
      " |  \n",
      " |  casefold(self, /)\n",
      " |      Return a version of the string suitable for caseless comparisons.\n",
      " |  \n",
      " |  center(self, width, fillchar=' ', /)\n",
      " |      Return a centered string of length width.\n",
      " |      \n",
      " |      Padding is done using the specified fill character (default is a space).\n",
      " |  \n",
      " |  count(...)\n",
      " |      S.count(sub[, start[, end]]) -> int\n",
      " |      \n",
      " |      Return the number of non-overlapping occurrences of substring sub in\n",
      " |      string S[start:end].  Optional arguments start and end are\n",
      " |      interpreted as in slice notation.\n",
      " |  \n",
      " |  encode(self, /, encoding='utf-8', errors='strict')\n",
      " |      Encode the string using the codec registered for encoding.\n",
      " |      \n",
      " |      encoding\n",
      " |        The encoding in which to encode the string.\n",
      " |      errors\n",
      " |        The error handling scheme to use for encoding errors.\n",
      " |        The default is 'strict' meaning that encoding errors raise a\n",
      " |        UnicodeEncodeError.  Other possible values are 'ignore', 'replace' and\n",
      " |        'xmlcharrefreplace' as well as any other name registered with\n",
      " |        codecs.register_error that can handle UnicodeEncodeErrors.\n",
      " |  \n",
      " |  endswith(...)\n",
      " |      S.endswith(suffix[, start[, end]]) -> bool\n",
      " |      \n",
      " |      Return True if S ends with the specified suffix, False otherwise.\n",
      " |      With optional start, test S beginning at that position.\n",
      " |      With optional end, stop comparing S at that position.\n",
      " |      suffix can also be a tuple of strings to try.\n",
      " |  \n",
      " |  expandtabs(self, /, tabsize=8)\n",
      " |      Return a copy where all tab characters are expanded using spaces.\n",
      " |      \n",
      " |      If tabsize is not given, a tab size of 8 characters is assumed.\n",
      " |  \n",
      " |  find(...)\n",
      " |      S.find(sub[, start[, end]]) -> int\n",
      " |      \n",
      " |      Return the lowest index in S where substring sub is found,\n",
      " |      such that sub is contained within S[start:end].  Optional\n",
      " |      arguments start and end are interpreted as in slice notation.\n",
      " |      \n",
      " |      Return -1 on failure.\n",
      " |  \n",
      " |  format(...)\n",
      " |      S.format(*args, **kwargs) -> str\n",
      " |      \n",
      " |      Return a formatted version of S, using substitutions from args and kwargs.\n",
      " |      The substitutions are identified by braces ('{' and '}').\n",
      " |  \n",
      " |  format_map(...)\n",
      " |      S.format_map(mapping) -> str\n",
      " |      \n",
      " |      Return a formatted version of S, using substitutions from mapping.\n",
      " |      The substitutions are identified by braces ('{' and '}').\n",
      " |  \n",
      " |  index(...)\n",
      " |      S.index(sub[, start[, end]]) -> int\n",
      " |      \n",
      " |      Return the lowest index in S where substring sub is found,\n",
      " |      such that sub is contained within S[start:end].  Optional\n",
      " |      arguments start and end are interpreted as in slice notation.\n",
      " |      \n",
      " |      Raises ValueError when the substring is not found.\n",
      " |  \n",
      " |  isalnum(self, /)\n",
      " |      Return True if the string is an alpha-numeric string, False otherwise.\n",
      " |      \n",
      " |      A string is alpha-numeric if all characters in the string are alpha-numeric and\n",
      " |      there is at least one character in the string.\n",
      " |  \n",
      " |  isalpha(self, /)\n",
      " |      Return True if the string is an alphabetic string, False otherwise.\n",
      " |      \n",
      " |      A string is alphabetic if all characters in the string are alphabetic and there\n",
      " |      is at least one character in the string.\n",
      " |  \n",
      " |  isascii(self, /)\n",
      " |      Return True if all characters in the string are ASCII, False otherwise.\n",
      " |      \n",
      " |      ASCII characters have code points in the range U+0000-U+007F.\n",
      " |      Empty string is ASCII too.\n",
      " |  \n",
      " |  isdecimal(self, /)\n",
      " |      Return True if the string is a decimal string, False otherwise.\n",
      " |      \n",
      " |      A string is a decimal string if all characters in the string are decimal and\n",
      " |      there is at least one character in the string.\n",
      " |  \n",
      " |  isdigit(self, /)\n",
      " |      Return True if the string is a digit string, False otherwise.\n",
      " |      \n",
      " |      A string is a digit string if all characters in the string are digits and there\n",
      " |      is at least one character in the string.\n",
      " |  \n",
      " |  isidentifier(self, /)\n",
      " |      Return True if the string is a valid Python identifier, False otherwise.\n",
      " |      \n",
      " |      Call keyword.iskeyword(s) to test whether string s is a reserved identifier,\n",
      " |      such as \"def\" or \"class\".\n",
      " |  \n",
      " |  islower(self, /)\n",
      " |      Return True if the string is a lowercase string, False otherwise.\n",
      " |      \n",
      " |      A string is lowercase if all cased characters in the string are lowercase and\n",
      " |      there is at least one cased character in the string.\n",
      " |  \n",
      " |  isnumeric(self, /)\n",
      " |      Return True if the string is a numeric string, False otherwise.\n",
      " |      \n",
      " |      A string is numeric if all characters in the string are numeric and there is at\n",
      " |      least one character in the string.\n",
      " |  \n",
      " |  isprintable(self, /)\n",
      " |      Return True if the string is printable, False otherwise.\n",
      " |      \n",
      " |      A string is printable if all of its characters are considered printable in\n",
      " |      repr() or if it is empty.\n",
      " |  \n",
      " |  isspace(self, /)\n",
      " |      Return True if the string is a whitespace string, False otherwise.\n",
      " |      \n",
      " |      A string is whitespace if all characters in the string are whitespace and there\n",
      " |      is at least one character in the string.\n",
      " |  \n",
      " |  istitle(self, /)\n",
      " |      Return True if the string is a title-cased string, False otherwise.\n",
      " |      \n",
      " |      In a title-cased string, upper- and title-case characters may only\n",
      " |      follow uncased characters and lowercase characters only cased ones.\n",
      " |  \n",
      " |  isupper(self, /)\n",
      " |      Return True if the string is an uppercase string, False otherwise.\n",
      " |      \n",
      " |      A string is uppercase if all cased characters in the string are uppercase and\n",
      " |      there is at least one cased character in the string.\n",
      " |  \n",
      " |  join(self, iterable, /)\n",
      " |      Concatenate any number of strings.\n",
      " |      \n",
      " |      The string whose method is called is inserted in between each given string.\n",
      " |      The result is returned as a new string.\n",
      " |      \n",
      " |      Example: '.'.join(['ab', 'pq', 'rs']) -> 'ab.pq.rs'\n",
      " |  \n",
      " |  ljust(self, width, fillchar=' ', /)\n",
      " |      Return a left-justified string of length width.\n",
      " |      \n",
      " |      Padding is done using the specified fill character (default is a space).\n",
      " |  \n",
      " |  lower(self, /)\n",
      " |      Return a copy of the string converted to lowercase.\n",
      " |  \n",
      " |  lstrip(self, chars=None, /)\n",
      " |      Return a copy of the string with leading whitespace removed.\n",
      " |      \n",
      " |      If chars is given and not None, remove characters in chars instead.\n",
      " |  \n",
      " |  partition(self, sep, /)\n",
      " |      Partition the string into three parts using the given separator.\n",
      " |      \n",
      " |      This will search for the separator in the string.  If the separator is found,\n",
      " |      returns a 3-tuple containing the part before the separator, the separator\n",
      " |      itself, and the part after it.\n",
      " |      \n",
      " |      If the separator is not found, returns a 3-tuple containing the original string\n",
      " |      and two empty strings.\n",
      " |  \n",
      " |  removeprefix(self, prefix, /)\n",
      " |      Return a str with the given prefix string removed if present.\n",
      " |      \n",
      " |      If the string starts with the prefix string, return string[len(prefix):].\n",
      " |      Otherwise, return a copy of the original string.\n",
      " |  \n",
      " |  removesuffix(self, suffix, /)\n",
      " |      Return a str with the given suffix string removed if present.\n",
      " |      \n",
      " |      If the string ends with the suffix string and that suffix is not empty,\n",
      " |      return string[:-len(suffix)]. Otherwise, return a copy of the original\n",
      " |      string.\n",
      " |  \n",
      " |  replace(self, old, new, count=-1, /)\n",
      " |      Return a copy with all occurrences of substring old replaced by new.\n",
      " |      \n",
      " |        count\n",
      " |          Maximum number of occurrences to replace.\n",
      " |          -1 (the default value) means replace all occurrences.\n",
      " |      \n",
      " |      If the optional argument count is given, only the first count occurrences are\n",
      " |      replaced.\n",
      " |  \n",
      " |  rfind(...)\n",
      " |      S.rfind(sub[, start[, end]]) -> int\n",
      " |      \n",
      " |      Return the highest index in S where substring sub is found,\n",
      " |      such that sub is contained within S[start:end].  Optional\n",
      " |      arguments start and end are interpreted as in slice notation.\n",
      " |      \n",
      " |      Return -1 on failure.\n",
      " |  \n",
      " |  rindex(...)\n",
      " |      S.rindex(sub[, start[, end]]) -> int\n",
      " |      \n",
      " |      Return the highest index in S where substring sub is found,\n",
      " |      such that sub is contained within S[start:end].  Optional\n",
      " |      arguments start and end are interpreted as in slice notation.\n",
      " |      \n",
      " |      Raises ValueError when the substring is not found.\n",
      " |  \n",
      " |  rjust(self, width, fillchar=' ', /)\n",
      " |      Return a right-justified string of length width.\n",
      " |      \n",
      " |      Padding is done using the specified fill character (default is a space).\n",
      " |  \n",
      " |  rpartition(self, sep, /)\n",
      " |      Partition the string into three parts using the given separator.\n",
      " |      \n",
      " |      This will search for the separator in the string, starting at the end. If\n",
      " |      the separator is found, returns a 3-tuple containing the part before the\n",
      " |      separator, the separator itself, and the part after it.\n",
      " |      \n",
      " |      If the separator is not found, returns a 3-tuple containing two empty strings\n",
      " |      and the original string.\n",
      " |  \n",
      " |  rsplit(self, /, sep=None, maxsplit=-1)\n",
      " |      Return a list of the substrings in the string, using sep as the separator string.\n",
      " |      \n",
      " |        sep\n",
      " |          The separator used to split the string.\n",
      " |      \n",
      " |          When set to None (the default value), will split on any whitespace\n",
      " |          character (including \\\\n \\\\r \\\\t \\\\f and spaces) and will discard\n",
      " |          empty strings from the result.\n",
      " |        maxsplit\n",
      " |          Maximum number of splits (starting from the left).\n",
      " |          -1 (the default value) means no limit.\n",
      " |      \n",
      " |      Splitting starts at the end of the string and works to the front.\n",
      " |  \n",
      " |  rstrip(self, chars=None, /)\n",
      " |      Return a copy of the string with trailing whitespace removed.\n",
      " |      \n",
      " |      If chars is given and not None, remove characters in chars instead.\n",
      " |  \n",
      " |  split(self, /, sep=None, maxsplit=-1)\n",
      " |      Return a list of the substrings in the string, using sep as the separator string.\n",
      " |      \n",
      " |        sep\n",
      " |          The separator used to split the string.\n",
      " |      \n",
      " |          When set to None (the default value), will split on any whitespace\n",
      " |          character (including \\\\n \\\\r \\\\t \\\\f and spaces) and will discard\n",
      " |          empty strings from the result.\n",
      " |        maxsplit\n",
      " |          Maximum number of splits (starting from the left).\n",
      " |          -1 (the default value) means no limit.\n",
      " |      \n",
      " |      Note, str.split() is mainly useful for data that has been intentionally\n",
      " |      delimited.  With natural text that includes punctuation, consider using\n",
      " |      the regular expression module.\n",
      " |  \n",
      " |  splitlines(self, /, keepends=False)\n",
      " |      Return a list of the lines in the string, breaking at line boundaries.\n",
      " |      \n",
      " |      Line breaks are not included in the resulting list unless keepends is given and\n",
      " |      true.\n",
      " |  \n",
      " |  startswith(...)\n",
      " |      S.startswith(prefix[, start[, end]]) -> bool\n",
      " |      \n",
      " |      Return True if S starts with the specified prefix, False otherwise.\n",
      " |      With optional start, test S beginning at that position.\n",
      " |      With optional end, stop comparing S at that position.\n",
      " |      prefix can also be a tuple of strings to try.\n",
      " |  \n",
      " |  strip(self, chars=None, /)\n",
      " |      Return a copy of the string with leading and trailing whitespace removed.\n",
      " |      \n",
      " |      If chars is given and not None, remove characters in chars instead.\n",
      " |  \n",
      " |  swapcase(self, /)\n",
      " |      Convert uppercase characters to lowercase and lowercase characters to uppercase.\n",
      " |  \n",
      " |  title(self, /)\n",
      " |      Return a version of the string where each word is titlecased.\n",
      " |      \n",
      " |      More specifically, words start with uppercased characters and all remaining\n",
      " |      cased characters have lower case.\n",
      " |  \n",
      " |  translate(self, table, /)\n",
      " |      Replace each character in the string using the given translation table.\n",
      " |      \n",
      " |        table\n",
      " |          Translation table, which must be a mapping of Unicode ordinals to\n",
      " |          Unicode ordinals, strings, or None.\n",
      " |      \n",
      " |      The table must implement lookup/indexing via __getitem__, for instance a\n",
      " |      dictionary or list.  If this operation raises LookupError, the character is\n",
      " |      left untouched.  Characters mapped to None are deleted.\n",
      " |  \n",
      " |  upper(self, /)\n",
      " |      Return a copy of the string converted to uppercase.\n",
      " |  \n",
      " |  zfill(self, width, /)\n",
      " |      Pad a numeric string with zeros on the left, to fill a field of the given width.\n",
      " |      \n",
      " |      The string is never truncated.\n",
      " |  \n",
      " |  ----------------------------------------------------------------------\n",
      " |  Static methods defined here:\n",
      " |  \n",
      " |  __new__(*args, **kwargs) from builtins.type\n",
      " |      Create and return a new object.  See help(type) for accurate signature.\n",
      " |  \n",
      " |  maketrans(...)\n",
      " |      Return a translation table usable for str.translate().\n",
      " |      \n",
      " |      If there is only one argument, it must be a dictionary mapping Unicode\n",
      " |      ordinals (integers) or characters to Unicode ordinals, strings or None.\n",
      " |      Character keys will be then converted to ordinals.\n",
      " |      If there are two arguments, they must be strings of equal length, and\n",
      " |      in the resulting dictionary, each character in x will be mapped to the\n",
      " |      character at the same position in y. If there is a third argument, it\n",
      " |      must be a string, whose characters will be mapped to None in the result.\n",
      "\n"
     ]
    }
   ],
   "source": [
    "# Esempio di uso di help() sull'intero tipo stringa\n",
    "help(str)  # Visualizza la documentazione completa della classe stringa"
   ]
  },
  {
   "cell_type": "markdown",
   "id": "b3f014f4",
   "metadata": {},
   "source": [
    "## 🧵 Pattern Matching con il modulo `re` (regex)\n",
    "\n",
    "Il modulo `re` permette di usare **espressioni regolari (regex)** per cercare, sostituire o verificare schemi all'interno di stringhe.\n",
    "\n",
    "### ✨ Funzioni principali del modulo `re`:\n",
    "\n",
    "- `re.search(p, s)` — Cerca la **prima corrispondenza** del pattern `p` nella stringa `s`.\n",
    "- `re.findall(p, s)` — Restituisce **tutte le corrispondenze** trovate.\n",
    "- `re.sub(p, r, s)` — Sostituisce in `s` tutte le corrispondenze di `p` con `r`.\n",
    "- `re.match(p, s)` — Verifica se la stringa `s` **inizia** con il pattern `p`.\n",
    "\n",
    "### 🔤 Alcuni simboli utili nei pattern:\n",
    "\n",
    "- `\\d` → una cifra (`0-9`)\n",
    "- `\\w` → un carattere alfanumerico (`a-z`, `A-Z`, `0-9`, `_`)\n",
    "- `.` → qualunque carattere (eccetto newline)\n",
    "- `^` → inizio stringa\n",
    "- `$` → fine stringa\n",
    "- `+` → uno o più elementi\n",
    "- `*` → zero o più elementi\n",
    "\n",
    "🧪 I pattern si scrivono spesso come **stringhe raw**: `r\"...\"`  \n",
    "Così non serve raddoppiare i backslash (es: `r\"\\d+\"` invece di `\"\\\\d+\"`)."
   ]
  },
  {
   "cell_type": "code",
   "execution_count": 34,
   "id": "236bf32f",
   "metadata": {},
   "outputs": [
    {
     "name": "stdout",
     "output_type": "stream",
     "text": [
      "Trovato: numero\n"
     ]
    }
   ],
   "source": [
    "import re\n",
    "\n",
    "testo = \"Il mio numero preferito è 42.\"\n",
    "\n",
    "risultato = re.search(r\"numero\", testo)\n",
    "if risultato:\n",
    "    print(\"Trovato:\", risultato.group())\n",
    "else:\n",
    "    print(\"Non trovato.\")"
   ]
  },
  {
   "cell_type": "code",
   "execution_count": 35,
   "id": "62a8c448",
   "metadata": {},
   "outputs": [
    {
     "name": "stdout",
     "output_type": "stream",
     "text": [
      "Cifre trovate: ['123', '007', '404']\n"
     ]
    }
   ],
   "source": [
    "testo = \"Password123, codice 007 e stanza 404\"\n",
    "cifre = re.findall(r\"\\d+\", testo)\n",
    "print(\"Cifre trovate:\", cifre)"
   ]
  },
  {
   "cell_type": "code",
   "execution_count": 36,
   "id": "d1473d49",
   "metadata": {},
   "outputs": [
    {
     "name": "stdout",
     "output_type": "stream",
     "text": [
      "Testo modificato: UserXXX - Accesso XXXX\n"
     ]
    }
   ],
   "source": [
    "testo = \"User123 - Accesso 2025\"\n",
    "modificato = re.sub(r\"\\d\", \"X\", testo)\n",
    "print(\"Testo modificato:\", modificato)"
   ]
  },
  {
   "cell_type": "markdown",
   "id": "0b6b7844",
   "metadata": {},
   "source": [
    "### ℹ️ Nota\n",
    "\n",
    "Le regex sono molto potenti anche solo con i costrutti di base.  \n",
    "Per esplorare ed esercitarsi, si consiglia: [regex101.com](https://regex101.com)"
   ]
  },
  {
   "cell_type": "markdown",
   "id": "b9c5dd7b",
   "metadata": {},
   "source": [
    "## 🧮 Confronto tra Stringhe e Ordinamento\n",
    "\n",
    "In Python è possibile **confrontare** due stringhe utilizzando gli operatori di confronto standard:  \n",
    "`==`, `!=`, `<`, `>`, `<=`, `>=`.\n",
    "\n",
    "### 🔤 Come funziona il confronto?\n",
    "\n",
    "Python confronta le stringhe **carattere per carattere**, in base ai **codici Unicode** dei caratteri.  \n",
    "Questo significa che:\n",
    "\n",
    "- `\"a\" < \"b\"` perché il codice Unicode di `\"a\"` è minore di quello di `\"b\"`.\n",
    "- `\"abc\" < \"b\"` perché il confronto parte dal primo carattere: `\"a\"` è minore di `\"b\"`.\n",
    "- `\"Z\"` è **minore** di `\"a\"` perché le lettere maiuscole vengono **prima** delle minuscole in Unicode.\n",
    "\n",
    "### 📚 Ordine Unicode\n",
    "\n",
    "Ecco alcuni codici Unicode comuni:\n",
    "\n",
    "- `\"A\"` → 65\n",
    "- `\"Z\"` → 90\n",
    "- `\"a\"` → 97\n",
    "- `\"z\"` → 122\n",
    "\n",
    "Puoi verificarli con `ord()`\n",
    "\n",
    "### 🔢 Funzione `ord()`\n",
    "\n",
    "La funzione `ord()` prende un singolo carattere (stringa di lunghezza 1) e restituisce il suo **codice Unicode** come numero intero.\n",
    "\n",
    "Questo codice rappresenta la posizione del carattere nella tabella Unicode, che Python usa per confrontare e ordinare le stringhe.\n",
    "\n",
    "📌 **Sintassi:**  \n",
    "- `ord(carattere)` → restituisce il numero Unicode corrispondente a `carattere`\n",
    "\n",
    "**Esempio:**\n",
    "\n",
    "- `ord('A')` restituisce 65\n",
    "- `ord('a')` restituisce 97\n",
    "\n",
    "È molto utile per capire l'ordine lessicografico e fare confronti basati sui valori numerici dei caratteri."
   ]
  },
  {
   "cell_type": "code",
   "execution_count": 37,
   "id": "238a0e6f",
   "metadata": {},
   "outputs": [
    {
     "name": "stdout",
     "output_type": "stream",
     "text": [
      "True\n",
      "True\n",
      "True\n",
      "65\n",
      "90\n",
      "97\n",
      "122\n",
      "32\n"
     ]
    }
   ],
   "source": [
    "# Esempi di confronto tra stringhe\n",
    "print(\"a\" < \"b\")          # True\n",
    "print(\"abc\" < \"b\")        # True\n",
    "print(\"Z\" < \"a\")          # True\n",
    "\n",
    "# Verifica codici Unicode con ord()\n",
    "print(ord(\"A\"))  # 65\n",
    "print(ord(\"Z\"))  # 90\n",
    "print(ord(\"a\"))  # 97\n",
    "print(ord(\"z\"))  # 122\n",
    "print(ord(\" \"))  # 32"
   ]
  },
  {
   "cell_type": "markdown",
   "id": "2e6d10f4",
   "metadata": {},
   "source": [
    "### 🔣 Funzione `chr()`\n",
    "\n",
    "La funzione `chr()` fa l’operazione inversa di `ord()`: prende un **numero intero** (codice Unicode) e restituisce il **carattere corrispondente**.\n",
    "\n",
    "È utile quando vuoi convertire numeri in lettere, ad esempio nei cifrari o nei giochi con caratteri.\n",
    "\n",
    "📌 **Sintassi:**  \n",
    "- `chr(numero)` → restituisce il carattere Unicode corrispondente a `numero`\n",
    "\n",
    "**Esempio:**\n",
    "\n",
    "Usiamo `chr()` per ottenere i caratteri corrispondenti ai codici numerici."
   ]
  },
  {
   "cell_type": "code",
   "execution_count": 38,
   "id": "3a2cca13",
   "metadata": {},
   "outputs": [
    {
     "name": "stdout",
     "output_type": "stream",
     "text": [
      "A\n",
      "Z\n",
      "a\n",
      "z\n",
      " \n"
     ]
    }
   ],
   "source": [
    "# Conversione da codice Unicode a carattere con chr()\n",
    "print(chr(65))   # 'A'\n",
    "print(chr(90))   # 'Z'\n",
    "print(chr(97))   # 'a'\n",
    "print(chr(122))  # 'z'\n",
    "print(chr(32))   # ' ' (spazio)"
   ]
  },
  {
   "cell_type": "markdown",
   "id": "d5c00421",
   "metadata": {},
   "source": [
    "## Tabella Unicode dei Caratteri Comuni\n",
    "\n",
    "La tabella sottostante mostra alcuni caratteri comuni insieme ai loro codici Unicode (ASCII) in formato esadecimale e decimale, come visualizzati dalla funzione ord() in Python.\n",
    "<br>\n",
    "<img src=\"https://naveenr.net/content/images/2017/03/ascii-codes.gif\" alt=\"Tabella Unicode\" width=\"600\"/>\n",
    "\n",
    "Descrizione:\n",
    "\n",
    "- La colonna `Char` mostra il simbolo visualizzato.\n",
    "\n",
    "- Le colonne `Hex` e `Dec` rappresentanca il valore Unicode del carattere (es. `41` per 'A').\n",
    "\n",
    "- La funzione `ord()` restituisce il codice Unicode in forma decimale (es. `65` per 'A').\n",
    "\n",
    "- Unicode è uno standard che assegna un numero univoco a ogni carattere, indipendentemente dalla piattaforma, programma o lingua.\n",
    "\n",
    "Questa tabella è utile per comprendere come Python rappresenta internamente i caratteri e come funziona la codifica Unicode."
   ]
  },
  {
   "cell_type": "markdown",
   "id": "1cad3971",
   "metadata": {},
   "source": [
    "## 📜 Stringhe Multilinea\n",
    "\n",
    "In Python, le stringhe multilinea permettono di scrivere testi che si estendono su più righe, mantenendo la formattazione originale.\n",
    "\n",
    "### Come si definiscono?\n",
    "\n",
    "Si usano le **triple virgolette** (singole o doppie):\n",
    "\n",
    "```python\n",
    "'''testo \n",
    "\n",
    "su più \n",
    "\n",
    "righe\n",
    "\n",
    "'''\n",
    "\n",
    "\"\"\"\n",
    "testo \n",
    "su più \n",
    "righe\n",
    "\"\"\"\n",
    "\n",
    "```\n",
    "\n",
    "Questa sintassi è molto comoda per:\n",
    "\n",
    "- Documentare funzioni (docstring)\n",
    "- Scrivere blocchi di testo lunghi\n",
    "- Includere caratteri di nuova linea senza usare `\\n`\n",
    "\n",
    "### Caratteristiche\n",
    "\n",
    "- Mantengono gli spazi e i ritorni a capo esattamente come scritti.\n",
    "- Possono contenere sia apici singoli che doppi senza bisogno di escape.\n",
    "- Sono immutabili come tutte le stringhe in Python."
   ]
  },
  {
   "cell_type": "code",
   "execution_count": 39,
   "id": "fd6704c2",
   "metadata": {},
   "outputs": [
    {
     "name": "stdout",
     "output_type": "stream",
     "text": [
      "Questa è una stringa\n",
      "che si estende\n",
      "su più righe.\n",
      "\n",
      "Include anche righe vuote e spazi.\n",
      "<class 'str'>\n"
     ]
    }
   ],
   "source": [
    "# Esempio di stringa multilinea con triple virgolette\n",
    "\n",
    "testo_multilinea = \"\"\"Questa è una stringa\n",
    "che si estende\n",
    "su più righe.\n",
    "\n",
    "Include anche righe vuote e spazi.\"\"\"\n",
    "\n",
    "print(testo_multilinea)\n",
    "print(type(testo_multilinea))"
   ]
  },
  {
   "cell_type": "code",
   "execution_count": 40,
   "id": "a1f17465",
   "metadata": {},
   "outputs": [
    {
     "name": "stdout",
     "output_type": "stream",
     "text": [
      "Questa è una docstring\n",
      "per una funzione immaginaria.\n",
      "\n",
      "Serve per spiegare cosa fa la funzione.\n"
     ]
    }
   ],
   "source": [
    "# Con le triple virgolette singole funziona allo stesso modo\n",
    "\n",
    "docstring = '''Questa è una docstring\n",
    "per una funzione immaginaria.\n",
    "\n",
    "Serve per spiegare cosa fa la funzione.'''\n",
    "\n",
    "print(docstring)"
   ]
  },
  {
   "cell_type": "markdown",
   "id": "8f395168",
   "metadata": {},
   "source": [
    "## ✅ Conclusioni\n",
    "\n",
    "In questo notebook abbiamo esplorato in profondità il mondo delle **stringhe** in Python, un tipo di dato fondamentale per la programmazione.\n",
    "\n",
    "Abbiamo imparato:\n",
    "\n",
    "- Come **definire** e **rappresentare** stringhe, anche su più righe con le **stringhe multilinea** (triple virgolette)\n",
    "- A usare i **caratteri speciali** e le **stringhe raw** per gestire sequenze di escape e percorsi\n",
    "- A lavorare con **indicizzazione** e **slicing** per accedere e manipolare sottostringhe in modo flessibile\n",
    "- Le principali **operazioni** sulle stringhe: concatenazione (`+`), ripetizione (`*`), e gli operatori di confronto (`==`, `!=`, `<`, `>`, `<=`, `>=`)\n",
    "- Il concetto di **immutabilità** delle stringhe, che implica che ogni modifica crea una nuova stringa\n",
    "- I principali **metodi utili** per trasformazione, ricerca, suddivisione e verifica (`upper()`, `split()`, `replace()`, `isalpha()` ecc.)\n",
    "- Le diverse **modalità di formattazione** delle stringhe: con l’operatore `%`, il metodo `.format()`, e le moderne f-string\n",
    "- Le funzioni che permettono la traduzione di un carattere in un codice Unicode e viceversa\n",
    "- Come ottenere **aiuto** e scoprire i metodi disponibili con le funzioni `dir()` e `help()`\n",
    "- I fondamenti del **pattern matching** con il modulo `re`, per espressioni regolari semplici e potenti\n",
    "\n",
    "💡 Le stringhe in Python sono strumenti estremamente potenti e versatili per lavorare con testi, dati strutturati, input/output e molto altro.\n",
    "\n",
    "➡️ Continua con gli esercizi o il prossimo capitolo  per mettere in pratica quanto appreso!"
   ]
  }
 ],
 "metadata": {
  "kernelspec": {
   "display_name": "datas",
   "language": "python",
   "name": "python3"
  },
  "language_info": {
   "codemirror_mode": {
    "name": "ipython",
    "version": 3
   },
   "file_extension": ".py",
   "mimetype": "text/x-python",
   "name": "python",
   "nbconvert_exporter": "python",
   "pygments_lexer": "ipython3",
   "version": "3.10.13"
  }
 },
 "nbformat": 4,
 "nbformat_minor": 5
}
