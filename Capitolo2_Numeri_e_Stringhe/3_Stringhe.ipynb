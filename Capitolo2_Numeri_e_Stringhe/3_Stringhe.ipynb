{
 "cells": [
  {
   "cell_type": "markdown",
   "id": "041185be",
   "metadata": {},
   "source": [
    "# 🧬 Le Stringhe\n",
    "\n",
    "In Python, una **stringa** (o *string*) è una sequenza ordinata e immutabile di caratteri Unicode. Questo significa che ogni carattere in una stringa ha una posizione ben definita (indicizzata) e che, una volta creata, una stringa **non può essere modificata direttamente**: tutte le operazioni che sembrano \"modificare\" una stringa restituiscono in realtà una **nuova stringa**.\n",
    "\n",
    "Le stringhe sono fondamentali nella programmazione: rappresentano testi, parole, frasi, ma anche dati non testuali come codici, identificativi e persino contenuti di file.\n",
    "\n",
    "## 🔤 Sintassi di base\n",
    "\n",
    "Una stringa può essere definita in diversi modi, usando:\n",
    "- **Apici singoli**: `'ciao'`\n",
    "- **Apici doppi**: `\"ciao\"`\n",
    "- **Triple virgolette** (singole o doppie): `'''ciao'''` oppure `\"\"\"ciao\"\"\"`, utili per stringhe su più righe (*multilinea*).\n",
    "\n",
    "Python non distingue tra apici singoli e doppi: entrambi sono equivalenti. Questo consente una maggiore flessibilità, ad esempio per includere virgolette all'interno di una stringa senza dover usare il carattere di escape `\\`."
   ]
  },
  {
   "cell_type": "code",
   "execution_count": null,
   "id": "8d4a6e02",
   "metadata": {},
   "outputs": [],
   "source": [
    "s1 = 'Ciao'\n",
    "s2 = \"Mondo\"\n",
    "print(s1, s2)"
   ]
  },
  {
   "cell_type": "markdown",
   "id": "174c7bc1",
   "metadata": {},
   "source": [
    "### 📏 La funzione `len()`\n",
    "\n",
    "La funzione `len()` restituisce la lunghezza di una stringa, cioè il numero totale di caratteri che contiene.  \n",
    "Ad esempio,"
   ]
  },
  {
   "cell_type": "code",
   "execution_count": null,
   "id": "2a63024e",
   "metadata": {},
   "outputs": [],
   "source": [
    "len(\"Python\")"
   ]
  },
  {
   "cell_type": "markdown",
   "id": "ae39b413",
   "metadata": {},
   "source": [
    "È molto utile per conoscere la dimensione della stringa e per lavorare con indici validi."
   ]
  },
  {
   "cell_type": "markdown",
   "id": "1febfbbd",
   "metadata": {},
   "source": [
    "# 🔢 Indicizzazione e Slicing delle Stringhe\n",
    "\n",
    "In Python, le **stringhe** sono sequenze ordinate di caratteri. Ogni carattere occupa una posizione numerica chiamata **indice**, che può essere positivo (da sinistra verso destra, partendo da 0) o negativo (da destra verso sinistra, partendo da -1).\n",
    "\n",
    "## 🎯 Indicizzazione\n",
    "\n",
    "L'indicizzazione permette di accedere a un singolo carattere di una stringa. La sintassi è:\n",
    "\n",
    "- $s[i]$ → restituisce il carattere all'indice $i$\n",
    "\n",
    "Esempio:"
   ]
  },
  {
   "cell_type": "code",
   "execution_count": 1,
   "id": "a040ef40",
   "metadata": {},
   "outputs": [
    {
     "name": "stdout",
     "output_type": "stream",
     "text": [
      "P\n",
      "y\n",
      "n\n",
      "o\n"
     ]
    }
   ],
   "source": [
    "s = \"Python\"\n",
    "\n",
    "# Indici positivi\n",
    "print(s[0])  # P\n",
    "print(s[1])  # y\n",
    "\n",
    "# Indici negativi\n",
    "print(s[-1])  # n\n",
    "print(s[-2])  # o"
   ]
  },
  {
   "cell_type": "markdown",
   "id": "15c934da",
   "metadata": {},
   "source": [
    "Gli **indici negativi** permettono di accedere ai caratteri partendo dalla fine della stringa: $-1$ corrisponde all’ultimo carattere, $-2$ al penultimo, e così via. Questo è utile per lavorare con la coda di una stringa **senza conoscerne la lunghezza**.\n",
    "\n",
    "### Attenzione\n",
    "\n",
    "- Se l'indice non esiste, Python restituisce un errore di tipo `IndexError`.\n",
    "- Se l'indice non e' intero, Python restituisce un errore di tipo `TypeError`.\n",
    "- Se la stringa è vuota, Python restituisce un errore di tipo `IndexError`."
   ]
  },
  {
   "cell_type": "code",
   "execution_count": null,
   "id": "849c5427",
   "metadata": {},
   "outputs": [],
   "source": [
    "# s[35]\n",
    "# s[3.4]\n",
    "# \"\"[0]"
   ]
  },
  {
   "cell_type": "markdown",
   "id": "c8484a53",
   "metadata": {},
   "source": [
    "## ✂️ Slicing\n",
    "\n",
    "Lo slicing consente di ottenere **sottostringhe** specificando un intervallo di indici. La sintassi generale è:\n",
    "\n",
    "- $s[inizio:fine:passo]$\n",
    "\n",
    "Dove:\n",
    "- $inizio$ è l'indice da cui si parte (incluso)\n",
    "- $fine$ è l'indice fino a cui si arriva (escluso)\n",
    "- $passo$ indica ogni quanti caratteri prendere (default è $1$)\n",
    "\n",
    "Esempi:"
   ]
  },
  {
   "cell_type": "code",
   "execution_count": 14,
   "id": "82927bfe",
   "metadata": {},
   "outputs": [
    {
     "name": "stdout",
     "output_type": "stream",
     "text": [
      "######## Slicing con indici positivi ########\n",
      "\n",
      "Stringa originale: Programmare \n",
      "\n",
      "Prog\n",
      "Prog\n",
      "rammare\n"
     ]
    }
   ],
   "source": [
    "s = \"Programmare\"\n",
    "\n",
    "# Slicing\n",
    "print(\"######## Slicing con indici positivi ########\")\n",
    "\n",
    "print(\"\\nStringa originale:\", s, \"\\n\")\n",
    "\n",
    "print(s[0:4])  # Prog\n",
    "print(s[:4])  # Prog\n",
    "print(s[4:])  # rammare"
   ]
  },
  {
   "cell_type": "code",
   "execution_count": 15,
   "id": "f14c0da7",
   "metadata": {},
   "outputs": [
    {
     "name": "stdout",
     "output_type": "stream",
     "text": [
      "######## Slicing con indici negativi ########\n",
      "\n",
      "Stringa originale: Programmare \n",
      "\n",
      "mare\n",
      "Program\n",
      "ma\n",
      "mar\n"
     ]
    }
   ],
   "source": [
    "# Slicing con indici negativi\n",
    "print(\"######## Slicing con indici negativi ########\")\n",
    "\n",
    "print(\"\\nStringa originale:\", s, \"\\n\")\n",
    "\n",
    "print(s[-4:])  # mare\n",
    "print(s[:-4])  # Program\n",
    "print(s[-4:-2])  # ma\n",
    "print(s[-4:-1])  # mar"
   ]
  },
  {
   "cell_type": "code",
   "execution_count": 16,
   "id": "a6138fb7",
   "metadata": {},
   "outputs": [
    {
     "name": "stdout",
     "output_type": "stream",
     "text": [
      "######## Slicing con passo ########\n",
      "\n",
      "Stringa originale: Programmare \n",
      "\n",
      "Pgmr\n",
      "Pg\n",
      "oaa\n",
      "oa\n"
     ]
    }
   ],
   "source": [
    "# Slicing con passo\n",
    "print(\"######## Slicing con passo ########\")\n",
    "\n",
    "print(\"\\nStringa originale:\", s, \"\\n\")\n",
    "\n",
    "print(s[::3])  # Pgmr\n",
    "print(s[:5:3])  # Pg\n",
    "print(s[2::3])  # oaa\n",
    "print(s[2:7:3])  # oa"
   ]
  },
  {
   "cell_type": "code",
   "execution_count": null,
   "id": "0708a785",
   "metadata": {},
   "outputs": [
    {
     "name": "stdout",
     "output_type": "stream",
     "text": [
      "######## Slicing con passo negativo ########\n",
      "\n",
      "Stringa originale: Programmare \n",
      "\n",
      "erammargorP\n",
      "eamroP\n",
      "\n",
      "eam\n"
     ]
    }
   ],
   "source": [
    "# Slicing con passo negativo\n",
    "print(\"######## Slicing con passo negativo ########\")\n",
    "\n",
    "print(\"\\nStringa originale:\", s, \"\\n\")\n",
    "\n",
    "print(s[::-1])  # eramargorP ## Inverte la stringa\n",
    "print(s[::-2])  # eamroP\n",
    "print(s[2:4:-1]) #\n",
    "print(s[:5:-2]) # eam"
   ]
  },
  {
   "cell_type": "markdown",
   "id": "ac6268f0",
   "metadata": {},
   "source": [
    "### 🧩 Perché `s[2:4:-1]` restituisce una stringa vuota?\n",
    "\n",
    "Quando si usa uno slicing con passo negativo (ad esempio `-1`), l'indice iniziale deve essere maggiore dell'indice finale per estrarre caratteri andando all'indietro.  \n",
    "Nel caso di `s[2:4:-1]`, l'indice iniziale (2) è minore dell'indice finale (4), quindi non viene selezionato nessun carattere e la stringa risultante è vuota (`''`).\n",
    "\n",
    "Infatti, invertendo il 4 con il 2,"
   ]
  },
  {
   "cell_type": "code",
   "execution_count": 22,
   "id": "df55dde1",
   "metadata": {},
   "outputs": [
    {
     "name": "stdout",
     "output_type": "stream",
     "text": [
      "\n",
      "Stringa originale: Programmare \n",
      "\n",
      "rg\n"
     ]
    }
   ],
   "source": [
    "print(\"\\nStringa originale:\", s, \"\\n\")\n",
    "\n",
    "print(s[4:2:-1]) # rg"
   ]
  },
  {
   "cell_type": "markdown",
   "id": "cf6d2f07",
   "metadata": {},
   "source": [
    "### 🔄 Perché `s[::-1]` funziona?\n",
    "\n",
    "Con `s[::-1]` entrambi gli indici `start` e `end` sono omessi:  \n",
    "- Quando il passo è negativo, Python assume per default `start = len(s) - 1` (l’ultimo carattere)  \n",
    "- e `end = -len(s) - 1` (virtualmente prima del primo carattere).  \n",
    "\n",
    "Poiché `start > end` e il passo è -1, Python scorre all’indietro tutta la stringa, restituendo la versione invertita."
   ]
  },
  {
   "cell_type": "markdown",
   "id": "a305d4b2",
   "metadata": {},
   "source": [
    "## ✅ Suggerimenti\n",
    "\n",
    "- Usa `$len(s)$` per ottenere la lunghezza della stringa.\n",
    "- Lo slicing **non** genera errore se gli indici sono fuori range: restituirà semplicemente la parte disponibile.\n",
    "- Il `passo` può essere negativo per ottenere la stringa in ordine inverso."
   ]
  },
  {
   "cell_type": "markdown",
   "id": "b2306a59",
   "metadata": {},
   "source": []
  }
 ],
 "metadata": {
  "kernelspec": {
   "display_name": "datas",
   "language": "python",
   "name": "python3"
  },
  "language_info": {
   "codemirror_mode": {
    "name": "ipython",
    "version": 3
   },
   "file_extension": ".py",
   "mimetype": "text/x-python",
   "name": "python",
   "nbconvert_exporter": "python",
   "pygments_lexer": "ipython3",
   "version": "3.10.13"
  }
 },
 "nbformat": 4,
 "nbformat_minor": 5
}
