{
 "cells": [
  {
   "cell_type": "markdown",
   "id": "db414c4b",
   "metadata": {},
   "source": [
    "# 🧩 Insiemi\n",
    "\n",
    "## Introduzione\n",
    "\n",
    "Gli **insiemi** (in inglese *sets*) rappresentano una delle strutture dati fondamentali in Python, ispirata direttamente alla **teoria degli insiemi** della matematica. Sono utilizzati per modellare collezioni **non ordinate**, **mutabili** e composte da **elementi unici**. Si tratta di un tipo di oggetto estremamente utile in un'ampia varietà di scenari applicativi: dalla rimozione dei duplicati all'esecuzione efficiente di operazioni di confronto tra gruppi di dati."
   ]
  },
  {
   "cell_type": "code",
   "execution_count": 30,
   "id": "e0602375",
   "metadata": {},
   "outputs": [
    {
     "name": "stdout",
     "output_type": "stream",
     "text": [
      "{1, 2, 3, 4}\n"
     ]
    }
   ],
   "source": [
    "# Introduzione\n",
    "insieme = {1, 2, 3, 4}\n",
    "print(insieme)  # Output: {1, 2, 3, 4}"
   ]
  },
  {
   "cell_type": "markdown",
   "id": "7ff79265",
   "metadata": {},
   "source": [
    "## Conversioni a `set`\n",
    "\n",
    "Il costruttore `set()` in Python permette di convertire diverse strutture dati in un insieme (set), eliminando automaticamente gli elementi duplicati. Questa funzionalità è utile per filtrare i dati univoci da collezioni come liste, tuple, stringhe e altri iterabili.\n",
    "\n",
    "### Tipi di conversione supportati\n",
    "\n",
    "- **Liste**: `set([1, 2, 2, 3])` produce `{1, 2, 3}`\n",
    "- **Tuple**: `set((1, 1, 2))` produce `{1, 2}`\n",
    "- **Stringhe**: `set(\"emma\")` produce `{'a', 'e', 'm'}`\n",
    "- **Altri set o frozenset**: produce una copia dell'insieme\n",
    "\n",
    "La conversione, in caso di duplicati, li rimuove automaticamente.\n",
    "\n",
    "### Uso comune\n",
    "\n",
    "- Eliminare duplicati da una lista: `list(set(lista))`\n",
    "- Verificare se due collezioni hanno gli stessi elementi: `set(a) == set(b)`\n",
    "- Ottenere l'unione, l'intersezione, o altre operazioni tra collezioni trasformandole in set prima\n",
    "\n",
    "Questa funzionalità è particolarmente utile per operazioni di confronto, pulizia dei dati, o per aumentare l'efficienza delle ricerche."
   ]
  },
  {
   "cell_type": "code",
   "execution_count": 58,
   "id": "2e2dd609",
   "metadata": {},
   "outputs": [
    {
     "name": "stdout",
     "output_type": "stream",
     "text": [
      "{1, 2, 3, 4, 5}\n"
     ]
    }
   ],
   "source": [
    "# Conversione da lista a set (rimuove duplicati)\n",
    "lista = [1, 2, 2, 3, 4, 4, 5]\n",
    "insieme = set(lista)\n",
    "print(insieme)  # Output: {1, 2, 3, 4, 5}"
   ]
  },
  {
   "cell_type": "code",
   "execution_count": 59,
   "id": "99ed9cf6",
   "metadata": {},
   "outputs": [
    {
     "name": "stdout",
     "output_type": "stream",
     "text": [
      "{10, 20, 30}\n"
     ]
    }
   ],
   "source": [
    "# Conversione da tupla a set\n",
    "tupla = (10, 10, 20, 30)\n",
    "insieme_da_tupla = set(tupla)\n",
    "print(insieme_da_tupla)  # Output: {10, 20, 30}"
   ]
  },
  {
   "cell_type": "code",
   "execution_count": 60,
   "id": "8e952867",
   "metadata": {},
   "outputs": [
    {
     "name": "stdout",
     "output_type": "stream",
     "text": [
      "{'m', 'i', 's', 'p'}\n"
     ]
    }
   ],
   "source": [
    "# Conversione da stringa a set (caratteri unici)\n",
    "stringa = \"mississippi\"\n",
    "caratteri_unici = set(stringa)\n",
    "print(caratteri_unici)  # Output: {'m', 'i', 's', 'p'}"
   ]
  },
  {
   "cell_type": "code",
   "execution_count": 63,
   "id": "5a5ad7a4",
   "metadata": {},
   "outputs": [
    {
     "name": "stdout",
     "output_type": "stream",
     "text": [
      "{1, 2, 3}\n",
      "132391003525792 132391003526688\n"
     ]
    }
   ],
   "source": [
    "# Conversione da set a set (copia)\n",
    "originale = {1, 2, 3}\n",
    "copia = set(originale)\n",
    "print(copia)  # Output: {1, 2, 3}\n",
    "print(id(originale), id(copia))"
   ]
  },
  {
   "cell_type": "markdown",
   "id": "34188e54",
   "metadata": {},
   "source": [
    "## Caratteristiche Generali degli Insiemi\n",
    "\n",
    "1. **Unicità degli elementi**  \n",
    "   Ogni elemento presente in un set è unico. Questo significa che, anche se si tenta di inserire più volte lo stesso oggetto, esso verrà mantenuto una sola volta. Questo comportamento è automatico e intrinseco alla struttura.\n",
    "\n",
    "2. **Non ordinati**  \n",
    "   Gli insiemi non conservano l’ordine con cui gli elementi sono stati inseriti. Quando si visualizza o si itera un set, l’ordine può sembrare casuale e può variare tra un’esecuzione e l’altra.\n",
    "\n",
    "3. **Non indicizzabili**  \n",
    "   Non è possibile accedere direttamente agli elementi tramite un indice numerico (come si fa con liste o tuple). Gli insiemi vanno trattati come collezioni \"globali\", non sequenziali.\n",
    "\n",
    "4. **Mutabilità**  \n",
    "   Gli insiemi possono essere modificati dopo la loro creazione: è possibile aggiungere o rimuovere elementi. Tuttavia, gli elementi al loro interno devono essere **immutabili** (come numeri, stringhe o tuple hashabili).\n",
    "\n",
    "5. **Efficienza**  \n",
    "   Le operazioni di verifica di appartenenza (es. \"x è presente nell’insieme?\") sono estremamente rapide grazie all’implementazione tramite **tabelle hash**. Questo rende i set molto più efficienti di liste o tuple in questo tipo di operazioni."
   ]
  },
  {
   "cell_type": "code",
   "execution_count": 66,
   "id": "309cbe9f",
   "metadata": {},
   "outputs": [
    {
     "name": "stdout",
     "output_type": "stream",
     "text": [
      "{1, 2, 3, 4}\n",
      "{'a', 'c', 'b'}\n"
     ]
    }
   ],
   "source": [
    "# Caratteristiche Generali degli Insiemi\n",
    "dati = [1, 2, 2, 3, 4, 4, 4]\n",
    "insieme_unico = set(dati)\n",
    "print(insieme_unico)  # Output: {1, 2, 3, 4}\n",
    "\n",
    "esempio = {'a', 'b', 'c'}\n",
    "print(esempio)  # L'ordine può variare"
   ]
  },
  {
   "cell_type": "code",
   "execution_count": 68,
   "id": "3cd47172",
   "metadata": {},
   "outputs": [
    {
     "name": "stdout",
     "output_type": "stream",
     "text": [
      "1\n",
      "10\n",
      "3\n",
      "5\n"
     ]
    }
   ],
   "source": [
    "# Comportamento dell’Ordine\n",
    "s = {5, 10, 1, 3}\n",
    "for elemento in s:\n",
    "    print(elemento)"
   ]
  },
  {
   "cell_type": "markdown",
   "id": "6655418f",
   "metadata": {},
   "source": [
    "## Funzioni Più Comuni degli Insiemi in Python\n",
    "\n",
    "Gli insiemi (`set`) in Python forniscono numerosi metodi integrati per aggiungere, rimuovere, copiare, unire o modificare il contenuto dell’insieme. Di seguito sono elencate e spiegate le funzioni più comuni con esempi pratici:\n",
    "\n",
    "### `add(elem)` (in-place)\n",
    "Aggiunge un singolo elemento all’insieme. Se l’elemento è già presente, non viene aggiunto nuovamente."
   ]
  },
  {
   "cell_type": "code",
   "execution_count": 55,
   "id": "7dd5b7c4",
   "metadata": {},
   "outputs": [
    {
     "data": {
      "text/plain": [
       "{1, 2, 3}"
      ]
     },
     "execution_count": 55,
     "metadata": {},
     "output_type": "execute_result"
    }
   ],
   "source": [
    "# add\n",
    "s = {1, 2}\n",
    "s.add(3)         # s = {1, 2, 3}\n",
    "s.add(2)         # s resta {1, 2, 3}\n",
    "s"
   ]
  },
  {
   "cell_type": "markdown",
   "id": "efe157bc",
   "metadata": {},
   "source": [
    "### `remove(elem)` (in-place)\n",
    "Rimuove un elemento specifico. Se l’elemento non esiste, viene sollevata un'eccezione `KeyError`."
   ]
  },
  {
   "cell_type": "code",
   "execution_count": 56,
   "id": "8f9a8bf3",
   "metadata": {},
   "outputs": [
    {
     "data": {
      "text/plain": [
       "{2, 3}"
      ]
     },
     "execution_count": 56,
     "metadata": {},
     "output_type": "execute_result"
    }
   ],
   "source": [
    "# remove\n",
    "s.remove(1)      # s = {2, 3}\n",
    "# s.remove(4)    # KeyError\n",
    "s"
   ]
  },
  {
   "cell_type": "markdown",
   "id": "c02466c0",
   "metadata": {},
   "source": [
    "### `discard(elem)` (in-place)\n",
    "Simile a `remove`, ma se l’elemento non esiste, non viene sollevata alcuna eccezione."
   ]
  },
  {
   "cell_type": "code",
   "execution_count": null,
   "id": "6c42c450",
   "metadata": {},
   "outputs": [],
   "source": [
    "# discard\n",
    "s.discard(3)     # s = {2}\n",
    "s.discard(10)    # Nessun errore\n",
    "s"
   ]
  },
  {
   "cell_type": "markdown",
   "id": "fee4b9b7",
   "metadata": {},
   "source": [
    "### `pop()` (in-place)\n",
    "Rimuove e restituisce un elemento arbitrario dall’insieme. Se l’insieme è vuoto, solleva `KeyError`."
   ]
  },
  {
   "cell_type": "code",
   "execution_count": null,
   "id": "a0eb371d",
   "metadata": {},
   "outputs": [],
   "source": [
    "# pop\n",
    "element = s.pop()  # Rimuove un elemento arbitrario\n",
    "print(element, s)"
   ]
  },
  {
   "cell_type": "markdown",
   "id": "00374d29",
   "metadata": {},
   "source": [
    "### `clear()` (in-place)\n",
    "Rimuove tutti gli elementi, svuotando completamente l’insieme."
   ]
  },
  {
   "cell_type": "code",
   "execution_count": null,
   "id": "83a202ca",
   "metadata": {},
   "outputs": [],
   "source": [
    "# clear\n",
    "s.clear()        # s = set()\n",
    "s"
   ]
  },
  {
   "cell_type": "markdown",
   "id": "cfbfaf13",
   "metadata": {},
   "source": [
    "### `copy()`\n",
    "Restituisce una copia superficiale del set, utile per lavorare con versioni temporanee senza modificare l’originale."
   ]
  },
  {
   "cell_type": "code",
   "execution_count": 37,
   "id": "98dad50d",
   "metadata": {},
   "outputs": [],
   "source": [
    "# copy\n",
    "a = {1, 2, 3}\n",
    "b = a.copy()     # b = {1, 2, 3}"
   ]
  },
  {
   "cell_type": "markdown",
   "id": "d6750017",
   "metadata": {},
   "source": [
    "### `update(*others)` (in-place)\n",
    "Unisce all’insieme corrente uno o più insiemi o iterabili, aggiungendo tutti gli elementi presenti negli altri contenitori."
   ]
  },
  {
   "cell_type": "code",
   "execution_count": 76,
   "id": "7e6c9bd2",
   "metadata": {},
   "outputs": [],
   "source": [
    "\n",
    "# update\n",
    "c = {1, 2}\n",
    "c.update({3, 4}, [5, 6])  # c = {1, 2, 3, 4, 5, 6}"
   ]
  },
  {
   "cell_type": "markdown",
   "id": "6608043b",
   "metadata": {},
   "source": [
    "## Elementi Ammessi negli Insiemi\n",
    "\n",
    "Gli insiemi possono contenere solo **oggetti immutabili** e **hashabili**, cioè oggetti il cui contenuto non cambia e che implementano una funzione hash valida. In concreto, ciò significa che si possono inserire:\n",
    "\n",
    "- Numeri (interi, floating-point, complessi)\n",
    "- Stringhe\n",
    "- Tuple contenenti solo oggetti immutabili\n",
    "\n",
    "Non è possibile inserire oggetti **mutabili** come:\n",
    "\n",
    "- Liste\n",
    "- Altri set mutabili\n",
    "- Dizionari\n",
    "\n",
    "Il tentativo di aggiungere elementi mutabili genera un errore (`TypeError`), poiché questi non sono idonei all’hashing."
   ]
  },
  {
   "cell_type": "code",
   "execution_count": 39,
   "id": "6df35db7",
   "metadata": {},
   "outputs": [
    {
     "name": "stdout",
     "output_type": "stream",
     "text": [
      "{42, (1, 2), 'ciao'}\n"
     ]
    }
   ],
   "source": [
    "# Elementi Ammessi negli Insiemi\n",
    "insieme = {42, \"ciao\", (1, 2)}\n",
    "print(insieme)\n",
    "\n",
    "# set_invalido = {[1, 2]}  # TypeError: unhashable type: 'list'"
   ]
  },
  {
   "cell_type": "markdown",
   "id": "7a479302",
   "metadata": {},
   "source": [
    "## Operazioni Fondamentali (not in-place)\n",
    "\n",
    "I set implementano nativamente le **principali operazioni insiemistiche** previste dalla teoria matematica. Queste operazioni permettono di unire, confrontare o differenziare insiemi in modo naturale e leggibile.\n",
    "\n",
    "### Unione (Union)\n",
    "\n",
    "L’unione tra due insiemi produce un nuovo insieme contenente **tutti gli elementi presenti almeno in uno dei due**.\n",
    "\n",
    "$$\n",
    "A \\cup B = \\{ x \\mid x \\in A \\ \\text{o} \\ x \\in B \\}\n",
    "$$\n",
    "\n",
    "### Intersezione (Intersection)\n",
    "\n",
    "L’intersezione restituisce un nuovo insieme contenente **solo gli elementi presenti in entrambi**.\n",
    "\n",
    "$$\n",
    "A \\cap B = \\{ x \\mid x \\in A \\ \\text{e} \\ x \\in B \\}\n",
    "$$\n",
    "\n",
    "### Differenza (Difference)\n",
    "\n",
    "La differenza tra due insiemi \\( A - B \\) contiene tutti gli elementi di \\( A \\) **che non sono in \\( B \\)**.\n",
    "\n",
    "$$\n",
    "A - B = \\{ x \\mid x \\in A \\ \\text{e} \\ x \\notin B \\}\n",
    "$$\n",
    "\n",
    "### Differenza Simmetrica (Symmetric Difference)\n",
    "\n",
    "La differenza simmetrica tra due insiemi produce un insieme con gli elementi **presenti in uno solo dei due**, ma non in entrambi.\n",
    "\n",
    "$$\n",
    "A \\triangle B = (A - B) \\cup (B - A) = \\{ x \\mid (x \\in A \\ \\text{e} \\ x \\notin B) \\ \\text{o} \\ (x \\in B \\ \\text{e} \\ x \\notin A) \\}\n",
    "$$"
   ]
  },
  {
   "cell_type": "code",
   "execution_count": 70,
   "id": "aebff432",
   "metadata": {},
   "outputs": [
    {
     "name": "stdout",
     "output_type": "stream",
     "text": [
      "{1, 2, 3, 4, 5}\n",
      "{3}\n",
      "{1, 2} {4, 5}\n",
      "{1, 2, 4, 5}\n"
     ]
    }
   ],
   "source": [
    "# Operazioni Fondamentali e Proprietà Matematiche\n",
    "A = {1, 2, 3}\n",
    "B = {3, 4, 5}\n",
    "\n",
    "print(A | B)  # Unione: {1, 2, 3, 4, 5}\n",
    "print(A & B)  # Intersezione: {3}\n",
    "print(A - B, B - A)  # Differenza: {1, 2}\n",
    "print(A ^ B)  # Differenza simmetrica: {1, 2, 4, 5}"
   ]
  },
  {
   "cell_type": "markdown",
   "id": "803da296",
   "metadata": {},
   "source": [
    "## Confronti e Relazioni tra Insiemi\n",
    "\n",
    "Gli insiemi possono essere confrontati e relazionati tra loro utilizzando operatori e metodi specifici che rispecchiano le proprietà matematiche degli insiemi.\n",
    "\n",
    "- **Uguaglianza (`==`)**: due insiemi sono uguali se contengono gli stessi elementi, indipendentemente dall’ordine.\n",
    "\n",
    "$$\n",
    "A = B \\iff \\forall x \\ (x \\in A \\leftrightarrow x \\in B)\n",
    "$$\n",
    "\n",
    "- **Sottoinsieme ($\\subseteq$, `<`)**: verifica se un insieme è contenuto in un altro.\n",
    "\n",
    "$$\n",
    "A \\subseteq B \\iff \\forall x \\ (x \\in A \\implies x \\in B)\n",
    "$$\n",
    "\n",
    "- **Sovrainsieme ($\\supseteq$, `>`)**: verifica se un insieme contiene un altro.\n",
    "\n",
    "$$\n",
    "A \\supseteq B \\iff \\forall x \\ (x \\in B \\implies x \\in A)\n",
    "$$\n",
    "\n",
    "- **Disgiunzione (`isdisjoint`)**: verifica se due insiemi **non condividono elementi comuni**.\n",
    "\n",
    "$$\n",
    "A \\cap B = \\emptyset\n",
    "$$\n",
    "\n",
    "Queste relazioni sono fondamentali in algoritmi di classificazione, filtraggio, insiemi di utenti o gruppi di accesso."
   ]
  },
  {
   "cell_type": "code",
   "execution_count": 71,
   "id": "730bf899",
   "metadata": {},
   "outputs": [
    {
     "name": "stdout",
     "output_type": "stream",
     "text": [
      "True\n",
      "True\n",
      "False\n",
      "True\n",
      "True\n"
     ]
    }
   ],
   "source": [
    "# Confronti e Relazioni tra Insiemi\n",
    "A = {1, 2, 3}\n",
    "B = {1, 2}\n",
    "C = {4, 5}\n",
    "\n",
    "print(B <= A)             # True\n",
    "print(A >= B)             # True\n",
    "print(A < C)              # Flase\n",
    "print(A == {3, 2, 1})     # True\n",
    "print(A.isdisjoint(C))    # True"
   ]
  },
  {
   "cell_type": "markdown",
   "id": "6a79307a",
   "metadata": {},
   "source": [
    "## Operazioni Mutanti (in-place)\n",
    "\n",
    "Oltre alle operazioni classiche, esistono le versioni **in-place**, che modificano direttamente l’insieme originale, risparmiando memoria:\n",
    "\n",
    "- `update`: unione in-place\n",
    "- `intersection_update`: intersezione in-place\n",
    "- `difference_update`: differenza in-place\n",
    "- `symmetric_difference_update`: differenza simmetrica in-place"
   ]
  },
  {
   "cell_type": "code",
   "execution_count": 77,
   "id": "de3ab81b",
   "metadata": {},
   "outputs": [
    {
     "name": "stdout",
     "output_type": "stream",
     "text": [
      "{1, 2, 3, 4, 5}\n",
      "{2, 3}\n",
      "{2}\n",
      "{5}\n"
     ]
    }
   ],
   "source": [
    "# Operazioni Mutanti (in-place)\n",
    "A = {1, 2, 3}\n",
    "B = {3, 4, 5}\n",
    "\n",
    "A.update(B)\n",
    "print(A)  # {1, 2, 3, 4, 5}\n",
    "\n",
    "A = {1, 2, 3}\n",
    "A.intersection_update({2, 3, 4})\n",
    "print(A)  # {2, 3}\n",
    "\n",
    "A.difference_update({3})\n",
    "print(A)  # {2}\n",
    "\n",
    "A.symmetric_difference_update({2, 5})\n",
    "print(A)  # {5}"
   ]
  },
  {
   "cell_type": "markdown",
   "id": "094379c6",
   "metadata": {},
   "source": [
    "## Frozenset: Insiemi Immutabili\n",
    "\n",
    "Python fornisce anche una variante **immutabile** del set chiamata `frozenset`. Una volta creato, il frozenset **non può essere modificato**. Questo lo rende utile quando si desidera usare un insieme come **chiave in un dizionario** o elemento di un altro set.\n",
    "\n",
    "Essendo hashabile, è compatibile con tutte le strutture dati che richiedono oggetti immutabili."
   ]
  },
  {
   "cell_type": "code",
   "execution_count": 78,
   "id": "e95c5815",
   "metadata": {},
   "outputs": [
    {
     "name": "stdout",
     "output_type": "stream",
     "text": [
      "valore associato\n"
     ]
    }
   ],
   "source": [
    "# Frozenset: Insiemi Immutabili\n",
    "fs = frozenset([1, 2, 3])\n",
    "# fs.add(4)  # Errore: immutabile\n",
    "\n",
    "dizionario = {fs: \"valore associato\"}\n",
    "print(dizionario[fs])"
   ]
  },
  {
   "cell_type": "markdown",
   "id": "67746db0",
   "metadata": {},
   "source": [
    "### Deep Copy\n",
    "\n",
    "Una **deep copy** (copia profonda) di un insieme (o di qualsiasi altra struttura dati complessa) crea una copia completamente indipendente dall'originale. Mentre il metodo `copy()` applicato a un set restituisce una **shallow copy** (copia superficiale), che è sufficiente per insiemi contenenti solo elementi immutabili (come numeri e stringhe), nel caso di insiemi che contengono elementi mutabili (come tuple con oggetti, altri set congelati, ecc.), può essere necessario effettuare una copia profonda.\n",
    "\n",
    "Per eseguire una deep copy, si utilizza il modulo `copy` della libreria standard di Python, in particolare la funzione `copy.deepcopy()`.\n",
    "\n",
    "#### Caratteristiche della deep copy:\n",
    "\n",
    "- Viene creata una nuova struttura dati completamente indipendente dall’originale.\n",
    "- Tutti gli oggetti nidificati vengono ricorsivamente copiati.\n",
    "- Le modifiche apportate alla copia non influenzano l’originale e viceversa.\n",
    "\n",
    "#### Quando usare una deep copy:\n",
    "- Quando il set contiene elementi mutabili (ad esempio, `frozenset`, tuple con liste, dizionari annidati, ecc.).\n",
    "- Quando si vuole evitare qualsiasi riferimento condiviso tra oggetti originali e copiati.\n",
    "\n",
    "#### Nota:\n",
    "I set Python standard (`set`) non possono contenere oggetti mutabili come altri set o liste, ma possono contenere `frozenset`, che sono immutabili e quindi hashabili."
   ]
  },
  {
   "cell_type": "code",
   "execution_count": 79,
   "id": "e527d6ee",
   "metadata": {},
   "outputs": [
    {
     "name": "stdout",
     "output_type": "stream",
     "text": [
      "Original Set: {frozenset({3, 4}), frozenset({1, 2})}\n",
      "Modified Copy: {frozenset({3, 4}), frozenset({9})}\n"
     ]
    }
   ],
   "source": [
    "import copy\n",
    "\n",
    "# Set contenente oggetti immutabili\n",
    "original_set = {1, 2, 3}\n",
    "shallow_copy = original_set.copy()  # copia superficiale\n",
    "deep_copy = copy.deepcopy(original_set)  # copia profonda (equivalente per oggetti immutabili)\n",
    "\n",
    "# Set contenente frozenset (immutabile e quindi consentito in un set)\n",
    "nested_set = {frozenset([1, 2]), frozenset([3, 4])}\n",
    "deep_copied_set = copy.deepcopy(nested_set)\n",
    "\n",
    "# Modifica di un elemento della copia (non modifica l'originale)\n",
    "# Nota: poiché frozenset è immutabile, non si può modificare direttamente,\n",
    "# ma possiamo sostituire l'intero elemento (solo per esempio illustrativo)\n",
    "modified_set = set(deep_copied_set)\n",
    "modified_set.remove(frozenset([1, 2]))\n",
    "modified_set.add(frozenset([9, 9]))\n",
    "\n",
    "print(\"Original Set:\", nested_set)\n",
    "print(\"Modified Copy:\", modified_set)"
   ]
  },
  {
   "cell_type": "markdown",
   "id": "0b26720a",
   "metadata": {},
   "source": [
    "## Complessità Computazionale\n",
    "\n",
    "Gli insiemi sono estremamente efficienti grazie alla loro implementazione tramite tabelle hash. Le seguenti sono le complessità medie delle operazioni più comuni:\n",
    "\n",
    "- **Controllo di appartenenza**: O(1)\n",
    "- **Aggiunta o rimozione**: O(1)\n",
    "- **Intersezione/Unione**: O(n + m), dove n e m sono le dimensioni dei due insiemi\n",
    "\n",
    "Queste prestazioni li rendono ideali per elaborazioni ad alte prestazioni su grandi volumi di dati."
   ]
  },
  {
   "cell_type": "code",
   "execution_count": 2,
   "id": "29ee64ec",
   "metadata": {},
   "outputs": [
    {
     "name": "stdout",
     "output_type": "stream",
     "text": [
      "Membership test in set: 0.000084 seconds\n",
      "Membership test in list: 0.094920 seconds\n"
     ]
    }
   ],
   "source": [
    "import time\n",
    "\n",
    "# Preparazione dati\n",
    "numeri_set = set(range(10000000))\n",
    "numeri_list = list(range(10000000))\n",
    "\n",
    "# Controllo appartenenza (in)\n",
    "start = time.time()\n",
    "_ = 9999999 in numeri_set\n",
    "time_set = time.time() - start\n",
    "\n",
    "start = time.time()\n",
    "_ = 9999999 in numeri_list\n",
    "time_list = time.time() - start\n",
    "\n",
    "print(f\"Membership test in set: {time_set:.6f} seconds\")\n",
    "print(f\"Membership test in list: {time_list:.6f} seconds\")"
   ]
  },
  {
   "cell_type": "markdown",
   "id": "767f3573",
   "metadata": {},
   "source": [
    "## Applicazioni Pratiche\n",
    "\n",
    "Gli insiemi trovano impiego in numerosissimi contesti pratici, tra cui:\n",
    "\n",
    "- **Eliminazione di duplicati** da una sequenza\n",
    "- **Filtraggio rapido** di valori in liste o colonne di dataset\n",
    "- **Gestione di etichette, tag, parole chiave**\n",
    "- **Analisi di testi**, per individuare il vocabolario unico di un documento\n",
    "- **Confronto tra dataset**, come elenchi di utenti, logs, dati sensibili\n",
    "- **Controllo di appartenenza** istantaneo in algoritmi di ricerca"
   ]
  },
  {
   "cell_type": "code",
   "execution_count": 3,
   "id": "acccaf74",
   "metadata": {},
   "outputs": [
    {
     "name": "stdout",
     "output_type": "stream",
     "text": [
      "{'Luca', 'Marco', 'Anna'}\n",
      "{'topo', 'il', 'giardino', 'gatto', 'nel', 'con', 'e', 'giocano'}\n"
     ]
    }
   ],
   "source": [
    "# Applicazioni Pratiche\n",
    "nomi = [\"Anna\", \"Luca\", \"Anna\", \"Marco\"]\n",
    "unici = set(nomi)\n",
    "print(unici)  # {'Marco', 'Anna', 'Luca'}\n",
    "\n",
    "testo = \"il gatto e il topo giocano nel giardino con il gatto\"\n",
    "parole_uniche = set(testo.split())\n",
    "print(parole_uniche)"
   ]
  },
  {
   "cell_type": "markdown",
   "id": "1e4d50c6",
   "metadata": {},
   "source": [
    "## Differenze tra Set e Altre Strutture\n",
    "\n",
    "| Caratteristica             | List        | Tuple       | Set         | Dict (chiavi) |\n",
    "|----------------------------|-------------|-------------|-------------|---------------|\n",
    "| Ordinato                   | Sì          | Sì          | No          | No*           |\n",
    "| Elementi duplicati ammessi| Sì          | Sì          | No          | No            |\n",
    "| Mutabilità                 | Sì          | No          | Sì          | Sì (valori)   |\n",
    "| Indicizzazione diretta     | Sì          | Sì          | No          | No            |\n",
    "| Supporto per operazioni insiemistiche | No | No        | Sì          | No            |\n",
    "\n",
    "*I dizionari in Python 3.7+ mantengono l’ordine di inserimento, ma ciò è una caratteristica di implementazione, non garantita da tutti gli interpreti.\n",
    "\n",
    "---\n",
    "\n",
    "## Considerazioni Finali\n",
    "\n",
    "Gli insiemi (`set`) sono una delle strutture dati più potenti e sottovalutate del linguaggio Python. Oltre alla loro semplicità sintattica, offrono prestazioni eccezionali e si prestano a una vasta gamma di applicazioni sia teoriche che pratiche.\n",
    "\n",
    "Conoscerli a fondo consente di:\n",
    "\n",
    "- Scrivere codice più leggibile\n",
    "- Ottimizzare le performance\n",
    "- Rappresentare dati in modo matematicamente corretto\n",
    "- Risolvere problemi complessi in maniera elegante\n",
    "\n",
    "Imparare a sfruttare al meglio i set significa **sviluppare una comprensione più profonda di Python stesso** e della logica algoritmica che ne sottende molte delle operazioni quotidiane."
   ]
  }
 ],
 "metadata": {
  "kernelspec": {
   "display_name": "datas",
   "language": "python",
   "name": "python3"
  },
  "language_info": {
   "codemirror_mode": {
    "name": "ipython",
    "version": 3
   },
   "file_extension": ".py",
   "mimetype": "text/x-python",
   "name": "python",
   "nbconvert_exporter": "python",
   "pygments_lexer": "ipython3",
   "version": "3.10.13"
  }
 },
 "nbformat": 4,
 "nbformat_minor": 5
}
