{
 "cells": [
  {
   "cell_type": "markdown",
   "id": "10e34f8c",
   "metadata": {},
   "source": [
    "<a href=\"https://colab.research.google.com/github/lorenzo-arcioni/programmazione-python-base/blob/main/Capitolo3_Tipi_di_Dato_Avanzati/1_Liste.ipynb\" target=\"_blank\"><img src=\"https://colab.research.google.com/assets/colab-badge.svg\" alt=\"Open In Colab\"/></a>\n",
    "\n",
    "# 📜 Liste\n",
    "\n",
    "Le **liste** sono una delle strutture dati più importanti e versatili del linguaggio Python. Comprendere appieno il funzionamento delle liste è fondamentale per diventare programmatori competenti, in quanto le liste sono onnipresenti nella scrittura di algoritmi, nell'elaborazione di dati, nella manipolazione di sequenze e in generale in ogni tipo di programmazione procedurale e funzionale.\n",
    "\n",
    "## 📚 Definizione generale\n",
    "\n",
    "Una **lista** è una collezione **ordinata**, **indicizzata** e **mutabile** di elementi.  \n",
    "In termini semplici:\n",
    "- *Ordinata* significa che gli elementi sono memorizzati secondo l'ordine in cui vengono inseriti.\n",
    "- *Indicizzata* indica che ogni elemento può essere identificato e accessibile tramite un indice numerico, a partire da zero.\n",
    "- *Mutabile* significa che è possibile modificare il contenuto della lista (aggiungere, rimuovere o cambiare elementi) **dopo** la sua creazione.\n",
    "\n",
    "Questo distingue le liste da altre collezioni come le **tuple** (che sono immutabili) o gli **insiemi** (che non sono ordinati né indicizzati).\n",
    "\n",
    "Vediamo subito un primo esempio in python!"
   ]
  },
  {
   "cell_type": "code",
   "execution_count": 43,
   "id": "caddcf53",
   "metadata": {},
   "outputs": [
    {
     "name": "stdout",
     "output_type": "stream",
     "text": [
      "[1, 2, 3, 4, 5]\n",
      "<class 'list'>\n"
     ]
    }
   ],
   "source": [
    "# Un primo esempio di lista\n",
    "lista = [1, 2, 3, 4, 5]\n",
    "print(lista)\n",
    "print(type(lista))"
   ]
  },
  {
   "cell_type": "markdown",
   "id": "52507c6e",
   "metadata": {},
   "source": [
    "## 🧱 Caratteristiche fondamentali\n",
    "\n",
    "Elenchiamo ora alcune delle caratteristiche più importanti delle liste:\n",
    "\n",
    "- Una lista può contenere **elementi eterogenei**, ovvero di tipi diversi: numeri, stringhe, booleani, oggetti complessi, altre liste, funzioni e perfino `None`.\n",
    "- Le liste possono essere **nidificate**, cioè contenere al loro interno altre liste. Questo permette di rappresentare strutture complesse come matrici, tabelle o strutture ad albero.\n",
    "- Le liste supportano **operazioni di slicing**, ovvero l'accesso a sotto-sequenze tramite intervalli (come abbiamo visto nelle stringhe).\n",
    "- Essendo **mutabili**, le liste possono essere modificate in modo efficiente in memoria, senza dover creare una nuova lista per ogni cambiamento."
   ]
  },
  {
   "cell_type": "code",
   "execution_count": 44,
   "id": "9eec097b",
   "metadata": {},
   "outputs": [
    {
     "name": "stdout",
     "output_type": "stream",
     "text": [
      "[42, 'ciao', True, 3.14, None, [2, 3]]\n",
      "<class 'list'>\n"
     ]
    }
   ],
   "source": [
    "# Una lista contenente elementi di tipi diversi\n",
    "dati_misti = [42, \"ciao\", True, 3.14, None, [2, 3]]\n",
    "print(dati_misti)\n",
    "print(type(dati_misti))"
   ]
  },
  {
   "cell_type": "markdown",
   "id": "a578a23b",
   "metadata": {},
   "source": [
    "## 🔢 Indicizzazione\n",
    "\n",
    "Ogni elemento di una lista è accessibile tramite un **indice**. L'indicizzazione in Python parte da `0`, quindi il primo elemento ha indice 0, il secondo indice 1, e così via.  \n",
    "Gli indici possono anche essere **negativi**, il che permette di accedere agli elementi partendo dalla fine della lista: `-1` rappresenta l'ultimo elemento, `-2` il penultimo, e così via.\n",
    "\n",
    "$$\n",
    "\\textit{Tutto esattamente come nelle stringhe!}\n",
    "$$\n",
    "\n",
    "L'indicizzazione consente un accesso diretto, costante in tempo (complessità $\\mathcal O(1)$) a ciascun elemento della lista, una proprietà estremamente utile nelle strutture dati."
   ]
  },
  {
   "cell_type": "code",
   "execution_count": 45,
   "id": "0a3b7276",
   "metadata": {},
   "outputs": [
    {
     "name": "stdout",
     "output_type": "stream",
     "text": [
      "10\n",
      "50\n",
      "40\n"
     ]
    }
   ],
   "source": [
    "numeri = [10, 20, 30, 40, 50]\n",
    "print(numeri[0])   # Primo elemento\n",
    "print(numeri[-1])  # Ultimo elemento\n",
    "print(numeri[-2])  # Penultimo elemento"
   ]
  },
  {
   "cell_type": "code",
   "execution_count": 46,
   "id": "3a72ea92",
   "metadata": {},
   "outputs": [
    {
     "name": "stdout",
     "output_type": "stream",
     "text": [
      "[1, [2, 3], 'Python']\n",
      "3\n",
      "y\n"
     ]
    }
   ],
   "source": [
    "# Lista nidificata contenente altri oggetti\n",
    "complessa = [1, [2, 3], \"Python\"]\n",
    "\n",
    "print(complessa)\n",
    "\n",
    "print(complessa[1][1])        # Accesso alla sotto-lista [2, 3] all'indice 1\n",
    "print(complessa[2][1])        # Accesso alla lettera \"y\" della stringa \"Python\""
   ]
  },
  {
   "cell_type": "markdown",
   "id": "d0408ffb",
   "metadata": {},
   "source": [
    "## ✂️ Slicing: sotto-liste e accessi parziali\n",
    "\n",
    "Lo **slicing** è una tecnica per accedere a un sottoinsieme degli elementi di una lista.  \n",
    "È molto utile per estrarre porzioni, eseguire operazioni su segmenti della lista o costruire nuove liste a partire da quelle esistenti.  \n",
    "L'intervallo di slicing è sempre **inclusivo a sinistra** e **esclusivo a destra**.  \n",
    "È possibile anche specificare un **passo** per saltare elementi."
   ]
  },
  {
   "cell_type": "code",
   "execution_count": 47,
   "id": "59a8732c",
   "metadata": {},
   "outputs": [
    {
     "name": "stdout",
     "output_type": "stream",
     "text": [
      "[2, 3, 4]\n",
      "[0, 2, 4, 6]\n",
      "[1, 2, 3, 4, 5]\n"
     ]
    }
   ],
   "source": [
    "valori = [0, 1, 2, 3, 4, 5, 6]\n",
    "print(valori[2:5])      # Elementi con indici 2, 3, 4\n",
    "print(valori[::2])      # Ogni secondo elemento\n",
    "print(valori[1:-1])     # Tutti tranne il primo e l'ultimo"
   ]
  },
  {
   "cell_type": "markdown",
   "id": "e6b78bab",
   "metadata": {},
   "source": [
    "Valgono tutti i concetti di slicing che abbiamo visto nelle stringhe. Quindi siamo andati veloci sullo slicing! 😁"
   ]
  },
  {
   "cell_type": "markdown",
   "id": "7f9ee2eb",
   "metadata": {},
   "source": [
    "## ♻️ Mutabilità: aggiornare, modificare, inserire, rimuovere\n",
    "\n",
    "La mutabilità delle liste consente operazioni estremamente versatili. È possibile:\n",
    "\n",
    "- Cambiare direttamente il valore di un elemento in posizione nota.\n",
    "- Aggiungere uno o più elementi alla fine della lista (concatenazione).\n",
    "- Inserire elementi in una posizione specifica.\n",
    "- Rimuovere elementi esistenti per posizione o per valore.\n",
    "- Svuotare completamente la lista senza crearne una nuova.\n",
    "\n",
    "La mutabilità rende le liste molto più dinamiche rispetto ad altre strutture dati, ma introduce anche il rischio di effetti collaterali se si lavora su **riferimenti** condivisi."
   ]
  },
  {
   "cell_type": "markdown",
   "id": "0d6e63bb",
   "metadata": {},
   "source": [
    "### 🔧 Operazioni fondamentali sulle Liste\n",
    "\n",
    "Le liste permettono di **modificare, aggiungere, rimuovere e accedere** agli elementi con grande flessibilità. Vediamo alcune operazioni fondamentali che si eseguono frequentemente con una lista.\n",
    "\n",
    "#### 📌 Esempio iniziale\n",
    "\n",
    "Consideriamo la lista:"
   ]
  },
  {
   "cell_type": "code",
   "execution_count": 48,
   "id": "66f9cc7e",
   "metadata": {},
   "outputs": [
    {
     "data": {
      "text/plain": [
       "['mela', 'banana', 'ciliegia', 'mela']"
      ]
     },
     "execution_count": 48,
     "metadata": {},
     "output_type": "execute_result"
    }
   ],
   "source": [
    "frutta = [\"mela\", \"banana\", \"ciliegia\", \"mela\"]\n",
    "frutta"
   ]
  },
  {
   "cell_type": "markdown",
   "id": "1fb4f354",
   "metadata": {},
   "source": [
    "Questa lista contiene tre stringhe. Ogni elemento è accessibile tramite un **indice intero** (a partire da 0).\n",
    "\n",
    "### 🔄 Modifica di un elemento\n",
    "\n",
    "Consideriamo la lista:"
   ]
  },
  {
   "cell_type": "code",
   "execution_count": 49,
   "id": "65a9ed94",
   "metadata": {},
   "outputs": [],
   "source": [
    "frutta[1] = \"pera\""
   ]
  },
  {
   "cell_type": "markdown",
   "id": "76ba1ccb",
   "metadata": {},
   "source": [
    "In questo esempio, l’elemento in posizione 1 (cioè \"banana\") viene sostituito con \"pera\".  \n",
    "Le liste in Python **supportano l’assegnazione diretta a un indice**, proprio perché sono **mutabili**.  \n",
    "Questo è uno dei vantaggi principali rispetto alle tuple.\n",
    "\n",
    "### ➕ Aggiunta di un elemento alla fine della lista\n",
    "\n",
    "Consideriamo la lista:"
   ]
  },
  {
   "cell_type": "code",
   "execution_count": 50,
   "id": "801bf02c",
   "metadata": {},
   "outputs": [],
   "source": [
    "frutta.append(\"kiwi\")"
   ]
  },
  {
   "cell_type": "markdown",
   "id": "905b5f0c",
   "metadata": {},
   "source": [
    "Il metodo `append()` aggiunge un nuovo elemento **in fondo alla lista**, aumentandone la lunghezza di uno.  \n",
    "È il metodo più usato per **espandere una lista** dinamicamente, ad esempio durante la lettura di input o l'elaborazione di dati.\n",
    "\n",
    "### 📥 Inserimento in una posizione specifica\n",
    "\n",
    "Consideriamo la lista:"
   ]
  },
  {
   "cell_type": "code",
   "execution_count": 51,
   "id": "408b12f3",
   "metadata": {},
   "outputs": [],
   "source": [
    "frutta.insert(1, \"fragola\")"
   ]
  },
  {
   "cell_type": "markdown",
   "id": "9b3cde82",
   "metadata": {},
   "source": [
    "Il metodo `insert(indice, valore)` permette di **inserire un nuovo elemento in una posizione precisa**, spostando in avanti gli elementi successivi.  \n",
    "In questo caso, \"fragola\" viene inserita alla **posizione 1**, prima di \"pera\".\n",
    "\n",
    "### ❌ Rimozione per valore\n",
    "\n",
    "Consideriamo la lista:"
   ]
  },
  {
   "cell_type": "code",
   "execution_count": 52,
   "id": "543d053f",
   "metadata": {},
   "outputs": [],
   "source": [
    "frutta.remove(\"mela\")"
   ]
  },
  {
   "cell_type": "markdown",
   "id": "82576554",
   "metadata": {},
   "source": [
    "Il metodo `remove(valore)` cerca il primo elemento che **corrisponde esattamente** al valore indicato e lo elimina dalla lista.  \n",
    "⚠️ Se il valore non è presente, viene generato un errore `ValueError`, quindi può essere utile verificare prima che l'elemento sia effettivamente presente con l'operatore `in`.\n",
    "\n",
    "### 📦 Stato finale della lista\n",
    "\n",
    "Dopo tutte le operazioni sopra, il contenuto della lista sarà:"
   ]
  },
  {
   "cell_type": "code",
   "execution_count": 53,
   "id": "6aa49c4f",
   "metadata": {},
   "outputs": [
    {
     "data": {
      "text/plain": [
       "['fragola', 'pera', 'ciliegia', 'mela', 'kiwi']"
      ]
     },
     "execution_count": 53,
     "metadata": {},
     "output_type": "execute_result"
    }
   ],
   "source": [
    "frutta"
   ]
  },
  {
   "cell_type": "markdown",
   "id": "9480d48f",
   "metadata": {},
   "source": [
    "Ogni metodo ha agito in modo coerente sulla struttura della lista, modificandone dinamicamente il contenuto.\n",
    "\n",
    "💡 Queste operazioni sono fondamentali nella programmazione Python, e vengono usate in moltissimi algoritmi e flussi di dati. Apprenderle a fondo ti permetterà di costruire strutture più complesse, come liste annidate, code, pile e strutture ibride."
   ]
  },
  {
   "cell_type": "markdown",
   "id": "c2341d09",
   "metadata": {},
   "source": [
    "## 🧮 Operazioni comuni sulle liste\n",
    "\n",
    "Le liste sono tra le strutture più flessibili in Python, e conoscere le loro operazioni fondamentali è essenziale per qualsiasi programmatore. Di seguito vengono descritte le principali operazioni che si possono effettuare con una lista.\n",
    "\n",
    "### 🔗 Concatenazione\n",
    "\n",
    "La concatenazione consiste nell’unire due (o più) liste per formare una nuova lista che contiene tutti gli elementi delle liste originarie **nell’ordine in cui appaiono**.  \n",
    "Questa operazione **non modifica le liste originali**, ma ne crea una nuova risultante. È molto utile quando si vogliono combinare dati provenienti da fonti diverse o strutturare insiemi più grandi a partire da sottoinsiemi."
   ]
  },
  {
   "cell_type": "code",
   "execution_count": 54,
   "id": "ea57bddf",
   "metadata": {},
   "outputs": [
    {
     "name": "stdout",
     "output_type": "stream",
     "text": [
      "Concatenazione: [1, 2, 3, 4, 5]\n"
     ]
    }
   ],
   "source": [
    "# 🔗 Concatenazione\n",
    "lista1 = [1, 2, 3]\n",
    "lista2 = [4, 5]\n",
    "lista_concatenata = lista1 + lista2\n",
    "print(\"Concatenazione:\", lista_concatenata)"
   ]
  },
  {
   "cell_type": "markdown",
   "id": "efabd57e",
   "metadata": {},
   "source": [
    "Anche qui, esattamente come le stringhe!"
   ]
  },
  {
   "cell_type": "markdown",
   "id": "2669585e",
   "metadata": {},
   "source": [
    "#### Estensione con `exstend()`\n",
    "\n",
    "Il metodo `extend()` permette di aggiungere **tutti gli elementi di una lista** alla fine di una lista esistente.\n",
    "\n",
    "A differenza di `append()`, che aggiunge l’intero oggetto come singolo elemento, `extend()` “srotola” l’iterabile e inserisce ciascun elemento singolarmente.\n",
    "\n",
    "Questo è molto utile quando vuoi unire due liste o aggiungere più elementi contemporaneamente senza creare una nuova lista."
   ]
  },
  {
   "cell_type": "code",
   "execution_count": 55,
   "id": "c542acfb",
   "metadata": {},
   "outputs": [
    {
     "name": "stdout",
     "output_type": "stream",
     "text": [
      "Estensione: [1, 2, 3, 4, 5]\n"
     ]
    }
   ],
   "source": [
    "# 🔗 Estensione\n",
    "lista1 = [1, 2, 3]\n",
    "lista2 = [4, 5]\n",
    "lista1.extend(lista2)\n",
    "print(\"Estensione:\", lista1)"
   ]
  },
  {
   "cell_type": "markdown",
   "id": "dccda7a5",
   "metadata": {},
   "source": [
    "### 🔁 Ripetizione\n",
    "\n",
    "È possibile **replicare** gli elementi di una lista più volte, ottenendo una lista più lunga con sequenze ripetute.  \n",
    "Questa operazione può servire a creare modelli, dati di test, o ad inizializzare strutture con pattern ripetuti."
   ]
  },
  {
   "cell_type": "code",
   "execution_count": 56,
   "id": "87fc44c4",
   "metadata": {},
   "outputs": [
    {
     "name": "stdout",
     "output_type": "stream",
     "text": [
      "Ripetizione: ['A', 'A', 'A', 'A']\n"
     ]
    }
   ],
   "source": [
    "# 🔁 Ripetizione\n",
    "lista_ripetuta = [\"A\"] * 4\n",
    "print(\"Ripetizione:\", lista_ripetuta)"
   ]
  },
  {
   "cell_type": "markdown",
   "id": "cb192e5b",
   "metadata": {},
   "source": [
    "### 🔍 Appartenenza\n",
    "\n",
    "Con l’operazione di appartenenza si verifica se un determinato valore **è presente** all’interno della lista.  \n",
    "È una delle operazioni più comuni, soprattutto per il controllo di input, la validazione di dati o la verifica di condizioni.  \n",
    "L’operatore di appartenenza restituisce un valore booleano (`vero` o `falso`), ed è molto utile nei blocchi decisionali."
   ]
  },
  {
   "cell_type": "code",
   "execution_count": 57,
   "id": "6b55a41b",
   "metadata": {},
   "outputs": [
    {
     "name": "stdout",
     "output_type": "stream",
     "text": [
      "Marco è presente? True\n",
      "Paolo è presente? False\n"
     ]
    }
   ],
   "source": [
    "# 🔍 Appartenenza\n",
    "nomi = [\"Luca\", \"Anna\", \"Marco\"]\n",
    "print(\"Marco è presente?\", \"Marco\" in nomi)\n",
    "print(\"Paolo è presente?\", \"Paolo\" in nomi)"
   ]
  },
  {
   "cell_type": "markdown",
   "id": "c1051262",
   "metadata": {},
   "source": [
    "### 🔄 Scorrimento (iterazione)\n",
    "\n",
    "Le liste possono essere **iterate**, cioè percorse elemento per elemento, tipicamente tramite un ciclo.  \n",
    "Durante lo scorrimento è possibile analizzare, trasformare, filtrare o aggregare i dati.  \n",
    "L’iterazione è alla base di moltissimi algoritmi, come il calcolo di somme, medie, ricerche condizionate o trasformazioni.\n",
    "\n",
    "Esamineremo in dettaglio questa caratteristica quando introdurremo i cicli!"
   ]
  },
  {
   "cell_type": "markdown",
   "id": "9d15d37b",
   "metadata": {},
   "source": [
    "### 📊 Ordinamento\n",
    "\n",
    "È possibile ordinare gli elementi di una lista in **ordine crescente o decrescente**, se gli elementi sono confrontabili (numeri, stringhe, ecc.).  \n",
    "Il metodo standard per ordinare una lista è il metodo `sort()`. \n",
    "Esistono anche criteri personalizzabili per l’ordinamento (come la lunghezza delle stringhe o funzioni definite dall’utente, li vedremo in seguito)."
   ]
  },
  {
   "cell_type": "code",
   "execution_count": 58,
   "id": "33deb906",
   "metadata": {},
   "outputs": [
    {
     "name": "stdout",
     "output_type": "stream",
     "text": [
      "Ordinamento crescente: [1, 3, 7, 10]\n",
      "Ordinamento decrescente: [10, 7, 3, 1]\n"
     ]
    }
   ],
   "source": [
    "# 📊 Ordinamento di numeri\n",
    "numeri = [10, 3, 7, 1]\n",
    "numeri.sort()\n",
    "print(\"Ordinamento crescente:\", numeri)\n",
    "numeri.sort(reverse=True)\n",
    "print(\"Ordinamento decrescente:\", numeri)"
   ]
  },
  {
   "cell_type": "code",
   "execution_count": 59,
   "id": "8171d372",
   "metadata": {},
   "outputs": [
    {
     "name": "stdout",
     "output_type": "stream",
     "text": [
      "Ordinamento crescente: ['A', 'AB', 'Ab', 'a', 'abc']\n",
      "Ordinamento decrescente: ['abc', 'a', 'Ab', 'AB', 'A']\n"
     ]
    }
   ],
   "source": [
    "# 📊 Ordinamento di stringhe\n",
    "parole = [\"a\", \"A\", \"AB\", \"Ab\", \"abc\"]\n",
    "parole.sort()\n",
    "print(\"Ordinamento crescente:\", parole)\n",
    "parole.sort(reverse=True)\n",
    "print(\"Ordinamento decrescente:\", parole)"
   ]
  },
  {
   "cell_type": "markdown",
   "id": "4cddfb14",
   "metadata": {},
   "source": [
    "Approfondiremo gli ordinamenti in seguito!"
   ]
  },
  {
   "cell_type": "markdown",
   "id": "fd61073d",
   "metadata": {},
   "source": [
    "### 📍 Ricerca\n",
    "\n",
    "Serve per **trovare la posizione** (indice) del primo elemento che soddisfa un determinato requisito.  \n",
    "La ricerca è fondamentale in strutture che richiedono l’identificazione della posizione, ad esempio per modifiche o accessi successivi.  \n",
    "Se l’elemento non è presente, viene solitamente sollevata un’eccezione, quindi è buona norma combinarla con l’operazione di appartenenza."
   ]
  },
  {
   "cell_type": "code",
   "execution_count": 60,
   "id": "ba7f8d4c",
   "metadata": {},
   "outputs": [
    {
     "name": "stdout",
     "output_type": "stream",
     "text": [
      "Posizione della prima 'a': 0\n"
     ]
    }
   ],
   "source": [
    "# 📍 Ricerca\n",
    "lettere = [\"a\", \"b\", \"c\", \"a\", \"d\"]\n",
    "posizione = lettere.index(\"a\")  # Primo indice di \"a\"\n",
    "print(\"Posizione della prima 'a':\", posizione)"
   ]
  },
  {
   "cell_type": "markdown",
   "id": "d9e1780c",
   "metadata": {},
   "source": [
    "### 🔢 Conteggio\n",
    "\n",
    "È possibile contare **quante volte un certo valore** compare nella lista.  \n",
    "Questa operazione è molto usata in analisi statistiche, generazione di report, costruzione di frequenze e grafici, oppure per verificare la ripetizione di un certo evento.\n"
   ]
  },
  {
   "cell_type": "code",
   "execution_count": 61,
   "id": "7bd1bbbe",
   "metadata": {},
   "outputs": [
    {
     "name": "stdout",
     "output_type": "stream",
     "text": [
      "Numero di volte 'a' appare: 2\n"
     ]
    }
   ],
   "source": [
    "# 🔢 Conteggio\n",
    "frequenza = lettere.count(\"a\")\n",
    "print(\"Numero di volte 'a' appare:\", frequenza)"
   ]
  },
  {
   "cell_type": "markdown",
   "id": "d9c39250",
   "metadata": {},
   "source": [
    "### 👀 Osservazioni\n",
    "\n",
    "Queste operazioni costituiscono la base per implementare algoritmi più complessi e flessibili:  \n",
    "- Le concatenazioni e ripetizioni permettono di **generare strutture su misura**.  \n",
    "- Le ricerche, verifiche e conteggi abilitano **analisi e classificazioni**.  \n",
    "- L’ordinamento è indispensabile per algoritmi di **ottimizzazione, ricerca binaria e ranking**.  \n",
    "- L’iterazione permette di costruire **trasformazioni, aggregazioni e filtri**."
   ]
  },
  {
   "cell_type": "markdown",
   "id": "9fd1fb3e",
   "metadata": {},
   "source": [
    "## 📈 Vantaggi delle liste\n",
    "\n",
    "- Sono **semplici da usare** e supportano una sintassi molto leggibile.\n",
    "- Permettono una **gestione dinamica** della memoria: si possono creare e modificare senza definire in anticipo la lunghezza.\n",
    "- Sono altamente **versatili** e adatte a una vasta gamma di problemi.\n",
    "- Hanno un **supporto nativo ottimizzato** all’interno del linguaggio Python."
   ]
  },
  {
   "cell_type": "markdown",
   "id": "327b913e",
   "metadata": {},
   "source": [
    "## ⚠️ Attenzione ai riferimenti condivisi\n",
    "\n",
    "In Python, le liste sono oggetti **mutabili**. Quando assegni una lista a una nuova variabile con il simbolo `=`, **non** viene creata una nuova copia indipendente: entrambe le variabili **puntano allo stesso oggetto in memoria**. Di conseguenza, modificare la lista usando una variabile **modifica anche l'altra**, perché si sta operando sullo **stesso contenuto**.\n",
    "\n",
    "### 🔁 Esempio di riferimento condiviso\n",
    "\n",
    "Quando si fa un'assegnazione diretta come `lista2 = lista1`, entrambi i nomi fanno riferimento alla **stessa lista** in memoria. Qualsiasi modifica a uno dei due si rifletterà sull'altro."
   ]
  },
  {
   "cell_type": "code",
   "execution_count": 62,
   "id": "c044a195",
   "metadata": {},
   "outputs": [
    {
     "name": "stdout",
     "output_type": "stream",
     "text": [
      "🔗 Con riferimento condiviso:\n",
      "lista1: [99, 2, 3]\n",
      "lista2: [99, 2, 3]\n"
     ]
    }
   ],
   "source": [
    "# Riferimento condiviso\n",
    "lista1 = [1, 2, 3]\n",
    "lista2 = lista1\n",
    "lista2[0] = 99\n",
    "\n",
    "print(\"🔗 Con riferimento condiviso:\")\n",
    "print(\"lista1:\", lista1)  # [99, 2, 3]\n",
    "print(\"lista2:\", lista2)  # [99, 2, 3]"
   ]
  },
  {
   "cell_type": "markdown",
   "id": "f676d325",
   "metadata": {},
   "source": [
    "### 🎯 Come evitare questo comportamento?\n",
    "\n",
    "Per ottenere una **copia indipendente**, è necessario usare una **copia esplicita**:\n",
    "\n",
    "- **Copia superficiale (shallow copy)**: copia solo il primo livello della lista.\n",
    "  - `lista2 = lista1.copy()`\n",
    "  - `lista2 = lista1[:]`\n",
    "  - `import copy; lista2 = copy.copy(lista1)`"
   ]
  },
  {
   "cell_type": "code",
   "execution_count": 63,
   "id": "9195b425",
   "metadata": {},
   "outputs": [
    {
     "name": "stdout",
     "output_type": "stream",
     "text": [
      "📎 Con copia superficiale:\n",
      "lista1: [1, 2, 3, [99, 2]]\n",
      "lista2: [99, 2, 3, [99, 2]]\n"
     ]
    }
   ],
   "source": [
    "# Copia superficiale\n",
    "lista1 = [1, 2, 3, [1, 2]]\n",
    "lista2 = lista1.copy()\n",
    "lista2[0] = 99\n",
    "lista2[3][0] = 99\n",
    "\n",
    "print(\"📎 Con copia superficiale:\")\n",
    "print(\"lista1:\", lista1)  # [1, 2, 3, [99, 2]]\n",
    "print(\"lista2:\", lista2)  # [99, 2, 3, [99, 2]]"
   ]
  },
  {
   "cell_type": "markdown",
   "id": "25c833be",
   "metadata": {},
   "source": [
    "- **Copia profonda (deep copy)**: copia anche gli oggetti annidati, a qualsiasi livello.\n",
    "  - `import copy; lista2 = copy.deepcopy(lista1)`"
   ]
  },
  {
   "cell_type": "code",
   "execution_count": 64,
   "id": "7e9cc53c",
   "metadata": {},
   "outputs": [
    {
     "name": "stdout",
     "output_type": "stream",
     "text": [
      "📦 Con copia profonda:\n",
      "lista1: [1, 2, 3, [1, 2]]\n",
      "lista2: [99, 2, 3, [99, 2]]\n"
     ]
    }
   ],
   "source": [
    "# Copia profonda con lista annidata\n",
    "import copy\n",
    "\n",
    "lista1 = [1, 2, 3, [1, 2]]\n",
    "lista2 = copy.deepcopy(lista1)\n",
    "lista2[0] = 99\n",
    "lista2[3][0] = 99\n",
    "\n",
    "print(\"📦 Con copia profonda:\")\n",
    "print(\"lista1:\", lista1)  # [1, 2, 3, [1, 2]]\n",
    "print(\"lista2:\", lista2)  # [99, 2, 3, [99, 2]]"
   ]
  },
  {
   "cell_type": "markdown",
   "id": "addcd18b",
   "metadata": {},
   "source": [
    "### Quindi attenzione alle liste annidate!\n",
    "\n",
    "Se la lista contiene al suo interno altre liste o strutture complesse, una copia superficiale non basta: le sottoliste continueranno a essere condivise. In questi casi, è fondamentale usare `copy.deepcopy` per duplicare **l'intera struttura**."
   ]
  },
  {
   "cell_type": "markdown",
   "id": "1e8110bf",
   "metadata": {},
   "source": [
    "## 🧩 `append()` vs `extend()` vs operatore `+`\n",
    "\n",
    "### 📍 `append(elemento)`\n",
    "- Aggiunge **un singolo elemento** in coda alla lista.\n",
    "- L’elemento può essere di qualsiasi tipo (anche un’altra lista), che verrà inserita **come singolo elemento**.\n",
    "\n",
    "### 📍 `extend(iterabile)`\n",
    "- Estende la lista aggiungendo **uno per uno** tutti gli elementi della lista fornita.\n",
    "- In pratica “srotola” la lista da aggiungere, inserendo i suoi elementi singolarmente.\n",
    "\n",
    "### 📍 Operatore `+`\n",
    "- Crea una **nuova lista** concatenando le due liste.\n",
    "- Non modifica le liste originali, ma restituisce una nuova lista risultante dalla somma degli elementi di entrambe.\n",
    "\n",
    "---\n",
    "\n",
    "### 📌 Differenze principali:\n",
    "\n",
    "| Metodo/Operatore | Modifica la lista originale? | Tipo di aggiunta                  | Restituisce nuova lista? |\n",
    "|------------------|------------------------------|---------------------------------|-------------------------|\n",
    "| `append()`       | Sì                           | Un singolo elemento (anche lista come elemento singolo) | No                      |\n",
    "| `extend()`       | Sì                           | Tutti gli elementi di un iterabile, uno per uno         | No                      |\n",
    "| `+`              | No                           | Nuova lista, concatenazione di due liste                 | Sì                      |"
   ]
  },
  {
   "cell_type": "code",
   "execution_count": 65,
   "id": "e1bb1a0a",
   "metadata": {},
   "outputs": [
    {
     "name": "stdout",
     "output_type": "stream",
     "text": [
      "Usando append: [1, 2, 3, [4, 5]]\n",
      "Usando extend: [1, 2, 3, 4, 5]\n",
      "Usando +: [1, 2, 3, 4, 5]\n",
      "Lista originale: [1, 2, 3]\n",
      "Usando *: [1, 2, 3, 1, 2, 3]\n"
     ]
    }
   ],
   "source": [
    "# Lista di partenza\n",
    "lista = [1, 2, 3]\n",
    "\n",
    "# Usando append: aggiunge l'intero oggetto come singolo elemento\n",
    "lista_append = lista.copy()\n",
    "lista_append.append([4, 5])\n",
    "print(\"Usando append:\", lista_append)\n",
    "# Output: [1, 2, 3, [4, 5]]\n",
    "\n",
    "# Usando extend: aggiunge ogni elemento dell'iterabile singolarmente\n",
    "lista_extend = lista.copy()\n",
    "lista_extend.extend([4, 5])\n",
    "print(\"Usando extend:\", lista_extend)\n",
    "# Output: [1, 2, 3, 4, 5]\n",
    "\n",
    "# Usando l'operatore +: crea una nuova lista concatenando le due\n",
    "lista_plus = lista + [4, 5]\n",
    "print(\"Usando +:\", lista_plus)\n",
    "# Output: [1, 2, 3, 4, 5]\n",
    "\n",
    "# Nota: lista originale non modificata da +, ma modificata da append ed extend\n",
    "print(\"Lista originale:\", lista)\n",
    "# Output: [1, 2, 3]\n",
    "\n",
    "# Usando l'operatore *=: crea una nuova lista ripetendo l'intero oggetto\n",
    "lista_times = lista * 2\n",
    "print(\"Usando *:\", lista_times)\n",
    "# Output: [1, 2, 3, 1, 2, 3]"
   ]
  },
  {
   "cell_type": "markdown",
   "id": "cedb7eb5",
   "metadata": {},
   "source": [
    "## Ordinamento con `sort()` e `sorted()`\n",
    "\n",
    "In Python esistono due modi principali per ordinare una lista:\n",
    "\n",
    "- **`list.sort()`**: è un metodo che ordina la lista **in-place**, cioè modifica direttamente la lista originale senza crearne una nuova.  \n",
    "  Questo significa che non restituisce nulla (`None`), ma cambia l’ordine degli elementi della lista su cui viene chiamato.\n",
    "\n",
    "- **`sorted()`**: è una funzione built-in che prende un iterabile (come una lista) e **restituisce una nuova lista ordinata**, lasciando intatto l’originale.  \n",
    "  È utile quando si vuole mantenere la lista originale invariata e ottenere una copia ordinata.\n",
    "\n",
    "### Differenze principali:\n",
    "\n",
    "| Caratteristica          | `list.sort()`                   | `sorted()`                      |\n",
    "|------------------------|--------------------------------|--------------------------------|\n",
    "| Modifica la lista       | Sì (in-place)                  | No                             |\n",
    "| Restituisce             | `None`                        | Nuova lista ordinata            |\n",
    "| Può ordinare qualsiasi iterabile | No, solo liste               | Sì, qualsiasi iterabile         |\n",
    "| Uso comune              | Quando si vuole modificare la lista originale | Quando serve una copia ordinata senza modificare l’originale |\n",
    "\n",
    "Entrambi accettano parametri opzionali molto utili:\n",
    "\n",
    "- `key=`: funzione per estrarre una chiave di ordinamento da ogni elemento (ad esempio, ordinare per lunghezza di una stringa o per un attributo di un oggetto).\n",
    "- `reverse=True`: per invertire l’ordinamento, ottenendo una lista ordinata in ordine decrescente.\n",
    "\n",
    "⚠️ **Consiglio pratico:**  \n",
    "Usa `sort()` quando vuoi ordinare e basta, senza necessità di mantenere la lista originale.  \n",
    "Usa `sorted()` quando hai bisogno di conservare la lista originale o quando vuoi ordinare tipi diversi da liste."
   ]
  },
  {
   "cell_type": "code",
   "execution_count": null,
   "id": "d44381f7",
   "metadata": {},
   "outputs": [],
   "source": []
  }
 ],
 "metadata": {
  "kernelspec": {
   "display_name": "datas",
   "language": "python",
   "name": "python3"
  },
  "language_info": {
   "codemirror_mode": {
    "name": "ipython",
    "version": 3
   },
   "file_extension": ".py",
   "mimetype": "text/x-python",
   "name": "python",
   "nbconvert_exporter": "python",
   "pygments_lexer": "ipython3",
   "version": "3.10.13"
  }
 },
 "nbformat": 4,
 "nbformat_minor": 5
}
