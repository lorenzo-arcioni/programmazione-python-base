{
 "cells": [
  {
   "cell_type": "markdown",
   "id": "9baddd15",
   "metadata": {},
   "source": [
    "# 🧠 Dizionari\n",
    "\n",
    "I **dizionari** (`dict`) sono una delle strutture dati più potenti e versatili in Python.  \n",
    "Sono utilizzati per rappresentare **collezioni di coppie chiave-valore**, dove ogni chiave è un identificatore unico che punta a un valore associato.\n",
    "\n",
    "🔑 I dizionari sono ideali per modellare:\n",
    "\n",
    "- Oggetti reali (es. un utente con nome, età, email)\n",
    "- Tabelle di lookup (es. conversioni tra codici e significati)\n",
    "- Configurazioni di sistema o parametri di un programma\n",
    "- Contatori e frequenze (es. conteggio parole in un testo)\n",
    "- Strutture annidate come JSON\n",
    "\n",
    "Utilizzando i dizionari, è possibile ottenere un accesso diretto ai dati tramite una chiave, evitando la necessità di scorrere l’intera collezione.\n",
    "\n",
    "⚡ Sono inoltre estremamente efficienti in termini di prestazioni: l’accesso, l’inserimento e la cancellazione di un elemento avvengono mediamente in tempo **costante** (`O(1)`), grazie all’uso di una **hash table**.\n",
    "\n",
    "## 📌 1. Definizione e Sintassi\n",
    "\n",
    "Un dizionario in Python è:\n",
    "\n",
    "- **Mutabile**: può essere modificato dopo la creazione (aggiunta, modifica o rimozione di elementi).\n",
    "- **Indicizzato tramite chiavi**: al posto degli indici numerici delle liste, si usano chiavi definite dall’utente.\n",
    "- **Non ordinato** (fino a Python 3.6): l’ordine degli elementi non era garantito.\n",
    "- **Ordinato** (da Python 3.7 in poi): mantiene l’ordine di inserimento.\n",
    "- **Chiavi univoche**: ogni chiave deve essere unica nel dizionario; i valori, invece, possono ripetersi.\n",
    "\n",
    "📘 Le chiavi devono essere di tipo **hashable** (immutabili), come `str`, `int`, `float`, `tuple` (contenente solo elementi immutabili), mentre i valori possono essere di qualsiasi tipo (inclusi altri dizionari).\n",
    "\n",
    "### 🔹 Sintassi base"
   ]
  },
  {
   "cell_type": "code",
   "execution_count": 143,
   "id": "bba13c21",
   "metadata": {},
   "outputs": [
    {
     "data": {
      "text/plain": [
       "{'nome': 'Luca', 'età': 25, 'iscrizione': True}"
      ]
     },
     "execution_count": 143,
     "metadata": {},
     "output_type": "execute_result"
    }
   ],
   "source": [
    "dizionario = {\n",
    "    \"nome\": \"Luca\",\n",
    "    \"età\": 25,\n",
    "    \"iscrizione\": True\n",
    "}\n",
    "dizionario"
   ]
  },
  {
   "cell_type": "markdown",
   "id": "8bc865fc",
   "metadata": {},
   "source": [
    "### 🔹 Creazione con `dict()`"
   ]
  },
  {
   "cell_type": "code",
   "execution_count": 144,
   "id": "0f7895ff",
   "metadata": {},
   "outputs": [
    {
     "data": {
      "text/plain": [
       "{'nome': 'Anna', 'età': 30}"
      ]
     },
     "execution_count": 144,
     "metadata": {},
     "output_type": "execute_result"
    }
   ],
   "source": [
    "d = dict(nome=\"Anna\", età=30)  # chiavi come argomenti\n",
    "d"
   ]
  },
  {
   "cell_type": "markdown",
   "id": "052091d6",
   "metadata": {},
   "source": [
    "## 🔍 3. Accesso ai dati e Modifica dei valori nei dizionari\n",
    "\n",
    "I dizionari utilizzano le **chiavi (keys)** per accedere ai **valori (values)**. Esistono vari modi per accedere, modificare o aggiungere coppie chiave-valore.\n",
    "\n",
    "### 🔹 Accesso diretto con l'operatore `[]`\n",
    "\n",
    "Utilizza la sintassi `dizionario[chiave]` per accedere al valore associato a una chiave. Se la chiave non esiste, Python solleverà un `KeyError`."
   ]
  },
  {
   "cell_type": "code",
   "execution_count": 145,
   "id": "7171f9a9",
   "metadata": {},
   "outputs": [
    {
     "name": "stdout",
     "output_type": "stream",
     "text": [
      "Luca\n"
     ]
    }
   ],
   "source": [
    "d = {\"nome\": \"Luca\", \"età\": 25}\n",
    "print(d[\"nome\"])  # Output: Luca"
   ]
  },
  {
   "cell_type": "markdown",
   "id": "0a526748",
   "metadata": {},
   "source": [
    "### 🔹 Accesso sicuro con `.get()`\n",
    "\n",
    "Il metodo `.get()` consente di ottenere il valore associato a una chiave senza sollevare eccezioni se la chiave non esiste.  \n",
    "È possibile specificare un valore di default da restituire in caso di chiave mancante.\n",
    "\n",
    "Il metodo `.get()` consente di accedere a una chiave senza rischiare un `KeyError`. Se la chiave non è presente, restituisce `None` (o un valore di default specificato)."
   ]
  },
  {
   "cell_type": "code",
   "execution_count": 146,
   "id": "df896674",
   "metadata": {},
   "outputs": [
    {
     "name": "stdout",
     "output_type": "stream",
     "text": [
      "None\n"
     ]
    }
   ],
   "source": [
    "print(d.get(\"cognome\"))            # Restituisce None se \"cognome\" non esiste"
   ]
  },
  {
   "cell_type": "code",
   "execution_count": 147,
   "id": "c0cca280",
   "metadata": {},
   "outputs": [
    {
     "data": {
      "text/plain": [
       "'N/A'"
      ]
     },
     "execution_count": 147,
     "metadata": {},
     "output_type": "execute_result"
    }
   ],
   "source": [
    "d.get(\"cognome\", \"N/A\")     # Restituisce \"N/A\" come valore di default"
   ]
  },
  {
   "cell_type": "markdown",
   "id": "d3ccc1ae",
   "metadata": {},
   "source": [
    "\n",
    "### 🔹 Aggiunta o Modifica di coppie chiave-valore\n",
    "\n",
    "Se assegni un valore a una chiave già esistente, il valore viene sovrascritto. Se la chiave non esiste, viene creata."
   ]
  },
  {
   "cell_type": "code",
   "execution_count": 148,
   "id": "14dadc35",
   "metadata": {},
   "outputs": [],
   "source": [
    "d[\"età\"] = 26              # Modifica il valore della chiave \"età\"\n",
    "d[\"cognome\"] = \"Rossi\"     # Aggiunge una nuova coppia"
   ]
  },
  {
   "cell_type": "markdown",
   "id": "db23b18e",
   "metadata": {},
   "source": [
    "## ✏️ 4. Aggiunta, Rimozione e Svuotamento del dizionario\n",
    "\n",
    "### 🔹 Aggiungere una nuova coppia\n",
    "\n",
    "Assegna un valore a una nuova chiave come nel caso della modifica:"
   ]
  },
  {
   "cell_type": "code",
   "execution_count": 149,
   "id": "b423cc00",
   "metadata": {},
   "outputs": [
    {
     "data": {
      "text/plain": [
       "{'nome': 'Luca', 'età': 26, 'cognome': 'Rossi', 'email': 'luca@example.com'}"
      ]
     },
     "execution_count": 149,
     "metadata": {},
     "output_type": "execute_result"
    }
   ],
   "source": [
    "d[\"email\"] = \"luca@example.com\"\n",
    "d"
   ]
  },
  {
   "cell_type": "markdown",
   "id": "cf40955b",
   "metadata": {},
   "source": [
    "### 🔹 Inserimento condizionato con `.setdefault()`\n",
    "\n",
    "Simile a `.get()`, ma se la chiave non esiste, la inserisce con il valore specificato.  \n",
    "Restituisce sempre il valore associato alla chiave, esistente o appena creato."
   ]
  },
  {
   "cell_type": "code",
   "execution_count": 150,
   "id": "fd8f05b8",
   "metadata": {},
   "outputs": [
    {
     "name": "stdout",
     "output_type": "stream",
     "text": [
      "26\n",
      "Rossi\n"
     ]
    },
    {
     "data": {
      "text/plain": [
       "{'nome': 'Luca', 'età': 26, 'cognome': 'Rossi', 'email': 'luca@example.com'}"
      ]
     },
     "execution_count": 150,
     "metadata": {},
     "output_type": "execute_result"
    }
   ],
   "source": [
    "print(d.setdefault(\"età\", 30))  # 26 (non cambia)\n",
    "print(d.setdefault(\"cognome\", \"Rossi\"))  # 300 (aggiunge \"c\": 300)\n",
    "d"
   ]
  },
  {
   "cell_type": "markdown",
   "id": "faa6999f",
   "metadata": {},
   "source": [
    "### 🔹 Rimuovere coppie dal dizionario\n",
    "\n",
    "Ci sono vari metodi per rimuovere dati:"
   ]
  },
  {
   "cell_type": "code",
   "execution_count": 151,
   "id": "f249ca0c",
   "metadata": {},
   "outputs": [
    {
     "data": {
      "text/plain": [
       "('email', 'luca@example.com')"
      ]
     },
     "execution_count": 151,
     "metadata": {},
     "output_type": "execute_result"
    }
   ],
   "source": [
    "del d[\"età\"]        # Rimuove la coppia con chiave \"età\"\n",
    "d.pop(\"nome\")       # Rimuove \"nome\" e restituisce il suo valore\n",
    "d.popitem()         # Rimuove l'ultima coppia inserita (LIFO)"
   ]
  },
  {
   "cell_type": "markdown",
   "id": "1b439675",
   "metadata": {},
   "source": [
    "📌 **Quando usarli:**\n",
    "\n",
    "- Usa del se vuoi semplicemente rimuovere una chiave senza interesse per il suo valore.\n",
    "- Usa pop() se vuoi anche ottenere il valore rimosso.\n",
    "- Usa popitem() per rimuovere elementi in modo Last-In-First-Out, utile ad esempio per strutture tipo stack."
   ]
  },
  {
   "cell_type": "markdown",
   "id": "e99bf505",
   "metadata": {},
   "source": [
    "⚠️ Se `del` o `pop` viene usato con una chiave inesistente, viene sollevato un `KeyError`."
   ]
  },
  {
   "cell_type": "markdown",
   "id": "53da4dab",
   "metadata": {},
   "source": [
    "### 🔹 Unione e aggiornamento con `.update()`\n",
    "\n",
    "Aggiorna il dizionario con chiavi e valori presi da un altro dizionario o da un iterable di coppie `(chiave, valore)`.  \n",
    "Le chiavi esistenti vengono sovrascritte, quelle nuove aggiunte."
   ]
  },
  {
   "cell_type": "code",
   "execution_count": 152,
   "id": "412ac48c",
   "metadata": {},
   "outputs": [
    {
     "data": {
      "text/plain": [
       "{'cognome': 'Rossi', 'b': 20, 'd': 4}"
      ]
     },
     "execution_count": 152,
     "metadata": {},
     "output_type": "execute_result"
    }
   ],
   "source": [
    "# .update()\n",
    "d.update({\"b\": 20, \"d\": 4})\n",
    "d"
   ]
  },
  {
   "cell_type": "markdown",
   "id": "395db0ee",
   "metadata": {},
   "source": [
    "### 🧳 Unpacking e Packing dei Dizionari\n",
    "\n",
    "In Python, il concetto di *packing* e *unpacking* applicato ai dizionari consente una gestione più flessibile e dinamica dei dati.\n",
    "\n",
    "#### 🔹 Packing (Impacchettamento)\n",
    "\n",
    "Il packing consiste nel creare un dizionario combinando più coppie chiave-valore in un'unica struttura. È utile quando si vogliono aggregare dati provenienti da più sorgenti. Le chiavi devono essere uniche; in caso di conflitto, prevale l’ultima definita.\n",
    "\n",
    "Questo approccio è particolarmente utile per costruire dizionari in modo dinamico, passando valori da altre strutture dati o funzioni.\n",
    "\n",
    "#### 🔹 Unpacking (Scompattamento)\n",
    "\n",
    "L’unpacking permette di estrarre le coppie chiave-valore da un dizionario esistente per inserirle in un altro contesto, come un altro dizionario o come argomenti di una funzione.\n",
    "\n",
    "È anche usato per unire più dizionari tra loro, semplificando l'integrazione di dati. L’unpacking mantiene l’ordine di inserimento (da Python 3.7 in poi) e consente la sovrascrittura di chiavi duplicate.\n",
    "\n",
    "#### ℹ️ Considerazioni\n",
    "\n",
    "- L’unpacking rende il codice più leggibile ed elegante, soprattutto quando si lavora con configurazioni, parametri o dati aggregati.\n",
    "- È importante assicurarsi che le chiavi siano compatibili e che non vi siano conflitti indesiderati.\n",
    "- Il packing e l’unpacking si basano su una sintassi specifica (`**`) che indica a Python di trattare le coppie come elementi distinti da inserire o estrarre."
   ]
  },
  {
   "cell_type": "code",
   "execution_count": 153,
   "id": "fc3ea06b",
   "metadata": {},
   "outputs": [
    {
     "name": "stdout",
     "output_type": "stream",
     "text": [
      "{'nome': 'Alice', 'età': 30}\n"
     ]
    }
   ],
   "source": [
    "# 📦 ESEMPIO DI PACKING (creazione di un dizionario da coppie chiave-valore)\n",
    "nome = \"Alice\"\n",
    "età = 30\n",
    "dati = {\"nome\": nome, \"età\": età}  # Packing manuale in un unico dizionario\n",
    "\n",
    "print(dati)\n",
    "# Output: {'nome': 'Alice', 'età': 30}"
   ]
  },
  {
   "cell_type": "code",
   "execution_count": 154,
   "id": "71e57554",
   "metadata": {},
   "outputs": [
    {
     "name": "stdout",
     "output_type": "stream",
     "text": [
      "{'nome': 'Alice', 'età': 30, 'città': 'Roma', 'lingue': ['Italiano', 'Inglese']}\n"
     ]
    }
   ],
   "source": [
    "# 🧯 ESEMPIO DI UNPACKING (fusione di dizionari esistenti)\n",
    "info_base = {\"nome\": \"Alice\", \"età\": 30}\n",
    "info_extra = {\"città\": \"Roma\", \"lingue\": [\"Italiano\", \"Inglese\"]}\n",
    "\n",
    "profilo_completo = {**info_base, **info_extra}  # Unpacking dei due dizionari\n",
    "\n",
    "print(profilo_completo)\n",
    "# Output: {'nome': 'Alice', 'età': 30, 'città': 'Roma', 'lingue': ['Italiano', 'Inglese']}"
   ]
  },
  {
   "cell_type": "markdown",
   "id": "669c0a2c",
   "metadata": {},
   "source": [
    "### 🔹 Svuotare completamente il dizionario"
   ]
  },
  {
   "cell_type": "code",
   "execution_count": 155,
   "id": "e9e626f8",
   "metadata": {},
   "outputs": [
    {
     "data": {
      "text/plain": [
       "{}"
      ]
     },
     "execution_count": 155,
     "metadata": {},
     "output_type": "execute_result"
    }
   ],
   "source": [
    "d.clear()  # Rimuove tutte le coppie; il dizionario diventa vuoto\n",
    "d"
   ]
  },
  {
   "cell_type": "markdown",
   "id": "4b112f56",
   "metadata": {},
   "source": [
    "## 🛠️ Metodi Utili dei Dizionari\n",
    "\n",
    "### 🔹 Visualizzazione con `.keys()`, `.values()` e `.items()`\n",
    "\n",
    "- `.keys()` restituisce una vista dinamica di tutte le chiavi del dizionario.  \n",
    "- `.values()` restituisce una vista dinamica di tutti i valori.  \n",
    "- `.items()` restituisce una vista dinamica di tutte le coppie `(chiave, valore)`."
   ]
  },
  {
   "cell_type": "code",
   "execution_count": 156,
   "id": "bb4b15f7",
   "metadata": {},
   "outputs": [
    {
     "name": "stdout",
     "output_type": "stream",
     "text": [
      "dict_keys(['x', 'y', 'z'])\n",
      "dict_values([10, 20, 30])\n",
      "dict_items([('x', 10), ('y', 20), ('z', 30)])\n"
     ]
    }
   ],
   "source": [
    "# Visualizzazione con .keys(), .values() e .items()\n",
    "d = {\"x\": 10, \"y\": 20, \"z\": 30}\n",
    "print(d.keys())    # dict_keys(['x', 'y', 'z'])\n",
    "print(d.values())  # dict_values([10, 20, 30])\n",
    "print(d.items())   # dict_items([('x', 10), ('y', 20), ('z', 30)])"
   ]
  },
  {
   "cell_type": "markdown",
   "id": "7fbf9bb6",
   "metadata": {},
   "source": [
    "### 🔹 Copia superficiale con `.copy()`\n",
    "\n",
    "Restituisce una copia superficiale del dizionario.  \n",
    "Le modifiche agli oggetti mutabili contenuti all’interno influenzano entrambe le copie."
   ]
  },
  {
   "cell_type": "code",
   "execution_count": 157,
   "id": "0dd2f491",
   "metadata": {},
   "outputs": [
    {
     "name": "stdout",
     "output_type": "stream",
     "text": [
      "{'x': 10, 'y': 20, 'z': 30}\n",
      "10\n"
     ]
    }
   ],
   "source": [
    "# Copia superficiale con .copy()\n",
    "copia = d.copy()\n",
    "print(copia)  # {'x': 10, 'y': 20, 'z': 30}\n",
    "copia[\"x\"] = 100\n",
    "print(d[\"x\"])  # 10 (originale non modificato)"
   ]
  },
  {
   "cell_type": "markdown",
   "id": "369a1acf",
   "metadata": {},
   "source": [
    "### 🔹 Creazione di un dizionario da sequenze con `fromkeys()`\n",
    "\n",
    "Permette di creare un nuovo dizionario da una sequenza di chiavi, inizializzando tutte con uno stesso valore (default `None`)."
   ]
  },
  {
   "cell_type": "code",
   "execution_count": 158,
   "id": "a25f146e",
   "metadata": {},
   "outputs": [
    {
     "name": "stdout",
     "output_type": "stream",
     "text": [
      "{'a': 0, 'b': 0, 'c': 0}\n"
     ]
    }
   ],
   "source": [
    "# Creazione di un dizionario da sequenze con fromkeys()\n",
    "keys = [\"a\", \"b\", \"c\"]\n",
    "default_dict = dict.fromkeys(keys, 0)\n",
    "print(default_dict)  # {'a': 0, 'b': 0, 'c': 0}"
   ]
  },
  {
   "cell_type": "markdown",
   "id": "bba792f6",
   "metadata": {},
   "source": [
    "### 🔹 Controllo presenza chiave con `in`\n",
    "\n",
    "Consente di verificare se una chiave è presente nel dizionario tramite l’operatore `in`."
   ]
  },
  {
   "cell_type": "code",
   "execution_count": 159,
   "id": "8fbea4ea",
   "metadata": {},
   "outputs": [
    {
     "name": "stdout",
     "output_type": "stream",
     "text": [
      "True\n",
      "False\n"
     ]
    }
   ],
   "source": [
    "# Controllo presenza chiave con in\n",
    "print(\"a\" in default_dict)  # True\n",
    "print(\"z\" in default_dict)  # False"
   ]
  },
  {
   "cell_type": "markdown",
   "id": "cc111912",
   "metadata": {},
   "source": [
    "### 🔹 Ordinamento con `sorted()`\n",
    "\n",
    "Anche se i dizionari mantengono l’ordine di inserimento (da Python 3.7), è possibile ottenere liste ordinate di chiavi, valori o coppie usando la funzione `sorted()`."
   ]
  },
  {
   "cell_type": "code",
   "execution_count": 160,
   "id": "83252b67",
   "metadata": {},
   "outputs": [
    {
     "name": "stdout",
     "output_type": "stream",
     "text": [
      "['x', 'y', 'z']\n",
      "[10, 20, 30]\n",
      "[('x', 10), ('y', 20), ('z', 30)]\n"
     ]
    }
   ],
   "source": [
    "# Ordinamento con sorted()\n",
    "print(sorted(d.keys()))    # ['x', 'y', 'z']\n",
    "print(sorted(d.values()))  # [10, 20, 30]\n",
    "print(sorted(d.items()))   # [('x', 10), ('y', 20), ('z', 30)]"
   ]
  },
  {
   "cell_type": "markdown",
   "id": "ffe55a92",
   "metadata": {},
   "source": [
    "### 🔹 Metodi di default dict e altre estensioni\n",
    "\n",
    "Il modulo `collections` offre estensioni come `defaultdict`, che permette di specificare un valore di default per chiavi mancanti senza sollevare errori."
   ]
  },
  {
   "cell_type": "code",
   "execution_count": 161,
   "id": "948f92d7",
   "metadata": {},
   "outputs": [
    {
     "name": "stdout",
     "output_type": "stream",
     "text": [
      "defaultdict(<class 'int'>, {'a': 1})\n"
     ]
    }
   ],
   "source": [
    "# Uso di defaultdict (richiede import)\n",
    "from collections import defaultdict\n",
    "dd = defaultdict(int)  # default int = 0\n",
    "dd[\"a\"] += 1\n",
    "print(dd)  # defaultdict(<class 'int'>, {'a': 1})"
   ]
  },
  {
   "cell_type": "markdown",
   "id": "ab9cd14f",
   "metadata": {},
   "source": [
    "## Dizionari Annidati (Nested Dictionaries)\n",
    "\n",
    "I dizionari annidati sono dizionari che contengono come valori altri dizionari.  \n",
    "Questa struttura permette di rappresentare dati complessi e gerarchici in modo naturale, molto usata per configurazioni, dati JSON, o strutture a più livelli.\n",
    "\n",
    "### Caratteristiche principali:\n",
    "- Le chiavi possono essere associate non solo a valori semplici, ma anche ad altri dizionari.  \n",
    "- È possibile accedere a un valore annidato concatenando più chiavi, ad esempio `dizionario[chiave1][chiave2]`.  \n",
    "- La modifica o aggiunta di dati richiede attenzione: è necessario assicurarsi che le chiavi intermedie esistano, altrimenti si rischia un `KeyError`.  \n",
    "\n",
    "### Considerazioni importanti:\n",
    "- Per operazioni complesse è utile controllare o creare i dizionari annidati in modo dinamico (ad esempio con `.setdefault()` o usando strutture come `defaultdict`).\n",
    "- La profondità e complessità dei dizionari annidati può rendere il codice più difficile da leggere e mantenere: è buona norma documentare bene la struttura dati.\n",
    "- Molte librerie esterne che gestiscono dati strutturati (come JSON) usano proprio dizionari annidati per rappresentare i dati."
   ]
  },
  {
   "cell_type": "code",
   "execution_count": 162,
   "id": "e35d33e5",
   "metadata": {},
   "outputs": [
    {
     "data": {
      "text/plain": [
       "{'utente1': {'nome': 'Luca',\n",
       "  'eta': 30,\n",
       "  'indirizzo': {'via': 'Via Roma 10', 'citta': 'Milano', 'cap': '20100'}},\n",
       " 'utente2': {'nome': 'Anna',\n",
       "  'eta': 25,\n",
       "  'indirizzo': {'via': 'Corso Italia 5', 'citta': 'Torino', 'cap': '10100'}}}"
      ]
     },
     "execution_count": 162,
     "metadata": {},
     "output_type": "execute_result"
    }
   ],
   "source": [
    "# --- Dizionari Annidati (Nested Dictionaries) ---\n",
    "\n",
    "dizionario_annidato = {\n",
    "    \"utente1\": {\n",
    "        \"nome\": \"Luca\",\n",
    "        \"eta\": 30,\n",
    "        \"indirizzo\": {\n",
    "            \"via\": \"Via Roma 10\",\n",
    "            \"citta\": \"Milano\",\n",
    "            \"cap\": \"20100\"\n",
    "        }\n",
    "    },\n",
    "    \"utente2\": {\n",
    "        \"nome\": \"Anna\",\n",
    "        \"eta\": 25,\n",
    "        \"indirizzo\": {\n",
    "            \"via\": \"Corso Italia 5\",\n",
    "            \"citta\": \"Torino\",\n",
    "            \"cap\": \"10100\"\n",
    "        }\n",
    "    }\n",
    "}\n",
    "\n",
    "dizionario_annidato"
   ]
  },
  {
   "cell_type": "code",
   "execution_count": 163,
   "id": "0494fb66",
   "metadata": {},
   "outputs": [
    {
     "name": "stdout",
     "output_type": "stream",
     "text": [
      "Milano\n",
      "{'indirizzo': {'citta': 'Roma'}}\n"
     ]
    }
   ],
   "source": [
    "# Accesso a un valore annidato\n",
    "print(dizionario_annidato[\"utente1\"][\"indirizzo\"][\"citta\"])  # Milano\n",
    "\n",
    "# Modifica di un valore annidato\n",
    "dizionario_annidato[\"utente2\"][\"indirizzo\"][\"cap\"] = \"10121\"\n",
    "\n",
    "# Creazione dinamica con setdefault()\n",
    "dizionario_annidato.setdefault(\"utente3\", {}).setdefault(\"indirizzo\", {})[\"citta\"] = \"Roma\"\n",
    "print(dizionario_annidato[\"utente3\"])"
   ]
  },
  {
   "cell_type": "code",
   "execution_count": 164,
   "id": "afdaf600",
   "metadata": {},
   "outputs": [
    {
     "data": {
      "text/plain": [
       "{'nome': 'Anna',\n",
       " 'eta': 25,\n",
       " 'indirizzo': {'via': 'Corso Italia 5', 'citta': 'Torino', 'cap': '10121'}}"
      ]
     },
     "execution_count": 164,
     "metadata": {},
     "output_type": "execute_result"
    }
   ],
   "source": [
    "dizionario_annidato[\"utente2\"]"
   ]
  },
  {
   "cell_type": "markdown",
   "id": "18a9d297",
   "metadata": {},
   "source": [
    "## Copia Superficiale vs Copia Profonda (copy vs deepcopy)\n",
    "\n",
    "Quando si lavora con dizionari annidati o contenenti oggetti mutabili (liste, altri dizionari, oggetti personalizzati), è fondamentale capire la differenza tra:\n",
    "\n",
    "### Copia Superficiale (`copy()`):\n",
    "- Crea un nuovo dizionario, ma gli oggetti contenuti come valori **non vengono copiati**, bensì referenziati.\n",
    "- Modifiche a oggetti mutabili contenuti influiscono su entrambe le copie.\n",
    "- È efficiente e veloce, ma non adatta se è necessario un duplicato completamente indipendente.\n",
    "\n",
    "### Copia Profonda (`deepcopy()`):\n",
    "- Crea una copia ricorsiva di tutto il dizionario e degli oggetti contenuti, replicando anche tutti gli oggetti annidati.\n",
    "- Le modifiche a oggetti mutabili nella copia **non** influenzano l’originale.\n",
    "- Più costosa in termini di prestazioni e memoria, ma indispensabile per duplicati completi e sicuri.\n",
    "\n",
    "### Quando usare cosa:\n",
    "- Usa `copy()` per dizionari con solo valori immutabili o se puoi garantire che i valori mutabili non verranno modificati.\n",
    "- Usa `deepcopy()` quando lavori con strutture dati complesse e annidate che devono essere indipendenti."
   ]
  },
  {
   "cell_type": "code",
   "execution_count": 165,
   "id": "110b299f",
   "metadata": {},
   "outputs": [
    {
     "name": "stdout",
     "output_type": "stream",
     "text": [
      "[1, 2, 3, 4]\n"
     ]
    }
   ],
   "source": [
    "# --- Copia Superficiale vs Copia Profonda ---\n",
    "\n",
    "import copy\n",
    "\n",
    "originale = {\n",
    "    \"lista\": [1, 2, 3],\n",
    "    \"dizionario\": {\"chiave\": \"valore\"}\n",
    "}\n",
    "\n",
    "# Copia superficiale\n",
    "copia_superficiale = originale.copy()\n",
    "copia_superficiale[\"lista\"].append(4)\n",
    "print(originale[\"lista\"])  # [1, 2, 3, 4] - Modificato anche l'originale"
   ]
  },
  {
   "cell_type": "code",
   "execution_count": 166,
   "id": "981723a4",
   "metadata": {},
   "outputs": [
    {
     "name": "stdout",
     "output_type": "stream",
     "text": [
      "valore\n"
     ]
    }
   ],
   "source": [
    "# Copia profonda\n",
    "copia_profonda = copy.deepcopy(originale)\n",
    "copia_profonda[\"dizionario\"][\"chiave\"] = \"nuovo valore\"\n",
    "print(originale[\"dizionario\"][\"chiave\"])  # \"valore\" - Originale non modificato"
   ]
  },
  {
   "cell_type": "markdown",
   "id": "41f9faba",
   "metadata": {},
   "source": [
    "## 🔄 Conversioni Tra Dizionari e Altri Tipi di Dati\n",
    "\n",
    "Spesso è utile trasformare dizionari in altre strutture dati o viceversa, per adattarsi a specifiche esigenze di elaborazione o formattazione.  \n",
    "\n",
    "### Conversione da dizionario a lista, tuple o set\n",
    "\n",
    "- È possibile ottenere una **lista** o una **tupla** delle chiavi, dei valori o delle coppie `(chiave, valore)` usando i metodi `.keys()`, `.values()` e `.items()` e convertendoli con `list()` o `tuple()`.\n",
    "- Si può creare un **set** delle chiavi o dei valori per operazioni di insieme, sfruttando `set()`.\n",
    "\n",
    "### Conversione da lista, tuple o set a dizionario\n",
    "\n",
    "- Dati una lista o una tupla di coppie `(chiave, valore)`, si può costruire un dizionario usando il costruttore `dict()`.\n",
    "- È importante che le chiavi siano uniche e hashable; in caso contrario, i duplicati verranno sovrascritti.\n",
    "\n",
    "### Conversione da e verso stringhe\n",
    "\n",
    "- I dizionari possono essere convertiti in stringhe formattate, ad esempio tramite la serializzazione JSON, per essere salvati o trasmessi.\n",
    "- È possibile ricostruire un dizionario da una stringa JSON o da altre rappresentazioni testuali, previa deserializzazione o parsing."
   ]
  },
  {
   "cell_type": "code",
   "execution_count": 167,
   "id": "a3f9e9cb",
   "metadata": {},
   "outputs": [
    {
     "data": {
      "text/plain": [
       "{'a': 1, 'b': 2, 'c': 3}"
      ]
     },
     "execution_count": 167,
     "metadata": {},
     "output_type": "execute_result"
    }
   ],
   "source": [
    "# Conversione da dizionario a lista, tupla e set\n",
    "\n",
    "d = {'a': 1, 'b': 2, 'c': 3}\n",
    "d"
   ]
  },
  {
   "cell_type": "code",
   "execution_count": 168,
   "id": "a4564e55",
   "metadata": {},
   "outputs": [
    {
     "data": {
      "text/plain": [
       "['a', 'b', 'c']"
      ]
     },
     "execution_count": 168,
     "metadata": {},
     "output_type": "execute_result"
    }
   ],
   "source": [
    "# Lista delle chiavi\n",
    "keys_list = list(d.keys())\n",
    "keys_list"
   ]
  },
  {
   "cell_type": "code",
   "execution_count": 169,
   "id": "1f39da07",
   "metadata": {},
   "outputs": [
    {
     "data": {
      "text/plain": [
       "(1, 2, 3)"
      ]
     },
     "execution_count": 169,
     "metadata": {},
     "output_type": "execute_result"
    }
   ],
   "source": [
    "# Tupla dei valori\n",
    "values_tuple = tuple(d.values())\n",
    "values_tuple"
   ]
  },
  {
   "cell_type": "code",
   "execution_count": 170,
   "id": "49224bff",
   "metadata": {},
   "outputs": [
    {
     "data": {
      "text/plain": [
       "{('a', 1), ('b', 2), ('c', 3)}"
      ]
     },
     "execution_count": 170,
     "metadata": {},
     "output_type": "execute_result"
    }
   ],
   "source": [
    "# Set delle coppie (chiave, valore)\n",
    "items_set = set(d.items())\n",
    "items_set"
   ]
  },
  {
   "cell_type": "code",
   "execution_count": 171,
   "id": "41e489e8",
   "metadata": {},
   "outputs": [
    {
     "data": {
      "text/plain": [
       "{'x': 10, 'y': 20, 'z': 30}"
      ]
     },
     "execution_count": 171,
     "metadata": {},
     "output_type": "execute_result"
    }
   ],
   "source": [
    "# Conversione da lista di coppie a dizionario\n",
    "pairs = [('x', 10), ('y', 20), ('z', 30)]\n",
    "dict_from_pairs = dict(pairs)\n",
    "dict_from_pairs"
   ]
  },
  {
   "cell_type": "code",
   "execution_count": 172,
   "id": "ccb43de2",
   "metadata": {},
   "outputs": [
    {
     "data": {
      "text/plain": [
       "{'a': 2, 'b': 3}"
      ]
     },
     "execution_count": 172,
     "metadata": {},
     "output_type": "execute_result"
    }
   ],
   "source": [
    "# Se ci sono chiavi duplicate, l'ultima sovrascrive le precedenti\n",
    "pairs_with_duplicates = [('a', 1), ('a', 2), ('b', 3)]\n",
    "dict_with_duplicates = dict(pairs_with_duplicates)  # {'a': 2, 'b': 3}\n",
    "dict_with_duplicates"
   ]
  },
  {
   "cell_type": "markdown",
   "id": "703d180c",
   "metadata": {},
   "source": [
    "### Considerazioni generali\n",
    "\n",
    "- Durante le conversioni, è importante prestare attenzione al tipo e alla struttura dei dati per evitare perdite di informazioni o errori.\n",
    "- La mutabilità, l’ordine degli elementi e la presenza di dati annidati possono influenzare il risultato e la complessità della conversione.\n",
    "- Le conversioni sono strumenti potenti per integrare i dizionari con altre librerie, formati e modelli di dati nel vasto ecosistema Python."
   ]
  },
  {
   "cell_type": "markdown",
   "id": "dd3bca36",
   "metadata": {},
   "source": [
    "## Serializzazione di Dizionari in JSON\n",
    "\n",
    "La serializzazione è il processo di trasformare un dizionario Python in un formato testo o binario che può essere salvato su disco, trasmesso o usato da altri programmi.\n",
    "\n",
    "### JSON (JavaScript Object Notation)\n",
    "- È un formato di testo leggero, leggibile, e ampiamente utilizzato per scambiare dati tra applicazioni e linguaggi diversi.\n",
    "- I dizionari Python si mappano naturalmente a oggetti JSON: chiavi stringa e valori possono essere numeri, stringhe, liste, booleani, o altri oggetti JSON.\n",
    "- Limitazioni: le chiavi devono essere stringhe (in JSON), mentre in Python possono essere altri tipi hashable.\n",
    "- Supporta strutture annidate profonde, quindi è perfetto per dizionari complessi.\n",
    "- È facile da leggere e scrivere con la libreria standard `json`.\n",
    "- Il processo inverso (deserializzazione) converte JSON in dizionari e liste Python.\n",
    "\n",
    "La serializzazione deve sempre tenere conto del contesto d’uso e delle caratteristiche del formato scelto, bilanciando leggibilità, compatibilità, e complessità della struttura dati."
   ]
  },
  {
   "cell_type": "code",
   "execution_count": 173,
   "id": "90e46fc8",
   "metadata": {},
   "outputs": [],
   "source": [
    "# --- Serializzazione JSON ---\n",
    "\n",
    "import json\n",
    "\n",
    "dati = {\n",
    "    \"nome\": \"Marco\",\n",
    "    \"eta\": 28,\n",
    "    \"interessi\": [\"calcio\", \"musica\", \"programmazione\"],\n",
    "    \"indirizzo\": {\"citta\": \"Roma\", \"cap\": \"00100\"}\n",
    "}"
   ]
  },
  {
   "cell_type": "code",
   "execution_count": 174,
   "id": "32b70ba9",
   "metadata": {},
   "outputs": [
    {
     "name": "stdout",
     "output_type": "stream",
     "text": [
      "{\n",
      "    \"nome\": \"Marco\",\n",
      "    \"eta\": 28,\n",
      "    \"interessi\": [\n",
      "        \"calcio\",\n",
      "        \"musica\",\n",
      "        \"programmazione\"\n",
      "    ],\n",
      "    \"indirizzo\": {\n",
      "        \"citta\": \"Roma\",\n",
      "        \"cap\": \"00100\"\n",
      "    }\n",
      "}\n"
     ]
    }
   ],
   "source": [
    "# Serializzazione in stringa JSON\n",
    "json_str = json.dumps(dati, indent=4)\n",
    "print(json_str)"
   ]
  },
  {
   "cell_type": "code",
   "execution_count": 175,
   "id": "b11e08db",
   "metadata": {},
   "outputs": [],
   "source": [
    "# Scrivere JSON su file\n",
    "with open(\"dati.json\", \"w\") as f:\n",
    "    json.dump(dati, f, indent=4)"
   ]
  },
  {
   "cell_type": "code",
   "execution_count": 176,
   "id": "eab81978",
   "metadata": {},
   "outputs": [
    {
     "data": {
      "text/plain": [
       "{'nome': 'Marco',\n",
       " 'eta': 28,\n",
       " 'interessi': ['calcio', 'musica', 'programmazione'],\n",
       " 'indirizzo': {'citta': 'Roma', 'cap': '00100'}}"
      ]
     },
     "execution_count": 176,
     "metadata": {},
     "output_type": "execute_result"
    }
   ],
   "source": [
    "# Caricare JSON da stringa\n",
    "dati_caricati = json.loads(json_str)\n",
    "dati_caricati"
   ]
  },
  {
   "cell_type": "code",
   "execution_count": 177,
   "id": "adcbc79a",
   "metadata": {},
   "outputs": [],
   "source": [
    "# Caricare JSON da file\n",
    "with open(\"dati.json\", \"r\") as f:\n",
    "    dati_file = json.load(f)"
   ]
  },
  {
   "cell_type": "markdown",
   "id": "3cd4ccca",
   "metadata": {},
   "source": [
    "## 🔚 Conclusioni\n",
    "\n",
    "I **dizionari** sono una struttura dati centrale in Python, apprezzati per la loro capacità di associare chiavi univoche a valori in modo efficiente e flessibile.  \n",
    "In questa guida abbiamo esplorato:\n",
    "\n",
    "- La definizione e le caratteristiche principali dei dizionari: mutabilità, indicizzazione tramite chiavi, e ordine di inserimento.\n",
    "- Come accedere ai valori in modo diretto e sicuro, aggiungere o modificare coppie chiave-valore.\n",
    "- I principali metodi per aggiungere, rimuovere e aggiornare elementi, inclusi `del`, `pop()`, `popitem()`, e `update()`.\n",
    "- Metodi utili per la visualizzazione e manipolazione dei dati, come `.keys()`, `.values()`, `.items()`, `.copy()` e `fromkeys()`.\n",
    "- L’importanza della distinzione tra copia superficiale e copia profonda in presenza di dizionari annidati o contenenti oggetti mutabili.\n",
    "- Tecniche di serializzazione per esportare e importare dizionari in formati standard come JSON e CSV.\n",
    "\n",
    "Comprendere i dizionari e saper utilizzare correttamente i loro metodi è fondamentale per gestire dati complessi in modo efficiente e scrivere codice Python chiaro, robusto e performante."
   ]
  }
 ],
 "metadata": {
  "kernelspec": {
   "display_name": "datas",
   "language": "python",
   "name": "python3"
  },
  "language_info": {
   "codemirror_mode": {
    "name": "ipython",
    "version": 3
   },
   "file_extension": ".py",
   "mimetype": "text/x-python",
   "name": "python",
   "nbconvert_exporter": "python",
   "pygments_lexer": "ipython3",
   "version": "3.10.13"
  }
 },
 "nbformat": 4,
 "nbformat_minor": 5
}
