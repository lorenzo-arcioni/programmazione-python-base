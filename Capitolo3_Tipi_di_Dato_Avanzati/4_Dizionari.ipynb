{
 "cells": [
  {
   "cell_type": "markdown",
   "id": "9baddd15",
   "metadata": {},
   "source": [
    "# 🧠 Dizionari\n",
    "\n",
    "I **dizionari** (`dict`) sono una delle strutture dati più potenti e versatili in Python.  \n",
    "Sono utilizzati per rappresentare **collezioni di coppie chiave-valore**, dove ogni chiave è un identificatore unico che punta a un valore associato.\n",
    "\n",
    "🔑 I dizionari sono ideali per modellare:\n",
    "\n",
    "- Oggetti reali (es. un utente con nome, età, email)\n",
    "- Tabelle di lookup (es. conversioni tra codici e significati)\n",
    "- Configurazioni di sistema o parametri di un programma\n",
    "- Contatori e frequenze (es. conteggio parole in un testo)\n",
    "- Strutture annidate come JSON\n",
    "\n",
    "Utilizzando i dizionari, è possibile ottenere un accesso diretto ai dati tramite una chiave, evitando la necessità di scorrere l’intera collezione.\n",
    "\n",
    "⚡ Sono inoltre estremamente efficienti in termini di prestazioni: l’accesso, l’inserimento e la cancellazione di un elemento avvengono mediamente in tempo **costante** (`O(1)`), grazie all’uso di una **hash table**.\n",
    "\n",
    "## 📌 1. Definizione e Sintassi\n",
    "\n",
    "Un dizionario in Python è:\n",
    "\n",
    "- **Mutabile**: può essere modificato dopo la creazione (aggiunta, modifica o rimozione di elementi).\n",
    "- **Indicizzato tramite chiavi**: al posto degli indici numerici delle liste, si usano chiavi definite dall’utente.\n",
    "- **Non ordinato** (fino a Python 3.6): l’ordine degli elementi non era garantito.\n",
    "- **Ordinato** (da Python 3.7 in poi): mantiene l’ordine di inserimento.\n",
    "- **Chiavi univoche**: ogni chiave deve essere unica nel dizionario; i valori, invece, possono ripetersi.\n",
    "\n",
    "📘 Le chiavi devono essere di tipo **hashable** (immutabili), come `str`, `int`, `float`, `tuple` (contenente solo elementi immutabili), mentre i valori possono essere di qualsiasi tipo (inclusi altri dizionari).\n",
    "\n",
    "### 🔹 Sintassi base"
   ]
  },
  {
   "cell_type": "code",
   "execution_count": 49,
   "id": "bba13c21",
   "metadata": {},
   "outputs": [
    {
     "data": {
      "text/plain": [
       "{'nome': 'Luca', 'età': 25, 'iscrizione': True}"
      ]
     },
     "execution_count": 49,
     "metadata": {},
     "output_type": "execute_result"
    }
   ],
   "source": [
    "dizionario = {\n",
    "    \"nome\": \"Luca\",\n",
    "    \"età\": 25,\n",
    "    \"iscrizione\": True\n",
    "}\n",
    "dizionario"
   ]
  },
  {
   "cell_type": "markdown",
   "id": "8bc865fc",
   "metadata": {},
   "source": [
    "### 🔹 Creazione con `dict()`"
   ]
  },
  {
   "cell_type": "code",
   "execution_count": 50,
   "id": "0f7895ff",
   "metadata": {},
   "outputs": [
    {
     "data": {
      "text/plain": [
       "{'nome': 'Anna', 'età': 30}"
      ]
     },
     "execution_count": 50,
     "metadata": {},
     "output_type": "execute_result"
    }
   ],
   "source": [
    "d = dict(nome=\"Anna\", età=30)  # chiavi come argomenti\n",
    "d"
   ]
  },
  {
   "cell_type": "markdown",
   "id": "052091d6",
   "metadata": {},
   "source": [
    "## 🔍 3. Accesso ai dati e Modifica dei valori nei dizionari\n",
    "\n",
    "I dizionari utilizzano le **chiavi (keys)** per accedere ai **valori (values)**. Esistono vari modi per accedere, modificare o aggiungere coppie chiave-valore.\n",
    "\n",
    "### 🔹 Accesso diretto con l'operatore `[]`\n",
    "\n",
    "Utilizza la sintassi `dizionario[chiave]` per accedere al valore associato a una chiave. Se la chiave non esiste, Python solleverà un `KeyError`."
   ]
  },
  {
   "cell_type": "code",
   "execution_count": 51,
   "id": "7171f9a9",
   "metadata": {},
   "outputs": [
    {
     "name": "stdout",
     "output_type": "stream",
     "text": [
      "Luca\n"
     ]
    }
   ],
   "source": [
    "d = {\"nome\": \"Luca\", \"età\": 25}\n",
    "print(d[\"nome\"])  # Output: Luca"
   ]
  },
  {
   "cell_type": "markdown",
   "id": "0a526748",
   "metadata": {},
   "source": [
    "### 🔹 Accesso sicuro con `.get()`\n",
    "\n",
    "Il metodo `.get()` consente di ottenere il valore associato a una chiave senza sollevare eccezioni se la chiave non esiste.  \n",
    "È possibile specificare un valore di default da restituire in caso di chiave mancante.\n",
    "\n",
    "Il metodo `.get()` consente di accedere a una chiave senza rischiare un `KeyError`. Se la chiave non è presente, restituisce `None` (o un valore di default specificato)."
   ]
  },
  {
   "cell_type": "code",
   "execution_count": 52,
   "id": "df896674",
   "metadata": {},
   "outputs": [
    {
     "name": "stdout",
     "output_type": "stream",
     "text": [
      "None\n"
     ]
    }
   ],
   "source": [
    "print(d.get(\"cognome\"))            # Restituisce None se \"cognome\" non esiste"
   ]
  },
  {
   "cell_type": "code",
   "execution_count": 53,
   "id": "c0cca280",
   "metadata": {},
   "outputs": [
    {
     "data": {
      "text/plain": [
       "'N/A'"
      ]
     },
     "execution_count": 53,
     "metadata": {},
     "output_type": "execute_result"
    }
   ],
   "source": [
    "d.get(\"cognome\", \"N/A\")     # Restituisce \"N/A\" come valore di default"
   ]
  },
  {
   "cell_type": "markdown",
   "id": "d3ccc1ae",
   "metadata": {},
   "source": [
    "\n",
    "### 🔹 Aggiunta o Modifica di coppie chiave-valore\n",
    "\n",
    "Se assegni un valore a una chiave già esistente, il valore viene sovrascritto. Se la chiave non esiste, viene creata."
   ]
  },
  {
   "cell_type": "code",
   "execution_count": 54,
   "id": "14dadc35",
   "metadata": {},
   "outputs": [],
   "source": [
    "d[\"età\"] = 26              # Modifica il valore della chiave \"età\"\n",
    "d[\"cognome\"] = \"Rossi\"     # Aggiunge una nuova coppia"
   ]
  },
  {
   "cell_type": "markdown",
   "id": "db23b18e",
   "metadata": {},
   "source": [
    "## ✏️ 4. Aggiunta, Rimozione e Svuotamento del dizionario\n",
    "\n",
    "### 🔹 Aggiungere una nuova coppia\n",
    "\n",
    "Assegna un valore a una nuova chiave come nel caso della modifica:"
   ]
  },
  {
   "cell_type": "code",
   "execution_count": 55,
   "id": "b423cc00",
   "metadata": {},
   "outputs": [
    {
     "data": {
      "text/plain": [
       "{'nome': 'Luca', 'età': 26, 'cognome': 'Rossi', 'email': 'luca@example.com'}"
      ]
     },
     "execution_count": 55,
     "metadata": {},
     "output_type": "execute_result"
    }
   ],
   "source": [
    "d[\"email\"] = \"luca@example.com\"\n",
    "d"
   ]
  },
  {
   "cell_type": "markdown",
   "id": "cf40955b",
   "metadata": {},
   "source": [
    "### 🔹 Inserimento condizionato con `.setdefault()`\n",
    "\n",
    "Simile a `.get()`, ma se la chiave non esiste, la inserisce con il valore specificato.  \n",
    "Restituisce sempre il valore associato alla chiave, esistente o appena creato."
   ]
  },
  {
   "cell_type": "code",
   "execution_count": 56,
   "id": "fd8f05b8",
   "metadata": {},
   "outputs": [
    {
     "name": "stdout",
     "output_type": "stream",
     "text": [
      "26\n",
      "Rossi\n"
     ]
    },
    {
     "data": {
      "text/plain": [
       "{'nome': 'Luca', 'età': 26, 'cognome': 'Rossi', 'email': 'luca@example.com'}"
      ]
     },
     "execution_count": 56,
     "metadata": {},
     "output_type": "execute_result"
    }
   ],
   "source": [
    "print(d.setdefault(\"età\", 30))  # 26 (non cambia)\n",
    "print(d.setdefault(\"cognome\", \"Rossi\"))  # 300 (aggiunge \"c\": 300)\n",
    "d"
   ]
  },
  {
   "cell_type": "markdown",
   "id": "faa6999f",
   "metadata": {},
   "source": [
    "### 🔹 Rimuovere coppie dal dizionario\n",
    "\n",
    "Ci sono vari metodi per rimuovere dati:"
   ]
  },
  {
   "cell_type": "code",
   "execution_count": 57,
   "id": "f249ca0c",
   "metadata": {},
   "outputs": [
    {
     "data": {
      "text/plain": [
       "('email', 'luca@example.com')"
      ]
     },
     "execution_count": 57,
     "metadata": {},
     "output_type": "execute_result"
    }
   ],
   "source": [
    "del d[\"età\"]        # Rimuove la coppia con chiave \"età\"\n",
    "d.pop(\"nome\")       # Rimuove \"nome\" e restituisce il suo valore\n",
    "d.popitem()         # Rimuove l'ultima coppia inserita (LIFO)"
   ]
  },
  {
   "cell_type": "markdown",
   "id": "1b439675",
   "metadata": {},
   "source": [
    "📌 **Quando usarli:**\n",
    "\n",
    "- Usa del se vuoi semplicemente rimuovere una chiave senza interesse per il suo valore.\n",
    "- Usa pop() se vuoi anche ottenere il valore rimosso.\n",
    "- Usa popitem() per rimuovere elementi in modo Last-In-First-Out, utile ad esempio per strutture tipo stack."
   ]
  },
  {
   "cell_type": "markdown",
   "id": "e99bf505",
   "metadata": {},
   "source": [
    "⚠️ Se `del` o `pop` viene usato con una chiave inesistente, viene sollevato un `KeyError`."
   ]
  },
  {
   "cell_type": "markdown",
   "id": "53da4dab",
   "metadata": {},
   "source": [
    "### 🔹 Unione e aggiornamento con `.update()`\n",
    "\n",
    "Aggiorna il dizionario con chiavi e valori presi da un altro dizionario o da un iterable di coppie `(chiave, valore)`.  \n",
    "Le chiavi esistenti vengono sovrascritte, quelle nuove aggiunte."
   ]
  },
  {
   "cell_type": "code",
   "execution_count": 58,
   "id": "412ac48c",
   "metadata": {},
   "outputs": [
    {
     "data": {
      "text/plain": [
       "{'cognome': 'Rossi', 'b': 20, 'd': 4}"
      ]
     },
     "execution_count": 58,
     "metadata": {},
     "output_type": "execute_result"
    }
   ],
   "source": [
    "# .update()\n",
    "d.update({\"b\": 20, \"d\": 4})\n",
    "d"
   ]
  },
  {
   "cell_type": "markdown",
   "id": "669c0a2c",
   "metadata": {},
   "source": [
    "### 🔹 Svuotare completamente il dizionario"
   ]
  },
  {
   "cell_type": "code",
   "execution_count": 59,
   "id": "e9e626f8",
   "metadata": {},
   "outputs": [
    {
     "data": {
      "text/plain": [
       "{}"
      ]
     },
     "execution_count": 59,
     "metadata": {},
     "output_type": "execute_result"
    }
   ],
   "source": [
    "d.clear()  # Rimuove tutte le coppie; il dizionario diventa vuoto\n",
    "d"
   ]
  },
  {
   "cell_type": "markdown",
   "id": "4b112f56",
   "metadata": {},
   "source": [
    "## 🛠️ Metodi Utili dei Dizionari\n",
    "\n",
    "### 🔹 Visualizzazione con `.keys()`, `.values()` e `.items()`\n",
    "\n",
    "- `.keys()` restituisce una vista dinamica di tutte le chiavi del dizionario.  \n",
    "- `.values()` restituisce una vista dinamica di tutti i valori.  \n",
    "- `.items()` restituisce una vista dinamica di tutte le coppie `(chiave, valore)`."
   ]
  },
  {
   "cell_type": "code",
   "execution_count": 60,
   "id": "bb4b15f7",
   "metadata": {},
   "outputs": [
    {
     "name": "stdout",
     "output_type": "stream",
     "text": [
      "dict_keys(['x', 'y', 'z'])\n",
      "dict_values([10, 20, 30])\n",
      "dict_items([('x', 10), ('y', 20), ('z', 30)])\n"
     ]
    }
   ],
   "source": [
    "# Visualizzazione con .keys(), .values() e .items()\n",
    "d = {\"x\": 10, \"y\": 20, \"z\": 30}\n",
    "print(d.keys())    # dict_keys(['x', 'y', 'z'])\n",
    "print(d.values())  # dict_values([10, 20, 30])\n",
    "print(d.items())   # dict_items([('x', 10), ('y', 20), ('z', 30)])"
   ]
  },
  {
   "cell_type": "markdown",
   "id": "7fbf9bb6",
   "metadata": {},
   "source": [
    "### 🔹 Copia superficiale con `.copy()`\n",
    "\n",
    "Restituisce una copia superficiale del dizionario.  \n",
    "Le modifiche agli oggetti mutabili contenuti all’interno influenzano entrambe le copie."
   ]
  },
  {
   "cell_type": "code",
   "execution_count": 61,
   "id": "0dd2f491",
   "metadata": {},
   "outputs": [
    {
     "name": "stdout",
     "output_type": "stream",
     "text": [
      "{'x': 10, 'y': 20, 'z': 30}\n",
      "10\n"
     ]
    }
   ],
   "source": [
    "# Copia superficiale con .copy()\n",
    "copia = d.copy()\n",
    "print(copia)  # {'x': 10, 'y': 20, 'z': 30}\n",
    "copia[\"x\"] = 100\n",
    "print(d[\"x\"])  # 10 (originale non modificato)"
   ]
  },
  {
   "cell_type": "markdown",
   "id": "369a1acf",
   "metadata": {},
   "source": [
    "### 🔹 Creazione di un dizionario da sequenze con `fromkeys()`\n",
    "\n",
    "Permette di creare un nuovo dizionario da una sequenza di chiavi, inizializzando tutte con uno stesso valore (default `None`)."
   ]
  },
  {
   "cell_type": "code",
   "execution_count": 62,
   "id": "a25f146e",
   "metadata": {},
   "outputs": [
    {
     "name": "stdout",
     "output_type": "stream",
     "text": [
      "{'a': 0, 'b': 0, 'c': 0}\n"
     ]
    }
   ],
   "source": [
    "# Creazione di un dizionario da sequenze con fromkeys()\n",
    "keys = [\"a\", \"b\", \"c\"]\n",
    "default_dict = dict.fromkeys(keys, 0)\n",
    "print(default_dict)  # {'a': 0, 'b': 0, 'c': 0}"
   ]
  },
  {
   "cell_type": "markdown",
   "id": "bba792f6",
   "metadata": {},
   "source": [
    "### 🔹 Controllo presenza chiave con `in`\n",
    "\n",
    "Consente di verificare se una chiave è presente nel dizionario tramite l’operatore `in`."
   ]
  },
  {
   "cell_type": "code",
   "execution_count": 63,
   "id": "8fbea4ea",
   "metadata": {},
   "outputs": [
    {
     "name": "stdout",
     "output_type": "stream",
     "text": [
      "True\n",
      "False\n"
     ]
    }
   ],
   "source": [
    "# Controllo presenza chiave con in\n",
    "print(\"a\" in default_dict)  # True\n",
    "print(\"z\" in default_dict)  # False"
   ]
  },
  {
   "cell_type": "markdown",
   "id": "cc111912",
   "metadata": {},
   "source": [
    "### 🔹 Ordinamento con `sorted()`\n",
    "\n",
    "Anche se i dizionari mantengono l’ordine di inserimento (da Python 3.7), è possibile ottenere liste ordinate di chiavi, valori o coppie usando la funzione `sorted()`."
   ]
  },
  {
   "cell_type": "code",
   "execution_count": 64,
   "id": "83252b67",
   "metadata": {},
   "outputs": [
    {
     "name": "stdout",
     "output_type": "stream",
     "text": [
      "['x', 'y', 'z']\n",
      "[10, 20, 30]\n",
      "[('x', 10), ('y', 20), ('z', 30)]\n"
     ]
    }
   ],
   "source": [
    "# Ordinamento con sorted()\n",
    "print(sorted(d.keys()))    # ['x', 'y', 'z']\n",
    "print(sorted(d.values()))  # [10, 20, 30]\n",
    "print(sorted(d.items()))   # [('x', 10), ('y', 20), ('z', 30)]"
   ]
  },
  {
   "cell_type": "markdown",
   "id": "ffe55a92",
   "metadata": {},
   "source": [
    "### 🔹 Metodi di default dict e altre estensioni\n",
    "\n",
    "Il modulo `collections` offre estensioni come `defaultdict`, che permette di specificare un valore di default per chiavi mancanti senza sollevare errori."
   ]
  },
  {
   "cell_type": "code",
   "execution_count": 65,
   "id": "948f92d7",
   "metadata": {},
   "outputs": [
    {
     "name": "stdout",
     "output_type": "stream",
     "text": [
      "defaultdict(<class 'int'>, {'a': 1})\n"
     ]
    }
   ],
   "source": [
    "# Uso di defaultdict (richiede import)\n",
    "from collections import defaultdict\n",
    "dd = defaultdict(int)  # default int = 0\n",
    "dd[\"a\"] += 1\n",
    "print(dd)  # defaultdict(<class 'int'>, {'a': 1})"
   ]
  },
  {
   "cell_type": "markdown",
   "id": "ab9cd14f",
   "metadata": {},
   "source": [
    "## Dizionari Annidati (Nested Dictionaries)\n",
    "\n",
    "I dizionari annidati sono dizionari che contengono come valori altri dizionari.  \n",
    "Questa struttura permette di rappresentare dati complessi e gerarchici in modo naturale, molto usata per configurazioni, dati JSON, o strutture a più livelli.\n",
    "\n",
    "### Caratteristiche principali:\n",
    "- Le chiavi possono essere associate non solo a valori semplici, ma anche ad altri dizionari.  \n",
    "- È possibile accedere a un valore annidato concatenando più chiavi, ad esempio `dizionario[chiave1][chiave2]`.  \n",
    "- La modifica o aggiunta di dati richiede attenzione: è necessario assicurarsi che le chiavi intermedie esistano, altrimenti si rischia un `KeyError`.  \n",
    "\n",
    "### Considerazioni importanti:\n",
    "- Per operazioni complesse è utile controllare o creare i dizionari annidati in modo dinamico (ad esempio con `.setdefault()` o usando strutture come `defaultdict`).\n",
    "- La profondità e complessità dei dizionari annidati può rendere il codice più difficile da leggere e mantenere: è buona norma documentare bene la struttura dati.\n",
    "- Molte librerie esterne che gestiscono dati strutturati (come JSON) usano proprio dizionari annidati per rappresentare i dati."
   ]
  },
  {
   "cell_type": "code",
   "execution_count": 66,
   "id": "e35d33e5",
   "metadata": {},
   "outputs": [
    {
     "data": {
      "text/plain": [
       "{'utente1': {'nome': 'Luca',\n",
       "  'eta': 30,\n",
       "  'indirizzo': {'via': 'Via Roma 10', 'citta': 'Milano', 'cap': '20100'}},\n",
       " 'utente2': {'nome': 'Anna',\n",
       "  'eta': 25,\n",
       "  'indirizzo': {'via': 'Corso Italia 5', 'citta': 'Torino', 'cap': '10100'}}}"
      ]
     },
     "execution_count": 66,
     "metadata": {},
     "output_type": "execute_result"
    }
   ],
   "source": [
    "# --- Dizionari Annidati (Nested Dictionaries) ---\n",
    "\n",
    "dizionario_annidato = {\n",
    "    \"utente1\": {\n",
    "        \"nome\": \"Luca\",\n",
    "        \"eta\": 30,\n",
    "        \"indirizzo\": {\n",
    "            \"via\": \"Via Roma 10\",\n",
    "            \"citta\": \"Milano\",\n",
    "            \"cap\": \"20100\"\n",
    "        }\n",
    "    },\n",
    "    \"utente2\": {\n",
    "        \"nome\": \"Anna\",\n",
    "        \"eta\": 25,\n",
    "        \"indirizzo\": {\n",
    "            \"via\": \"Corso Italia 5\",\n",
    "            \"citta\": \"Torino\",\n",
    "            \"cap\": \"10100\"\n",
    "        }\n",
    "    }\n",
    "}\n",
    "\n",
    "dizionario_annidato"
   ]
  },
  {
   "cell_type": "code",
   "execution_count": 67,
   "id": "0494fb66",
   "metadata": {},
   "outputs": [
    {
     "name": "stdout",
     "output_type": "stream",
     "text": [
      "Milano\n",
      "{'indirizzo': {'citta': 'Roma'}}\n"
     ]
    }
   ],
   "source": [
    "# Accesso a un valore annidato\n",
    "print(dizionario_annidato[\"utente1\"][\"indirizzo\"][\"citta\"])  # Milano\n",
    "\n",
    "# Modifica di un valore annidato\n",
    "dizionario_annidato[\"utente2\"][\"indirizzo\"][\"cap\"] = \"10121\"\n",
    "\n",
    "# Creazione dinamica con setdefault()\n",
    "dizionario_annidato.setdefault(\"utente3\", {}).setdefault(\"indirizzo\", {})[\"citta\"] = \"Roma\"\n",
    "print(dizionario_annidato[\"utente3\"])"
   ]
  },
  {
   "cell_type": "code",
   "execution_count": 70,
   "id": "afdaf600",
   "metadata": {},
   "outputs": [
    {
     "data": {
      "text/plain": [
       "{'nome': 'Anna',\n",
       " 'eta': 25,\n",
       " 'indirizzo': {'via': 'Corso Italia 5', 'citta': 'Torino', 'cap': '10121'}}"
      ]
     },
     "execution_count": 70,
     "metadata": {},
     "output_type": "execute_result"
    }
   ],
   "source": [
    "dizionario_annidato[\"utente2\"]"
   ]
  },
  {
   "cell_type": "markdown",
   "id": "18a9d297",
   "metadata": {},
   "source": [
    "## Copia Superficiale vs Copia Profonda (copy vs deepcopy)\n",
    "\n",
    "Quando si lavora con dizionari annidati o contenenti oggetti mutabili (liste, altri dizionari, oggetti personalizzati), è fondamentale capire la differenza tra:\n",
    "\n",
    "### Copia Superficiale (`copy()`):\n",
    "- Crea un nuovo dizionario, ma gli oggetti contenuti come valori **non vengono copiati**, bensì referenziati.\n",
    "- Modifiche a oggetti mutabili contenuti influiscono su entrambe le copie.\n",
    "- È efficiente e veloce, ma non adatta se è necessario un duplicato completamente indipendente.\n",
    "\n",
    "### Copia Profonda (`deepcopy()`):\n",
    "- Crea una copia ricorsiva di tutto il dizionario e degli oggetti contenuti, replicando anche tutti gli oggetti annidati.\n",
    "- Le modifiche a oggetti mutabili nella copia **non** influenzano l’originale.\n",
    "- Più costosa in termini di prestazioni e memoria, ma indispensabile per duplicati completi e sicuri.\n",
    "\n",
    "### Quando usare cosa:\n",
    "- Usa `copy()` per dizionari con solo valori immutabili o se puoi garantire che i valori mutabili non verranno modificati.\n",
    "- Usa `deepcopy()` quando lavori con strutture dati complesse e annidate che devono essere indipendenti."
   ]
  },
  {
   "cell_type": "code",
   "execution_count": 71,
   "id": "110b299f",
   "metadata": {},
   "outputs": [
    {
     "name": "stdout",
     "output_type": "stream",
     "text": [
      "[1, 2, 3, 4]\n"
     ]
    }
   ],
   "source": [
    "# --- Copia Superficiale vs Copia Profonda ---\n",
    "\n",
    "import copy\n",
    "\n",
    "originale = {\n",
    "    \"lista\": [1, 2, 3],\n",
    "    \"dizionario\": {\"chiave\": \"valore\"}\n",
    "}\n",
    "\n",
    "# Copia superficiale\n",
    "copia_superficiale = originale.copy()\n",
    "copia_superficiale[\"lista\"].append(4)\n",
    "print(originale[\"lista\"])  # [1, 2, 3, 4] - Modificato anche l'originale"
   ]
  },
  {
   "cell_type": "code",
   "execution_count": 72,
   "id": "981723a4",
   "metadata": {},
   "outputs": [
    {
     "name": "stdout",
     "output_type": "stream",
     "text": [
      "valore\n"
     ]
    }
   ],
   "source": [
    "# Copia profonda\n",
    "copia_profonda = copy.deepcopy(originale)\n",
    "copia_profonda[\"dizionario\"][\"chiave\"] = \"nuovo valore\"\n",
    "print(originale[\"dizionario\"][\"chiave\"])  # \"valore\" - Originale non modificato"
   ]
  },
  {
   "cell_type": "markdown",
   "id": "dd3bca36",
   "metadata": {},
   "source": [
    "## Serializzazione di Dizionari in JSON e CSV\n",
    "\n",
    "La serializzazione è il processo di trasformare un dizionario Python in un formato testo o binario che può essere salvato su disco, trasmesso o usato da altri programmi.\n",
    "\n",
    "### JSON (JavaScript Object Notation)\n",
    "- È un formato di testo leggero, leggibile, e ampiamente utilizzato per scambiare dati tra applicazioni e linguaggi diversi.\n",
    "- I dizionari Python si mappano naturalmente a oggetti JSON: chiavi stringa e valori possono essere numeri, stringhe, liste, booleani, o altri oggetti JSON.\n",
    "- Limitazioni: le chiavi devono essere stringhe (in JSON), mentre in Python possono essere altri tipi hashable.\n",
    "- Supporta strutture annidate profonde, quindi è perfetto per dizionari complessi.\n",
    "- È facile da leggere e scrivere con la libreria standard `json`.\n",
    "- Il processo inverso (deserializzazione) converte JSON in dizionari e liste Python.\n",
    "\n",
    "La serializzazione deve sempre tenere conto del contesto d’uso e delle caratteristiche del formato scelto, bilanciando leggibilità, compatibilità, e complessità della struttura dati."
   ]
  },
  {
   "cell_type": "code",
   "execution_count": null,
   "id": "90e46fc8",
   "metadata": {},
   "outputs": [],
   "source": [
    "# --- Serializzazione JSON ---\n",
    "\n",
    "import json\n",
    "\n",
    "dati = {\n",
    "    \"nome\": \"Marco\",\n",
    "    \"eta\": 28,\n",
    "    \"interessi\": [\"calcio\", \"musica\", \"programmazione\"],\n",
    "    \"indirizzo\": {\"citta\": \"Roma\", \"cap\": \"00100\"}\n",
    "}"
   ]
  },
  {
   "cell_type": "code",
   "execution_count": null,
   "id": "32b70ba9",
   "metadata": {},
   "outputs": [
    {
     "name": "stdout",
     "output_type": "stream",
     "text": [
      "{\n",
      "    \"nome\": \"Marco\",\n",
      "    \"eta\": 28,\n",
      "    \"interessi\": [\n",
      "        \"calcio\",\n",
      "        \"musica\",\n",
      "        \"programmazione\"\n",
      "    ],\n",
      "    \"indirizzo\": {\n",
      "        \"citta\": \"Roma\",\n",
      "        \"cap\": \"00100\"\n",
      "    }\n",
      "}\n"
     ]
    }
   ],
   "source": [
    "# Serializzazione in stringa JSON\n",
    "json_str = json.dumps(dati, indent=4)\n",
    "print(json_str)"
   ]
  },
  {
   "cell_type": "code",
   "execution_count": 75,
   "id": "b11e08db",
   "metadata": {},
   "outputs": [],
   "source": [
    "# Scrivere JSON su file\n",
    "with open(\"dati.json\", \"w\") as f:\n",
    "    json.dump(dati, f, indent=4)"
   ]
  },
  {
   "cell_type": "code",
   "execution_count": 76,
   "id": "eab81978",
   "metadata": {},
   "outputs": [
    {
     "data": {
      "text/plain": [
       "{'nome': 'Marco',\n",
       " 'eta': 28,\n",
       " 'interessi': ['calcio', 'musica', 'programmazione'],\n",
       " 'indirizzo': {'citta': 'Roma', 'cap': '00100'}}"
      ]
     },
     "execution_count": 76,
     "metadata": {},
     "output_type": "execute_result"
    }
   ],
   "source": [
    "# Caricare JSON da stringa\n",
    "dati_caricati = json.loads(json_str)\n",
    "dati_caricati"
   ]
  },
  {
   "cell_type": "code",
   "execution_count": null,
   "id": "adcbc79a",
   "metadata": {},
   "outputs": [],
   "source": [
    "# Caricare JSON da file\n",
    "with open(\"dati.json\", \"r\") as f:\n",
    "    dati_file = json.load(f)"
   ]
  }
 ],
 "metadata": {
  "kernelspec": {
   "display_name": "datas",
   "language": "python",
   "name": "python3"
  },
  "language_info": {
   "codemirror_mode": {
    "name": "ipython",
    "version": 3
   },
   "file_extension": ".py",
   "mimetype": "text/x-python",
   "name": "python",
   "nbconvert_exporter": "python",
   "pygments_lexer": "ipython3",
   "version": "3.10.13"
  }
 },
 "nbformat": 4,
 "nbformat_minor": 5
}
