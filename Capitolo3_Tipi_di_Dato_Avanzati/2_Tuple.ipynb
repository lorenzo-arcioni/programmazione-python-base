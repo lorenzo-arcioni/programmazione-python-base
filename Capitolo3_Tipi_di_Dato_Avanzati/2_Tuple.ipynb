{
 "cells": [
  {
   "cell_type": "markdown",
   "id": "e3248ed0",
   "metadata": {},
   "source": [
    "# 🔐 Tuple\n",
    "\n",
    "Le **tuple** sono una struttura dati fondamentale in Python, utilizzata per rappresentare collezioni **ordinate** e **immutabili** di elementi.  \n",
    "Sono strettamente imparentate con le **liste**, ma con una caratteristica chiave: **non possono essere modificate dopo la creazione**.\n",
    "\n",
    "Comprendere le tuple è essenziale, non solo per memorizzare dati fissi, ma anche per strutturare valori che non devono cambiare accidentalmente.  \n",
    "Sono spesso utilizzate per rappresentare:\n",
    "\n",
    "- **Coordinate** (es. posizione in uno spazio 2D o 3D),\n",
    "- **Valori multipli di ritorno da una funzione**,\n",
    "- **Record immutabili** (es. dati anagrafici non modificabili),\n",
    "\n",
    "## 📚 Definizione generale\n",
    "\n",
    "Una **tupla** è una collezione:\n",
    "\n",
    "- ✅ Ordinata: gli elementi vengono mantenuti nell’ordine in cui sono stati definiti;\n",
    "- ✅ Indicizzata: è possibile accedere agli elementi tramite l’indice (es. `tupla[0]`);\n",
    "- 🚫 Immutabile: una volta creata, **non è possibile aggiungere, rimuovere o modificare** gli elementi;\n",
    "- ✅ Permette duplicati: possono comparire più volte gli stessi valori;\n",
    "- ✅ Eterogenea: può contenere oggetti di tipo diverso (interi, stringhe, liste, altre tuple…).\n",
    "\n",
    "\n",
    "> ✨ Questo rende le tuple **più sicure**, **più veloci**, e adatte a rappresentare **dati costanti**, come le coordinate di un punto, parametri fissi, o record che non devono cambiare."
   ]
  },
  {
   "cell_type": "markdown",
   "id": "5eda1e76",
   "metadata": {},
   "source": [
    "## 🧪 Esempio base\n",
    "\n",
    "Ecco come si definisce e si utilizza una tupla in Python:"
   ]
  },
  {
   "cell_type": "code",
   "execution_count": 6,
   "id": "150b58ee",
   "metadata": {},
   "outputs": [
    {
     "name": "stdout",
     "output_type": "stream",
     "text": [
      "3\n",
      "5\n",
      "7\n"
     ]
    }
   ],
   "source": [
    "# Definizione di una tupla con 3 elementi\n",
    "punto = (3, 5, 7)\n",
    "\n",
    "# Accesso agli elementi tramite l'indice\n",
    "print(punto[0])  # Output: 3\n",
    "print(punto[1])  # Output: 5\n",
    "print(punto[2])  # Output: 7"
   ]
  },
  {
   "cell_type": "code",
   "execution_count": 7,
   "id": "dec4a8a4",
   "metadata": {},
   "outputs": [
    {
     "name": "stdout",
     "output_type": "stream",
     "text": [
      "3\n"
     ]
    }
   ],
   "source": [
    "# Lunghezza della tupla\n",
    "print(len(punto))  # Output: 3"
   ]
  },
  {
   "cell_type": "code",
   "execution_count": 8,
   "id": "34098232",
   "metadata": {},
   "outputs": [
    {
     "name": "stdout",
     "output_type": "stream",
     "text": [
      "('Alice', 30, True)\n"
     ]
    }
   ],
   "source": [
    "# Le tuple possono contenere tipi diversi\n",
    "info = (\"Alice\", 30, True)\n",
    "print(info)"
   ]
  },
  {
   "cell_type": "markdown",
   "id": "86c6ca32",
   "metadata": {},
   "source": [
    "📌 Nota: anche se le parentesi tonde `()` sono il modo più comune per definire una tupla, **Python riconosce una tupla anche senza parentesi**, se gli elementi sono separati da virgole:"
   ]
  },
  {
   "cell_type": "code",
   "execution_count": 9,
   "id": "1c46c6eb",
   "metadata": {},
   "outputs": [
    {
     "name": "stdout",
     "output_type": "stream",
     "text": [
      "('a', 'b', 'c')\n"
     ]
    }
   ],
   "source": [
    "tupla_implicit = \"a\", \"b\", \"c\"\n",
    "print(tupla_implicit)  # Output: ('a', 'b', 'c')"
   ]
  },
  {
   "cell_type": "markdown",
   "id": "231f9444",
   "metadata": {},
   "source": [
    "Approfondiremo questo concetto tra poco!"
   ]
  },
  {
   "cell_type": "markdown",
   "id": "b0559e04",
   "metadata": {},
   "source": [
    "Attenzione alla sintassi: una tupla con un solo elemento richiede la virgola finale!"
   ]
  },
  {
   "cell_type": "code",
   "execution_count": 21,
   "id": "23e0d92a",
   "metadata": {},
   "outputs": [
    {
     "name": "stdout",
     "output_type": "stream",
     "text": [
      "5\n",
      "(5,)\n"
     ]
    }
   ],
   "source": [
    "x = (5)       # ⚠️ NON è una tupla, è un intero\n",
    "y = (5,)      # ✅ Questa è una tupla\n",
    "\n",
    "print(x)\n",
    "print(y)"
   ]
  },
  {
   "cell_type": "markdown",
   "id": "46dc28f0",
   "metadata": {},
   "source": [
    "🧠 È una trappola comune: la virgola è ciò che definisce una tupla, non le parentesi."
   ]
  },
  {
   "cell_type": "markdown",
   "id": "29a89da3",
   "metadata": {},
   "source": [
    "## 🔢 Indicizzazione e slicing\n",
    "\n",
    "Le tuple supportano le stesse tecniche di accesso tramite indice e slicing viste per liste e stringhe:"
   ]
  },
  {
   "cell_type": "code",
   "execution_count": 10,
   "id": "a9120dd8",
   "metadata": {},
   "outputs": [
    {
     "name": "stdout",
     "output_type": "stream",
     "text": [
      "5\n",
      "25\n"
     ]
    }
   ],
   "source": [
    "t = (5, 10, 15, 20, 25)\n",
    "\n",
    "# Accesso per indice\n",
    "print(t[0])   # 5\n",
    "print(t[-1])  # 25"
   ]
  },
  {
   "cell_type": "code",
   "execution_count": 11,
   "id": "e709ed31",
   "metadata": {},
   "outputs": [
    {
     "name": "stdout",
     "output_type": "stream",
     "text": [
      "(10, 15, 20)\n",
      "(25, 20, 15, 10, 5)\n"
     ]
    }
   ],
   "source": [
    "# Slicing\n",
    "print(t[1:4])     # (10, 15, 20)\n",
    "print(t[::-1])    # (25, 20, 15, 10, 5)"
   ]
  },
  {
   "cell_type": "markdown",
   "id": "4b8b8113",
   "metadata": {},
   "source": [
    "## ♻️ Immutabilità\n",
    "\n",
    "La differenza fondamentale tra tuple e liste è proprio questa: le tuple non possono essere modificate."
   ]
  },
  {
   "cell_type": "code",
   "execution_count": 12,
   "id": "4a01c64b",
   "metadata": {},
   "outputs": [],
   "source": [
    "t = (1, 2, 3)\n",
    "# t[0] = 99    # ❌ TypeError: 'tuple' object does not support item assignment"
   ]
  },
  {
   "cell_type": "markdown",
   "id": "3290f19c",
   "metadata": {},
   "source": [
    "## 📦 Packing e unpacking\n",
    "\n",
    "Python permette di **\"impacchettare\" (packing)** valori in una tupla e **\"spacchettarli\" (unpacking)** facilmente, rendendo il codice più leggibile e conciso.\n",
    "\n",
    "### 📦 Packing (impacchettamento)\n",
    "\n",
    "Il *packing* consiste nel **creare una tupla** a partire da più valori:"
   ]
  },
  {
   "cell_type": "code",
   "execution_count": 13,
   "id": "aaa811b5",
   "metadata": {},
   "outputs": [
    {
     "name": "stdout",
     "output_type": "stream",
     "text": [
      "(10, 20)\n"
     ]
    }
   ],
   "source": [
    "coordinate = 10, 20  # Packing implicito: viene creata una tupla\n",
    "print(coordinate)    # Output: (10, 20)"
   ]
  },
  {
   "cell_type": "markdown",
   "id": "a23d231a",
   "metadata": {},
   "source": [
    "📌 Anche se non usi le parentesi tonde, Python interpreta la virgola come creazione di una tupla.\n",
    "\n",
    "### 🧯 Unpacking (spacchettamento)\n",
    "\n",
    "L’unpacking consiste nell’**assegnare gli elementi della tupla a variabili distinte**:"
   ]
  },
  {
   "cell_type": "code",
   "execution_count": 14,
   "id": "aabd8217",
   "metadata": {},
   "outputs": [
    {
     "name": "stdout",
     "output_type": "stream",
     "text": [
      "10\n",
      "20\n"
     ]
    }
   ],
   "source": [
    "x, y = coordinate\n",
    "print(x)  # Output: 10\n",
    "print(y)  # Output: 20"
   ]
  },
  {
   "cell_type": "markdown",
   "id": "dd045658",
   "metadata": {},
   "source": [
    "⚠️ Il numero di variabili a sinistra deve **corrispondere** al numero di elementi nella tupla, altrimenti si genera un errore."
   ]
  },
  {
   "cell_type": "markdown",
   "id": "09aa4f1f",
   "metadata": {},
   "source": [
    "### 🪄 Unpacking con l'operatore `*`\n",
    "\n",
    "Puoi usare l’operatore `*` per catturare più elementi in una lista:"
   ]
  },
  {
   "cell_type": "code",
   "execution_count": 15,
   "id": "69845883",
   "metadata": {},
   "outputs": [
    {
     "name": "stdout",
     "output_type": "stream",
     "text": [
      "1\n",
      "[2, 3, 4]\n"
     ]
    }
   ],
   "source": [
    "a, *b = (1, 2, 3, 4)\n",
    "print(a)  # Output: 1\n",
    "print(b)  # Output: [2, 3, 4]"
   ]
  },
  {
   "cell_type": "code",
   "execution_count": 16,
   "id": "87426fee",
   "metadata": {},
   "outputs": [
    {
     "name": "stdout",
     "output_type": "stream",
     "text": [
      "[1, 2, 3]\n",
      "4\n"
     ]
    }
   ],
   "source": [
    "*a, b = (1, 2, 3, 4)\n",
    "print(a)  # Output: [1, 2, 3]\n",
    "print(b)  # Output: 4"
   ]
  },
  {
   "cell_type": "markdown",
   "id": "b29158ac",
   "metadata": {},
   "source": [
    "> ✨ L’unpacking è molto usato nelle funzioni, nei cicli e per scrivere codice elegante e chiaro."
   ]
  },
  {
   "cell_type": "markdown",
   "id": "85ad548c",
   "metadata": {},
   "source": [
    "## 🔍 Operazioni disponibili sulle tuple\n",
    "\n",
    "Sebbene le tuple siano **immutabili**, possiamo comunque svolgere diverse operazioni utili su di esse:\n",
    "\n",
    "### 📏 Lunghezza con `len()`"
   ]
  },
  {
   "cell_type": "code",
   "execution_count": 1,
   "id": "e58ebd29",
   "metadata": {},
   "outputs": [
    {
     "data": {
      "text/plain": [
       "3"
      ]
     },
     "execution_count": 1,
     "metadata": {},
     "output_type": "execute_result"
    }
   ],
   "source": [
    "t = (1, 2, 3)\n",
    "len(t)  # Output: 3"
   ]
  },
  {
   "cell_type": "markdown",
   "id": "a6a2649d",
   "metadata": {},
   "source": [
    "### 🔍 Accesso agli elementi tramite indice"
   ]
  },
  {
   "cell_type": "code",
   "execution_count": 2,
   "id": "99f6dc01",
   "metadata": {},
   "outputs": [
    {
     "data": {
      "text/plain": [
       "'c'"
      ]
     },
     "execution_count": 2,
     "metadata": {},
     "output_type": "execute_result"
    }
   ],
   "source": [
    "t = ('a', 'b', 'c')\n",
    "t[0]  # Output: 'a'\n",
    "t[-1] # Output: 'c' (ultimo elemento)"
   ]
  },
  {
   "cell_type": "markdown",
   "id": "47ea74d4",
   "metadata": {},
   "source": [
    "### 🧪 Appartenenza con `in`"
   ]
  },
  {
   "cell_type": "code",
   "execution_count": 3,
   "id": "fd14be51",
   "metadata": {},
   "outputs": [
    {
     "data": {
      "text/plain": [
       "True"
      ]
     },
     "execution_count": 3,
     "metadata": {},
     "output_type": "execute_result"
    }
   ],
   "source": [
    "'c' in t     # Output: True\n",
    "'d' not in t # Output: True"
   ]
  },
  {
   "cell_type": "markdown",
   "id": "0f38afad",
   "metadata": {},
   "source": [
    "### ➕ Concatenazione"
   ]
  },
  {
   "cell_type": "code",
   "execution_count": 4,
   "id": "ffd3ae00",
   "metadata": {},
   "outputs": [
    {
     "data": {
      "text/plain": [
       "(1, 2, 3, 4)"
      ]
     },
     "execution_count": 4,
     "metadata": {},
     "output_type": "execute_result"
    }
   ],
   "source": [
    "(1, 2) + (3, 4)  # Output: (1, 2, 3, 4)"
   ]
  },
  {
   "cell_type": "markdown",
   "id": "deb891c0",
   "metadata": {},
   "source": [
    "### 🔁 Ripetizione"
   ]
  },
  {
   "cell_type": "code",
   "execution_count": 5,
   "id": "9a72ec19",
   "metadata": {},
   "outputs": [
    {
     "data": {
      "text/plain": [
       "('A', 'A', 'A')"
      ]
     },
     "execution_count": 5,
     "metadata": {},
     "output_type": "execute_result"
    }
   ],
   "source": [
    "('A',) * 3  # Output: ('A', 'A', 'A')"
   ]
  },
  {
   "cell_type": "markdown",
   "id": "09517c6d",
   "metadata": {},
   "source": [
    "## 🛠️ Tutti i metodi disponibili per le tuple"
   ]
  },
  {
   "cell_type": "code",
   "execution_count": 6,
   "id": "8f34d4b7",
   "metadata": {},
   "outputs": [
    {
     "name": "stdout",
     "output_type": "stream",
     "text": [
      "Help on class tuple in module builtins:\n",
      "\n",
      "class tuple(object)\n",
      " |  tuple(iterable=(), /)\n",
      " |  \n",
      " |  Built-in immutable sequence.\n",
      " |  \n",
      " |  If no argument is given, the constructor returns an empty tuple.\n",
      " |  If iterable is specified the tuple is initialized from iterable's items.\n",
      " |  \n",
      " |  If the argument is a tuple, the return value is the same object.\n",
      " |  \n",
      " |  Built-in subclasses:\n",
      " |      asyncgen_hooks\n",
      " |      UnraisableHookArgs\n",
      " |  \n",
      " |  Methods defined here:\n",
      " |  \n",
      " |  __add__(self, value, /)\n",
      " |      Return self+value.\n",
      " |  \n",
      " |  __contains__(self, key, /)\n",
      " |      Return key in self.\n",
      " |  \n",
      " |  __eq__(self, value, /)\n",
      " |      Return self==value.\n",
      " |  \n",
      " |  __ge__(self, value, /)\n",
      " |      Return self>=value.\n",
      " |  \n",
      " |  __getattribute__(self, name, /)\n",
      " |      Return getattr(self, name).\n",
      " |  \n",
      " |  __getitem__(self, key, /)\n",
      " |      Return self[key].\n",
      " |  \n",
      " |  __getnewargs__(self, /)\n",
      " |  \n",
      " |  __gt__(self, value, /)\n",
      " |      Return self>value.\n",
      " |  \n",
      " |  __hash__(self, /)\n",
      " |      Return hash(self).\n",
      " |  \n",
      " |  __iter__(self, /)\n",
      " |      Implement iter(self).\n",
      " |  \n",
      " |  __le__(self, value, /)\n",
      " |      Return self<=value.\n",
      " |  \n",
      " |  __len__(self, /)\n",
      " |      Return len(self).\n",
      " |  \n",
      " |  __lt__(self, value, /)\n",
      " |      Return self<value.\n",
      " |  \n",
      " |  __mul__(self, value, /)\n",
      " |      Return self*value.\n",
      " |  \n",
      " |  __ne__(self, value, /)\n",
      " |      Return self!=value.\n",
      " |  \n",
      " |  __repr__(self, /)\n",
      " |      Return repr(self).\n",
      " |  \n",
      " |  __rmul__(self, value, /)\n",
      " |      Return value*self.\n",
      " |  \n",
      " |  count(self, value, /)\n",
      " |      Return number of occurrences of value.\n",
      " |  \n",
      " |  index(self, value, start=0, stop=9223372036854775807, /)\n",
      " |      Return first index of value.\n",
      " |      \n",
      " |      Raises ValueError if the value is not present.\n",
      " |  \n",
      " |  ----------------------------------------------------------------------\n",
      " |  Class methods defined here:\n",
      " |  \n",
      " |  __class_getitem__(...) from builtins.type\n",
      " |      See PEP 585\n",
      " |  \n",
      " |  ----------------------------------------------------------------------\n",
      " |  Static methods defined here:\n",
      " |  \n",
      " |  __new__(*args, **kwargs) from builtins.type\n",
      " |      Create and return a new object.  See help(type) for accurate signature.\n",
      "\n"
     ]
    }
   ],
   "source": [
    "help(tuple)"
   ]
  },
  {
   "cell_type": "code",
   "execution_count": 7,
   "id": "d7b5c9c3",
   "metadata": {},
   "outputs": [
    {
     "name": "stdout",
     "output_type": "stream",
     "text": [
      "Help on class list in module builtins:\n",
      "\n",
      "class list(object)\n",
      " |  list(iterable=(), /)\n",
      " |  \n",
      " |  Built-in mutable sequence.\n",
      " |  \n",
      " |  If no argument is given, the constructor creates a new empty list.\n",
      " |  The argument must be an iterable if specified.\n",
      " |  \n",
      " |  Methods defined here:\n",
      " |  \n",
      " |  __add__(self, value, /)\n",
      " |      Return self+value.\n",
      " |  \n",
      " |  __contains__(self, key, /)\n",
      " |      Return key in self.\n",
      " |  \n",
      " |  __delitem__(self, key, /)\n",
      " |      Delete self[key].\n",
      " |  \n",
      " |  __eq__(self, value, /)\n",
      " |      Return self==value.\n",
      " |  \n",
      " |  __ge__(self, value, /)\n",
      " |      Return self>=value.\n",
      " |  \n",
      " |  __getattribute__(self, name, /)\n",
      " |      Return getattr(self, name).\n",
      " |  \n",
      " |  __getitem__(...)\n",
      " |      x.__getitem__(y) <==> x[y]\n",
      " |  \n",
      " |  __gt__(self, value, /)\n",
      " |      Return self>value.\n",
      " |  \n",
      " |  __iadd__(self, value, /)\n",
      " |      Implement self+=value.\n",
      " |  \n",
      " |  __imul__(self, value, /)\n",
      " |      Implement self*=value.\n",
      " |  \n",
      " |  __init__(self, /, *args, **kwargs)\n",
      " |      Initialize self.  See help(type(self)) for accurate signature.\n",
      " |  \n",
      " |  __iter__(self, /)\n",
      " |      Implement iter(self).\n",
      " |  \n",
      " |  __le__(self, value, /)\n",
      " |      Return self<=value.\n",
      " |  \n",
      " |  __len__(self, /)\n",
      " |      Return len(self).\n",
      " |  \n",
      " |  __lt__(self, value, /)\n",
      " |      Return self<value.\n",
      " |  \n",
      " |  __mul__(self, value, /)\n",
      " |      Return self*value.\n",
      " |  \n",
      " |  __ne__(self, value, /)\n",
      " |      Return self!=value.\n",
      " |  \n",
      " |  __repr__(self, /)\n",
      " |      Return repr(self).\n",
      " |  \n",
      " |  __reversed__(self, /)\n",
      " |      Return a reverse iterator over the list.\n",
      " |  \n",
      " |  __rmul__(self, value, /)\n",
      " |      Return value*self.\n",
      " |  \n",
      " |  __setitem__(self, key, value, /)\n",
      " |      Set self[key] to value.\n",
      " |  \n",
      " |  __sizeof__(self, /)\n",
      " |      Return the size of the list in memory, in bytes.\n",
      " |  \n",
      " |  append(self, object, /)\n",
      " |      Append object to the end of the list.\n",
      " |  \n",
      " |  clear(self, /)\n",
      " |      Remove all items from list.\n",
      " |  \n",
      " |  copy(self, /)\n",
      " |      Return a shallow copy of the list.\n",
      " |  \n",
      " |  count(self, value, /)\n",
      " |      Return number of occurrences of value.\n",
      " |  \n",
      " |  extend(self, iterable, /)\n",
      " |      Extend list by appending elements from the iterable.\n",
      " |  \n",
      " |  index(self, value, start=0, stop=9223372036854775807, /)\n",
      " |      Return first index of value.\n",
      " |      \n",
      " |      Raises ValueError if the value is not present.\n",
      " |  \n",
      " |  insert(self, index, object, /)\n",
      " |      Insert object before index.\n",
      " |  \n",
      " |  pop(self, index=-1, /)\n",
      " |      Remove and return item at index (default last).\n",
      " |      \n",
      " |      Raises IndexError if list is empty or index is out of range.\n",
      " |  \n",
      " |  remove(self, value, /)\n",
      " |      Remove first occurrence of value.\n",
      " |      \n",
      " |      Raises ValueError if the value is not present.\n",
      " |  \n",
      " |  reverse(self, /)\n",
      " |      Reverse *IN PLACE*.\n",
      " |  \n",
      " |  sort(self, /, *, key=None, reverse=False)\n",
      " |      Sort the list in ascending order and return None.\n",
      " |      \n",
      " |      The sort is in-place (i.e. the list itself is modified) and stable (i.e. the\n",
      " |      order of two equal elements is maintained).\n",
      " |      \n",
      " |      If a key function is given, apply it once to each list item and sort them,\n",
      " |      ascending or descending, according to their function values.\n",
      " |      \n",
      " |      The reverse flag can be set to sort in descending order.\n",
      " |  \n",
      " |  ----------------------------------------------------------------------\n",
      " |  Class methods defined here:\n",
      " |  \n",
      " |  __class_getitem__(...) from builtins.type\n",
      " |      See PEP 585\n",
      " |  \n",
      " |  ----------------------------------------------------------------------\n",
      " |  Static methods defined here:\n",
      " |  \n",
      " |  __new__(*args, **kwargs) from builtins.type\n",
      " |      Create and return a new object.  See help(type) for accurate signature.\n",
      " |  \n",
      " |  ----------------------------------------------------------------------\n",
      " |  Data and other attributes defined here:\n",
      " |  \n",
      " |  __hash__ = None\n",
      "\n"
     ]
    }
   ],
   "source": [
    "help(list)"
   ]
  },
  {
   "cell_type": "markdown",
   "id": "2c0de724",
   "metadata": {},
   "source": [
    "Le tuple supportano **solo due metodi integrati**:\n",
    "\n",
    "- `.count(x)` → Conta quante volte `x` appare nella tupla.\n",
    "- `.index(x)` → Restituisce l’indice della **prima occorrenza** di `x`."
   ]
  },
  {
   "cell_type": "code",
   "execution_count": 8,
   "id": "7f7d18a8",
   "metadata": {},
   "outputs": [
    {
     "data": {
      "text/plain": [
       "3"
      ]
     },
     "execution_count": 8,
     "metadata": {},
     "output_type": "execute_result"
    }
   ],
   "source": [
    "t = (1, 2, 2, 3)\n",
    "\n",
    "t.count(2)   # Output: 2 → conta quante volte appare 2\n",
    "t.index(3)   # Output: 3 → indice della prima occorrenza di 3"
   ]
  },
  {
   "cell_type": "markdown",
   "id": "49f673f1",
   "metadata": {},
   "source": [
    "> ⚠️ Al contrario delle liste, **non** puoi usare metodi come `.append()`, `.remove()` o `.sort()` perché modificherebbero la struttura."
   ]
  },
  {
   "cell_type": "markdown",
   "id": "d50bd440",
   "metadata": {},
   "source": [
    "## 🧠 Tuple sono hashable\n",
    "\n",
    "Un oggetto si dice **hashable** quando possiede una caratteristica molto importante: **il suo valore non cambia durante la sua vita**, e quindi può essere associato a un codice numerico fisso chiamato **hash**.\n",
    "\n",
    "Le **tuple sono oggetti hashable**, il che significa che possono essere utilizzate come **chiavi nei dizionari** o come **elementi nei set**.\n",
    "\n",
    "Gli oggetti immutabili in Python, come le **tuple**, le **stringhe** e i **numeri**, sono tipicamente hashable, mentre quelli mutabili, come le liste o i dizionari, non lo sono.\n",
    "\n",
    "> ✅ Una tupla è hashable **solo se tutti i suoi elementi sono hashable**.\n",
    "\n",
    "Questo implica che:\n",
    "\n",
    "- Se la tupla contiene solo valori immutabili e hashable (es. numeri, stringhe, altre tuple), allora la tupla stessa è hashable.\n",
    "- Se invece contiene almeno un elemento non hashable (es. liste, dizionari, set), allora non è hashable e non può essere usata come chiave o elemento di un set.\n",
    "\n",
    "Essere hashable significa:\n",
    "\n",
    "- Possedere un valore di hash stabile, calcolabile con `hash()`.\n",
    "- Consentire un accesso rapido in strutture dati basate su hash (dizionari, set).\n",
    "- Avere una struttura immutabile che non cambia durante l’esecuzione del programma."
   ]
  },
  {
   "cell_type": "code",
   "execution_count": 9,
   "id": "9373b132",
   "metadata": {},
   "outputs": [
    {
     "name": "stdout",
     "output_type": "stream",
     "text": [
      "hash(t1): -8829140828925792914\n"
     ]
    }
   ],
   "source": [
    "# ✅ Tuple hashable: tutti gli elementi sono hashable\n",
    "t1 = (1, \"ciao\", 3.14)\n",
    "print(\"hash(t1):\", hash(t1))  # Funziona"
   ]
  },
  {
   "cell_type": "code",
   "execution_count": 10,
   "id": "0f687917",
   "metadata": {},
   "outputs": [],
   "source": [
    "# ❌ Tuple non hashable: contiene una lista (che è mutabile)\n",
    "t2 = (1, [2, 3])\n",
    "# print(hash(t2))  # TypeError: unhashable type: 'list'"
   ]
  },
  {
   "cell_type": "code",
   "execution_count": 11,
   "id": "e6b98e71",
   "metadata": {},
   "outputs": [
    {
     "name": "stdout",
     "output_type": "stream",
     "text": [
      "hash(t3): 2257367582170551966\n"
     ]
    }
   ],
   "source": [
    "# ✅ Ma una tupla di tuple è sempre hashable (se annidate correttamente)\n",
    "t3 = ((1, 2), (\"a\", \"b\"))\n",
    "print(\"hash(t3):\", hash(t3))  # Funziona"
   ]
  },
  {
   "cell_type": "markdown",
   "id": "530b6634",
   "metadata": {},
   "source": [
    "## 🧱 Tuple annidate\n",
    "\n",
    "Le tuple possono contenere **altre tuple** o strutture dati nidificate al loro interno.  \n",
    "Questo permette di rappresentare dati complessi mantenendo l’immutabilità e l’ordinamento.\n",
    "\n",
    "### Caratteristiche principali:\n",
    "\n",
    "- Le tuple annidate sono utili per rappresentare **record composti**, come un insieme di informazioni correlate.\n",
    "- È possibile accedere agli elementi annidati usando più indici.\n",
    "- L’immutabilità vale per tutti i livelli della tupla annidata.\n",
    "\n",
    "### Esempio tipico:\n",
    "\n",
    "Una tupla che contiene una tupla al suo interno può rappresentare un **record** con dati raggruppati, ad esempio una persona con nome, cognome e una tupla con anno e corso di iscrizione.\n",
    "\n",
    "> 🧠 Le tuple annidate permettono una struttura dati compatta, chiara e immutabile."
   ]
  },
  {
   "cell_type": "code",
   "execution_count": 12,
   "id": "e3da08f9",
   "metadata": {},
   "outputs": [
    {
     "name": "stdout",
     "output_type": "stream",
     "text": [
      "Nome: Mario\n",
      "Anno iscrizione: 2023\n",
      "Corso: Matematica\n",
      "3\n"
     ]
    }
   ],
   "source": [
    "# Definizione di una tupla annidata\n",
    "studente = (\"Mario\", \"Rossi\", (2023, \"Matematica\"))\n",
    "\n",
    "# Accesso ai singoli elementi\n",
    "nome = studente[0]               # \"Mario\"\n",
    "anno_iscrizione = studente[2][0]  # 2023\n",
    "corso = studente[2][1]           # \"Matematica\"\n",
    "\n",
    "print(f\"Nome: {nome}\")\n",
    "print(f\"Anno iscrizione: {anno_iscrizione}\")\n",
    "print(f\"Corso: {corso}\")\n",
    "\n",
    "# È possibile annidare anche più livelli\n",
    "dati = (\"Progetto X\", (\"Modulo A\", (1, 2, 3)), True)\n",
    "print(dati[1][1][2])  # Accesso al valore 3"
   ]
  },
  {
   "cell_type": "markdown",
   "id": "34292f53",
   "metadata": {},
   "source": [
    "## ♻️ Conversione tra lista e tupla\n",
    "\n",
    "In Python, è spesso utile convertire tra **liste** e **tuple** per sfruttare le caratteristiche di entrambi i tipi di dati.\n",
    "\n",
    "### Perché convertire?\n",
    "\n",
    "- Le **liste** sono mutabili e comode per modifiche, aggiunte o rimozioni di elementi.\n",
    "- Le **tuple** sono immutabili e più sicure quando non si vuole permettere modifiche.\n",
    "\n",
    "### Come convertire?\n",
    "\n",
    "- Da lista a tupla: usando la funzione `tuple()`.\n",
    "- Da tupla a lista: usando la funzione `list()`.\n",
    "\n",
    "> 🔄 La conversione crea una nuova struttura dati, lasciando invariata quella originale.z"
   ]
  },
  {
   "cell_type": "code",
   "execution_count": 13,
   "id": "180593ec",
   "metadata": {},
   "outputs": [
    {
     "name": "stdout",
     "output_type": "stream",
     "text": [
      "Tupla: (1, 2, 3, 4)\n",
      "Lista: [1, 2, 3, 4]\n",
      "Lista modificata: [1, 2, 3, 4, 5]\n"
     ]
    }
   ],
   "source": [
    "# Lista originale\n",
    "lista = [1, 2, 3, 4]\n",
    "\n",
    "# Conversione da lista a tupla\n",
    "tupla = tuple(lista)\n",
    "print(\"Tupla:\", tupla)  # (1, 2, 3, 4)\n",
    "\n",
    "# Conversione da tupla a lista\n",
    "nuova_lista = list(tupla)\n",
    "print(\"Lista:\", nuova_lista)  # [1, 2, 3, 4]\n",
    "\n",
    "# Modificare la lista ottenuta è possibile, mentre la tupla originale resta immutabile\n",
    "nuova_lista.append(5)\n",
    "print(\"Lista modificata:\", nuova_lista)  # [1, 2, 3, 4, 5]"
   ]
  },
  {
   "cell_type": "markdown",
   "id": "37b58d33",
   "metadata": {},
   "source": [
    "## 🔚 Conclusioni\n",
    "\n",
    "Le **tuple** sono una struttura dati estremamente utile e versatile in Python, soprattutto quando si ha bisogno di una collezione **immutabile** e **ordinata** di elementi.  \n",
    "La loro immutabilità le rende ideali per rappresentare dati **costanti**, sicuri da modifiche accidentali, e permette di utilizzarle come **chiavi nei dizionari** o come **elementi nei set** grazie alla loro proprietà di essere **hashable** (purché tutti gli elementi contenuti siano a loro volta hashable).\n",
    "\n",
    "| Caratteristica         | Tuple                                 | Liste                               |\n",
    "|-----------------------|-------------------------------------|-----------------------------------|\n",
    "| Mutabilità            | 🚫 Immutabili                        | ✅ Mutabili                       |\n",
    "| Sintassi              | `(1, 2, 3)` oppure `1, 2, 3`        | `[1, 2, 3]`                       |\n",
    "| Metodi disponibili    | Solo `.count()`, `.index()`          | Molti: `.append()`, `.remove()`, `.sort()`, ecc. |\n",
    "| Hashable              | ✅ Solo se tutti gli elementi sono hashable | 🚫 Non hashable                   |\n",
    "| Performance           | Più veloci e meno spazio in memoria | Leggermente più lente             |\n",
    "| Uso tipico            | Dati costanti, chiavi dizionario, valori di ritorno multipli | Collezioni modificabili, manipolazioni dati |\n",
    "| Conversione           | Puoi convertirle in liste con `list()` | Puoi convertirle in tuple con `tuple()` |\n",
    "\n",
    "Quindi, usa le **tuple** quando vuoi:\n",
    "\n",
    "- Salvaguardare dati che non devono cambiare.\n",
    "- Usare sequenze come chiavi di dizionari o elementi di set.\n",
    "- Avere un contenitore più leggero e performante rispetto alla lista.\n",
    "\n",
    "Per tutto il resto, dove serve modificare, aggiungere o rimuovere elementi, le **liste** rimangono la scelta migliore.\n",
    "\n",
    "✨ Comprendere le differenze tra tuple e liste e saperle usare in modo appropriato è una competenza chiave per scrivere codice Python più robusto, leggibile e performante."
   ]
  }
 ],
 "metadata": {
  "kernelspec": {
   "display_name": "datas",
   "language": "python",
   "name": "python3"
  },
  "language_info": {
   "codemirror_mode": {
    "name": "ipython",
    "version": 3
   },
   "file_extension": ".py",
   "mimetype": "text/x-python",
   "name": "python",
   "nbconvert_exporter": "python",
   "pygments_lexer": "ipython3",
   "version": "3.10.13"
  }
 },
 "nbformat": 4,
 "nbformat_minor": 5
}
